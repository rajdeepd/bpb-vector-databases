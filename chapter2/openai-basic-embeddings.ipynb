{
 "cells": [
  {
   "cell_type": "code",
   "execution_count": 1,
   "id": "9043ba8e",
   "metadata": {},
   "outputs": [],
   "source": [
    "import openai\n",
    "import os"
   ]
  },
  {
   "cell_type": "code",
   "execution_count": 2,
   "id": "272e014e",
   "metadata": {},
   "outputs": [],
   "source": [
    "openai.api_key = \"\"\n",
    "os.environ[\"OPENAI_API_KEY\"]=openai.api_key"
   ]
  },
  {
   "cell_type": "code",
   "execution_count": 3,
   "id": "302afd17",
   "metadata": {},
   "outputs": [],
   "source": [
    "from openai import OpenAI\n",
    "client = OpenAI()\n",
    "\n",
    "def get_embedding(text, model=\"text-embedding-3-small\"):\n",
    "   text = text.replace(\"\\n\", \" \")\n",
    "   return client.embeddings.create(input = [text], model=model).data[0].embedding"
   ]
  },
  {
   "cell_type": "code",
   "execution_count": 4,
   "id": "9c4edbad",
   "metadata": {},
   "outputs": [
    {
     "name": "stdout",
     "output_type": "stream",
     "text": [
      "First five elements of embedding [0.025432296097278595, 0.009053182788193226, 0.003259071381762624, 0.013125625438988209, -0.040381960570812225]\n",
      "Length of Embedding 1536\n"
     ]
    }
   ],
   "source": [
    "text = \"This is sample text\"\n",
    "embedding = get_embedding(text)\n",
    "print(\"First five elements of embedding\",embedding[0:5])\n",
    "print(\"Length of Embedding\",len(embedding))"
   ]
  },
  {
   "cell_type": "code",
   "execution_count": 5,
   "id": "73d60e16",
   "metadata": {},
   "outputs": [],
   "source": [
    "\n",
    "#df['ada_embedding'] = df.combined.apply(lambda x: get_embedding(x, model='text-embedding-3-small'))\n",
    "#df.to_csv('output/embedded_1k_reviews.csv', index=False)"
   ]
  },
  {
   "cell_type": "code",
   "execution_count": 6,
   "id": "83bdbde7",
   "metadata": {},
   "outputs": [
    {
     "name": "stdout",
     "output_type": "stream",
     "text": [
      "Length = 1536\n",
      "[0.0054322523064911366, -0.005304592661559582, -0.013108626008033752, 0.0752519816160202, 0.013148939236998558, -0.03149832785129547, -0.038082875311374664, 0.016206050291657448, -0.017348269000649452, 0.012047035619616508]\n"
     ]
    }
   ],
   "source": [
    "embedding = get_embedding(\"life\")\n",
    "vector = embedding\n",
    "print(f\"Length = {len(vector)}\")\n",
    "print(vector[:10])"
   ]
  },
  {
   "cell_type": "markdown",
   "id": "6d62e233",
   "metadata": {},
   "source": [
    "## Sentence Embeddings"
   ]
  },
  {
   "cell_type": "code",
   "execution_count": 7,
   "id": "72fce092",
   "metadata": {},
   "outputs": [
    {
     "name": "stdout",
     "output_type": "stream",
     "text": [
      "Length = 1536\n",
      "[0.021743912249803543, -0.015234160237014294, -0.0020510749891400337, 0.05588096007704735, -0.019283181056380272, -0.016911931335926056, -0.012191802263259888, -0.008159559220075607, -0.0005543634761124849, -0.013366241939365864]\n"
     ]
    }
   ],
   "source": [
    "embedding = get_embedding(\"What is the meaning of life?\")\n",
    "vector = embedding\n",
    "print(f\"Length = {len(vector)}\")\n",
    "print(vector[:10])"
   ]
  },
  {
   "cell_type": "code",
   "execution_count": 8,
   "id": "a40f5c80",
   "metadata": {},
   "outputs": [],
   "source": [
    "emb_1 = get_embedding(\n",
    "    \"What is the meaning of life?\") # 42!\n",
    "\n",
    "emb_2 = get_embedding(\n",
    "    \"How does one spend their time well on Earth?\")\n",
    "\n",
    "emb_3 = get_embedding(\n",
    "    \"Would you like a salad?\")\n",
    "\n",
    "vec_1 = emb_1\n",
    "vec_2 = emb_2\n",
    "vec_3 = emb_3"
   ]
  },
  {
   "cell_type": "code",
   "execution_count": 9,
   "id": "4ef9e385",
   "metadata": {},
   "outputs": [
    {
     "name": "stdout",
     "output_type": "stream",
     "text": [
      "0.3210411034104943\n",
      "0.09084687286756288\n",
      "0.08826675219297174\n"
     ]
    }
   ],
   "source": [
    "import numpy as np\n",
    "from utils.embeddings_utils import cosine_similarity\n",
    "#cosine_similarity(user_embedding, product_embedding)\n",
    "print(cosine_similarity(vec_1,vec_2)) \n",
    "print(cosine_similarity(vec_2,vec_3))\n",
    "print(cosine_similarity(vec_1,vec_3))"
   ]
  },
  {
   "cell_type": "code",
   "execution_count": null,
   "id": "5bce3ccd",
   "metadata": {},
   "outputs": [],
   "source": []
  }
 ],
 "metadata": {
  "kernelspec": {
   "display_name": "Python 3",
   "language": "python",
   "name": "python3"
  },
  "language_info": {
   "codemirror_mode": {
    "name": "ipython",
    "version": 3
   },
   "file_extension": ".py",
   "mimetype": "text/x-python",
   "name": "python",
   "nbconvert_exporter": "python",
   "pygments_lexer": "ipython3",
   "version": "3.9.12"
  }
 },
 "nbformat": 4,
 "nbformat_minor": 5
}
