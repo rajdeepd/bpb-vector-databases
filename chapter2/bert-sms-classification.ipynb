{
 "cells": [
  {
   "cell_type": "code",
   "execution_count": 20,
   "id": "ca36e652",
   "metadata": {},
   "outputs": [],
   "source": [
    "import numpy as np\n",
    "import pandas as pd\n",
    "import torch\n",
    "import torch.nn as nn\n",
    "from sklearn.model_selection import train_test_split\n",
    "from sklearn.metrics import classification_report\n",
    "import transformers\n",
    "from transformers import AutoModel, BertTokenizerFast\n",
    "\n",
    "# specify GPU\n",
    "device = torch.device(\"cpu\")"
   ]
  },
  {
   "cell_type": "code",
   "execution_count": 21,
   "id": "b8df8a8f",
   "metadata": {},
   "outputs": [
    {
     "name": "stdout",
     "output_type": "stream",
     "text": [
      "LICENSE          \u001b[34mchapter1\u001b[m\u001b[m         \u001b[34mdata\u001b[m\u001b[m             requirements.txt\r\n",
      "README.md        \u001b[34mchapter2\u001b[m\u001b[m         \u001b[34mmy-python3-env\u001b[m\u001b[m   spamdata_v2.csv\r\n"
     ]
    },
    {
     "name": "stderr",
     "output_type": "stream",
     "text": [
      "huggingface/tokenizers: The current process just got forked, after parallelism has already been used. Disabling parallelism to avoid deadlocks...\n",
      "To disable this warning, you can either:\n",
      "\t- Avoid using `tokenizers` before the fork if possible\n",
      "\t- Explicitly set the environment variable TOKENIZERS_PARALLELISM=(true | false)\n"
     ]
    }
   ],
   "source": [
    "!ls .."
   ]
  },
  {
   "cell_type": "code",
   "execution_count": 22,
   "id": "799b2363",
   "metadata": {},
   "outputs": [
    {
     "data": {
      "text/html": [
       "<div>\n",
       "<style scoped>\n",
       "    .dataframe tbody tr th:only-of-type {\n",
       "        vertical-align: middle;\n",
       "    }\n",
       "\n",
       "    .dataframe tbody tr th {\n",
       "        vertical-align: top;\n",
       "    }\n",
       "\n",
       "    .dataframe thead th {\n",
       "        text-align: right;\n",
       "    }\n",
       "</style>\n",
       "<table border=\"1\" class=\"dataframe\">\n",
       "  <thead>\n",
       "    <tr style=\"text-align: right;\">\n",
       "      <th></th>\n",
       "      <th>label</th>\n",
       "      <th>text</th>\n",
       "    </tr>\n",
       "  </thead>\n",
       "  <tbody>\n",
       "    <tr>\n",
       "      <th>0</th>\n",
       "      <td>0</td>\n",
       "      <td>Go until jurong point, crazy.. Available only ...</td>\n",
       "    </tr>\n",
       "    <tr>\n",
       "      <th>1</th>\n",
       "      <td>0</td>\n",
       "      <td>Ok lar... Joking wif u oni...</td>\n",
       "    </tr>\n",
       "    <tr>\n",
       "      <th>2</th>\n",
       "      <td>1</td>\n",
       "      <td>Free entry in 2 a wkly comp to win FA Cup fina...</td>\n",
       "    </tr>\n",
       "    <tr>\n",
       "      <th>3</th>\n",
       "      <td>0</td>\n",
       "      <td>U dun say so early hor... U c already then say...</td>\n",
       "    </tr>\n",
       "    <tr>\n",
       "      <th>4</th>\n",
       "      <td>0</td>\n",
       "      <td>Nah I don't think he goes to usf, he lives aro...</td>\n",
       "    </tr>\n",
       "  </tbody>\n",
       "</table>\n",
       "</div>"
      ],
      "text/plain": [
       "   label                                               text\n",
       "0      0  Go until jurong point, crazy.. Available only ...\n",
       "1      0                      Ok lar... Joking wif u oni...\n",
       "2      1  Free entry in 2 a wkly comp to win FA Cup fina...\n",
       "3      0  U dun say so early hor... U c already then say...\n",
       "4      0  Nah I don't think he goes to usf, he lives aro..."
      ]
     },
     "execution_count": 22,
     "metadata": {},
     "output_type": "execute_result"
    }
   ],
   "source": [
    "df = pd.read_csv(\"../spamdata_v2.csv\")\n",
    "df.head()"
   ]
  },
  {
   "cell_type": "markdown",
   "id": "b0d47832",
   "metadata": {},
   "source": [
    "The dataset consists of two columns – `label` and `text`. The column `text` contains the message body and the `label` is a binary variable where 1 means spam and 0 means the message is not a spam."
   ]
  },
  {
   "cell_type": "code",
   "execution_count": 23,
   "id": "752e6586",
   "metadata": {},
   "outputs": [
    {
     "data": {
      "text/plain": [
       "label\n",
       "0    0.865937\n",
       "1    0.134063\n",
       "Name: proportion, dtype: float64"
      ]
     },
     "execution_count": 23,
     "metadata": {},
     "output_type": "execute_result"
    }
   ],
   "source": [
    "# Lets look at class distribution\n",
    "\n",
    "df['label'].value_counts(normalize = True)"
   ]
  },
  {
   "cell_type": "markdown",
   "id": "943a636a",
   "metadata": {},
   "source": [
    "86% is not spam, 13% is spam"
   ]
  },
  {
   "cell_type": "code",
   "execution_count": 24,
   "id": "c5443f24",
   "metadata": {},
   "outputs": [],
   "source": [
    "# split train dataset into train, validation and test sets\n",
    "train_text, temp_text, train_labels, temp_labels = train_test_split(df['text'], df['label'], \n",
    "                                                                    random_state=2018, \n",
    "                                                                    test_size=0.3, \n",
    "                                                                    stratify=df['label'])\n",
    "\n",
    "\n",
    "val_text, test_text, val_labels, test_labels = train_test_split(temp_text, temp_labels, \n",
    "                                                                random_state=2018, \n",
    "                                                                test_size=0.5, \n",
    "                                                                stratify=temp_labels)\n"
   ]
  },
  {
   "cell_type": "code",
   "execution_count": 25,
   "id": "6a2ce84b",
   "metadata": {},
   "outputs": [],
   "source": [
    "# import BERT-base pretrained model\n",
    "bert = AutoModel.from_pretrained('bert-base-uncased')\n",
    "\n",
    "# Load the BERT tokenizer\n",
    "tokenizer = BertTokenizerFast.from_pretrained('bert-base-uncased')"
   ]
  },
  {
   "cell_type": "markdown",
   "id": "17a8c5e9",
   "metadata": {},
   "source": [
    "Plot length of sentences"
   ]
  },
  {
   "cell_type": "code",
   "execution_count": 26,
   "id": "a795dad7",
   "metadata": {},
   "outputs": [
    {
     "data": {
      "text/plain": [
       "<Axes: >"
      ]
     },
     "execution_count": 26,
     "metadata": {},
     "output_type": "execute_result"
    },
    {
     "data": {
      "image/png": "[encoded data removed]",
      "text/plain": [
       "<Figure size 640x480 with 1 Axes>"
      ]
     },
     "metadata": {},
     "output_type": "display_data"
    }
   ],
   "source": [
    "# get length of all the messages in the train set\n",
    "seq_len = [len(i.split()) for i in train_text]\n",
    "\n",
    "pd.Series(seq_len).hist(bins = 30)"
   ]
  },
  {
   "cell_type": "markdown",
   "id": "69b5b0f5",
   "metadata": {},
   "source": [
    "### Tokenize and Encode in Training, Validation and Test Set"
   ]
  },
  {
   "cell_type": "markdown",
   "id": "22778df8",
   "metadata": {},
   "source": [
    "Which Tokenization strategy is used by BERT?\n",
    "BERT uses WordPiece tokenization. The vocabulary is initialized with all the individual characters in the language, and then the most frequent/likely combinations of the existing words in the vocabulary are iteratively added.\n",
    "\n",
    "WordPiece is the tokenization algorithm Google developed to pretrain BERT. It has since been reused in quite a few Transformer models based on BERT, such as DistilBERT, MobileBERT, Funnel Transformers, and MPNET. It’s very similar to BPE in terms of the training, but the actual tokenization is done differently.\n",
    "\n",
    "Reference: https://huggingface.co/learn/nlp-course/en/chapter6/6\n",
    "\n",
    "What is the maximum sequence length of the input?\n",
    "The maximum sequence length of the input = 512"
   ]
  },
  {
   "cell_type": "code",
   "execution_count": 27,
   "id": "2726e69b",
   "metadata": {},
   "outputs": [
    {
     "name": "stderr",
     "output_type": "stream",
     "text": [
      "/Users/rdua/work/github/rajdeepd/bpb-vector-databases/my-python3-env/lib/python3.10/site-packages/transformers/tokenization_utils_base.py:2688: FutureWarning: The `pad_to_max_length` argument is deprecated and will be removed in a future version, use `padding=True` or `padding='longest'` to pad to the longest sequence in the batch, or use `padding='max_length'` to pad to a max length. In this case, you can give a specific length with `max_length` (e.g. `max_length=45`) or leave max_length to None to pad to the maximal input size of the model (e.g. 512 for Bert).\n",
      "  warnings.warn(\n"
     ]
    }
   ],
   "source": [
    "# tokenize and encode sequences in the training set\n",
    "tokens_train = tokenizer.batch_encode_plus(\n",
    "    train_text.tolist(),\n",
    "    max_length = 25,\n",
    "    pad_to_max_length=True,\n",
    "    truncation=True\n",
    ")\n",
    "\n",
    "# tokenize and encode sequences in the validation set\n",
    "tokens_val = tokenizer.batch_encode_plus(\n",
    "    val_text.tolist(),\n",
    "    max_length = 25,\n",
    "    pad_to_max_length=True,\n",
    "    truncation=True\n",
    ")\n",
    "\n",
    "# tokenize and encode sequences in the test set\n",
    "tokens_test = tokenizer.batch_encode_plus(\n",
    "    test_text.tolist(),\n",
    "    max_length = 25,\n",
    "    pad_to_max_length=True,\n",
    "    truncation=True\n",
    ")"
   ]
  },
  {
   "cell_type": "markdown",
   "id": "3f69bf4f",
   "metadata": {},
   "source": [
    "## Convert List to Tensors"
   ]
  },
  {
   "cell_type": "code",
   "execution_count": 28,
   "id": "d3302e5f",
   "metadata": {},
   "outputs": [],
   "source": [
    "train_seq = torch.tensor(tokens_train['input_ids'])\n",
    "train_mask = torch.tensor(tokens_train['attention_mask'])\n",
    "train_y = torch.tensor(train_labels.tolist())\n",
    "\n",
    "val_seq = torch.tensor(tokens_val['input_ids'])\n",
    "val_mask = torch.tensor(tokens_val['attention_mask'])\n",
    "val_y = torch.tensor(val_labels.tolist())\n",
    "\n",
    "test_seq = torch.tensor(tokens_test['input_ids'])\n",
    "test_mask = torch.tensor(tokens_test['attention_mask'])\n",
    "test_y = torch.tensor(test_labels.tolist())"
   ]
  },
  {
   "cell_type": "markdown",
   "id": "e21fdd71",
   "metadata": {},
   "source": [
    "attention_mask is required for training the model."
   ]
  },
  {
   "cell_type": "markdown",
   "id": "363d104c",
   "metadata": {},
   "source": [
    "## Data Loader\n",
    "\n",
    "### TensorDataset class\n",
    "\n",
    "Loading your data into a PyTorch dataset will be one of the first steps you take in order to create and train a neural network with PyTorch.\n",
    "\n",
    "The `TensorDataset` class is very helpful when your dataset can be loaded directly as a NumPy array. Recall that `TensorDataset()` can take one or more NumPy arrays as input.\n",
    "\n",
    "In this case we are loading `train_seq`, `train_mask` and `train_y`"
   ]
  },
  {
   "cell_type": "code",
   "execution_count": 29,
   "id": "0e87d9b2",
   "metadata": {},
   "outputs": [],
   "source": [
    "from torch.utils.data import TensorDataset, DataLoader, RandomSampler, SequentialSampler\n",
    "\n",
    "#define a batch size\n",
    "batch_size = 32\n",
    "\n",
    "# wrap tensors\n",
    "train_data = TensorDataset(train_seq, train_mask, train_y)\n",
    "\n",
    "# sampler for sampling the data during training\n",
    "train_sampler = RandomSampler(train_data)\n",
    "\n",
    "# dataLoader for train set\n",
    "train_dataloader = DataLoader(train_data, sampler=train_sampler, batch_size=batch_size)\n",
    "\n",
    "# wrap tensors\n",
    "val_data = TensorDataset(val_seq, val_mask, val_y)\n",
    "\n",
    "# sampler for sampling the data during training\n",
    "val_sampler = SequentialSampler(val_data)\n",
    "\n",
    "# dataLoader for validation set\n",
    "val_dataloader = DataLoader(val_data, sampler = val_sampler, batch_size=batch_size)"
   ]
  },
  {
   "cell_type": "code",
   "execution_count": 30,
   "id": "da8bdc76",
   "metadata": {},
   "outputs": [],
   "source": [
    "# freeze all the parameters\n",
    "for param in bert.parameters():\n",
    "    param.requires_grad = False"
   ]
  },
  {
   "cell_type": "code",
   "execution_count": 31,
   "id": "9278fe97",
   "metadata": {},
   "outputs": [],
   "source": [
    "class BERT_Arch(nn.Module):\n",
    "\n",
    "    def __init__(self, bert):\n",
    "        super(BERT_Arch, self).__init__()\n",
    "        \n",
    "        self.bert = bert \n",
    "        \n",
    "        # dropout layer\n",
    "        self.dropout = nn.Dropout(0.1)\n",
    "      \n",
    "        # relu activation function\n",
    "        self.relu =  nn.ReLU()\n",
    "\n",
    "        # dense layer 1\n",
    "        self.fc1 = nn.Linear(768,512)\n",
    "      \n",
    "        # dense layer 2 (Output layer)\n",
    "        self.fc2 = nn.Linear(512,2)\n",
    "\n",
    "        #softmax activation function\n",
    "        self.softmax = nn.LogSoftmax(dim=1)\n",
    "\n",
    "    #define the forward pass\n",
    "    def forward(self, sent_id, mask):\n",
    "        \n",
    "        #pass the inputs to the model  \n",
    "        _, cls_hs = self.bert(sent_id, attention_mask=mask, return_dict=False)\n",
    "      \n",
    "        x = self.fc1(cls_hs)\n",
    "\n",
    "        x = self.relu(x)\n",
    "\n",
    "        x = self.dropout(x)\n",
    "\n",
    "        # output layer\n",
    "        x = self.fc2(x)\n",
    "      \n",
    "        # apply softmax activation\n",
    "        x = self.softmax(x)\n",
    "\n",
    "        return x"
   ]
  },
  {
   "cell_type": "markdown",
   "id": "5ae36f75",
   "metadata": {},
   "source": [
    "The thought process behind the provided code for the `BERT_Arch` class, which extends `nn.Module` from PyTorch, involves designing a neural network architecture that fine-tunes a pre-existing BERT model for a specific task, such as binary classification. The architecture leverages pre-trained BERT model for feature extraction and then tailors it to a specific task through additional layers and functions. Here's a detailed breakdown of the thought process:\n",
    "\n",
    "### Integrating BERT Model\n",
    "\n",
    "- **BERT as the Backbone**: The BERT model is utilized as the backbone for extracting contextual representations of the input text. Given its success in understanding complex language nuances, it serves as a solid foundation for feature extraction.\n",
    "\n",
    "### Custom Architecture for Specific Tasks\n",
    "\n",
    "- **Dropout for Regularization**: A dropout layer with a rate of 0.1 is introduced immediately after the BERT layer. This is a common technique to prevent overfitting by randomly zeroing out a fraction of the output units during training, forcing the model to learn robust features that are not reliant on a small set of neurons.\n",
    "\n",
    "- **Activation Function**: The ReLU activation function is used to introduce non-linearity into the network, enabling it to learn complex mappings from inputs to outputs. ReLU is preferred for its computational efficiency and its ability to mitigate the vanishing gradient problem.\n",
    "\n",
    "- **Dense Layers for Dimensionality Reduction and Decision Making**: \n",
    "  - The first dense layer (`fc1`) reduces the dimensionality from the BERT output size (768) to a smaller size (512), making the network computationally less expensive and potentially capturing more relevant, condensed information for the task.\n",
    "  - The second dense layer (`fc2`) acts as the output layer, further reducing the dimensionality from 512 to 2, which likely corresponds to the two classes in a binary classification task.\n",
    "\n",
    "### Output Processing for Classification\n",
    "\n",
    "- **Softmax for Probabilities**: The LogSoftmax function is used at the end to convert the logits from the final dense layer into log probabilities. This step is crucial for classification tasks as it provides a probabilistic interpretation of the model's predictions, facilitating the calculation of loss during training and making the model's outputs interpretable.\n",
    "\n",
    "### Forward Pass Definition\n",
    "\n",
    "- **Utilizing BERT's Output**: In the forward pass, the BERT model processes the input (`sent_id` and `mask`), but only the [CLS] token's representation (`cls_hs`) is used for downstream tasks. This token's output is particularly useful for classification tasks as it contains aggregated information about the entire input sequence.\n",
    "\n",
    "- **Sequential Processing through Layers**: The extracted features from the BERT model are then sequentially processed through the defined layers (dense, activation, dropout) to gradually transform the feature space from BERT's output to the final classification logits.\n",
    "\n",
    "- **End-to-End Training Capability**: By defining this architecture and forward pass, the model can be trained end-to-end, allowing the additional layers (and potentially the BERT model itself, depending on the training setup) to be fine-tuned specifically for the classification task at hand.\n",
    "\n",
    "This architecture demonstrates a practical approach to leveraging a pre-trained language model like BERT for specific downstream tasks, utilizing a combination of pre-existing deep learning techniques and custom layers to adapt to new challenges.\n"
   ]
  },
  {
   "cell_type": "code",
   "execution_count": 32,
   "id": "d52991cc",
   "metadata": {},
   "outputs": [],
   "source": [
    "# pass the pre-trained BERT to our define architecture\n",
    "model = BERT_Arch(bert)\n",
    "\n",
    "# push the model to GPU\n",
    "model = model.to(device)"
   ]
  },
  {
   "cell_type": "code",
   "execution_count": 41,
   "id": "1ae024fe",
   "metadata": {},
   "outputs": [
    {
     "name": "stderr",
     "output_type": "stream",
     "text": [
      "/Users/rdua/work/github/rajdeepd/bpb-vector-databases/my-python3-env/lib/python3.10/site-packages/transformers/optimization.py:457: FutureWarning: This implementation of AdamW is deprecated and will be removed in a future version. Use the PyTorch implementation torch.optim.AdamW instead, or set `no_deprecation_warning=True` to disable this warning\n",
      "  warnings.warn(\n"
     ]
    }
   ],
   "source": [
    "# optimizer from hugging face transformers\n",
    "from transformers import AdamW\n",
    "\n",
    "# define the optimizer\n",
    "optimizer = AdamW(model.parameters(),lr = 1e-5) "
   ]
  },
  {
   "cell_type": "markdown",
   "id": "c21de31f",
   "metadata": {},
   "source": [
    "### Compute Class Weight\n",
    "\n",
    "The `compute_class_weight` function is designed to compute class weights. In the context of machine learning, particularly in classification problems, datasets may exhibit class imbalance, where some classes have many more instances than others. Training a model on such imbalanced data can lead to poor generalization performance, as the model may become biased towards the majority class(es) and not learn enough about the minority class(es).\n",
    "\n",
    "Class weights can be used to address this issue by assigning a higher weight to the minority classes and a lower weight to the majority classes. This makes the model pay more attention to the minority classes during training, helping to improve the model's performance on imbalanced datasets.\n",
    "\n",
    "How `compute_class_weight` Works?\n",
    "compute_class_weight takes the following parameters:\n",
    "\n",
    "`class_weight`: This can be set to different modes, such as `balanced`, which automatically adjusts weights inversely proportional to class frequencies in the input data.\n",
    "`classes`: An array of the unique classes present in the dataset.\n",
    "`y`: The target class labels for the training data.\n",
    "\n",
    "The function returns an array of weights for each class, which can then be used in various classifiers in scikit-learn that accept the class_weight parameter. This parameter is used to modify the learning algorithm so that it treats instances of different classes with the weights specified."
   ]
  },
  {
   "cell_type": "code",
   "execution_count": 35,
   "id": "130ab1b7",
   "metadata": {},
   "outputs": [
    {
     "name": "stdout",
     "output_type": "stream",
     "text": [
      "Class Weights: [0.57743559 3.72848948]\n"
     ]
    }
   ],
   "source": [
    "from sklearn.utils.class_weight import compute_class_weight\n",
    "\n",
    "#compute the class weights\n",
    "class_weights = compute_class_weight(class_weight='balanced',classes=np.unique(train_labels), y=train_labels)\n",
    "\n",
    "print(\"Class Weights:\",class_weights)"
   ]
  },
  {
   "cell_type": "code",
   "execution_count": 36,
   "id": "1e382215",
   "metadata": {},
   "outputs": [],
   "source": [
    "# converting list of class weights to a tensor\n",
    "weights= torch.tensor(class_weights,dtype=torch.float)\n",
    "\n",
    "# push to GPU\n",
    "weights = weights.to(device)\n",
    "\n",
    "# define the loss function\n",
    "cross_entropy  = nn.NLLLoss(weight=weights) \n",
    "\n",
    "# number of training epochs\n",
    "epochs = 10"
   ]
  },
  {
   "cell_type": "markdown",
   "id": "21af8750",
   "metadata": {},
   "source": [
    "\n",
    "The provided function, train(), is designed to train a model, presumably a BERT model or a similar neural network, for a certain task (like classification) using a dataset provided via a train_dataloader. Here's a step-by-step breakdown of what happens within the function:\n",
    "\n",
    "Model Training Mode: The function starts by setting the model to training mode with model.train(). This is essential because certain layers like dropout and batch normalization work differently during training and inference.\n",
    "\n",
    "Initialization: It initializes variables to accumulate total loss (total_loss) and store predictions from the model (total_preds).\n",
    "\n",
    "Batch Iteration: The function iterates over batches of data provided by train_dataloader. For each batch:\n",
    "\n",
    "It optionally prints a progress update after every 50 batches.\n",
    "Moves the batch data to the same device (CPU or GPU) as the model with batch = [r.to(device) for r in batch] to ensure the data and model are compatible for computation.\n",
    "Extracts sentence IDs (sent_id), attention masks (mask), and labels from the batch.\n",
    "Gradient Zeroing: Before processing each batch, it clears out old gradients from the previous step to prevent them from accumulating with model.zero_grad().\n",
    "\n",
    "Model Prediction: The model makes predictions for the current batch with preds = model(sent_id, mask).\n",
    "\n",
    "Loss Computation: The function calculates the loss using a cross_entropy loss function, comparing the model's predictions (preds) against the actual labels (labels).\n",
    "\n",
    "Loss Accumulation: Adds the loss of the current batch to the total loss.\n",
    "\n",
    "Backward Propagation: Performs backpropagation with loss.backward() to calculate gradients for each model parameter.\n",
    "\n",
    "Gradient Clipping: Applies gradient clipping (torch.nn.utils.clip_grad_norm_(model.parameters(), 1.0)) to prevent the exploding gradient problem, ensuring that gradients do not exceed a certain threshold.\n",
    "\n",
    "Parameter Update: Updates the model's parameters based on the gradients calculated during backpropagation using the optimizer with optimizer.step().\n",
    "\n",
    "Detach Predictions: Detaches predictions from the computation graph and moves them to CPU memory with preds=preds.detach().cpu().numpy(). This step is necessary because PyTorch tracks operations on tensors for automatic gradient computation, and detaching them prevents unnecessary memory usage for tensors that are no longer needed in the computation graph.\n",
    "\n",
    "Store Predictions: Appends the predictions of the current batch to total_preds.\n",
    "\n",
    "Epoch Loss Calculation: After processing all batches, calculates the average loss for the epoch by dividing the total loss by the number of batches.\n",
    "\n",
    "Prediction Reshaping: Concatenates all batch predictions stored in total_preds into a single numpy array to match the shape expected for evaluation or further processing.\n",
    "\n",
    "Return Values: Returns the average loss"
   ]
  },
  {
   "cell_type": "code",
   "execution_count": 37,
   "id": "07c910eb",
   "metadata": {},
   "outputs": [],
   "source": [
    "# function to train the model\n",
    "def train():\n",
    "    \n",
    "    model.train()\n",
    "    total_loss, total_accuracy = 0, 0\n",
    "  \n",
    "    # empty list to save model predictions\n",
    "    total_preds=[]\n",
    "  \n",
    "    # iterate over batches\n",
    "    for step,batch in enumerate(train_dataloader):\n",
    "        \n",
    "        # progress update after every 50 batches.\n",
    "        if step % 50 == 0 and not step == 0:\n",
    "            print('  Batch {:>5,}  of  {:>5,}.'.format(step, len(train_dataloader)))\n",
    "        \n",
    "        # push the batch to gpu\n",
    "        batch = [r.to(device) for r in batch]\n",
    " \n",
    "        sent_id, mask, labels = batch\n",
    "        \n",
    "        # clear previously calculated gradients \n",
    "        model.zero_grad()        \n",
    "\n",
    "        # get model predictions for the current batch\n",
    "        preds = model(sent_id, mask)\n",
    "\n",
    "        # compute the loss between actual and predicted values\n",
    "        loss = cross_entropy(preds, labels)\n",
    "\n",
    "        # add on to the total loss\n",
    "        total_loss = total_loss + loss.item()\n",
    "\n",
    "        # backward pass to calculate the gradients\n",
    "        loss.backward()\n",
    "\n",
    "        # clip the the gradients to 1.0. It helps in preventing the exploding gradient problem\n",
    "        torch.nn.utils.clip_grad_norm_(model.parameters(), 1.0)\n",
    "\n",
    "        # update parameters\n",
    "        optimizer.step()\n",
    "\n",
    "        # model predictions are stored on GPU. So, push it to CPU\n",
    "        preds=preds.detach().cpu().numpy()\n",
    "\n",
    "    # append the model predictions\n",
    "    total_preds.append(preds)\n",
    "\n",
    "    # compute the training loss of the epoch\n",
    "    avg_loss = total_loss / len(train_dataloader)\n",
    "  \n",
    "      # predictions are in the form of (no. of batches, size of batch, no. of classes).\n",
    "      # reshape the predictions in form of (number of samples, no. of classes)\n",
    "    total_preds  = np.concatenate(total_preds, axis=0)\n",
    "\n",
    "    #returns the loss and predictions\n",
    "    return avg_loss, total_preds"
   ]
  },
  {
   "cell_type": "code",
   "execution_count": 39,
   "id": "e81c6bb9",
   "metadata": {},
   "outputs": [],
   "source": [
    "#function for evaluating the model\n",
    "def evaluate():\n",
    "    \n",
    "    print(\"\\nEvaluating...\")\n",
    "  \n",
    "    # deactivate dropout layers\n",
    "    model.eval()\n",
    "\n",
    "    total_loss, total_accuracy = 0, 0\n",
    "    \n",
    "    # empty list to save the model predictions\n",
    "    total_preds = []\n",
    "\n",
    "    # iterate over batches\n",
    "    for step,batch in enumerate(val_dataloader):\n",
    "        \n",
    "        # Progress update every 50 batches.\n",
    "        if step % 50 == 0 and not step == 0:\n",
    "            \n",
    "            # Calculate elapsed time in minutes.\n",
    "            elapsed = format_time(time.time() - t0)\n",
    "            \n",
    "            # Report progress.\n",
    "            print('  Batch {:>5,}  of  {:>5,}.'.format(step, len(val_dataloader)))\n",
    "\n",
    "        # push the batch to gpu\n",
    "        batch = [t.to(device) for t in batch]\n",
    "\n",
    "        sent_id, mask, labels = batch\n",
    "\n",
    "        # deactivate autograd\n",
    "        with torch.no_grad():\n",
    "            \n",
    "            # model predictions\n",
    "            preds = model(sent_id, mask)\n",
    "\n",
    "            # compute the validation loss between actual and predicted values\n",
    "            loss = cross_entropy(preds,labels)\n",
    "\n",
    "            total_loss = total_loss + loss.item()\n",
    "\n",
    "            preds = preds.detach().cpu().numpy()\n",
    "\n",
    "            total_preds.append(preds)\n",
    "\n",
    "    # compute the validation loss of the epoch\n",
    "    avg_loss = total_loss / len(val_dataloader) \n",
    "\n",
    "    # reshape the predictions in form of (number of samples, no. of classes)\n",
    "    total_preds  = np.concatenate(total_preds, axis=0)\n",
    "\n",
    "    return avg_loss, total_preds\n"
   ]
  },
  {
   "cell_type": "code",
   "execution_count": 42,
   "id": "0bbf1a0c",
   "metadata": {},
   "outputs": [
    {
     "name": "stdout",
     "output_type": "stream",
     "text": [
      "\n",
      " Epoch 1 / 10\n",
      "  Batch    50  of    122.\n",
      "  Batch   100  of    122.\n",
      "\n",
      "Evaluating...\n",
      "\n",
      "Training Loss: 0.673\n",
      "Validation Loss: 0.649\n",
      "\n",
      " Epoch 2 / 10\n",
      "  Batch    50  of    122.\n",
      "  Batch   100  of    122.\n",
      "\n",
      "Evaluating...\n",
      "\n",
      "Training Loss: 0.640\n",
      "Validation Loss: 0.615\n",
      "\n",
      " Epoch 3 / 10\n",
      "  Batch    50  of    122.\n",
      "  Batch   100  of    122.\n",
      "\n",
      "Evaluating...\n",
      "\n",
      "Training Loss: 0.613\n",
      "Validation Loss: 0.590\n",
      "\n",
      " Epoch 4 / 10\n",
      "  Batch    50  of    122.\n",
      "  Batch   100  of    122.\n",
      "\n",
      "Evaluating...\n",
      "\n",
      "Training Loss: 0.590\n",
      "Validation Loss: 0.564\n",
      "\n",
      " Epoch 5 / 10\n",
      "  Batch    50  of    122.\n",
      "  Batch   100  of    122.\n",
      "\n",
      "Evaluating...\n",
      "\n",
      "Training Loss: 0.569\n",
      "Validation Loss: 0.541\n",
      "\n",
      " Epoch 6 / 10\n",
      "  Batch    50  of    122.\n",
      "  Batch   100  of    122.\n",
      "\n",
      "Evaluating...\n",
      "\n",
      "Training Loss: 0.543\n",
      "Validation Loss: 0.519\n",
      "\n",
      " Epoch 7 / 10\n",
      "  Batch    50  of    122.\n",
      "  Batch   100  of    122.\n",
      "\n",
      "Evaluating...\n",
      "\n",
      "Training Loss: 0.522\n",
      "Validation Loss: 0.499\n",
      "\n",
      " Epoch 8 / 10\n",
      "  Batch    50  of    122.\n",
      "  Batch   100  of    122.\n",
      "\n",
      "Evaluating...\n",
      "\n",
      "Training Loss: 0.510\n",
      "Validation Loss: 0.480\n",
      "\n",
      " Epoch 9 / 10\n",
      "  Batch    50  of    122.\n",
      "  Batch   100  of    122.\n",
      "\n",
      "Evaluating...\n",
      "\n",
      "Training Loss: 0.499\n",
      "Validation Loss: 0.461\n",
      "\n",
      " Epoch 10 / 10\n",
      "  Batch    50  of    122.\n",
      "  Batch   100  of    122.\n",
      "\n",
      "Evaluating...\n",
      "\n",
      "Training Loss: 0.479\n",
      "Validation Loss: 0.447\n"
     ]
    }
   ],
   "source": [
    "# set initial loss to infinite\n",
    "best_valid_loss = float('inf')\n",
    "\n",
    "# empty lists to store training and validation loss of each epoch\n",
    "train_losses=[]\n",
    "valid_losses=[]\n",
    "\n",
    "#for each epoch\n",
    "for epoch in range(epochs):\n",
    "     \n",
    "    print('\\n Epoch {:} / {:}'.format(epoch + 1, epochs))\n",
    "    \n",
    "    #train model\n",
    "    train_loss, _ = train()\n",
    "    \n",
    "    #evaluate model\n",
    "    valid_loss, _ = evaluate()\n",
    "    \n",
    "    #save the best model\n",
    "    if valid_loss < best_valid_loss:\n",
    "        best_valid_loss = valid_loss\n",
    "        torch.save(model.state_dict(), 'saved_weights.pt')\n",
    "    \n",
    "    # append training and validation loss\n",
    "    train_losses.append(train_loss)\n",
    "    valid_losses.append(valid_loss)\n",
    "    \n",
    "    print(f'\\nTraining Loss: {train_loss:.3f}')\n",
    "    print(f'Validation Loss: {valid_loss:.3f}')"
   ]
  },
  {
   "cell_type": "code",
   "execution_count": 48,
   "id": "65b17de2",
   "metadata": {},
   "outputs": [
    {
     "data": {
      "text/plain": [
       "<function matplotlib.pyplot.show(close=None, block=None)>"
      ]
     },
     "execution_count": 48,
     "metadata": {},
     "output_type": "execute_result"
    },
    {
     "data": {
      "image/png": "[encoded data removed]",
      "text/plain": [
       "<Figure size 640x480 with 1 Axes>"
      ]
     },
     "metadata": {},
     "output_type": "display_data"
    }
   ],
   "source": [
    "import matplotlib.pyplot as plt\n",
    "plt.plot(train_losses, label='train_loss')\n",
    "plt.plot(valid_losses,label='val_loss')\n",
    "plt.legend()\n",
    "plt.show"
   ]
  },
  {
   "cell_type": "code",
   "execution_count": 43,
   "id": "c2c3ad17",
   "metadata": {},
   "outputs": [
    {
     "data": {
      "text/plain": [
       "<All keys matched successfully>"
      ]
     },
     "execution_count": 43,
     "metadata": {},
     "output_type": "execute_result"
    }
   ],
   "source": [
    "#load weights of best model\n",
    "path = 'saved_weights.pt'\n",
    "model.load_state_dict(torch.load(path))"
   ]
  },
  {
   "cell_type": "markdown",
   "id": "fdb9bc20",
   "metadata": {},
   "source": [
    "### Make Predictions"
   ]
  },
  {
   "cell_type": "code",
   "execution_count": 44,
   "id": "2526dc76",
   "metadata": {},
   "outputs": [],
   "source": [
    "# get predictions for test data\n",
    "with torch.no_grad():\n",
    "    preds = model(test_seq.to(device), test_mask.to(device))\n",
    "    preds = preds.detach().cpu().numpy()"
   ]
  },
  {
   "cell_type": "code",
   "execution_count": 45,
   "id": "e79d70ef",
   "metadata": {},
   "outputs": [
    {
     "name": "stdout",
     "output_type": "stream",
     "text": [
      "              precision    recall  f1-score   support\n",
      "\n",
      "           0       0.98      0.82      0.89       724\n",
      "           1       0.43      0.88      0.58       112\n",
      "\n",
      "    accuracy                           0.83       836\n",
      "   macro avg       0.71      0.85      0.74       836\n",
      "weighted avg       0.90      0.83      0.85       836\n",
      "\n"
     ]
    }
   ],
   "source": [
    "# model's performance\n",
    "preds = np.argmax(preds, axis = 1)\n",
    "print(classification_report(test_y, preds))"
   ]
  },
  {
   "cell_type": "markdown",
   "id": "80ab6ecd",
   "metadata": {},
   "source": [
    "BERT was undoubtedly a breakthrough in the use of Machine Learning for Natural Language Processing when it was proposed . The fact that it’s approachable and allowed fast fine-tuning allowed a wide range of practical applications till more refined versions came up. In this Notebook we have discussed about BERT "
   ]
  },
  {
   "cell_type": "code",
   "execution_count": null,
   "id": "2457e23b",
   "metadata": {},
   "outputs": [],
   "source": []
  }
 ],
 "metadata": {
  "kernelspec": {
   "display_name": "my-python3-kernel",
   "language": "python",
   "name": "my-python3-kernel"
  },
  "language_info": {
   "codemirror_mode": {
    "name": "ipython",
    "version": 3
   },
   "file_extension": ".py",
   "mimetype": "text/x-python",
   "name": "python",
   "nbconvert_exporter": "python",
   "pygments_lexer": "ipython3",
   "version": "3.10.8"
  }
 },
 "nbformat": 4,
 "nbformat_minor": 5
}
