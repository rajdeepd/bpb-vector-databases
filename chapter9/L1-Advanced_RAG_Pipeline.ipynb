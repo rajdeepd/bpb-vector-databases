{
 "cells": [
  {
   "cell_type": "markdown",
   "id": "a9bff53e",
   "metadata": {},
   "source": [
    "# Lesson 1: Advanced RAG Pipeline"
   ]
  },
  {
   "cell_type": "code",
   "execution_count": 4,
   "id": "1391cffb-8c0c-423d-801d-4982257beeb8",
   "metadata": {},
   "outputs": [
    {
     "name": "stdout",
     "output_type": "stream",
     "text": [
      "Requirement already satisfied: trulens_eval in /Users/rdua/work/github/rajdeepd/bpb-vector-databases/my-python3-env/lib/python3.10/site-packages (1.2.4)\n",
      "Requirement already satisfied: trulens<2.0,>=1.0 in /Users/rdua/work/github/rajdeepd/bpb-vector-databases/my-python3-env/lib/python3.10/site-packages (from trulens_eval) (1.2.4)\n",
      "Requirement already satisfied: trulens-core<2.0.0,>=1.0.0 in /Users/rdua/work/github/rajdeepd/bpb-vector-databases/my-python3-env/lib/python3.10/site-packages (from trulens-core[openai,otel,tqdm]<2.0.0,>=1.0.0->trulens<2.0,>=1.0->trulens_eval) (1.2.4)\n",
      "Requirement already satisfied: trulens-dashboard<2.0.0,>=1.0.0 in /Users/rdua/work/github/rajdeepd/bpb-vector-databases/my-python3-env/lib/python3.10/site-packages (from trulens<2.0,>=1.0->trulens_eval) (1.2.4)\n",
      "Requirement already satisfied: trulens-feedback<2.0.0,>=1.0.0 in /Users/rdua/work/github/rajdeepd/bpb-vector-databases/my-python3-env/lib/python3.10/site-packages (from trulens<2.0,>=1.0->trulens_eval) (1.2.4)\n",
      "Requirement already satisfied: alembic<2.0.0,>=1.8.1 in /Users/rdua/work/github/rajdeepd/bpb-vector-databases/my-python3-env/lib/python3.10/site-packages (from trulens-core<2.0.0,>=1.0.0->trulens-core[openai,otel,tqdm]<2.0.0,>=1.0.0->trulens<2.0,>=1.0->trulens_eval) (1.13.3)\n",
      "Requirement already satisfied: dill>=0.3.8 in /Users/rdua/work/github/rajdeepd/bpb-vector-databases/my-python3-env/lib/python3.10/site-packages (from trulens-core<2.0.0,>=1.0.0->trulens-core[openai,otel,tqdm]<2.0.0,>=1.0.0->trulens<2.0,>=1.0->trulens_eval) (0.3.8)\n",
      "Requirement already satisfied: munch<3.0,>=2.5 in /Users/rdua/work/github/rajdeepd/bpb-vector-databases/my-python3-env/lib/python3.10/site-packages (from trulens-core<2.0.0,>=1.0.0->trulens-core[openai,otel,tqdm]<2.0.0,>=1.0.0->trulens<2.0,>=1.0->trulens_eval) (2.5.0)\n",
      "Requirement already satisfied: nest-asyncio<2.0,>=1.5 in /Users/rdua/work/github/rajdeepd/bpb-vector-databases/my-python3-env/lib/python3.10/site-packages (from trulens-core<2.0.0,>=1.0.0->trulens-core[openai,otel,tqdm]<2.0.0,>=1.0.0->trulens<2.0,>=1.0->trulens_eval) (1.6.0)\n",
      "Requirement already satisfied: numpy>=1.23 in /Users/rdua/work/github/rajdeepd/bpb-vector-databases/my-python3-env/lib/python3.10/site-packages (from trulens-core<2.0.0,>=1.0.0->trulens-core[openai,otel,tqdm]<2.0.0,>=1.0.0->trulens<2.0,>=1.0->trulens_eval) (1.26.4)\n",
      "Requirement already satisfied: pandas>=1.0.0 in /Users/rdua/work/github/rajdeepd/bpb-vector-databases/my-python3-env/lib/python3.10/site-packages (from trulens-core<2.0.0,>=1.0.0->trulens-core[openai,otel,tqdm]<2.0.0,>=1.0.0->trulens<2.0,>=1.0->trulens_eval) (2.2.1)\n",
      "Requirement already satisfied: pydantic<3,>=2 in /Users/rdua/work/github/rajdeepd/bpb-vector-databases/my-python3-env/lib/python3.10/site-packages (from trulens-core<2.0.0,>=1.0.0->trulens-core[openai,otel,tqdm]<2.0.0,>=1.0.0->trulens<2.0,>=1.0->trulens_eval) (2.8.2)\n",
      "Requirement already satisfied: python-dotenv<2.0,>=0.21 in /Users/rdua/work/github/rajdeepd/bpb-vector-databases/my-python3-env/lib/python3.10/site-packages (from trulens-core<2.0.0,>=1.0.0->trulens-core[openai,otel,tqdm]<2.0.0,>=1.0.0->trulens<2.0,>=1.0->trulens_eval) (1.0.1)\n",
      "Requirement already satisfied: rich<14.0,>=13.6 in /Users/rdua/work/github/rajdeepd/bpb-vector-databases/my-python3-env/lib/python3.10/site-packages (from trulens-core<2.0.0,>=1.0.0->trulens-core[openai,otel,tqdm]<2.0.0,>=1.0.0->trulens<2.0,>=1.0->trulens_eval) (13.7.1)\n",
      "Requirement already satisfied: sqlalchemy<3.0,>=2.0 in /Users/rdua/work/github/rajdeepd/bpb-vector-databases/my-python3-env/lib/python3.10/site-packages (from trulens-core<2.0.0,>=1.0.0->trulens-core[openai,otel,tqdm]<2.0.0,>=1.0.0->trulens<2.0,>=1.0->trulens_eval) (2.0.34)\n",
      "Requirement already satisfied: typing_extensions<5.0,>=4.9 in /Users/rdua/work/github/rajdeepd/bpb-vector-databases/my-python3-env/lib/python3.10/site-packages (from trulens-core<2.0.0,>=1.0.0->trulens-core[openai,otel,tqdm]<2.0.0,>=1.0.0->trulens<2.0,>=1.0->trulens_eval) (4.12.2)\n",
      "\u001b[33mWARNING: trulens-core 1.2.4 does not provide the extra 'openai'\u001b[0m\u001b[33m\n",
      "\u001b[0m\u001b[33mWARNING: trulens-core 1.2.4 does not provide the extra 'otel'\u001b[0m\u001b[33m\n",
      "\u001b[0m\u001b[33mWARNING: trulens-core 1.2.4 does not provide the extra 'tqdm'\u001b[0m\u001b[33m\n",
      "\u001b[0mRequirement already satisfied: ipywidgets<9.0.0,>=8.1.2 in /Users/rdua/work/github/rajdeepd/bpb-vector-databases/my-python3-env/lib/python3.10/site-packages (from trulens-dashboard<2.0.0,>=1.0.0->trulens<2.0,>=1.0->trulens_eval) (8.1.5)\n",
      "Requirement already satisfied: jupyter<2,>=1 in /Users/rdua/work/github/rajdeepd/bpb-vector-databases/my-python3-env/lib/python3.10/site-packages (from trulens-dashboard<2.0.0,>=1.0.0->trulens<2.0,>=1.0->trulens_eval) (1.1.1)\n",
      "Requirement already satisfied: plotly<6.0.0,>=5.22.0 in /Users/rdua/work/github/rajdeepd/bpb-vector-databases/my-python3-env/lib/python3.10/site-packages (from trulens-dashboard<2.0.0,>=1.0.0->trulens<2.0,>=1.0->trulens_eval) (5.24.1)\n",
      "Requirement already satisfied: psutil<6.0,>=5.9 in /Users/rdua/work/github/rajdeepd/bpb-vector-databases/my-python3-env/lib/python3.10/site-packages (from trulens-dashboard<2.0.0,>=1.0.0->trulens<2.0,>=1.0->trulens_eval) (5.9.8)\n",
      "Requirement already satisfied: streamlit<2.0,>=1.37 in /Users/rdua/work/github/rajdeepd/bpb-vector-databases/my-python3-env/lib/python3.10/site-packages (from trulens-dashboard<2.0.0,>=1.0.0->trulens<2.0,>=1.0->trulens_eval) (1.39.0)\n",
      "Requirement already satisfied: streamlit-aggrid<2.0.0,>=1.0.5 in /Users/rdua/work/github/rajdeepd/bpb-vector-databases/my-python3-env/lib/python3.10/site-packages (from trulens-dashboard<2.0.0,>=1.0.0->trulens<2.0,>=1.0->trulens_eval) (1.0.5)\n",
      "Requirement already satisfied: streamlit-extras>=0.4 in /Users/rdua/work/github/rajdeepd/bpb-vector-databases/my-python3-env/lib/python3.10/site-packages (from trulens-dashboard<2.0.0,>=1.0.0->trulens<2.0,>=1.0->trulens_eval) (0.5.0)\n",
      "Requirement already satisfied: streamlit-pills>=0.3 in /Users/rdua/work/github/rajdeepd/bpb-vector-databases/my-python3-env/lib/python3.10/site-packages (from trulens-dashboard<2.0.0,>=1.0.0->trulens<2.0,>=1.0->trulens_eval) (0.3.0)\n",
      "Requirement already satisfied: traitlets<6.0.0,>=5.0.5 in /Users/rdua/work/github/rajdeepd/bpb-vector-databases/my-python3-env/lib/python3.10/site-packages (from trulens-dashboard<2.0.0,>=1.0.0->trulens<2.0,>=1.0->trulens_eval) (5.14.2)\n",
      "Requirement already satisfied: nltk<4.0.0,>=3.9.1 in /Users/rdua/work/github/rajdeepd/bpb-vector-databases/my-python3-env/lib/python3.10/site-packages (from trulens-feedback<2.0.0,>=1.0.0->trulens<2.0,>=1.0->trulens_eval) (3.9.1)\n",
      "Requirement already satisfied: scikit-learn<2.0.0,>=1.3.0 in /Users/rdua/work/github/rajdeepd/bpb-vector-databases/my-python3-env/lib/python3.10/site-packages (from trulens-feedback<2.0.0,>=1.0.0->trulens<2.0,>=1.0->trulens_eval) (1.4.1.post1)\n",
      "Requirement already satisfied: scipy<2.0.0,>=1.10.1 in /Users/rdua/work/github/rajdeepd/bpb-vector-databases/my-python3-env/lib/python3.10/site-packages (from trulens-feedback<2.0.0,>=1.0.0->trulens<2.0,>=1.0->trulens_eval) (1.12.0)\n",
      "Requirement already satisfied: Mako in /Users/rdua/work/github/rajdeepd/bpb-vector-databases/my-python3-env/lib/python3.10/site-packages (from alembic<2.0.0,>=1.8.1->trulens-core<2.0.0,>=1.0.0->trulens-core[openai,otel,tqdm]<2.0.0,>=1.0.0->trulens<2.0,>=1.0->trulens_eval) (1.3.6)\n",
      "Requirement already satisfied: comm>=0.1.3 in /Users/rdua/work/github/rajdeepd/bpb-vector-databases/my-python3-env/lib/python3.10/site-packages (from ipywidgets<9.0.0,>=8.1.2->trulens-dashboard<2.0.0,>=1.0.0->trulens<2.0,>=1.0->trulens_eval) (0.2.2)\n",
      "Requirement already satisfied: ipython>=6.1.0 in /Users/rdua/work/github/rajdeepd/bpb-vector-databases/my-python3-env/lib/python3.10/site-packages (from ipywidgets<9.0.0,>=8.1.2->trulens-dashboard<2.0.0,>=1.0.0->trulens<2.0,>=1.0->trulens_eval) (8.22.2)\n",
      "Requirement already satisfied: widgetsnbextension~=4.0.12 in /Users/rdua/work/github/rajdeepd/bpb-vector-databases/my-python3-env/lib/python3.10/site-packages (from ipywidgets<9.0.0,>=8.1.2->trulens-dashboard<2.0.0,>=1.0.0->trulens<2.0,>=1.0->trulens_eval) (4.0.13)\n",
      "Requirement already satisfied: jupyterlab-widgets~=3.0.12 in /Users/rdua/work/github/rajdeepd/bpb-vector-databases/my-python3-env/lib/python3.10/site-packages (from ipywidgets<9.0.0,>=8.1.2->trulens-dashboard<2.0.0,>=1.0.0->trulens<2.0,>=1.0->trulens_eval) (3.0.13)\n",
      "Requirement already satisfied: notebook in /Users/rdua/work/github/rajdeepd/bpb-vector-databases/my-python3-env/lib/python3.10/site-packages (from jupyter<2,>=1->trulens-dashboard<2.0.0,>=1.0.0->trulens<2.0,>=1.0->trulens_eval) (7.2.2)\n",
      "Requirement already satisfied: jupyter-console in /Users/rdua/work/github/rajdeepd/bpb-vector-databases/my-python3-env/lib/python3.10/site-packages (from jupyter<2,>=1->trulens-dashboard<2.0.0,>=1.0.0->trulens<2.0,>=1.0->trulens_eval) (6.6.3)\n",
      "Requirement already satisfied: nbconvert in /Users/rdua/work/github/rajdeepd/bpb-vector-databases/my-python3-env/lib/python3.10/site-packages (from jupyter<2,>=1->trulens-dashboard<2.0.0,>=1.0.0->trulens<2.0,>=1.0->trulens_eval) (7.16.4)\n",
      "Requirement already satisfied: ipykernel in /Users/rdua/work/github/rajdeepd/bpb-vector-databases/my-python3-env/lib/python3.10/site-packages (from jupyter<2,>=1->trulens-dashboard<2.0.0,>=1.0.0->trulens<2.0,>=1.0->trulens_eval) (6.29.3)\n",
      "Requirement already satisfied: jupyterlab in /Users/rdua/work/github/rajdeepd/bpb-vector-databases/my-python3-env/lib/python3.10/site-packages (from jupyter<2,>=1->trulens-dashboard<2.0.0,>=1.0.0->trulens<2.0,>=1.0->trulens_eval) (4.2.5)\n",
      "Requirement already satisfied: six in /Users/rdua/work/github/rajdeepd/bpb-vector-databases/my-python3-env/lib/python3.10/site-packages (from munch<3.0,>=2.5->trulens-core<2.0.0,>=1.0.0->trulens-core[openai,otel,tqdm]<2.0.0,>=1.0.0->trulens<2.0,>=1.0->trulens_eval) (1.16.0)\n",
      "Requirement already satisfied: click in /Users/rdua/work/github/rajdeepd/bpb-vector-databases/my-python3-env/lib/python3.10/site-packages (from nltk<4.0.0,>=3.9.1->trulens-feedback<2.0.0,>=1.0.0->trulens<2.0,>=1.0->trulens_eval) (8.1.7)\n",
      "Requirement already satisfied: joblib in /Users/rdua/work/github/rajdeepd/bpb-vector-databases/my-python3-env/lib/python3.10/site-packages (from nltk<4.0.0,>=3.9.1->trulens-feedback<2.0.0,>=1.0.0->trulens<2.0,>=1.0->trulens_eval) (1.3.2)\n",
      "Requirement already satisfied: regex>=2021.8.3 in /Users/rdua/work/github/rajdeepd/bpb-vector-databases/my-python3-env/lib/python3.10/site-packages (from nltk<4.0.0,>=3.9.1->trulens-feedback<2.0.0,>=1.0.0->trulens<2.0,>=1.0->trulens_eval) (2023.12.25)\n",
      "Requirement already satisfied: tqdm in /Users/rdua/work/github/rajdeepd/bpb-vector-databases/my-python3-env/lib/python3.10/site-packages (from nltk<4.0.0,>=3.9.1->trulens-feedback<2.0.0,>=1.0.0->trulens<2.0,>=1.0->trulens_eval) (4.66.5)\n",
      "Requirement already satisfied: python-dateutil>=2.8.2 in /Users/rdua/work/github/rajdeepd/bpb-vector-databases/my-python3-env/lib/python3.10/site-packages (from pandas>=1.0.0->trulens-core<2.0.0,>=1.0.0->trulens-core[openai,otel,tqdm]<2.0.0,>=1.0.0->trulens<2.0,>=1.0->trulens_eval) (2.9.0.post0)\n",
      "Requirement already satisfied: pytz>=2020.1 in /Users/rdua/work/github/rajdeepd/bpb-vector-databases/my-python3-env/lib/python3.10/site-packages (from pandas>=1.0.0->trulens-core<2.0.0,>=1.0.0->trulens-core[openai,otel,tqdm]<2.0.0,>=1.0.0->trulens<2.0,>=1.0->trulens_eval) (2024.1)\n",
      "Requirement already satisfied: tzdata>=2022.7 in /Users/rdua/work/github/rajdeepd/bpb-vector-databases/my-python3-env/lib/python3.10/site-packages (from pandas>=1.0.0->trulens-core<2.0.0,>=1.0.0->trulens-core[openai,otel,tqdm]<2.0.0,>=1.0.0->trulens<2.0,>=1.0->trulens_eval) (2024.1)\n",
      "Requirement already satisfied: tenacity>=6.2.0 in /Users/rdua/work/github/rajdeepd/bpb-vector-databases/my-python3-env/lib/python3.10/site-packages (from plotly<6.0.0,>=5.22.0->trulens-dashboard<2.0.0,>=1.0.0->trulens<2.0,>=1.0->trulens_eval) (8.5.0)\n",
      "Requirement already satisfied: packaging in /Users/rdua/work/github/rajdeepd/bpb-vector-databases/my-python3-env/lib/python3.10/site-packages (from plotly<6.0.0,>=5.22.0->trulens-dashboard<2.0.0,>=1.0.0->trulens<2.0,>=1.0->trulens_eval) (24.0)\n",
      "Requirement already satisfied: annotated-types>=0.4.0 in /Users/rdua/work/github/rajdeepd/bpb-vector-databases/my-python3-env/lib/python3.10/site-packages (from pydantic<3,>=2->trulens-core<2.0.0,>=1.0.0->trulens-core[openai,otel,tqdm]<2.0.0,>=1.0.0->trulens<2.0,>=1.0->trulens_eval) (0.7.0)\n",
      "Requirement already satisfied: pydantic-core==2.20.1 in /Users/rdua/work/github/rajdeepd/bpb-vector-databases/my-python3-env/lib/python3.10/site-packages (from pydantic<3,>=2->trulens-core<2.0.0,>=1.0.0->trulens-core[openai,otel,tqdm]<2.0.0,>=1.0.0->trulens<2.0,>=1.0->trulens_eval) (2.20.1)\n",
      "Requirement already satisfied: markdown-it-py>=2.2.0 in /Users/rdua/work/github/rajdeepd/bpb-vector-databases/my-python3-env/lib/python3.10/site-packages (from rich<14.0,>=13.6->trulens-core<2.0.0,>=1.0.0->trulens-core[openai,otel,tqdm]<2.0.0,>=1.0.0->trulens<2.0,>=1.0->trulens_eval) (3.0.0)\n",
      "Requirement already satisfied: pygments<3.0.0,>=2.13.0 in /Users/rdua/work/github/rajdeepd/bpb-vector-databases/my-python3-env/lib/python3.10/site-packages (from rich<14.0,>=13.6->trulens-core<2.0.0,>=1.0.0->trulens-core[openai,otel,tqdm]<2.0.0,>=1.0.0->trulens<2.0,>=1.0->trulens_eval) (2.17.2)\n",
      "Requirement already satisfied: threadpoolctl>=2.0.0 in /Users/rdua/work/github/rajdeepd/bpb-vector-databases/my-python3-env/lib/python3.10/site-packages (from scikit-learn<2.0.0,>=1.3.0->trulens-feedback<2.0.0,>=1.0.0->trulens<2.0,>=1.0->trulens_eval) (3.4.0)\n",
      "Requirement already satisfied: altair<6,>=4.0 in /Users/rdua/work/github/rajdeepd/bpb-vector-databases/my-python3-env/lib/python3.10/site-packages (from streamlit<2.0,>=1.37->trulens-dashboard<2.0.0,>=1.0.0->trulens<2.0,>=1.0->trulens_eval) (4.2.2)\n",
      "Requirement already satisfied: blinker<2,>=1.0.0 in /Users/rdua/work/github/rajdeepd/bpb-vector-databases/my-python3-env/lib/python3.10/site-packages (from streamlit<2.0,>=1.37->trulens-dashboard<2.0.0,>=1.0.0->trulens<2.0,>=1.0->trulens_eval) (1.8.2)\n",
      "Requirement already satisfied: cachetools<6,>=4.0 in /Users/rdua/work/github/rajdeepd/bpb-vector-databases/my-python3-env/lib/python3.10/site-packages (from streamlit<2.0,>=1.37->trulens-dashboard<2.0.0,>=1.0.0->trulens<2.0,>=1.0->trulens_eval) (5.3.3)\n",
      "Requirement already satisfied: pillow<11,>=7.1.0 in /Users/rdua/work/github/rajdeepd/bpb-vector-databases/my-python3-env/lib/python3.10/site-packages (from streamlit<2.0,>=1.37->trulens-dashboard<2.0.0,>=1.0.0->trulens<2.0,>=1.0->trulens_eval) (10.2.0)\n",
      "Requirement already satisfied: protobuf<6,>=3.20 in /Users/rdua/work/github/rajdeepd/bpb-vector-databases/my-python3-env/lib/python3.10/site-packages (from streamlit<2.0,>=1.37->trulens-dashboard<2.0.0,>=1.0.0->trulens<2.0,>=1.0->trulens_eval) (5.28.3)\n",
      "Requirement already satisfied: pyarrow>=7.0 in /Users/rdua/work/github/rajdeepd/bpb-vector-databases/my-python3-env/lib/python3.10/site-packages (from streamlit<2.0,>=1.37->trulens-dashboard<2.0.0,>=1.0.0->trulens<2.0,>=1.0->trulens_eval) (17.0.0)\n",
      "Requirement already satisfied: requests<3,>=2.27 in /Users/rdua/work/github/rajdeepd/bpb-vector-databases/my-python3-env/lib/python3.10/site-packages (from streamlit<2.0,>=1.37->trulens-dashboard<2.0.0,>=1.0.0->trulens<2.0,>=1.0->trulens_eval) (2.32.3)\n",
      "Requirement already satisfied: toml<2,>=0.10.1 in /Users/rdua/work/github/rajdeepd/bpb-vector-databases/my-python3-env/lib/python3.10/site-packages (from streamlit<2.0,>=1.37->trulens-dashboard<2.0.0,>=1.0.0->trulens<2.0,>=1.0->trulens_eval) (0.10.2)\n",
      "Requirement already satisfied: gitpython!=3.1.19,<4,>=3.0.7 in /Users/rdua/work/github/rajdeepd/bpb-vector-databases/my-python3-env/lib/python3.10/site-packages (from streamlit<2.0,>=1.37->trulens-dashboard<2.0.0,>=1.0.0->trulens<2.0,>=1.0->trulens_eval) (3.1.43)\n",
      "Requirement already satisfied: pydeck<1,>=0.8.0b4 in /Users/rdua/work/github/rajdeepd/bpb-vector-databases/my-python3-env/lib/python3.10/site-packages (from streamlit<2.0,>=1.37->trulens-dashboard<2.0.0,>=1.0.0->trulens<2.0,>=1.0->trulens_eval) (0.9.1)\n",
      "Requirement already satisfied: tornado<7,>=6.0.3 in /Users/rdua/work/github/rajdeepd/bpb-vector-databases/my-python3-env/lib/python3.10/site-packages (from streamlit<2.0,>=1.37->trulens-dashboard<2.0.0,>=1.0.0->trulens<2.0,>=1.0->trulens_eval) (6.4)\n",
      "Requirement already satisfied: python-decouple<4.0,>=3.6 in /Users/rdua/work/github/rajdeepd/bpb-vector-databases/my-python3-env/lib/python3.10/site-packages (from streamlit-aggrid<2.0.0,>=1.0.5->trulens-dashboard<2.0.0,>=1.0.0->trulens<2.0,>=1.0->trulens_eval) (3.8)\n",
      "Requirement already satisfied: entrypoints>=0.4 in /Users/rdua/work/github/rajdeepd/bpb-vector-databases/my-python3-env/lib/python3.10/site-packages (from streamlit-extras>=0.4->trulens-dashboard<2.0.0,>=1.0.0->trulens<2.0,>=1.0->trulens_eval) (0.4)\n",
      "Requirement already satisfied: htbuilder>=0.6.2 in /Users/rdua/work/github/rajdeepd/bpb-vector-databases/my-python3-env/lib/python3.10/site-packages (from streamlit-extras>=0.4->trulens-dashboard<2.0.0,>=1.0.0->trulens<2.0,>=1.0->trulens_eval) (0.6.2)\n",
      "Requirement already satisfied: markdownlit>=0.0.5 in /Users/rdua/work/github/rajdeepd/bpb-vector-databases/my-python3-env/lib/python3.10/site-packages (from streamlit-extras>=0.4->trulens-dashboard<2.0.0,>=1.0.0->trulens<2.0,>=1.0->trulens_eval) (0.0.7)\n",
      "Requirement already satisfied: prometheus-client>=0.14.0 in /Users/rdua/work/github/rajdeepd/bpb-vector-databases/my-python3-env/lib/python3.10/site-packages (from streamlit-extras>=0.4->trulens-dashboard<2.0.0,>=1.0.0->trulens<2.0,>=1.0->trulens_eval) (0.21.0)\n",
      "Requirement already satisfied: st-annotated-text>=3.0.0 in /Users/rdua/work/github/rajdeepd/bpb-vector-databases/my-python3-env/lib/python3.10/site-packages (from streamlit-extras>=0.4->trulens-dashboard<2.0.0,>=1.0.0->trulens<2.0,>=1.0->trulens_eval) (4.0.1)\n",
      "Requirement already satisfied: st-theme>=1.0.1 in /Users/rdua/work/github/rajdeepd/bpb-vector-databases/my-python3-env/lib/python3.10/site-packages (from streamlit-extras>=0.4->trulens-dashboard<2.0.0,>=1.0.0->trulens<2.0,>=1.0->trulens_eval) (1.2.3)\n",
      "Requirement already satisfied: streamlit-camera-input-live>=0.2.0 in /Users/rdua/work/github/rajdeepd/bpb-vector-databases/my-python3-env/lib/python3.10/site-packages (from streamlit-extras>=0.4->trulens-dashboard<2.0.0,>=1.0.0->trulens<2.0,>=1.0->trulens_eval) (0.2.0)\n",
      "Requirement already satisfied: streamlit-card>=0.0.4 in /Users/rdua/work/github/rajdeepd/bpb-vector-databases/my-python3-env/lib/python3.10/site-packages (from streamlit-extras>=0.4->trulens-dashboard<2.0.0,>=1.0.0->trulens<2.0,>=1.0->trulens_eval) (1.0.2)\n",
      "Requirement already satisfied: streamlit-embedcode>=0.1.2 in /Users/rdua/work/github/rajdeepd/bpb-vector-databases/my-python3-env/lib/python3.10/site-packages (from streamlit-extras>=0.4->trulens-dashboard<2.0.0,>=1.0.0->trulens<2.0,>=1.0->trulens_eval) (0.1.2)\n",
      "Requirement already satisfied: streamlit-faker>=0.0.2 in /Users/rdua/work/github/rajdeepd/bpb-vector-databases/my-python3-env/lib/python3.10/site-packages (from streamlit-extras>=0.4->trulens-dashboard<2.0.0,>=1.0.0->trulens<2.0,>=1.0->trulens_eval) (0.0.3)\n",
      "Requirement already satisfied: streamlit-image-coordinates<0.2.0,>=0.1.1 in /Users/rdua/work/github/rajdeepd/bpb-vector-databases/my-python3-env/lib/python3.10/site-packages (from streamlit-extras>=0.4->trulens-dashboard<2.0.0,>=1.0.0->trulens<2.0,>=1.0->trulens_eval) (0.1.9)\n",
      "Requirement already satisfied: streamlit-keyup>=0.1.9 in /Users/rdua/work/github/rajdeepd/bpb-vector-databases/my-python3-env/lib/python3.10/site-packages (from streamlit-extras>=0.4->trulens-dashboard<2.0.0,>=1.0.0->trulens<2.0,>=1.0->trulens_eval) (0.2.4)\n",
      "Requirement already satisfied: streamlit-toggle-switch>=1.0.2 in /Users/rdua/work/github/rajdeepd/bpb-vector-databases/my-python3-env/lib/python3.10/site-packages (from streamlit-extras>=0.4->trulens-dashboard<2.0.0,>=1.0.0->trulens<2.0,>=1.0->trulens_eval) (1.0.2)\n",
      "Requirement already satisfied: streamlit-vertical-slider>=2.5.5 in /Users/rdua/work/github/rajdeepd/bpb-vector-databases/my-python3-env/lib/python3.10/site-packages (from streamlit-extras>=0.4->trulens-dashboard<2.0.0,>=1.0.0->trulens<2.0,>=1.0->trulens_eval) (2.5.5)\n",
      "Requirement already satisfied: validators>=0.20.0 in /Users/rdua/work/github/rajdeepd/bpb-vector-databases/my-python3-env/lib/python3.10/site-packages (from streamlit-extras>=0.4->trulens-dashboard<2.0.0,>=1.0.0->trulens<2.0,>=1.0->trulens_eval) (0.33.0)\n",
      "Requirement already satisfied: jinja2 in /Users/rdua/work/github/rajdeepd/bpb-vector-databases/my-python3-env/lib/python3.10/site-packages (from altair<6,>=4.0->streamlit<2.0,>=1.37->trulens-dashboard<2.0.0,>=1.0.0->trulens<2.0,>=1.0->trulens_eval) (3.1.3)\n",
      "Requirement already satisfied: jsonschema>=3.0 in /Users/rdua/work/github/rajdeepd/bpb-vector-databases/my-python3-env/lib/python3.10/site-packages (from altair<6,>=4.0->streamlit<2.0,>=1.37->trulens-dashboard<2.0.0,>=1.0.0->trulens<2.0,>=1.0->trulens_eval) (4.23.0)\n",
      "Requirement already satisfied: toolz in /Users/rdua/work/github/rajdeepd/bpb-vector-databases/my-python3-env/lib/python3.10/site-packages (from altair<6,>=4.0->streamlit<2.0,>=1.37->trulens-dashboard<2.0.0,>=1.0.0->trulens<2.0,>=1.0->trulens_eval) (1.0.0)\n",
      "Requirement already satisfied: gitdb<5,>=4.0.1 in /Users/rdua/work/github/rajdeepd/bpb-vector-databases/my-python3-env/lib/python3.10/site-packages (from gitpython!=3.1.19,<4,>=3.0.7->streamlit<2.0,>=1.37->trulens-dashboard<2.0.0,>=1.0.0->trulens<2.0,>=1.0->trulens_eval) (4.0.11)\n",
      "Requirement already satisfied: more-itertools in /Users/rdua/work/github/rajdeepd/bpb-vector-databases/my-python3-env/lib/python3.10/site-packages (from htbuilder>=0.6.2->streamlit-extras>=0.4->trulens-dashboard<2.0.0,>=1.0.0->trulens<2.0,>=1.0->trulens_eval) (10.5.0)\n",
      "Requirement already satisfied: decorator in /Users/rdua/work/github/rajdeepd/bpb-vector-databases/my-python3-env/lib/python3.10/site-packages (from ipython>=6.1.0->ipywidgets<9.0.0,>=8.1.2->trulens-dashboard<2.0.0,>=1.0.0->trulens<2.0,>=1.0->trulens_eval) (5.1.1)\n",
      "Requirement already satisfied: jedi>=0.16 in /Users/rdua/work/github/rajdeepd/bpb-vector-databases/my-python3-env/lib/python3.10/site-packages (from ipython>=6.1.0->ipywidgets<9.0.0,>=8.1.2->trulens-dashboard<2.0.0,>=1.0.0->trulens<2.0,>=1.0->trulens_eval) (0.19.1)\n",
      "Requirement already satisfied: matplotlib-inline in /Users/rdua/work/github/rajdeepd/bpb-vector-databases/my-python3-env/lib/python3.10/site-packages (from ipython>=6.1.0->ipywidgets<9.0.0,>=8.1.2->trulens-dashboard<2.0.0,>=1.0.0->trulens<2.0,>=1.0->trulens_eval) (0.1.6)\n",
      "Requirement already satisfied: prompt-toolkit<3.1.0,>=3.0.41 in /Users/rdua/work/github/rajdeepd/bpb-vector-databases/my-python3-env/lib/python3.10/site-packages (from ipython>=6.1.0->ipywidgets<9.0.0,>=8.1.2->trulens-dashboard<2.0.0,>=1.0.0->trulens<2.0,>=1.0->trulens_eval) (3.0.43)\n",
      "Requirement already satisfied: stack-data in /Users/rdua/work/github/rajdeepd/bpb-vector-databases/my-python3-env/lib/python3.10/site-packages (from ipython>=6.1.0->ipywidgets<9.0.0,>=8.1.2->trulens-dashboard<2.0.0,>=1.0.0->trulens<2.0,>=1.0->trulens_eval) (0.6.3)\n",
      "Requirement already satisfied: exceptiongroup in /Users/rdua/work/github/rajdeepd/bpb-vector-databases/my-python3-env/lib/python3.10/site-packages (from ipython>=6.1.0->ipywidgets<9.0.0,>=8.1.2->trulens-dashboard<2.0.0,>=1.0.0->trulens<2.0,>=1.0->trulens_eval) (1.2.0)\n",
      "Requirement already satisfied: pexpect>4.3 in /Users/rdua/work/github/rajdeepd/bpb-vector-databases/my-python3-env/lib/python3.10/site-packages (from ipython>=6.1.0->ipywidgets<9.0.0,>=8.1.2->trulens-dashboard<2.0.0,>=1.0.0->trulens<2.0,>=1.0->trulens_eval) (4.9.0)\n",
      "Requirement already satisfied: mdurl~=0.1 in /Users/rdua/work/github/rajdeepd/bpb-vector-databases/my-python3-env/lib/python3.10/site-packages (from markdown-it-py>=2.2.0->rich<14.0,>=13.6->trulens-core<2.0.0,>=1.0.0->trulens-core[openai,otel,tqdm]<2.0.0,>=1.0.0->trulens<2.0,>=1.0->trulens_eval) (0.1.2)\n",
      "Requirement already satisfied: markdown in /Users/rdua/work/github/rajdeepd/bpb-vector-databases/my-python3-env/lib/python3.10/site-packages (from markdownlit>=0.0.5->streamlit-extras>=0.4->trulens-dashboard<2.0.0,>=1.0.0->trulens<2.0,>=1.0->trulens_eval) (3.6)\n",
      "Requirement already satisfied: lxml in /Users/rdua/work/github/rajdeepd/bpb-vector-databases/my-python3-env/lib/python3.10/site-packages (from markdownlit>=0.0.5->streamlit-extras>=0.4->trulens-dashboard<2.0.0,>=1.0.0->trulens<2.0,>=1.0->trulens_eval) (5.3.0)\n",
      "Requirement already satisfied: favicon in /Users/rdua/work/github/rajdeepd/bpb-vector-databases/my-python3-env/lib/python3.10/site-packages (from markdownlit>=0.0.5->streamlit-extras>=0.4->trulens-dashboard<2.0.0,>=1.0.0->trulens<2.0,>=1.0->trulens_eval) (0.7.0)\n",
      "Requirement already satisfied: pymdown-extensions in /Users/rdua/work/github/rajdeepd/bpb-vector-databases/my-python3-env/lib/python3.10/site-packages (from markdownlit>=0.0.5->streamlit-extras>=0.4->trulens-dashboard<2.0.0,>=1.0.0->trulens<2.0,>=1.0->trulens_eval) (10.12)\n",
      "Requirement already satisfied: charset-normalizer<4,>=2 in /Users/rdua/work/github/rajdeepd/bpb-vector-databases/my-python3-env/lib/python3.10/site-packages (from requests<3,>=2.27->streamlit<2.0,>=1.37->trulens-dashboard<2.0.0,>=1.0.0->trulens<2.0,>=1.0->trulens_eval) (3.3.2)\n",
      "Requirement already satisfied: idna<4,>=2.5 in /Users/rdua/work/github/rajdeepd/bpb-vector-databases/my-python3-env/lib/python3.10/site-packages (from requests<3,>=2.27->streamlit<2.0,>=1.37->trulens-dashboard<2.0.0,>=1.0.0->trulens<2.0,>=1.0->trulens_eval) (3.6)\n",
      "Requirement already satisfied: urllib3<3,>=1.21.1 in /Users/rdua/work/github/rajdeepd/bpb-vector-databases/my-python3-env/lib/python3.10/site-packages (from requests<3,>=2.27->streamlit<2.0,>=1.37->trulens-dashboard<2.0.0,>=1.0.0->trulens<2.0,>=1.0->trulens_eval) (1.26.20)\n",
      "Requirement already satisfied: certifi>=2017.4.17 in /Users/rdua/work/github/rajdeepd/bpb-vector-databases/my-python3-env/lib/python3.10/site-packages (from requests<3,>=2.27->streamlit<2.0,>=1.37->trulens-dashboard<2.0.0,>=1.0.0->trulens<2.0,>=1.0->trulens_eval) (2024.2.2)\n",
      "Requirement already satisfied: faker in /Users/rdua/work/github/rajdeepd/bpb-vector-databases/my-python3-env/lib/python3.10/site-packages (from streamlit-faker>=0.0.2->streamlit-extras>=0.4->trulens-dashboard<2.0.0,>=1.0.0->trulens<2.0,>=1.0->trulens_eval) (30.8.2)\n",
      "Requirement already satisfied: matplotlib in /Users/rdua/work/github/rajdeepd/bpb-vector-databases/my-python3-env/lib/python3.10/site-packages (from streamlit-faker>=0.0.2->streamlit-extras>=0.4->trulens-dashboard<2.0.0,>=1.0.0->trulens<2.0,>=1.0->trulens_eval) (3.8.3)\n",
      "Requirement already satisfied: appnope in /Users/rdua/work/github/rajdeepd/bpb-vector-databases/my-python3-env/lib/python3.10/site-packages (from ipykernel->jupyter<2,>=1->trulens-dashboard<2.0.0,>=1.0.0->trulens<2.0,>=1.0->trulens_eval) (0.1.4)\n",
      "Requirement already satisfied: debugpy>=1.6.5 in /Users/rdua/work/github/rajdeepd/bpb-vector-databases/my-python3-env/lib/python3.10/site-packages (from ipykernel->jupyter<2,>=1->trulens-dashboard<2.0.0,>=1.0.0->trulens<2.0,>=1.0->trulens_eval) (1.8.1)\n",
      "Requirement already satisfied: jupyter-client>=6.1.12 in /Users/rdua/work/github/rajdeepd/bpb-vector-databases/my-python3-env/lib/python3.10/site-packages (from ipykernel->jupyter<2,>=1->trulens-dashboard<2.0.0,>=1.0.0->trulens<2.0,>=1.0->trulens_eval) (8.6.1)\n",
      "Requirement already satisfied: jupyter-core!=5.0.*,>=4.12 in /Users/rdua/work/github/rajdeepd/bpb-vector-databases/my-python3-env/lib/python3.10/site-packages (from ipykernel->jupyter<2,>=1->trulens-dashboard<2.0.0,>=1.0.0->trulens<2.0,>=1.0->trulens_eval) (5.7.2)\n",
      "Requirement already satisfied: pyzmq>=24 in /Users/rdua/work/github/rajdeepd/bpb-vector-databases/my-python3-env/lib/python3.10/site-packages (from ipykernel->jupyter<2,>=1->trulens-dashboard<2.0.0,>=1.0.0->trulens<2.0,>=1.0->trulens_eval) (25.1.2)\n",
      "Requirement already satisfied: async-lru>=1.0.0 in /Users/rdua/work/github/rajdeepd/bpb-vector-databases/my-python3-env/lib/python3.10/site-packages (from jupyterlab->jupyter<2,>=1->trulens-dashboard<2.0.0,>=1.0.0->trulens<2.0,>=1.0->trulens_eval) (2.0.4)\n",
      "Requirement already satisfied: httpx>=0.25.0 in /Users/rdua/work/github/rajdeepd/bpb-vector-databases/my-python3-env/lib/python3.10/site-packages (from jupyterlab->jupyter<2,>=1->trulens-dashboard<2.0.0,>=1.0.0->trulens<2.0,>=1.0->trulens_eval) (0.27.0)\n",
      "Requirement already satisfied: jupyter-lsp>=2.0.0 in /Users/rdua/work/github/rajdeepd/bpb-vector-databases/my-python3-env/lib/python3.10/site-packages (from jupyterlab->jupyter<2,>=1->trulens-dashboard<2.0.0,>=1.0.0->trulens<2.0,>=1.0->trulens_eval) (2.2.5)\n",
      "Requirement already satisfied: jupyter-server<3,>=2.4.0 in /Users/rdua/work/github/rajdeepd/bpb-vector-databases/my-python3-env/lib/python3.10/site-packages (from jupyterlab->jupyter<2,>=1->trulens-dashboard<2.0.0,>=1.0.0->trulens<2.0,>=1.0->trulens_eval) (2.14.2)\n",
      "Requirement already satisfied: jupyterlab-server<3,>=2.27.1 in /Users/rdua/work/github/rajdeepd/bpb-vector-databases/my-python3-env/lib/python3.10/site-packages (from jupyterlab->jupyter<2,>=1->trulens-dashboard<2.0.0,>=1.0.0->trulens<2.0,>=1.0->trulens_eval) (2.27.3)\n",
      "Requirement already satisfied: notebook-shim>=0.2 in /Users/rdua/work/github/rajdeepd/bpb-vector-databases/my-python3-env/lib/python3.10/site-packages (from jupyterlab->jupyter<2,>=1->trulens-dashboard<2.0.0,>=1.0.0->trulens<2.0,>=1.0->trulens_eval) (0.2.4)\n",
      "Requirement already satisfied: setuptools>=40.1.0 in /Users/rdua/work/github/rajdeepd/bpb-vector-databases/my-python3-env/lib/python3.10/site-packages (from jupyterlab->jupyter<2,>=1->trulens-dashboard<2.0.0,>=1.0.0->trulens<2.0,>=1.0->trulens_eval) (69.1.1)\n",
      "Requirement already satisfied: tomli>=1.2.2 in /Users/rdua/work/github/rajdeepd/bpb-vector-databases/my-python3-env/lib/python3.10/site-packages (from jupyterlab->jupyter<2,>=1->trulens-dashboard<2.0.0,>=1.0.0->trulens<2.0,>=1.0->trulens_eval) (2.0.2)\n",
      "Requirement already satisfied: MarkupSafe>=0.9.2 in /Users/rdua/work/github/rajdeepd/bpb-vector-databases/my-python3-env/lib/python3.10/site-packages (from Mako->alembic<2.0.0,>=1.8.1->trulens-core<2.0.0,>=1.0.0->trulens-core[openai,otel,tqdm]<2.0.0,>=1.0.0->trulens<2.0,>=1.0->trulens_eval) (2.1.5)\n",
      "Requirement already satisfied: beautifulsoup4 in /Users/rdua/work/github/rajdeepd/bpb-vector-databases/my-python3-env/lib/python3.10/site-packages (from nbconvert->jupyter<2,>=1->trulens-dashboard<2.0.0,>=1.0.0->trulens<2.0,>=1.0->trulens_eval) (4.12.3)\n",
      "Requirement already satisfied: bleach!=5.0.0 in /Users/rdua/work/github/rajdeepd/bpb-vector-databases/my-python3-env/lib/python3.10/site-packages (from nbconvert->jupyter<2,>=1->trulens-dashboard<2.0.0,>=1.0.0->trulens<2.0,>=1.0->trulens_eval) (6.2.0)\n",
      "Requirement already satisfied: defusedxml in /Users/rdua/work/github/rajdeepd/bpb-vector-databases/my-python3-env/lib/python3.10/site-packages (from nbconvert->jupyter<2,>=1->trulens-dashboard<2.0.0,>=1.0.0->trulens<2.0,>=1.0->trulens_eval) (0.7.1)\n",
      "Requirement already satisfied: jupyterlab-pygments in /Users/rdua/work/github/rajdeepd/bpb-vector-databases/my-python3-env/lib/python3.10/site-packages (from nbconvert->jupyter<2,>=1->trulens-dashboard<2.0.0,>=1.0.0->trulens<2.0,>=1.0->trulens_eval) (0.3.0)\n",
      "Requirement already satisfied: mistune<4,>=2.0.3 in /Users/rdua/work/github/rajdeepd/bpb-vector-databases/my-python3-env/lib/python3.10/site-packages (from nbconvert->jupyter<2,>=1->trulens-dashboard<2.0.0,>=1.0.0->trulens<2.0,>=1.0->trulens_eval) (3.0.2)\n",
      "Requirement already satisfied: nbclient>=0.5.0 in /Users/rdua/work/github/rajdeepd/bpb-vector-databases/my-python3-env/lib/python3.10/site-packages (from nbconvert->jupyter<2,>=1->trulens-dashboard<2.0.0,>=1.0.0->trulens<2.0,>=1.0->trulens_eval) (0.10.0)\n",
      "Requirement already satisfied: nbformat>=5.7 in /Users/rdua/work/github/rajdeepd/bpb-vector-databases/my-python3-env/lib/python3.10/site-packages (from nbconvert->jupyter<2,>=1->trulens-dashboard<2.0.0,>=1.0.0->trulens<2.0,>=1.0->trulens_eval) (5.10.4)\n",
      "Requirement already satisfied: pandocfilters>=1.4.1 in /Users/rdua/work/github/rajdeepd/bpb-vector-databases/my-python3-env/lib/python3.10/site-packages (from nbconvert->jupyter<2,>=1->trulens-dashboard<2.0.0,>=1.0.0->trulens<2.0,>=1.0->trulens_eval) (1.5.1)\n",
      "Requirement already satisfied: tinycss2 in /Users/rdua/work/github/rajdeepd/bpb-vector-databases/my-python3-env/lib/python3.10/site-packages (from nbconvert->jupyter<2,>=1->trulens-dashboard<2.0.0,>=1.0.0->trulens<2.0,>=1.0->trulens_eval) (1.4.0)\n",
      "Requirement already satisfied: webencodings in /Users/rdua/work/github/rajdeepd/bpb-vector-databases/my-python3-env/lib/python3.10/site-packages (from bleach!=5.0.0->nbconvert->jupyter<2,>=1->trulens-dashboard<2.0.0,>=1.0.0->trulens<2.0,>=1.0->trulens_eval) (0.5.1)\n",
      "Requirement already satisfied: smmap<6,>=3.0.1 in /Users/rdua/work/github/rajdeepd/bpb-vector-databases/my-python3-env/lib/python3.10/site-packages (from gitdb<5,>=4.0.1->gitpython!=3.1.19,<4,>=3.0.7->streamlit<2.0,>=1.37->trulens-dashboard<2.0.0,>=1.0.0->trulens<2.0,>=1.0->trulens_eval) (5.0.1)\n",
      "Requirement already satisfied: anyio in /Users/rdua/work/github/rajdeepd/bpb-vector-databases/my-python3-env/lib/python3.10/site-packages (from httpx>=0.25.0->jupyterlab->jupyter<2,>=1->trulens-dashboard<2.0.0,>=1.0.0->trulens<2.0,>=1.0->trulens_eval) (4.4.0)\n",
      "Requirement already satisfied: httpcore==1.* in /Users/rdua/work/github/rajdeepd/bpb-vector-databases/my-python3-env/lib/python3.10/site-packages (from httpx>=0.25.0->jupyterlab->jupyter<2,>=1->trulens-dashboard<2.0.0,>=1.0.0->trulens<2.0,>=1.0->trulens_eval) (1.0.5)\n",
      "Requirement already satisfied: sniffio in /Users/rdua/work/github/rajdeepd/bpb-vector-databases/my-python3-env/lib/python3.10/site-packages (from httpx>=0.25.0->jupyterlab->jupyter<2,>=1->trulens-dashboard<2.0.0,>=1.0.0->trulens<2.0,>=1.0->trulens_eval) (1.3.1)\n",
      "Requirement already satisfied: h11<0.15,>=0.13 in /Users/rdua/work/github/rajdeepd/bpb-vector-databases/my-python3-env/lib/python3.10/site-packages (from httpcore==1.*->httpx>=0.25.0->jupyterlab->jupyter<2,>=1->trulens-dashboard<2.0.0,>=1.0.0->trulens<2.0,>=1.0->trulens_eval) (0.14.0)\n",
      "Requirement already satisfied: parso<0.9.0,>=0.8.3 in /Users/rdua/work/github/rajdeepd/bpb-vector-databases/my-python3-env/lib/python3.10/site-packages (from jedi>=0.16->ipython>=6.1.0->ipywidgets<9.0.0,>=8.1.2->trulens-dashboard<2.0.0,>=1.0.0->trulens<2.0,>=1.0->trulens_eval) (0.8.3)\n",
      "Requirement already satisfied: attrs>=22.2.0 in /Users/rdua/work/github/rajdeepd/bpb-vector-databases/my-python3-env/lib/python3.10/site-packages (from jsonschema>=3.0->altair<6,>=4.0->streamlit<2.0,>=1.37->trulens-dashboard<2.0.0,>=1.0.0->trulens<2.0,>=1.0->trulens_eval) (24.2.0)\n",
      "Requirement already satisfied: jsonschema-specifications>=2023.03.6 in /Users/rdua/work/github/rajdeepd/bpb-vector-databases/my-python3-env/lib/python3.10/site-packages (from jsonschema>=3.0->altair<6,>=4.0->streamlit<2.0,>=1.37->trulens-dashboard<2.0.0,>=1.0.0->trulens<2.0,>=1.0->trulens_eval) (2024.10.1)\n",
      "Requirement already satisfied: referencing>=0.28.4 in /Users/rdua/work/github/rajdeepd/bpb-vector-databases/my-python3-env/lib/python3.10/site-packages (from jsonschema>=3.0->altair<6,>=4.0->streamlit<2.0,>=1.37->trulens-dashboard<2.0.0,>=1.0.0->trulens<2.0,>=1.0->trulens_eval) (0.35.1)\n",
      "Requirement already satisfied: rpds-py>=0.7.1 in /Users/rdua/work/github/rajdeepd/bpb-vector-databases/my-python3-env/lib/python3.10/site-packages (from jsonschema>=3.0->altair<6,>=4.0->streamlit<2.0,>=1.37->trulens-dashboard<2.0.0,>=1.0.0->trulens<2.0,>=1.0->trulens_eval) (0.20.1)\n",
      "Requirement already satisfied: platformdirs>=2.5 in /Users/rdua/work/github/rajdeepd/bpb-vector-databases/my-python3-env/lib/python3.10/site-packages (from jupyter-core!=5.0.*,>=4.12->ipykernel->jupyter<2,>=1->trulens-dashboard<2.0.0,>=1.0.0->trulens<2.0,>=1.0->trulens_eval) (4.2.0)\n",
      "Requirement already satisfied: argon2-cffi>=21.1 in /Users/rdua/work/github/rajdeepd/bpb-vector-databases/my-python3-env/lib/python3.10/site-packages (from jupyter-server<3,>=2.4.0->jupyterlab->jupyter<2,>=1->trulens-dashboard<2.0.0,>=1.0.0->trulens<2.0,>=1.0->trulens_eval) (23.1.0)\n",
      "Requirement already satisfied: jupyter-events>=0.9.0 in /Users/rdua/work/github/rajdeepd/bpb-vector-databases/my-python3-env/lib/python3.10/site-packages (from jupyter-server<3,>=2.4.0->jupyterlab->jupyter<2,>=1->trulens-dashboard<2.0.0,>=1.0.0->trulens<2.0,>=1.0->trulens_eval) (0.10.0)\n",
      "Requirement already satisfied: jupyter-server-terminals>=0.4.4 in /Users/rdua/work/github/rajdeepd/bpb-vector-databases/my-python3-env/lib/python3.10/site-packages (from jupyter-server<3,>=2.4.0->jupyterlab->jupyter<2,>=1->trulens-dashboard<2.0.0,>=1.0.0->trulens<2.0,>=1.0->trulens_eval) (0.5.3)\n",
      "Requirement already satisfied: overrides>=5.0 in /Users/rdua/work/github/rajdeepd/bpb-vector-databases/my-python3-env/lib/python3.10/site-packages (from jupyter-server<3,>=2.4.0->jupyterlab->jupyter<2,>=1->trulens-dashboard<2.0.0,>=1.0.0->trulens<2.0,>=1.0->trulens_eval) (7.7.0)\n",
      "Requirement already satisfied: send2trash>=1.8.2 in /Users/rdua/work/github/rajdeepd/bpb-vector-databases/my-python3-env/lib/python3.10/site-packages (from jupyter-server<3,>=2.4.0->jupyterlab->jupyter<2,>=1->trulens-dashboard<2.0.0,>=1.0.0->trulens<2.0,>=1.0->trulens_eval) (1.8.3)\n",
      "Requirement already satisfied: terminado>=0.8.3 in /Users/rdua/work/github/rajdeepd/bpb-vector-databases/my-python3-env/lib/python3.10/site-packages (from jupyter-server<3,>=2.4.0->jupyterlab->jupyter<2,>=1->trulens-dashboard<2.0.0,>=1.0.0->trulens<2.0,>=1.0->trulens_eval) (0.18.1)\n",
      "Requirement already satisfied: websocket-client>=1.7 in /Users/rdua/work/github/rajdeepd/bpb-vector-databases/my-python3-env/lib/python3.10/site-packages (from jupyter-server<3,>=2.4.0->jupyterlab->jupyter<2,>=1->trulens-dashboard<2.0.0,>=1.0.0->trulens<2.0,>=1.0->trulens_eval) (1.8.0)\n",
      "Requirement already satisfied: babel>=2.10 in /Users/rdua/work/github/rajdeepd/bpb-vector-databases/my-python3-env/lib/python3.10/site-packages (from jupyterlab-server<3,>=2.27.1->jupyterlab->jupyter<2,>=1->trulens-dashboard<2.0.0,>=1.0.0->trulens<2.0,>=1.0->trulens_eval) (2.16.0)\n",
      "Requirement already satisfied: json5>=0.9.0 in /Users/rdua/work/github/rajdeepd/bpb-vector-databases/my-python3-env/lib/python3.10/site-packages (from jupyterlab-server<3,>=2.27.1->jupyterlab->jupyter<2,>=1->trulens-dashboard<2.0.0,>=1.0.0->trulens<2.0,>=1.0->trulens_eval) (0.9.25)\n",
      "Requirement already satisfied: fastjsonschema>=2.15 in /Users/rdua/work/github/rajdeepd/bpb-vector-databases/my-python3-env/lib/python3.10/site-packages (from nbformat>=5.7->nbconvert->jupyter<2,>=1->trulens-dashboard<2.0.0,>=1.0.0->trulens<2.0,>=1.0->trulens_eval) (2.20.0)\n",
      "Requirement already satisfied: ptyprocess>=0.5 in /Users/rdua/work/github/rajdeepd/bpb-vector-databases/my-python3-env/lib/python3.10/site-packages (from pexpect>4.3->ipython>=6.1.0->ipywidgets<9.0.0,>=8.1.2->trulens-dashboard<2.0.0,>=1.0.0->trulens<2.0,>=1.0->trulens_eval) (0.7.0)\n",
      "Requirement already satisfied: wcwidth in /Users/rdua/work/github/rajdeepd/bpb-vector-databases/my-python3-env/lib/python3.10/site-packages (from prompt-toolkit<3.1.0,>=3.0.41->ipython>=6.1.0->ipywidgets<9.0.0,>=8.1.2->trulens-dashboard<2.0.0,>=1.0.0->trulens<2.0,>=1.0->trulens_eval) (0.2.13)\n",
      "Requirement already satisfied: soupsieve>1.2 in /Users/rdua/work/github/rajdeepd/bpb-vector-databases/my-python3-env/lib/python3.10/site-packages (from beautifulsoup4->nbconvert->jupyter<2,>=1->trulens-dashboard<2.0.0,>=1.0.0->trulens<2.0,>=1.0->trulens_eval) (2.6)\n",
      "Requirement already satisfied: contourpy>=1.0.1 in /Users/rdua/work/github/rajdeepd/bpb-vector-databases/my-python3-env/lib/python3.10/site-packages (from matplotlib->streamlit-faker>=0.0.2->streamlit-extras>=0.4->trulens-dashboard<2.0.0,>=1.0.0->trulens<2.0,>=1.0->trulens_eval) (1.2.0)\n",
      "Requirement already satisfied: cycler>=0.10 in /Users/rdua/work/github/rajdeepd/bpb-vector-databases/my-python3-env/lib/python3.10/site-packages (from matplotlib->streamlit-faker>=0.0.2->streamlit-extras>=0.4->trulens-dashboard<2.0.0,>=1.0.0->trulens<2.0,>=1.0->trulens_eval) (0.12.1)\n",
      "Requirement already satisfied: fonttools>=4.22.0 in /Users/rdua/work/github/rajdeepd/bpb-vector-databases/my-python3-env/lib/python3.10/site-packages (from matplotlib->streamlit-faker>=0.0.2->streamlit-extras>=0.4->trulens-dashboard<2.0.0,>=1.0.0->trulens<2.0,>=1.0->trulens_eval) (4.50.0)\n",
      "Requirement already satisfied: kiwisolver>=1.3.1 in /Users/rdua/work/github/rajdeepd/bpb-vector-databases/my-python3-env/lib/python3.10/site-packages (from matplotlib->streamlit-faker>=0.0.2->streamlit-extras>=0.4->trulens-dashboard<2.0.0,>=1.0.0->trulens<2.0,>=1.0->trulens_eval) (1.4.5)\n",
      "Requirement already satisfied: pyparsing>=2.3.1 in /Users/rdua/work/github/rajdeepd/bpb-vector-databases/my-python3-env/lib/python3.10/site-packages (from matplotlib->streamlit-faker>=0.0.2->streamlit-extras>=0.4->trulens-dashboard<2.0.0,>=1.0.0->trulens<2.0,>=1.0->trulens_eval) (3.1.2)\n",
      "Requirement already satisfied: pyyaml in /Users/rdua/work/github/rajdeepd/bpb-vector-databases/my-python3-env/lib/python3.10/site-packages (from pymdown-extensions->markdownlit>=0.0.5->streamlit-extras>=0.4->trulens-dashboard<2.0.0,>=1.0.0->trulens<2.0,>=1.0->trulens_eval) (6.0.1)\n",
      "Requirement already satisfied: executing>=1.2.0 in /Users/rdua/work/github/rajdeepd/bpb-vector-databases/my-python3-env/lib/python3.10/site-packages (from stack-data->ipython>=6.1.0->ipywidgets<9.0.0,>=8.1.2->trulens-dashboard<2.0.0,>=1.0.0->trulens<2.0,>=1.0->trulens_eval) (2.0.1)\n",
      "Requirement already satisfied: asttokens>=2.1.0 in /Users/rdua/work/github/rajdeepd/bpb-vector-databases/my-python3-env/lib/python3.10/site-packages (from stack-data->ipython>=6.1.0->ipywidgets<9.0.0,>=8.1.2->trulens-dashboard<2.0.0,>=1.0.0->trulens<2.0,>=1.0->trulens_eval) (2.4.1)\n",
      "Requirement already satisfied: pure-eval in /Users/rdua/work/github/rajdeepd/bpb-vector-databases/my-python3-env/lib/python3.10/site-packages (from stack-data->ipython>=6.1.0->ipywidgets<9.0.0,>=8.1.2->trulens-dashboard<2.0.0,>=1.0.0->trulens<2.0,>=1.0->trulens_eval) (0.2.2)\n",
      "Requirement already satisfied: argon2-cffi-bindings in /Users/rdua/work/github/rajdeepd/bpb-vector-databases/my-python3-env/lib/python3.10/site-packages (from argon2-cffi>=21.1->jupyter-server<3,>=2.4.0->jupyterlab->jupyter<2,>=1->trulens-dashboard<2.0.0,>=1.0.0->trulens<2.0,>=1.0->trulens_eval) (21.2.0)\n",
      "Requirement already satisfied: python-json-logger>=2.0.4 in /Users/rdua/work/github/rajdeepd/bpb-vector-databases/my-python3-env/lib/python3.10/site-packages (from jupyter-events>=0.9.0->jupyter-server<3,>=2.4.0->jupyterlab->jupyter<2,>=1->trulens-dashboard<2.0.0,>=1.0.0->trulens<2.0,>=1.0->trulens_eval) (2.0.7)\n",
      "Requirement already satisfied: rfc3339-validator in /Users/rdua/work/github/rajdeepd/bpb-vector-databases/my-python3-env/lib/python3.10/site-packages (from jupyter-events>=0.9.0->jupyter-server<3,>=2.4.0->jupyterlab->jupyter<2,>=1->trulens-dashboard<2.0.0,>=1.0.0->trulens<2.0,>=1.0->trulens_eval) (0.1.4)\n",
      "Requirement already satisfied: rfc3986-validator>=0.1.1 in /Users/rdua/work/github/rajdeepd/bpb-vector-databases/my-python3-env/lib/python3.10/site-packages (from jupyter-events>=0.9.0->jupyter-server<3,>=2.4.0->jupyterlab->jupyter<2,>=1->trulens-dashboard<2.0.0,>=1.0.0->trulens<2.0,>=1.0->trulens_eval) (0.1.1)\n",
      "Requirement already satisfied: fqdn in /Users/rdua/work/github/rajdeepd/bpb-vector-databases/my-python3-env/lib/python3.10/site-packages (from jsonschema[format-nongpl]>=4.18.0->jupyter-events>=0.9.0->jupyter-server<3,>=2.4.0->jupyterlab->jupyter<2,>=1->trulens-dashboard<2.0.0,>=1.0.0->trulens<2.0,>=1.0->trulens_eval) (1.5.1)\n",
      "Requirement already satisfied: isoduration in /Users/rdua/work/github/rajdeepd/bpb-vector-databases/my-python3-env/lib/python3.10/site-packages (from jsonschema[format-nongpl]>=4.18.0->jupyter-events>=0.9.0->jupyter-server<3,>=2.4.0->jupyterlab->jupyter<2,>=1->trulens-dashboard<2.0.0,>=1.0.0->trulens<2.0,>=1.0->trulens_eval) (20.11.0)\n",
      "Requirement already satisfied: jsonpointer>1.13 in /Users/rdua/work/github/rajdeepd/bpb-vector-databases/my-python3-env/lib/python3.10/site-packages (from jsonschema[format-nongpl]>=4.18.0->jupyter-events>=0.9.0->jupyter-server<3,>=2.4.0->jupyterlab->jupyter<2,>=1->trulens-dashboard<2.0.0,>=1.0.0->trulens<2.0,>=1.0->trulens_eval) (3.0.0)\n",
      "Requirement already satisfied: uri-template in /Users/rdua/work/github/rajdeepd/bpb-vector-databases/my-python3-env/lib/python3.10/site-packages (from jsonschema[format-nongpl]>=4.18.0->jupyter-events>=0.9.0->jupyter-server<3,>=2.4.0->jupyterlab->jupyter<2,>=1->trulens-dashboard<2.0.0,>=1.0.0->trulens<2.0,>=1.0->trulens_eval) (1.3.0)\n",
      "Requirement already satisfied: webcolors>=24.6.0 in /Users/rdua/work/github/rajdeepd/bpb-vector-databases/my-python3-env/lib/python3.10/site-packages (from jsonschema[format-nongpl]>=4.18.0->jupyter-events>=0.9.0->jupyter-server<3,>=2.4.0->jupyterlab->jupyter<2,>=1->trulens-dashboard<2.0.0,>=1.0.0->trulens<2.0,>=1.0->trulens_eval) (24.8.0)\n",
      "Requirement already satisfied: cffi>=1.0.1 in /Users/rdua/work/github/rajdeepd/bpb-vector-databases/my-python3-env/lib/python3.10/site-packages (from argon2-cffi-bindings->argon2-cffi>=21.1->jupyter-server<3,>=2.4.0->jupyterlab->jupyter<2,>=1->trulens-dashboard<2.0.0,>=1.0.0->trulens<2.0,>=1.0->trulens_eval) (1.17.1)\n",
      "Requirement already satisfied: pycparser in /Users/rdua/work/github/rajdeepd/bpb-vector-databases/my-python3-env/lib/python3.10/site-packages (from cffi>=1.0.1->argon2-cffi-bindings->argon2-cffi>=21.1->jupyter-server<3,>=2.4.0->jupyterlab->jupyter<2,>=1->trulens-dashboard<2.0.0,>=1.0.0->trulens<2.0,>=1.0->trulens_eval) (2.22)\n",
      "Requirement already satisfied: arrow>=0.15.0 in /Users/rdua/work/github/rajdeepd/bpb-vector-databases/my-python3-env/lib/python3.10/site-packages (from isoduration->jsonschema[format-nongpl]>=4.18.0->jupyter-events>=0.9.0->jupyter-server<3,>=2.4.0->jupyterlab->jupyter<2,>=1->trulens-dashboard<2.0.0,>=1.0.0->trulens<2.0,>=1.0->trulens_eval) (1.3.0)\n",
      "Requirement already satisfied: types-python-dateutil>=2.8.10 in /Users/rdua/work/github/rajdeepd/bpb-vector-databases/my-python3-env/lib/python3.10/site-packages (from arrow>=0.15.0->isoduration->jsonschema[format-nongpl]>=4.18.0->jupyter-events>=0.9.0->jupyter-server<3,>=2.4.0->jupyterlab->jupyter<2,>=1->trulens-dashboard<2.0.0,>=1.0.0->trulens<2.0,>=1.0->trulens_eval) (2.9.0.20241003)\n",
      "\n",
      "\u001b[1m[\u001b[0m\u001b[34;49mnotice\u001b[0m\u001b[1;39;49m]\u001b[0m\u001b[39;49m A new release of pip is available: \u001b[0m\u001b[31;49m24.0\u001b[0m\u001b[39;49m -> \u001b[0m\u001b[32;49m24.3.1\u001b[0m\n",
      "\u001b[1m[\u001b[0m\u001b[34;49mnotice\u001b[0m\u001b[1;39;49m]\u001b[0m\u001b[39;49m To update, run: \u001b[0m\u001b[32;49mpip install --upgrade pip\u001b[0m\n"
     ]
    }
   ],
   "source": [
    "#!pip install trulens\n",
    "!pip install trulens_eval"
   ]
  },
  {
   "cell_type": "code",
   "execution_count": 5,
   "id": "feb98470-c136-471d-a63e-d50d8eb09c57",
   "metadata": {
    "height": 98,
    "tags": []
   },
   "outputs": [
    {
     "ename": "ModuleNotFoundError",
     "evalue": "No module named 'trulens_eval'",
     "output_type": "error",
     "traceback": [
      "\u001b[0;31m---------------------------------------------------------------------------\u001b[0m",
      "\u001b[0;31mModuleNotFoundError\u001b[0m                       Traceback (most recent call last)",
      "Cell \u001b[0;32mIn[5], line 1\u001b[0m\n\u001b[0;32m----> 1\u001b[0m \u001b[38;5;28;01mimport\u001b[39;00m \u001b[38;5;21;01mutils\u001b[39;00m\n\u001b[1;32m      3\u001b[0m \u001b[38;5;28;01mimport\u001b[39;00m \u001b[38;5;21;01mos\u001b[39;00m\n\u001b[1;32m      4\u001b[0m \u001b[38;5;28;01mimport\u001b[39;00m \u001b[38;5;21;01mopenai\u001b[39;00m\n",
      "File \u001b[0;32m~/work/github/rajdeepd/bpb-vector-databases/chapter9/utils.py:8\u001b[0m\n\u001b[1;32m      5\u001b[0m \u001b[38;5;28;01mfrom\u001b[39;00m \u001b[38;5;21;01mdotenv\u001b[39;00m \u001b[38;5;28;01mimport\u001b[39;00m load_dotenv, find_dotenv\n\u001b[1;32m      7\u001b[0m \u001b[38;5;28;01mimport\u001b[39;00m \u001b[38;5;21;01mnumpy\u001b[39;00m \u001b[38;5;28;01mas\u001b[39;00m \u001b[38;5;21;01mnp\u001b[39;00m\n\u001b[0;32m----> 8\u001b[0m \u001b[38;5;28;01mfrom\u001b[39;00m \u001b[38;5;21;01mtrulens_eval\u001b[39;00m \u001b[38;5;28;01mimport\u001b[39;00m (\n\u001b[1;32m      9\u001b[0m     Feedback,\n\u001b[1;32m     10\u001b[0m     TruLlama,\n\u001b[1;32m     11\u001b[0m     OpenAI\n\u001b[1;32m     12\u001b[0m )\n\u001b[1;32m     14\u001b[0m \u001b[38;5;28;01mfrom\u001b[39;00m \u001b[38;5;21;01mtrulens_eval\u001b[39;00m\u001b[38;5;21;01m.\u001b[39;00m\u001b[38;5;21;01mfeedback\u001b[39;00m \u001b[38;5;28;01mimport\u001b[39;00m Groundedness\n\u001b[1;32m     15\u001b[0m \u001b[38;5;28;01mimport\u001b[39;00m \u001b[38;5;21;01mnest_asyncio\u001b[39;00m\n",
      "\u001b[0;31mModuleNotFoundError\u001b[0m: No module named 'trulens_eval'"
     ]
    }
   ],
   "source": [
    "import utils\n",
    "\n",
    "import os\n",
    "import openai\n",
    "openai.api_key = utils.get_openai_api_key()"
   ]
  },
  {
   "cell_type": "code",
   "execution_count": 3,
   "id": "31e2859b-596e-40b3-867b-f4d6e91f74bc",
   "metadata": {
    "height": 98,
    "tags": []
   },
   "outputs": [],
   "source": [
    "from llama_index import SimpleDirectoryReader\n",
    "\n",
    "documents = SimpleDirectoryReader(\n",
    "    input_files=[\"./eBook-How-to-Build-a-Career-in-AI.pdf\"]\n",
    ").load_data()"
   ]
  },
  {
   "cell_type": "code",
   "execution_count": 4,
   "id": "2d7d0857-b9d1-4feb-8243-bfd2f4953acd",
   "metadata": {
    "height": 81,
    "tags": []
   },
   "outputs": [
    {
     "name": "stdout",
     "output_type": "stream",
     "text": [
      "<class 'list'> \n",
      "\n",
      "41 \n",
      "\n",
      "<class 'llama_index.schema.Document'>\n",
      "Doc ID: e45b0b08-be8c-4ff8-8fdc-4956eb319e84\n",
      "Text: PAGE 1Founder, DeepLearning.AICollected Insights from Andrew Ng\n",
      "How to  Build Your Career in AIA Simple Guide\n"
     ]
    }
   ],
   "source": [
    "print(type(documents), \"\\n\")\n",
    "print(len(documents), \"\\n\")\n",
    "print(type(documents[0]))\n",
    "print(documents[0])"
   ]
  },
  {
   "cell_type": "markdown",
   "id": "f3123d3d",
   "metadata": {},
   "source": [
    "## Basic RAG pipeline"
   ]
  },
  {
   "cell_type": "code",
   "execution_count": 5,
   "id": "b4abc806-64f5-46bb-8c9f-6469ecb18d20",
   "metadata": {
    "height": 64,
    "tags": []
   },
   "outputs": [],
   "source": [
    "from llama_index import Document\n",
    "\n",
    "document = Document(text=\"\\n\\n\".join([doc.text for doc in documents]))"
   ]
  },
  {
   "cell_type": "code",
   "execution_count": 6,
   "id": "afc2baff-5e8b-4733-9899-16f248777b23",
   "metadata": {
    "height": 183,
    "tags": []
   },
   "outputs": [
    {
     "data": {
      "application/vnd.jupyter.widget-view+json": {
       "model_id": "0bee096f21464568ae43be9aeef3e523",
       "version_major": 2,
       "version_minor": 0
      },
      "text/plain": [
       "config.json:   0%|          | 0.00/743 [00:00<?, ?B/s]"
      ]
     },
     "metadata": {},
     "output_type": "display_data"
    },
    {
     "data": {
      "application/vnd.jupyter.widget-view+json": {
       "model_id": "dc4425676c994d04a2372b0233138dd2",
       "version_major": 2,
       "version_minor": 0
      },
      "text/plain": [
       "model.safetensors:   0%|          | 0.00/133M [00:00<?, ?B/s]"
      ]
     },
     "metadata": {},
     "output_type": "display_data"
    },
    {
     "data": {
      "application/vnd.jupyter.widget-view+json": {
       "model_id": "29bc2b256a4746b19d54c5d75753e4b9",
       "version_major": 2,
       "version_minor": 0
      },
      "text/plain": [
       "tokenizer_config.json:   0%|          | 0.00/366 [00:00<?, ?B/s]"
      ]
     },
     "metadata": {},
     "output_type": "display_data"
    },
    {
     "data": {
      "application/vnd.jupyter.widget-view+json": {
       "model_id": "3bbef09a7de44d489a739b4a5237add7",
       "version_major": 2,
       "version_minor": 0
      },
      "text/plain": [
       "vocab.txt:   0%|          | 0.00/232k [00:00<?, ?B/s]"
      ]
     },
     "metadata": {},
     "output_type": "display_data"
    },
    {
     "data": {
      "application/vnd.jupyter.widget-view+json": {
       "model_id": "96a3ed495aca4b2db577fa9c444591ec",
       "version_major": 2,
       "version_minor": 0
      },
      "text/plain": [
       "tokenizer.json:   0%|          | 0.00/711k [00:00<?, ?B/s]"
      ]
     },
     "metadata": {},
     "output_type": "display_data"
    },
    {
     "data": {
      "application/vnd.jupyter.widget-view+json": {
       "model_id": "a913acda4083488b923686ab1b6872d7",
       "version_major": 2,
       "version_minor": 0
      },
      "text/plain": [
       "special_tokens_map.json:   0%|          | 0.00/125 [00:00<?, ?B/s]"
      ]
     },
     "metadata": {},
     "output_type": "display_data"
    },
    {
     "name": "stderr",
     "output_type": "stream",
     "text": [
      "[nltk_data] Downloading package punkt to /tmp/llama_index...\n",
      "[nltk_data]   Unzipping tokenizers/punkt.zip.\n"
     ]
    }
   ],
   "source": [
    "from llama_index import VectorStoreIndex\n",
    "from llama_index import ServiceContext\n",
    "from llama_index.llms import OpenAI\n",
    "\n",
    "llm = OpenAI(model=\"gpt-3.5-turbo\", temperature=0.1)\n",
    "service_context = ServiceContext.from_defaults(\n",
    "    llm=llm, embed_model=\"local:BAAI/bge-small-en-v1.5\"\n",
    ")\n",
    "index = VectorStoreIndex.from_documents([document],\n",
    "                                        service_context=service_context)"
   ]
  },
  {
   "cell_type": "code",
   "execution_count": 7,
   "id": "ae52a26c-7d0c-44df-8043-4c7f19f794b9",
   "metadata": {
    "height": 30,
    "tags": []
   },
   "outputs": [],
   "source": [
    "query_engine = index.as_query_engine()"
   ]
  },
  {
   "cell_type": "code",
   "execution_count": 8,
   "id": "6b0d5b6e-cc2e-4648-b28c-5fa25a97d175",
   "metadata": {
    "height": 81,
    "tags": []
   },
   "outputs": [
    {
     "name": "stdout",
     "output_type": "stream",
     "text": [
      "Develop a side hustle, ensure the project will help you grow technically, collaborate with good teammates, and consider if the project can be a stepping stone to larger projects.\n"
     ]
    }
   ],
   "source": [
    "response = query_engine.query(\n",
    "    \"What are steps to take when finding projects to build your experience?\"\n",
    ")\n",
    "print(str(response))"
   ]
  },
  {
   "cell_type": "markdown",
   "id": "e50a1ac5",
   "metadata": {},
   "source": [
    "## Evaluation setup using TruLens"
   ]
  },
  {
   "cell_type": "code",
   "execution_count": null,
   "id": "0ead7dc1-71b2-4001-918f-bf8d610fd3fd",
   "metadata": {
    "height": 132,
    "tags": []
   },
   "outputs": [],
   "source": [
    "eval_questions = []\n",
    "with open('eval_questions.txt', 'r') as file:\n",
    "    for line in file:\n",
    "        # Remove newline character and convert to integer\n",
    "        item = line.strip()\n",
    "        print(item)\n",
    "        eval_questions.append(item)"
   ]
  },
  {
   "cell_type": "code",
   "execution_count": null,
   "id": "87a278f8",
   "metadata": {
    "height": 64
   },
   "outputs": [],
   "source": [
    "# You can try your own question:\n",
    "new_question = \"What is the right AI job for me?\"\n",
    "eval_questions.append(new_question)"
   ]
  },
  {
   "cell_type": "code",
   "execution_count": null,
   "id": "8d5204e8",
   "metadata": {
    "height": 30
   },
   "outputs": [],
   "source": [
    "print(eval_questions)"
   ]
  },
  {
   "cell_type": "code",
   "execution_count": null,
   "id": "c063c9c7-bf1e-4b24-9a22-d4281c0f954e",
   "metadata": {
    "height": 81,
    "tags": []
   },
   "outputs": [],
   "source": [
    "from trulens_eval import Tru\n",
    "tru = Tru()\n",
    "\n",
    "tru.reset_database()"
   ]
  },
  {
   "cell_type": "markdown",
   "id": "03802825-6ce4-4563-aeec-d8d57e095ad1",
   "metadata": {},
   "source": [
    "For the classroom, we've written some of the code in helper functions inside a utils.py file.  \n",
    "- You can view the utils.py file in the file directory by clicking on the \"Jupyter\" logo at the top of the notebook.\n",
    "- In later lessons, you'll get to work directly with the code that's currently wrapped inside these helper functions, to give you more options to customize your RAG pipeline."
   ]
  },
  {
   "cell_type": "code",
   "execution_count": null,
   "id": "4f754bed-d16f-4c8d-a1a1-b36096272570",
   "metadata": {
    "height": 81,
    "tags": []
   },
   "outputs": [],
   "source": [
    "from utils import get_prebuilt_trulens_recorder\n",
    "\n",
    "tru_recorder = get_prebuilt_trulens_recorder(query_engine,\n",
    "                                             app_id=\"Direct Query Engine\")"
   ]
  },
  {
   "cell_type": "code",
   "execution_count": null,
   "id": "4dbdfbcc-aac7-4805-9894-4fc016c66bf6",
   "metadata": {
    "height": 64,
    "tags": []
   },
   "outputs": [],
   "source": [
    "with tru_recorder as recording:\n",
    "    for question in eval_questions:\n",
    "        response = query_engine.query(question)"
   ]
  },
  {
   "cell_type": "code",
   "execution_count": null,
   "id": "e14f512b-601c-42d0-bfac-bf41d9c577e7",
   "metadata": {
    "height": 30,
    "tags": []
   },
   "outputs": [],
   "source": [
    "records, feedback = tru.get_records_and_feedback(app_ids=[])"
   ]
  },
  {
   "cell_type": "code",
   "execution_count": null,
   "id": "2da4a602-0d56-4bf8-9fa6-03ef0b7e254b",
   "metadata": {
    "height": 30,
    "tags": []
   },
   "outputs": [],
   "source": [
    "records.head()"
   ]
  },
  {
   "cell_type": "code",
   "execution_count": null,
   "id": "64310897-179b-4081-aab8-f08a3392a078",
   "metadata": {
    "height": 47,
    "tags": []
   },
   "outputs": [],
   "source": [
    "# launches on http://localhost:8501/\n",
    "tru.run_dashboard()"
   ]
  },
  {
   "cell_type": "markdown",
   "id": "a4eedcef",
   "metadata": {},
   "source": [
    "## Advanced RAG pipeline"
   ]
  },
  {
   "cell_type": "markdown",
   "id": "9a17ea2b",
   "metadata": {},
   "source": [
    "### 1. Sentence Window retrieval"
   ]
  },
  {
   "cell_type": "code",
   "execution_count": null,
   "id": "dae4a668-3699-4750-82f7-e53ae1bca3a7",
   "metadata": {
    "height": 64,
    "tags": []
   },
   "outputs": [],
   "source": [
    "from llama_index.llms import OpenAI\n",
    "\n",
    "llm = OpenAI(model=\"gpt-3.5-turbo\", temperature=0.1)"
   ]
  },
  {
   "cell_type": "code",
   "execution_count": null,
   "id": "78f7678f-358d-448d-b153-11ac8e96a7fc",
   "metadata": {
    "height": 149,
    "tags": []
   },
   "outputs": [],
   "source": [
    "from utils import build_sentence_window_index\n",
    "\n",
    "sentence_index = build_sentence_window_index(\n",
    "    document,\n",
    "    llm,\n",
    "    embed_model=\"local:BAAI/bge-small-en-v1.5\",\n",
    "    save_dir=\"sentence_index\"\n",
    ")"
   ]
  },
  {
   "cell_type": "code",
   "execution_count": null,
   "id": "72f904c3-9845-4df5-9d2e-e5115160f987",
   "metadata": {
    "height": 64,
    "tags": []
   },
   "outputs": [],
   "source": [
    "from utils import get_sentence_window_query_engine\n",
    "\n",
    "sentence_window_engine = get_sentence_window_query_engine(sentence_index)"
   ]
  },
  {
   "cell_type": "code",
   "execution_count": null,
   "id": "f59e2314-7cac-42f4-a552-9a8e4db641eb",
   "metadata": {
    "height": 81,
    "tags": []
   },
   "outputs": [],
   "source": [
    "window_response = sentence_window_engine.query(\n",
    "    \"how do I get started on a personal project in AI?\"\n",
    ")\n",
    "print(str(window_response))"
   ]
  },
  {
   "cell_type": "code",
   "execution_count": null,
   "id": "b5c10917-8846-4e73-838d-6232c906a7db",
   "metadata": {
    "height": 115,
    "tags": []
   },
   "outputs": [],
   "source": [
    "tru.reset_database()\n",
    "\n",
    "tru_recorder_sentence_window = get_prebuilt_trulens_recorder(\n",
    "    sentence_window_engine,\n",
    "    app_id = \"Sentence Window Query Engine\"\n",
    ")"
   ]
  },
  {
   "cell_type": "code",
   "execution_count": null,
   "id": "11710e67-aba8-479e-8585-c4c611e2c1d2",
   "metadata": {
    "height": 98,
    "tags": []
   },
   "outputs": [],
   "source": [
    "for question in eval_questions:\n",
    "    with tru_recorder_sentence_window as recording:\n",
    "        response = sentence_window_engine.query(question)\n",
    "        print(question)\n",
    "        print(str(response))"
   ]
  },
  {
   "cell_type": "code",
   "execution_count": null,
   "id": "869d1e55-729b-45f2-a0f9-773c49d4616f",
   "metadata": {
    "height": 30,
    "tags": []
   },
   "outputs": [],
   "source": [
    "tru.get_leaderboard(app_ids=[])"
   ]
  },
  {
   "cell_type": "code",
   "execution_count": null,
   "id": "0b92d0f2-2e80-48d5-92af-b3655eb03ea2",
   "metadata": {
    "height": 47,
    "tags": []
   },
   "outputs": [],
   "source": [
    "# launches on http://localhost:8501/\n",
    "tru.run_dashboard()"
   ]
  },
  {
   "cell_type": "markdown",
   "id": "a92e2c55",
   "metadata": {},
   "source": [
    "### 2. Auto-merging retrieval"
   ]
  },
  {
   "cell_type": "code",
   "execution_count": null,
   "id": "558c639b-31eb-4c34-b6c4-fe6ae5717733",
   "metadata": {
    "height": 149,
    "tags": []
   },
   "outputs": [],
   "source": [
    "from utils import build_automerging_index\n",
    "\n",
    "automerging_index = build_automerging_index(\n",
    "    documents,\n",
    "    llm,\n",
    "    embed_model=\"local:BAAI/bge-small-en-v1.5\",\n",
    "    save_dir=\"merging_index\"\n",
    ")"
   ]
  },
  {
   "cell_type": "code",
   "execution_count": null,
   "id": "b32265f2-0247-42df-9abe-97d52f69edcf",
   "metadata": {
    "height": 98,
    "tags": []
   },
   "outputs": [],
   "source": [
    "from utils import get_automerging_query_engine\n",
    "\n",
    "automerging_query_engine = get_automerging_query_engine(\n",
    "    automerging_index,\n",
    ")"
   ]
  },
  {
   "cell_type": "code",
   "execution_count": null,
   "id": "918ed568-220e-4c7c-aa60-cfa58ef1fcbd",
   "metadata": {
    "height": 81,
    "tags": []
   },
   "outputs": [],
   "source": [
    "auto_merging_response = automerging_query_engine.query(\n",
    "    \"How do I build a portfolio of AI projects?\"\n",
    ")\n",
    "print(str(auto_merging_response))"
   ]
  },
  {
   "cell_type": "code",
   "execution_count": null,
   "id": "db4f18a9-7b8a-4ae2-ab11-3a6a941a5afc",
   "metadata": {
    "height": 81,
    "tags": []
   },
   "outputs": [],
   "source": [
    "tru.reset_database()\n",
    "\n",
    "tru_recorder_automerging = get_prebuilt_trulens_recorder(automerging_query_engine,\n",
    "                                                         app_id=\"Automerging Query Engine\")"
   ]
  },
  {
   "cell_type": "code",
   "execution_count": null,
   "id": "99cc2cfe-7096-4fa0-aa72-094bebac35a3",
   "metadata": {
    "height": 98,
    "tags": []
   },
   "outputs": [],
   "source": [
    "for question in eval_questions:\n",
    "    with tru_recorder_automerging as recording:\n",
    "        response = automerging_query_engine.query(question)\n",
    "        print(question)\n",
    "        print(response)"
   ]
  },
  {
   "cell_type": "code",
   "execution_count": null,
   "id": "5404dec1-60ca-42fa-ac13-793a5423aa64",
   "metadata": {
    "height": 30,
    "tags": []
   },
   "outputs": [],
   "source": [
    "tru.get_leaderboard(app_ids=[])"
   ]
  },
  {
   "cell_type": "code",
   "execution_count": null,
   "id": "0f545d41-0d98-446f-8214-8b59bef08d6c",
   "metadata": {
    "height": 47,
    "tags": []
   },
   "outputs": [],
   "source": [
    "# launches on http://localhost:8501/\n",
    "tru.run_dashboard()"
   ]
  }
 ],
 "metadata": {
  "kernelspec": {
   "display_name": "my-python3-aug-2024-kernel",
   "language": "python",
   "name": "my-python3-aug-2024-kernel"
  },
  "language_info": {
   "codemirror_mode": {
    "name": "ipython",
    "version": 3
   },
   "file_extension": ".py",
   "mimetype": "text/x-python",
   "name": "python",
   "nbconvert_exporter": "python",
   "pygments_lexer": "ipython3",
   "version": "3.10.8"
  }
 },
 "nbformat": 4,
 "nbformat_minor": 5
}
