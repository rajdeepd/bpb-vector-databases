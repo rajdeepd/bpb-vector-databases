{
 "cells": [
  {
   "cell_type": "code",
   "execution_count": 10,
   "id": "3a335e27-574d-4f21-8c2f-56bee1eaf16a",
   "metadata": {},
   "outputs": [],
   "source": [
    "from langchain_community.document_loaders import WebBaseLoader\n",
    "from langchain_text_splitters import RecursiveCharacterTextSplitter\n",
    "\n",
    "loader = WebBaseLoader(\"https://lilianweng.github.io/posts/2023-06-23-agent/\")\n",
    "data = loader.load()\n",
    "\n",
    "text_splitter = RecursiveCharacterTextSplitter(chunk_size=500, chunk_overlap=0)\n",
    "all_splits = text_splitter.split_documents(data)"
   ]
  },
  {
   "cell_type": "code",
   "execution_count": 11,
   "id": "d99b4456-9b42-4405-9f33-3d65317bd07d",
   "metadata": {},
   "outputs": [],
   "source": [
    "from langchain_chroma import Chroma\n",
    "from langchain_ollama import OllamaEmbeddings\n",
    "\n",
    "local_embeddings = OllamaEmbeddings(model=\"nomic-embed-text\")\n",
    "\n",
    "vectorstore = Chroma.from_documents(documents=all_splits, embedding=local_embeddings)"
   ]
  },
  {
   "cell_type": "code",
   "execution_count": 23,
   "id": "02047c1f-99dc-4f7d-bb95-7cd65bd438c4",
   "metadata": {},
   "outputs": [],
   "source": [
    "search_response = vectorstore.search(\"What are the approaches to Task Decomposition?\",search_type='similarity')[0]"
   ]
  },
  {
   "cell_type": "code",
   "execution_count": 24,
   "id": "77cbb515-41c2-42a2-80e2-0975caddd662",
   "metadata": {},
   "outputs": [
    {
     "data": {
      "text/plain": [
       "langchain_core.documents.base.Document"
      ]
     },
     "execution_count": 24,
     "metadata": {},
     "output_type": "execute_result"
    }
   ],
   "source": [
    "type(search_response)"
   ]
  },
  {
   "cell_type": "code",
   "execution_count": 20,
   "id": "12e0e689-27aa-4a82-b467-a70c33ec36dd",
   "metadata": {},
   "outputs": [
    {
     "data": {
      "text/plain": [
       "'Task decomposition can be done (1) by LLM with simple prompting like \"Steps for XYZ.\\\\n1.\", \"What are the subgoals for achieving XYZ?\", (2) by using task-specific instructions; e.g. \"Write a story outline.\" for writing a novel, or (3) with human inputs.'"
      ]
     },
     "execution_count": 20,
     "metadata": {},
     "output_type": "execute_result"
    }
   ],
   "source": [
    "search_response.page_content"
   ]
  },
  {
   "cell_type": "code",
   "execution_count": null,
   "id": "cd4ad54b-4bd9-4aa3-beef-47877c30aa67",
   "metadata": {},
   "outputs": [],
   "source": []
  }
 ],
 "metadata": {
  "kernelspec": {
   "display_name": "my-python3-aug-2024-kernel",
   "language": "python",
   "name": "my-python3-aug-2024-kernel"
  },
  "language_info": {
   "codemirror_mode": {
    "name": "ipython",
    "version": 3
   },
   "file_extension": ".py",
   "mimetype": "text/x-python",
   "name": "python",
   "nbconvert_exporter": "python",
   "pygments_lexer": "ipython3",
   "version": "3.10.8"
  }
 },
 "nbformat": 4,
 "nbformat_minor": 5
}
