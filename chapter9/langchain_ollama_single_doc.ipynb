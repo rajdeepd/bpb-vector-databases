{
 "cells": [
  {
   "cell_type": "code",
   "execution_count": 2,
   "id": "537b2b55-719a-4ae9-afc1-468d689d0976",
   "metadata": {},
   "outputs": [],
   "source": [
    "#!pip install -U langchain_ollama"
   ]
  },
  {
   "cell_type": "code",
   "execution_count": 5,
   "id": "709aaf7b-eb71-49b7-bbd4-bbbcb72cf97b",
   "metadata": {},
   "outputs": [],
   "source": [
    "from langchain_ollama import OllamaEmbeddings\n",
    "\n",
    "embed = OllamaEmbeddings(\n",
    "    model=\"llama3.1\"\n",
    ")"
   ]
  },
  {
   "cell_type": "code",
   "execution_count": 6,
   "id": "b3bd06ac-5ddd-4bdd-9296-e13aec67ebdd",
   "metadata": {},
   "outputs": [
    {
     "name": "stdout",
     "output_type": "stream",
     "text": [
      "[0.012155907, 0.0027446463, 0.009533216]\n"
     ]
    }
   ],
   "source": [
    "input_text = \"The meaning of life is 42\"\n",
    "vector = embed.embed_query(input_text)\n",
    "print(vector[:3])"
   ]
  },
  {
   "cell_type": "code",
   "execution_count": 7,
   "id": "adfb3790-1626-4d8c-a7d1-ab1682b69fdd",
   "metadata": {},
   "outputs": [
    {
     "name": "stdout",
     "output_type": "stream",
     "text": [
      "4096\n"
     ]
    }
   ],
   "source": [
    "print(len(vector))"
   ]
  },
  {
   "cell_type": "code",
   "execution_count": null,
   "id": "fe0ebbfd-c174-4b3f-9393-503315c08ce8",
   "metadata": {},
   "outputs": [],
   "source": []
  }
 ],
 "metadata": {
  "kernelspec": {
   "display_name": "my-python3-aug-2024-kernel",
   "language": "python",
   "name": "my-python3-aug-2024-kernel"
  },
  "language_info": {
   "codemirror_mode": {
    "name": "ipython",
    "version": 3
   },
   "file_extension": ".py",
   "mimetype": "text/x-python",
   "name": "python",
   "nbconvert_exporter": "python",
   "pygments_lexer": "ipython3",
   "version": "3.10.8"
  }
 },
 "nbformat": 4,
 "nbformat_minor": 5
}
