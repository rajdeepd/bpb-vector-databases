{
 "cells": [
  {
   "cell_type": "markdown",
   "id": "4c544729-3aac-4981-a1e1-ab1bc538f2c0",
   "metadata": {},
   "source": [
    "# Recursive Text Splitter"
   ]
  },
  {
   "cell_type": "markdown",
   "id": "e65c9e70-6246-4e01-83ab-0b92911d6e50",
   "metadata": {},
   "source": [
    "To begin, we'll explore two of the most common text splitters in LangChain: the recursive character text splitter and the character text splitter. We'll experiment with some simple examples to understand how they function. For this, we'll set a relatively small chunk size of 26 and an even smaller chunk overlap of 4, allowing us to clearly observe their behavior.\n",
    "\n",
    "Let's initialize these text splitters as R splitter and C splitter, respectively. Then, we'll examine a few different use cases to see how each performs"
   ]
  },
  {
   "cell_type": "code",
   "execution_count": null,
   "id": "6ec67b5f-4892-41b6-80fd-e9b539242f4a",
   "metadata": {},
   "outputs": [],
   "source": [
    "from langchain.text_splitter import RecursiveCharacterTextSplitter, CharacterTextSplitter"
   ]
  },
  {
   "cell_type": "code",
   "execution_count": 2,
   "id": "d438008b-6ecb-4a69-8cd5-acd7f9ea2bd4",
   "metadata": {},
   "outputs": [],
   "source": [
    "chunk_size =26\n",
    "chunk_overlap = 4\n",
    "\n",
    "r_splitter = RecursiveCharacterTextSplitter(\n",
    "    chunk_size=chunk_size,\n",
    "    chunk_overlap=chunk_overlap\n",
    ")\n",
    "c_splitter = CharacterTextSplitter(\n",
    "    chunk_size=chunk_size,\n",
    "    chunk_overlap=chunk_overlap\n",
    ")"
   ]
  },
  {
   "cell_type": "code",
   "execution_count": 14,
   "id": "cd6cc26a-dc44-4eca-b50f-e437b449d37b",
   "metadata": {},
   "outputs": [],
   "source": [
    "text1 = 'zyxwvutsrqponmlkjihgfedcba'"
   ]
  },
  {
   "cell_type": "code",
   "execution_count": 15,
   "id": "8f947536-e73f-4dd8-9758-750d2d7d31d4",
   "metadata": {},
   "outputs": [
    {
     "data": {
      "text/plain": [
       "['zyxwvutsrqponmlkjihgfedcbazyxwvutsr']"
      ]
     },
     "execution_count": 15,
     "metadata": {},
     "output_type": "execute_result"
    }
   ],
   "source": [
    "text2 = 'zyxwvutsrqponmlkjihgfedcbazyxwvutsr'\n",
    "r_splitter.split_text(text2)"
   ]
  },
  {
   "cell_type": "code",
   "execution_count": 18,
   "id": "cb20684e-6afe-4298-adbb-8e6e82003636",
   "metadata": {},
   "outputs": [
    {
     "data": {
      "text/plain": [
       "['z y x w v u t s r q p o n m l k j i h g f e d c b a']"
      ]
     },
     "execution_count": 18,
     "metadata": {},
     "output_type": "execute_result"
    }
   ],
   "source": [
    "text3 = \"z y x w v u t s r q p o n m l k j i h g f e d c b a\"\n",
    "r_splitter.split_text(text3)"
   ]
  },
  {
   "cell_type": "code",
   "execution_count": 19,
   "id": "114fb54c-2ca3-4425-84a2-81404c79c089",
   "metadata": {},
   "outputs": [
    {
     "data": {
      "text/plain": [
       "['z y x w v u t s r q p o n', 'o n m l k j i h g f e d c', 'd c b a']"
      ]
     },
     "execution_count": 19,
     "metadata": {},
     "output_type": "execute_result"
    }
   ],
   "source": [
    "c_splitter = CharacterTextSplitter(\n",
    "    chunk_size=chunk_size,\n",
    "    chunk_overlap=chunk_overlap,\n",
    "    separator = ' '\n",
    ")\n",
    "c_splitter.split_text(text3)"
   ]
  },
  {
   "cell_type": "markdown",
   "id": "ac14dcac-465d-413c-b3a0-be6c73053279",
   "metadata": {},
   "source": [
    "## Deep dive into Recursive Splitter"
   ]
  },
  {
   "cell_type": "code",
   "execution_count": 7,
   "id": "4c9718c3-504e-4418-ab39-5c98c3152368",
   "metadata": {},
   "outputs": [],
   "source": [
    "text =\"As the global community confronts the urgent issue of climate change, renewable energy stands out as a promising solution. Solar \\\n",
    "       and wind energy, in particular, are reshaping the energy sector, providing eco-friendly alternatives to conventional fossil fuels. \\\n",
    "     Nations and corporations worldwide are committing to clean energy projects to curb carbon emissions and lessen environmental harm.\\n\\n \\\n",
    "     The transition to renewable sources not only tackles ecological challenges but also drives technological advancement, paving the way \\\n",
    "     for a more sustainable and prosperous future for future generations\""
   ]
  },
  {
   "cell_type": "code",
   "execution_count": 8,
   "id": "d6888c69-d68c-4160-8ee1-14ffa18dbe12",
   "metadata": {},
   "outputs": [],
   "source": [
    "# CharacterTextSplitter\n",
    "c_splitter = CharacterTextSplitter(\n",
    "    chunk_size=450,\n",
    "    chunk_overlap=0,\n",
    "    separator = ' '\n",
    ")\n",
    "\n",
    "# RecursiveCharacterTextSplitter\n",
    "\n",
    "r_splitter = RecursiveCharacterTextSplitter(\n",
    "    chunk_size=450,\n",
    "    chunk_overlap=0, \n",
    "    separators=[\"\\n\\n\", \"\\n\", \" \", \"\"]\n",
    ")"
   ]
  },
  {
   "cell_type": "markdown",
   "id": "5e0838e6-15cb-4a86-8284-004512d7d2d2",
   "metadata": {},
   "source": [
    "For the Recursive Character Text Splitter, we have passed a list of separators. This list is double newline, single newline, space, and then nothing, an empty string.\n",
    "\n",
    "This means that when you’re splitting a piece of text it will first try to split it by double newlines. Then, if it still needs to split the individual chunks more it will go on to single newlines. Then, if it still needs to do more it goes on to the space. Finally, it will go character by character if it really needs to do that.\n",
    "\n",
    "Let's apply these two splitters to the text above and look at how they perform."
   ]
  },
  {
   "cell_type": "code",
   "execution_count": 9,
   "id": "f9fcd58d-ba7b-49ee-9e12-f959e3538275",
   "metadata": {},
   "outputs": [
    {
     "data": {
      "text/plain": [
       "['As the global community confronts the urgent issue of climate change, renewable energy stands out as a promising solution. Solar and wind energy, in particular, are reshaping the energy sector, providing eco-friendly alternatives to conventional fossil fuels. Nations and corporations worldwide are committing to clean energy projects to curb carbon emissions and lessen environmental harm.\\n\\n The transition to renewable sources not only tackles',\n",
       " 'ecological challenges but also drives technological advancement, paving the way for a more sustainable and prosperous future for future generations']"
      ]
     },
     "execution_count": 9,
     "metadata": {},
     "output_type": "execute_result"
    }
   ],
   "source": [
    "c_splitter.split_text(text)"
   ]
  },
  {
   "cell_type": "code",
   "execution_count": 10,
   "id": "a7b0cd82-680b-4c34-96f9-bb12acf983e5",
   "metadata": {},
   "outputs": [
    {
     "data": {
      "text/plain": [
       "['As the global community confronts the urgent issue of climate change, renewable energy stands out as a promising solution. Solar        and wind energy, in particular, are reshaping the energy sector, providing eco-friendly alternatives to conventional fossil fuels.      Nations and corporations worldwide are committing to clean energy projects to curb carbon emissions and lessen environmental harm.',\n",
       " 'The transition to renewable sources not only tackles ecological challenges but also drives technological advancement, paving the way      for a more sustainable and prosperous future for future generations']"
      ]
     },
     "execution_count": 10,
     "metadata": {},
     "output_type": "execute_result"
    }
   ],
   "source": [
    "r_splitter.split_text(text)"
   ]
  },
  {
   "cell_type": "markdown",
   "id": "323362ee-52ae-42d0-a1e2-7795cb54da13",
   "metadata": {},
   "source": [
    "Now Let us split it into even smaller chunks to get a better understanding of how it works. We will also add a period separator. This addition is aimed at splitting in between sentences."
   ]
  },
  {
   "cell_type": "code",
   "execution_count": 11,
   "id": "f1d6a0f1-4209-4309-8a4f-f243ae98000a",
   "metadata": {},
   "outputs": [
    {
     "data": {
      "text/plain": [
       "['As the global community confronts the urgent issue of climate change, renewable energy stands out as a promising solution. Solar        and wind',\n",
       " 'energy, in particular, are reshaping the energy sector, providing eco-friendly alternatives to conventional fossil fuels.      Nations and',\n",
       " 'corporations worldwide are committing to clean energy projects to curb carbon emissions and lessen environmental harm.',\n",
       " 'The transition to renewable sources not only tackles ecological challenges but also drives technological advancement, paving the way      for a',\n",
       " 'more sustainable and prosperous future for future generations']"
      ]
     },
     "execution_count": 11,
     "metadata": {},
     "output_type": "execute_result"
    }
   ],
   "source": [
    "r_splitter = RecursiveCharacterTextSplitter(\n",
    "    chunk_size=150,\n",
    "    chunk_overlap=0,\n",
    "    separators=[\"\\n\\n\", \"\\n\", \"\\. \", \" \", \"\"]\n",
    ")\n",
    "r_splitter.split_text(text)"
   ]
  },
  {
   "cell_type": "markdown",
   "id": "5d272148-421d-4a4a-a8b4-da7f359a0ee7",
   "metadata": {},
   "source": [
    "We can see that the text is split into sentences, but the periods are incorrectly placed due to the underlying regex processing. To resolve this, we can specify a more advanced regex pattern using a lookbehind. By doing so, we can properly split the text into sentences with the periods correctly positioned. Now, when we run the code, the sentences are correctly separated, and the periods are placed in the right locations"
   ]
  },
  {
   "cell_type": "code",
   "execution_count": 13,
   "id": "029ed1d7-6aee-4217-b4db-b700862696a7",
   "metadata": {},
   "outputs": [
    {
     "data": {
      "text/plain": [
       "['As the global community confronts the urgent issue of climate change, renewable energy stands out as a promising solution. Solar        and wind',\n",
       " 'energy, in particular, are reshaping the energy sector, providing eco-friendly alternatives to conventional fossil fuels.      Nations and',\n",
       " 'corporations worldwide are committing to clean energy projects to curb carbon emissions and lessen environmental harm.',\n",
       " 'The transition to renewable sources not only tackles ecological challenges but also drives technological advancement, paving the way      for a',\n",
       " 'more sustainable and prosperous future for future generations']"
      ]
     },
     "execution_count": 13,
     "metadata": {},
     "output_type": "execute_result"
    }
   ],
   "source": [
    "r_splitter = RecursiveCharacterTextSplitter(\n",
    "    chunk_size=150,\n",
    "    chunk_overlap=0,\n",
    "    separators=[\"\\n\\n\", \"\\n\", \"(?<=\\. )\", \" \", \"\"]\n",
    ")\n",
    "r_splitter.split_text(text)"
   ]
  },
  {
   "cell_type": "code",
   "execution_count": null,
   "id": "3e8657ce-111b-481d-bc38-2a3912e0b022",
   "metadata": {},
   "outputs": [],
   "source": []
  }
 ],
 "metadata": {
  "kernelspec": {
   "display_name": "my-python3-aug-2024-kernel",
   "language": "python",
   "name": "my-python3-aug-2024-kernel"
  },
  "language_info": {
   "codemirror_mode": {
    "name": "ipython",
    "version": 3
   },
   "file_extension": ".py",
   "mimetype": "text/x-python",
   "name": "python",
   "nbconvert_exporter": "python",
   "pygments_lexer": "ipython3",
   "version": "3.10.8"
  }
 },
 "nbformat": 4,
 "nbformat_minor": 5
}
