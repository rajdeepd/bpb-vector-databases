{
 "cells": [
  {
   "cell_type": "markdown",
   "id": "76664f2c",
   "metadata": {
    "id": "76664f2c"
   },
   "source": [
    "<a href=\"https://colab.research.google.com/github/run-llama/llama_index/blob/main/docs/docs/examples/usecases/10k_sub_question.ipynb\" target=\"_parent\"><img src=\"https://colab.research.google.com/assets/colab-badge.svg\" alt=\"Open In Colab\"/></a>"
   ]
  },
  {
   "cell_type": "markdown",
   "id": "0f67904b-5fd6-443f-bf10-d49a69b25fcd",
   "metadata": {
    "id": "0f67904b-5fd6-443f-bf10-d49a69b25fcd"
   },
   "source": [
    "# 10K Analysis\n",
    "In this demo, we explore answering complex queries by decomposing them into simpler sub-queries."
   ]
  },
  {
   "cell_type": "markdown",
   "id": "f288c1af",
   "metadata": {
    "id": "f288c1af"
   },
   "source": [
    "If you're opening this Notebook on colab, you will probably need to install LlamaIndex 🦙."
   ]
  },
  {
   "cell_type": "code",
   "execution_count": 24,
   "id": "cfc3c897",
   "metadata": {
    "id": "cfc3c897"
   },
   "outputs": [],
   "source": [
    "%pip install -q llama-index-llms-openai"
   ]
  },
  {
   "cell_type": "code",
   "execution_count": 2,
   "id": "9828e56d",
   "metadata": {
    "colab": {
     "base_uri": "https://localhost:8080/"
    },
    "id": "9828e56d",
    "outputId": "900ec17e-4ab8-41e3-b584-b7e8e1459dee"
   },
   "outputs": [
    {
     "name": "stdout",
     "output_type": "stream",
     "text": [
      "\u001b[2K   \u001b[90m━━━━━━━━━━━━━━━━━━━━━━━━━━━━━━━━━━━━━━━━\u001b[0m \u001b[32m1.2/1.2 MB\u001b[0m \u001b[31m24.9 MB/s\u001b[0m eta \u001b[36m0:00:00\u001b[0m\n",
      "\u001b[2K   \u001b[90m━━━━━━━━━━━━━━━━━━━━━━━━━━━━━━━━━━━━━━━━\u001b[0m \u001b[32m176.8/176.8 kB\u001b[0m \u001b[31m7.4 MB/s\u001b[0m eta \u001b[36m0:00:00\u001b[0m\n",
      "\u001b[2K   \u001b[90m━━━━━━━━━━━━━━━━━━━━━━━━━━━━━━━━━━━━━━━━\u001b[0m \u001b[32m295.8/295.8 kB\u001b[0m \u001b[31m15.7 MB/s\u001b[0m eta \u001b[36m0:00:00\u001b[0m\n",
      "\u001b[?25h"
     ]
    }
   ],
   "source": [
    "!pip install -q llama-index"
   ]
  },
  {
   "cell_type": "code",
   "execution_count": 3,
   "id": "cdf1e9b6-0f51-49df-a11d-50ba6a014f4d",
   "metadata": {
    "id": "cdf1e9b6-0f51-49df-a11d-50ba6a014f4d"
   },
   "outputs": [],
   "source": [
    "import nest_asyncio\n",
    "\n",
    "nest_asyncio.apply()"
   ]
  },
  {
   "cell_type": "code",
   "execution_count": 4,
   "id": "09fbec4c-1864-4d76-9dbf-3d213ba58fc8",
   "metadata": {
    "id": "09fbec4c-1864-4d76-9dbf-3d213ba58fc8"
   },
   "outputs": [],
   "source": [
    "from llama_index.core import SimpleDirectoryReader, VectorStoreIndex\n",
    "from llama_index.llms.openai import OpenAI\n",
    "\n",
    "from llama_index.core.tools import QueryEngineTool, ToolMetadata\n",
    "from llama_index.core.query_engine import SubQuestionQueryEngine"
   ]
  },
  {
   "cell_type": "code",
   "execution_count": 5,
   "id": "lahlYEps56aI",
   "metadata": {
    "id": "lahlYEps56aI"
   },
   "outputs": [],
   "source": [
    "from google.colab import userdata\n",
    "my_secret_key = userdata.get('OPENAI_API_KEY')"
   ]
  },
  {
   "cell_type": "markdown",
   "id": "c743f504-f28c-4802-89b6-ad152b74b0eb",
   "metadata": {
    "id": "c743f504-f28c-4802-89b6-ad152b74b0eb"
   },
   "source": [
    "## Configure LLM service"
   ]
  },
  {
   "cell_type": "code",
   "execution_count": 6,
   "id": "4c052250",
   "metadata": {
    "id": "4c052250"
   },
   "outputs": [],
   "source": [
    "import os\n",
    "\n",
    "os.environ[\"OPENAI_API_KEY\"] = my_secret_key"
   ]
  },
  {
   "cell_type": "code",
   "execution_count": 7,
   "id": "c4ec8b0a-d5fa-4f74-a2cc-5cc52e009bc6",
   "metadata": {
    "id": "c4ec8b0a-d5fa-4f74-a2cc-5cc52e009bc6"
   },
   "outputs": [],
   "source": [
    "from llama_index.core import Settings\n",
    "\n",
    "Settings.llm = OpenAI(temperature=0.2, model=\"gpt-3.5-turbo\")"
   ]
  },
  {
   "cell_type": "markdown",
   "id": "8c69f38a",
   "metadata": {
    "id": "8c69f38a"
   },
   "source": [
    "## Download Data"
   ]
  },
  {
   "cell_type": "code",
   "execution_count": 8,
   "id": "7db55c79",
   "metadata": {
    "colab": {
     "base_uri": "https://localhost:8080/"
    },
    "id": "7db55c79",
    "outputId": "1cf0fe3d-7a9e-4763-95b0-8ba61ac3c2a1"
   },
   "outputs": [
    {
     "name": "stdout",
     "output_type": "stream",
     "text": [
      "--2024-11-04 06:41:20--  https://raw.githubusercontent.com/run-llama/llama_index/main/docs/docs/examples/data/10k/uber_2021.pdf\n",
      "Resolving raw.githubusercontent.com (raw.githubusercontent.com)... 185.199.108.133, 185.199.110.133, 185.199.111.133, ...\n",
      "Connecting to raw.githubusercontent.com (raw.githubusercontent.com)|185.199.108.133|:443... connected.\n",
      "HTTP request sent, awaiting response... 200 OK\n",
      "Length: 1880483 (1.8M) [application/octet-stream]\n",
      "Saving to: ‘data/10k/uber_2021.pdf’\n",
      "\n",
      "data/10k/uber_2021. 100%[===================>]   1.79M  --.-KB/s    in 0.04s   \n",
      "\n",
      "2024-11-04 06:41:21 (46.5 MB/s) - ‘data/10k/uber_2021.pdf’ saved [1880483/1880483]\n",
      "\n",
      "--2024-11-04 06:41:21--  https://raw.githubusercontent.com/run-llama/llama_index/main/docs/docs/examples/data/10k/lyft_2021.pdf\n",
      "Resolving raw.githubusercontent.com (raw.githubusercontent.com)... 185.199.108.133, 185.199.109.133, 185.199.110.133, ...\n",
      "Connecting to raw.githubusercontent.com (raw.githubusercontent.com)|185.199.108.133|:443... connected.\n",
      "HTTP request sent, awaiting response... 200 OK\n",
      "Length: 1440303 (1.4M) [application/octet-stream]\n",
      "Saving to: ‘data/10k/lyft_2021.pdf’\n",
      "\n",
      "data/10k/lyft_2021. 100%[===================>]   1.37M  --.-KB/s    in 0.04s   \n",
      "\n",
      "2024-11-04 06:41:21 (32.0 MB/s) - ‘data/10k/lyft_2021.pdf’ saved [1440303/1440303]\n",
      "\n"
     ]
    }
   ],
   "source": [
    "!mkdir -p 'data/10k/'\n",
    "!wget 'https://raw.githubusercontent.com/run-llama/llama_index/main/docs/docs/examples/data/10k/uber_2021.pdf' -O 'data/10k/uber_2021.pdf'\n",
    "!wget 'https://raw.githubusercontent.com/run-llama/llama_index/main/docs/docs/examples/data/10k/lyft_2021.pdf' -O 'data/10k/lyft_2021.pdf'"
   ]
  },
  {
   "cell_type": "markdown",
   "id": "71fddd07-ff4c-44d4-82af-64e2e416e853",
   "metadata": {
    "id": "71fddd07-ff4c-44d4-82af-64e2e416e853"
   },
   "source": [
    "## Load data"
   ]
  },
  {
   "cell_type": "code",
   "execution_count": 9,
   "id": "dd0ba028-1e70-4164-8af1-5f1df0ea76a9",
   "metadata": {
    "id": "dd0ba028-1e70-4164-8af1-5f1df0ea76a9"
   },
   "outputs": [],
   "source": [
    "lyft_docs = SimpleDirectoryReader(\n",
    "    input_files=[\"./data/10k/lyft_2021.pdf\"]\n",
    ").load_data()\n",
    "uber_docs = SimpleDirectoryReader(\n",
    "    input_files=[\"./data/10k/uber_2021.pdf\"]\n",
    ").load_data()"
   ]
  },
  {
   "cell_type": "code",
   "execution_count": 11,
   "id": "iZ9jXuyD7SJo",
   "metadata": {
    "colab": {
     "base_uri": "https://localhost:8080/"
    },
    "id": "iZ9jXuyD7SJo",
    "outputId": "2a582713-64c0-4726-b6f8-024fa73e13d9"
   },
   "outputs": [
    {
     "data": {
      "text/plain": [
       "238"
      ]
     },
     "execution_count": 11,
     "metadata": {},
     "output_type": "execute_result"
    }
   ],
   "source": [
    "len (lyft_docs)"
   ]
  },
  {
   "cell_type": "markdown",
   "id": "fd122d0d-2da6-4f46-aa2a-8a0049ad8694",
   "metadata": {
    "id": "fd122d0d-2da6-4f46-aa2a-8a0049ad8694"
   },
   "source": [
    "## Build indices"
   ]
  },
  {
   "cell_type": "code",
   "execution_count": 12,
   "id": "1e0b6e4c-2255-42cf-be88-0fe75a945d85",
   "metadata": {
    "id": "1e0b6e4c-2255-42cf-be88-0fe75a945d85"
   },
   "outputs": [],
   "source": [
    "lyft_index = VectorStoreIndex.from_documents(lyft_docs)"
   ]
  },
  {
   "cell_type": "code",
   "execution_count": 13,
   "id": "a606df9c-ed2d-46fb-943e-ac47d24ba412",
   "metadata": {
    "colab": {
     "base_uri": "https://localhost:8080/"
    },
    "id": "a606df9c-ed2d-46fb-943e-ac47d24ba412",
    "outputId": "027e4922-336d-489d-ddbc-24d7ebf8836f"
   },
   "outputs": [
    {
     "name": "stderr",
     "output_type": "stream",
     "text": [
      "WARNING:llama_index.embeddings.openai.utils:Retrying llama_index.embeddings.openai.base.get_embeddings in 0.2098239378506116 seconds as it raised RateLimitError: Error code: 429 - {'error': {'message': 'You exceeded your current quota, please check your plan and billing details. For more information on this error, read the docs: https://platform.openai.com/docs/guides/error-codes/api-errors.', 'type': 'insufficient_quota', 'param': None, 'code': 'insufficient_quota'}}.\n"
     ]
    }
   ],
   "source": [
    "uber_index = VectorStoreIndex.from_documents(uber_docs)"
   ]
  },
  {
   "cell_type": "markdown",
   "id": "668dffa8-1eb3-4209-913a-ed7debe7bee8",
   "metadata": {
    "id": "668dffa8-1eb3-4209-913a-ed7debe7bee8"
   },
   "source": [
    "## Build query engines"
   ]
  },
  {
   "cell_type": "code",
   "execution_count": 14,
   "id": "82466534-c3d8-4619-ab1b-4abcd05c8ba7",
   "metadata": {
    "id": "82466534-c3d8-4619-ab1b-4abcd05c8ba7"
   },
   "outputs": [],
   "source": [
    "lyft_engine = lyft_index.as_query_engine(similarity_top_k=3)"
   ]
  },
  {
   "cell_type": "code",
   "execution_count": 15,
   "id": "ff449977-2c7c-433f-b303-ff1d7b66c7b3",
   "metadata": {
    "id": "ff449977-2c7c-433f-b303-ff1d7b66c7b3"
   },
   "outputs": [],
   "source": [
    "uber_engine = uber_index.as_query_engine(similarity_top_k=3)"
   ]
  },
  {
   "cell_type": "code",
   "execution_count": 16,
   "id": "8775650f-b164-478c-8129-9a8e6a0cdc97",
   "metadata": {
    "id": "8775650f-b164-478c-8129-9a8e6a0cdc97"
   },
   "outputs": [],
   "source": [
    "query_engine_tools = [\n",
    "    QueryEngineTool(\n",
    "        query_engine=lyft_engine,\n",
    "        metadata=ToolMetadata(\n",
    "            name=\"lyft_10k\",\n",
    "            description=(\n",
    "                \"Provides information about Lyft financials for year 2021\"\n",
    "            ),\n",
    "        ),\n",
    "    ),\n",
    "    QueryEngineTool(\n",
    "        query_engine=uber_engine,\n",
    "        metadata=ToolMetadata(\n",
    "            name=\"uber_10k\",\n",
    "            description=(\n",
    "                \"Provides information about Uber financials for year 2021\"\n",
    "            ),\n",
    "        ),\n",
    "    ),\n",
    "]\n",
    "\n",
    "s_engine = SubQuestionQueryEngine.from_defaults(\n",
    "    query_engine_tools=query_engine_tools\n",
    ")"
   ]
  },
  {
   "cell_type": "markdown",
   "id": "6981caf5-38bb-4d5e-9068-b4874c62bfc9",
   "metadata": {
    "id": "6981caf5-38bb-4d5e-9068-b4874c62bfc9"
   },
   "source": [
    "## Run queries"
   ]
  },
  {
   "cell_type": "code",
   "execution_count": 20,
   "id": "edd4bbb7-eef9-4b53-b05d-f91033635ac2",
   "metadata": {
    "colab": {
     "base_uri": "https://localhost:8080/"
    },
    "id": "edd4bbb7-eef9-4b53-b05d-f91033635ac2",
    "outputId": "cb98787f-e6bb-496f-8ba5-0ac43f7edee3"
   },
   "outputs": [
    {
     "name": "stdout",
     "output_type": "stream",
     "text": [
      "Generated 4 sub questions.\n",
      "\u001b[1;3;38;2;237;90;200m[lyft_10k] Q: What were the customer segments that grew the fastest for Lyft in 2021?\n",
      "\u001b[0m\u001b[1;3;38;2;90;149;237m[lyft_10k] Q: What were the geographies that grew the fastest for Lyft in 2021?\n",
      "\u001b[0m\u001b[1;3;38;2;11;159;203m[uber_10k] Q: What were the customer segments that grew the fastest for Uber in 2021?\n",
      "\u001b[0m\u001b[1;3;38;2;155;135;227m[uber_10k] Q: What were the geographies that grew the fastest for Uber in 2021?\n",
      "\u001b[0m\u001b[1;3;38;2;155;135;227m[uber_10k] A: Chicago, Miami, New York City in the United States, Sao Paulo in Brazil, and London in the United Kingdom were the geographies that grew the fastest for Uber in 2021.\n",
      "\u001b[0m\u001b[1;3;38;2;237;90;200m[lyft_10k] A: The customer segments that grew the fastest for Lyft in 2021 were likely those related to their network of Light Vehicles, as well as their bike and scooter sharing services.\n",
      "\u001b[0m"
     ]
    },
    {
     "name": "stderr",
     "output_type": "stream",
     "text": [
      "WARNING:llama_index.llms.openai.utils:Retrying llama_index.llms.openai.base.OpenAI._achat in 0.19437924472253432 seconds as it raised RateLimitError: Error code: 429 - {'error': {'message': 'You exceeded your current quota, please check your plan and billing details. For more information on this error, read the docs: https://platform.openai.com/docs/guides/error-codes/api-errors.', 'type': 'insufficient_quota', 'param': None, 'code': 'insufficient_quota'}}.\n"
     ]
    },
    {
     "name": "stdout",
     "output_type": "stream",
     "text": [
      "\u001b[1;3;38;2;11;159;203m[uber_10k] A: The customer segments that grew the fastest for Uber in 2021 were the membership programs, specifically Uber One, Uber Pass, Eats Pass, and Rides Pass.\n",
      "\u001b[0m\u001b[1;3;38;2;90;149;237m[lyft_10k] A: The geographies that grew the fastest for Lyft in 2021 were the communities that fully reopened as vaccines were more widely distributed, resulting in a 36% increase in revenue compared to the prior year and a 49.2% increase in the number of Active Riders in the fourth quarter of 2021 compared to the fourth quarter of 2020.\n",
      "\u001b[0m"
     ]
    }
   ],
   "source": [
    "response = s_engine.query(\n",
    "    \"Compare and contrast the customer segments and geographies that grew the\"\n",
    "    \" fastest\"\n",
    ")"
   ]
  },
  {
   "cell_type": "code",
   "execution_count": 21,
   "id": "b631d68b-dd17-4afd-9ed7-da0131041c8b",
   "metadata": {
    "colab": {
     "base_uri": "https://localhost:8080/"
    },
    "id": "b631d68b-dd17-4afd-9ed7-da0131041c8b",
    "outputId": "2675f9a4-8f7d-4fa3-9455-6415f89b62a9"
   },
   "outputs": [
    {
     "name": "stdout",
     "output_type": "stream",
     "text": [
      "The customer segments that experienced the fastest growth for Lyft in 2021 were likely related to their network of Light Vehicles, bike, and scooter sharing services. In contrast, Uber saw the fastest growth in customer segments through membership programs such as Uber One, Uber Pass, Eats Pass, and Rides Pass.\n",
      "\n",
      "Regarding the geographies that grew the fastest, Lyft experienced growth in communities that fully reopened as vaccines became more widely distributed, resulting in increased revenue and active riders. On the other hand, Uber's fastest-growing geographies in 2021 were Chicago, Miami, New York City in the United States, Sao Paulo in Brazil, and London in the United Kingdom.\n"
     ]
    }
   ],
   "source": [
    "print(response)"
   ]
  },
  {
   "cell_type": "code",
   "execution_count": 22,
   "id": "6bbbdd5b-0076-48c8-b233-e2ba43d7a6de",
   "metadata": {
    "colab": {
     "base_uri": "https://localhost:8080/"
    },
    "id": "6bbbdd5b-0076-48c8-b233-e2ba43d7a6de",
    "outputId": "5b6bfa53-9753-4b81-9464-99e5ae91262b"
   },
   "outputs": [
    {
     "name": "stdout",
     "output_type": "stream",
     "text": [
      "Generated 4 sub questions.\n",
      "\u001b[1;3;38;2;237;90;200m[uber_10k] Q: What was the revenue of Uber in 2020?\n",
      "\u001b[0m\u001b[1;3;38;2;90;149;237m[uber_10k] Q: What was the revenue of Uber in 2021?\n",
      "\u001b[0m\u001b[1;3;38;2;11;159;203m[lyft_10k] Q: What was the revenue of Lyft in 2020?\n",
      "\u001b[0m\u001b[1;3;38;2;155;135;227m[lyft_10k] Q: What was the revenue of Lyft in 2021?\n",
      "\u001b[0m\u001b[1;3;38;2;90;149;237m[uber_10k] A: The revenue of Uber in 2021 was $17,455 million.\n",
      "\u001b[0m\u001b[1;3;38;2;155;135;227m[lyft_10k] A: $3,208,323\n",
      "\u001b[0m\u001b[1;3;38;2;11;159;203m[lyft_10k] A: Lyft's revenue in 2020 was $2,364,681.\n",
      "\u001b[0m\u001b[1;3;38;2;237;90;200m[uber_10k] A: $11,139\n",
      "\u001b[0m"
     ]
    }
   ],
   "source": [
    "response = s_engine.query(\n",
    "    \"Compare revenue growth of Uber and Lyft from 2020 to 2021\"\n",
    ")"
   ]
  },
  {
   "cell_type": "code",
   "execution_count": 23,
   "id": "fadf421e-5938-4031-81df-cfbfd347b674",
   "metadata": {
    "colab": {
     "base_uri": "https://localhost:8080/"
    },
    "id": "fadf421e-5938-4031-81df-cfbfd347b674",
    "outputId": "bf551c21-d3cc-4f8e-89e9-a571d383572a"
   },
   "outputs": [
    {
     "name": "stdout",
     "output_type": "stream",
     "text": [
      "Uber's revenue grew by $6,316 million from 2020 to 2021, while Lyft's revenue increased by $843,642 from 2020 to 2021.\n"
     ]
    }
   ],
   "source": [
    "print(response)"
   ]
  }
 ],
 "metadata": {
  "colab": {
   "provenance": []
  },
  "kernelspec": {
   "display_name": "Python 3 (ipykernel)",
   "language": "python",
   "name": "python3"
  },
  "language_info": {
   "codemirror_mode": {
    "name": "ipython",
    "version": 3
   },
   "file_extension": ".py",
   "mimetype": "text/x-python",
   "name": "python",
   "nbconvert_exporter": "python",
   "pygments_lexer": "ipython3",
   "version": "3.10.8"
  }
 },
 "nbformat": 4,
 "nbformat_minor": 5
}
