{
 "cells": [
  {
   "cell_type": "code",
   "execution_count": 4,
   "id": "f69843ed-caf2-4989-9599-636aa8cdcff3",
   "metadata": {},
   "outputs": [
    {
     "name": "stdout",
     "output_type": "stream",
     "text": [
      "Collecting ipython-ngql\n",
      "  Downloading ipython_ngql-0.14.3-py3-none-any.whl.metadata (11 kB)\n",
      "Requirement already satisfied: Jinja2 in /Users/rdua/work/github/rajdeepd/bpb-vector-databases/my-python3-env/lib/python3.10/site-packages (from ipython-ngql) (3.1.3)\n",
      "Requirement already satisfied: nebula3-python>=3.8.0 in /Users/rdua/work/github/rajdeepd/bpb-vector-databases/my-python3-env/lib/python3.10/site-packages (from ipython-ngql) (3.8.3)\n",
      "Requirement already satisfied: pandas in /Users/rdua/work/github/rajdeepd/bpb-vector-databases/my-python3-env/lib/python3.10/site-packages (from ipython-ngql) (2.2.1)\n",
      "Requirement already satisfied: tqdm in /Users/rdua/work/github/rajdeepd/bpb-vector-databases/my-python3-env/lib/python3.10/site-packages (from ipython-ngql) (4.66.5)\n",
      "Collecting pyvis (from ipython-ngql)\n",
      "  Downloading pyvis-0.3.2-py3-none-any.whl.metadata (1.7 kB)\n",
      "Requirement already satisfied: requests in /Users/rdua/work/github/rajdeepd/bpb-vector-databases/my-python3-env/lib/python3.10/site-packages (from ipython-ngql) (2.32.3)\n",
      "Requirement already satisfied: pydantic in /Users/rdua/work/github/rajdeepd/bpb-vector-databases/my-python3-env/lib/python3.10/site-packages (from ipython-ngql) (2.8.2)\n",
      "Requirement already satisfied: scipy in /Users/rdua/work/github/rajdeepd/bpb-vector-databases/my-python3-env/lib/python3.10/site-packages (from ipython-ngql) (1.12.0)\n",
      "Requirement already satisfied: ipywidgets in /Users/rdua/work/github/rajdeepd/bpb-vector-databases/my-python3-env/lib/python3.10/site-packages (from ipython-ngql) (8.1.5)\n",
      "Requirement already satisfied: pyarrow in /Users/rdua/work/github/rajdeepd/bpb-vector-databases/my-python3-env/lib/python3.10/site-packages (from ipython-ngql) (17.0.0)\n",
      "Requirement already satisfied: future>=0.18.0 in /Users/rdua/work/github/rajdeepd/bpb-vector-databases/my-python3-env/lib/python3.10/site-packages (from nebula3-python>=3.8.0->ipython-ngql) (1.0.0)\n",
      "Requirement already satisfied: httplib2>=0.20.0 in /Users/rdua/work/github/rajdeepd/bpb-vector-databases/my-python3-env/lib/python3.10/site-packages (from nebula3-python>=3.8.0->ipython-ngql) (0.22.0)\n",
      "Requirement already satisfied: pytz>=2021.1 in /Users/rdua/work/github/rajdeepd/bpb-vector-databases/my-python3-env/lib/python3.10/site-packages (from nebula3-python>=3.8.0->ipython-ngql) (2024.1)\n",
      "Requirement already satisfied: six>=1.16.0 in /Users/rdua/work/github/rajdeepd/bpb-vector-databases/my-python3-env/lib/python3.10/site-packages (from nebula3-python>=3.8.0->ipython-ngql) (1.16.0)\n",
      "Requirement already satisfied: httpx>=0.22.0 in /Users/rdua/work/github/rajdeepd/bpb-vector-databases/my-python3-env/lib/python3.10/site-packages (from httpx[http2]>=0.22.0->nebula3-python>=3.8.0->ipython-ngql) (0.27.0)\n",
      "Requirement already satisfied: comm>=0.1.3 in /Users/rdua/work/github/rajdeepd/bpb-vector-databases/my-python3-env/lib/python3.10/site-packages (from ipywidgets->ipython-ngql) (0.2.2)\n",
      "Requirement already satisfied: ipython>=6.1.0 in /Users/rdua/work/github/rajdeepd/bpb-vector-databases/my-python3-env/lib/python3.10/site-packages (from ipywidgets->ipython-ngql) (8.22.2)\n",
      "Requirement already satisfied: traitlets>=4.3.1 in /Users/rdua/work/github/rajdeepd/bpb-vector-databases/my-python3-env/lib/python3.10/site-packages (from ipywidgets->ipython-ngql) (5.14.2)\n",
      "Requirement already satisfied: widgetsnbextension~=4.0.12 in /Users/rdua/work/github/rajdeepd/bpb-vector-databases/my-python3-env/lib/python3.10/site-packages (from ipywidgets->ipython-ngql) (4.0.13)\n",
      "Requirement already satisfied: jupyterlab-widgets~=3.0.12 in /Users/rdua/work/github/rajdeepd/bpb-vector-databases/my-python3-env/lib/python3.10/site-packages (from ipywidgets->ipython-ngql) (3.0.13)\n",
      "Requirement already satisfied: MarkupSafe>=2.0 in /Users/rdua/work/github/rajdeepd/bpb-vector-databases/my-python3-env/lib/python3.10/site-packages (from Jinja2->ipython-ngql) (2.1.5)\n",
      "Requirement already satisfied: numpy<2,>=1.22.4 in /Users/rdua/work/github/rajdeepd/bpb-vector-databases/my-python3-env/lib/python3.10/site-packages (from pandas->ipython-ngql) (1.26.4)\n",
      "Requirement already satisfied: python-dateutil>=2.8.2 in /Users/rdua/work/github/rajdeepd/bpb-vector-databases/my-python3-env/lib/python3.10/site-packages (from pandas->ipython-ngql) (2.9.0.post0)\n",
      "Requirement already satisfied: tzdata>=2022.7 in /Users/rdua/work/github/rajdeepd/bpb-vector-databases/my-python3-env/lib/python3.10/site-packages (from pandas->ipython-ngql) (2024.1)\n",
      "Requirement already satisfied: annotated-types>=0.4.0 in /Users/rdua/work/github/rajdeepd/bpb-vector-databases/my-python3-env/lib/python3.10/site-packages (from pydantic->ipython-ngql) (0.7.0)\n",
      "Requirement already satisfied: pydantic-core==2.20.1 in /Users/rdua/work/github/rajdeepd/bpb-vector-databases/my-python3-env/lib/python3.10/site-packages (from pydantic->ipython-ngql) (2.20.1)\n",
      "Requirement already satisfied: typing-extensions>=4.6.1 in /Users/rdua/work/github/rajdeepd/bpb-vector-databases/my-python3-env/lib/python3.10/site-packages (from pydantic->ipython-ngql) (4.12.2)\n",
      "Collecting jsonpickle>=1.4.1 (from pyvis->ipython-ngql)\n",
      "  Downloading jsonpickle-4.0.1-py3-none-any.whl.metadata (8.2 kB)\n",
      "Requirement already satisfied: networkx>=1.11 in /Users/rdua/work/github/rajdeepd/bpb-vector-databases/my-python3-env/lib/python3.10/site-packages (from pyvis->ipython-ngql) (3.2.1)\n",
      "Requirement already satisfied: charset-normalizer<4,>=2 in /Users/rdua/work/github/rajdeepd/bpb-vector-databases/my-python3-env/lib/python3.10/site-packages (from requests->ipython-ngql) (3.3.2)\n",
      "Requirement already satisfied: idna<4,>=2.5 in /Users/rdua/work/github/rajdeepd/bpb-vector-databases/my-python3-env/lib/python3.10/site-packages (from requests->ipython-ngql) (3.6)\n",
      "Requirement already satisfied: urllib3<3,>=1.21.1 in /Users/rdua/work/github/rajdeepd/bpb-vector-databases/my-python3-env/lib/python3.10/site-packages (from requests->ipython-ngql) (1.26.20)\n",
      "Requirement already satisfied: certifi>=2017.4.17 in /Users/rdua/work/github/rajdeepd/bpb-vector-databases/my-python3-env/lib/python3.10/site-packages (from requests->ipython-ngql) (2024.2.2)\n",
      "Requirement already satisfied: pyparsing!=3.0.0,!=3.0.1,!=3.0.2,!=3.0.3,<4,>=2.4.2 in /Users/rdua/work/github/rajdeepd/bpb-vector-databases/my-python3-env/lib/python3.10/site-packages (from httplib2>=0.20.0->nebula3-python>=3.8.0->ipython-ngql) (3.1.2)\n",
      "Requirement already satisfied: anyio in /Users/rdua/work/github/rajdeepd/bpb-vector-databases/my-python3-env/lib/python3.10/site-packages (from httpx>=0.22.0->httpx[http2]>=0.22.0->nebula3-python>=3.8.0->ipython-ngql) (4.4.0)\n",
      "Requirement already satisfied: httpcore==1.* in /Users/rdua/work/github/rajdeepd/bpb-vector-databases/my-python3-env/lib/python3.10/site-packages (from httpx>=0.22.0->httpx[http2]>=0.22.0->nebula3-python>=3.8.0->ipython-ngql) (1.0.5)\n",
      "Requirement already satisfied: sniffio in /Users/rdua/work/github/rajdeepd/bpb-vector-databases/my-python3-env/lib/python3.10/site-packages (from httpx>=0.22.0->httpx[http2]>=0.22.0->nebula3-python>=3.8.0->ipython-ngql) (1.3.1)\n",
      "Requirement already satisfied: h11<0.15,>=0.13 in /Users/rdua/work/github/rajdeepd/bpb-vector-databases/my-python3-env/lib/python3.10/site-packages (from httpcore==1.*->httpx>=0.22.0->httpx[http2]>=0.22.0->nebula3-python>=3.8.0->ipython-ngql) (0.14.0)\n",
      "Requirement already satisfied: h2<5,>=3 in /Users/rdua/work/github/rajdeepd/bpb-vector-databases/my-python3-env/lib/python3.10/site-packages (from httpx[http2]>=0.22.0->nebula3-python>=3.8.0->ipython-ngql) (4.1.0)\n",
      "Requirement already satisfied: decorator in /Users/rdua/work/github/rajdeepd/bpb-vector-databases/my-python3-env/lib/python3.10/site-packages (from ipython>=6.1.0->ipywidgets->ipython-ngql) (5.1.1)\n",
      "Requirement already satisfied: jedi>=0.16 in /Users/rdua/work/github/rajdeepd/bpb-vector-databases/my-python3-env/lib/python3.10/site-packages (from ipython>=6.1.0->ipywidgets->ipython-ngql) (0.19.1)\n",
      "Requirement already satisfied: matplotlib-inline in /Users/rdua/work/github/rajdeepd/bpb-vector-databases/my-python3-env/lib/python3.10/site-packages (from ipython>=6.1.0->ipywidgets->ipython-ngql) (0.1.6)\n",
      "Requirement already satisfied: prompt-toolkit<3.1.0,>=3.0.41 in /Users/rdua/work/github/rajdeepd/bpb-vector-databases/my-python3-env/lib/python3.10/site-packages (from ipython>=6.1.0->ipywidgets->ipython-ngql) (3.0.43)\n",
      "Requirement already satisfied: pygments>=2.4.0 in /Users/rdua/work/github/rajdeepd/bpb-vector-databases/my-python3-env/lib/python3.10/site-packages (from ipython>=6.1.0->ipywidgets->ipython-ngql) (2.17.2)\n",
      "Requirement already satisfied: stack-data in /Users/rdua/work/github/rajdeepd/bpb-vector-databases/my-python3-env/lib/python3.10/site-packages (from ipython>=6.1.0->ipywidgets->ipython-ngql) (0.6.3)\n",
      "Requirement already satisfied: exceptiongroup in /Users/rdua/work/github/rajdeepd/bpb-vector-databases/my-python3-env/lib/python3.10/site-packages (from ipython>=6.1.0->ipywidgets->ipython-ngql) (1.2.0)\n",
      "Requirement already satisfied: pexpect>4.3 in /Users/rdua/work/github/rajdeepd/bpb-vector-databases/my-python3-env/lib/python3.10/site-packages (from ipython>=6.1.0->ipywidgets->ipython-ngql) (4.9.0)\n",
      "Requirement already satisfied: hyperframe<7,>=6.0 in /Users/rdua/work/github/rajdeepd/bpb-vector-databases/my-python3-env/lib/python3.10/site-packages (from h2<5,>=3->httpx[http2]>=0.22.0->nebula3-python>=3.8.0->ipython-ngql) (6.0.1)\n",
      "Requirement already satisfied: hpack<5,>=4.0 in /Users/rdua/work/github/rajdeepd/bpb-vector-databases/my-python3-env/lib/python3.10/site-packages (from h2<5,>=3->httpx[http2]>=0.22.0->nebula3-python>=3.8.0->ipython-ngql) (4.0.0)\n",
      "Requirement already satisfied: parso<0.9.0,>=0.8.3 in /Users/rdua/work/github/rajdeepd/bpb-vector-databases/my-python3-env/lib/python3.10/site-packages (from jedi>=0.16->ipython>=6.1.0->ipywidgets->ipython-ngql) (0.8.3)\n",
      "Requirement already satisfied: ptyprocess>=0.5 in /Users/rdua/work/github/rajdeepd/bpb-vector-databases/my-python3-env/lib/python3.10/site-packages (from pexpect>4.3->ipython>=6.1.0->ipywidgets->ipython-ngql) (0.7.0)\n",
      "Requirement already satisfied: wcwidth in /Users/rdua/work/github/rajdeepd/bpb-vector-databases/my-python3-env/lib/python3.10/site-packages (from prompt-toolkit<3.1.0,>=3.0.41->ipython>=6.1.0->ipywidgets->ipython-ngql) (0.2.13)\n",
      "Requirement already satisfied: executing>=1.2.0 in /Users/rdua/work/github/rajdeepd/bpb-vector-databases/my-python3-env/lib/python3.10/site-packages (from stack-data->ipython>=6.1.0->ipywidgets->ipython-ngql) (2.0.1)\n",
      "Requirement already satisfied: asttokens>=2.1.0 in /Users/rdua/work/github/rajdeepd/bpb-vector-databases/my-python3-env/lib/python3.10/site-packages (from stack-data->ipython>=6.1.0->ipywidgets->ipython-ngql) (2.4.1)\n",
      "Requirement already satisfied: pure-eval in /Users/rdua/work/github/rajdeepd/bpb-vector-databases/my-python3-env/lib/python3.10/site-packages (from stack-data->ipython>=6.1.0->ipywidgets->ipython-ngql) (0.2.2)\n",
      "Downloading ipython_ngql-0.14.3-py3-none-any.whl (19 kB)\n",
      "Downloading pyvis-0.3.2-py3-none-any.whl (756 kB)\n",
      "\u001b[2K   \u001b[90m━━━━━━━━━━━━━━━━━━━━━━━━━━━━━━━━━━━━━━━━\u001b[0m \u001b[32m756.0/756.0 kB\u001b[0m \u001b[31m6.0 MB/s\u001b[0m eta \u001b[36m0:00:00\u001b[0m00:01\u001b[0m00:01\u001b[0m\n",
      "\u001b[?25hDownloading jsonpickle-4.0.1-py3-none-any.whl (46 kB)\n",
      "\u001b[2K   \u001b[90m━━━━━━━━━━━━━━━━━━━━━━━━━━━━━━━━━━━━━━━━\u001b[0m \u001b[32m46.2/46.2 kB\u001b[0m \u001b[31m2.8 MB/s\u001b[0m eta \u001b[36m0:00:00\u001b[0m\n",
      "\u001b[?25hInstalling collected packages: jsonpickle, pyvis, ipython-ngql\n",
      "Successfully installed ipython-ngql-0.14.3 jsonpickle-4.0.1 pyvis-0.3.2\n",
      "\n",
      "\u001b[1m[\u001b[0m\u001b[34;49mnotice\u001b[0m\u001b[1;39;49m]\u001b[0m\u001b[39;49m A new release of pip is available: \u001b[0m\u001b[31;49m24.0\u001b[0m\u001b[39;49m -> \u001b[0m\u001b[32;49m24.3.1\u001b[0m\n",
      "\u001b[1m[\u001b[0m\u001b[34;49mnotice\u001b[0m\u001b[1;39;49m]\u001b[0m\u001b[39;49m To update, run: \u001b[0m\u001b[32;49mpip install --upgrade pip\u001b[0m\n"
     ]
    }
   ],
   "source": [
    "!pip install ipython-ngql"
   ]
  },
  {
   "cell_type": "code",
   "execution_count": 7,
   "id": "6615a857-9faf-4b06-83c2-675547cb3b69",
   "metadata": {},
   "outputs": [],
   "source": [
    "# Default parameters\n",
    "SERVER = \"127.0.0.1\"\n",
    "PORT = 9669\n",
    "USER = \"root\"\n",
    "PASSWORD = \"nebula\""
   ]
  },
  {
   "cell_type": "code",
   "execution_count": 8,
   "id": "1d8382f9-f580-4c58-8a4f-fecbe03310a9",
   "metadata": {},
   "outputs": [
    {
     "name": "stderr",
     "output_type": "stream",
     "text": [
      "Connect 127.0.0.1:9669 failed: TSocket read 0 bytes\n"
     ]
    },
    {
     "ename": "RuntimeError",
     "evalue": "The services status exception: [services: ('127.0.0.1', 9669), status: BAD]",
     "output_type": "error",
     "traceback": [
      "\u001b[0;31m---------------------------------------------------------------------------\u001b[0m",
      "\u001b[0;31mRuntimeError\u001b[0m                              Traceback (most recent call last)",
      "Cell \u001b[0;32mIn[8], line 7\u001b[0m\n\u001b[1;32m      5\u001b[0m connection_pool \u001b[38;5;241m=\u001b[39m ConnectionPool()\n\u001b[1;32m      6\u001b[0m \u001b[38;5;66;03m# if the given servers are ok, return true, else return false\u001b[39;00m\n\u001b[0;32m----> 7\u001b[0m \u001b[43mconnection_pool\u001b[49m\u001b[38;5;241;43m.\u001b[39;49m\u001b[43minit\u001b[49m\u001b[43m(\u001b[49m\u001b[43m[\u001b[49m\u001b[43m(\u001b[49m\u001b[43mSERVER\u001b[49m\u001b[43m,\u001b[49m\u001b[43m \u001b[49m\u001b[43mPORT\u001b[49m\u001b[43m)\u001b[49m\u001b[43m]\u001b[49m\u001b[43m,\u001b[49m\u001b[43m \u001b[49m\u001b[43mConfig\u001b[49m\u001b[43m(\u001b[49m\u001b[43m)\u001b[49m\u001b[43m)\u001b[49m\n",
      "File \u001b[0;32m~/work/github/rajdeepd/bpb-vector-databases/my-python3-env/lib/python3.10/site-packages/nebula3/gclient/net/ConnectionPool.py:83\u001b[0m, in \u001b[0;36mConnectionPool.init\u001b[0;34m(self, addresses, configs, ssl_conf)\u001b[0m\n\u001b[1;32m     81\u001b[0m ok_num \u001b[38;5;241m=\u001b[39m \u001b[38;5;28mself\u001b[39m\u001b[38;5;241m.\u001b[39mget_ok_servers_num()\n\u001b[1;32m     82\u001b[0m \u001b[38;5;28;01mif\u001b[39;00m ok_num \u001b[38;5;241m<\u001b[39m \u001b[38;5;28mlen\u001b[39m(\u001b[38;5;28mself\u001b[39m\u001b[38;5;241m.\u001b[39m_addresses):\n\u001b[0;32m---> 83\u001b[0m     \u001b[38;5;28;01mraise\u001b[39;00m \u001b[38;5;167;01mRuntimeError\u001b[39;00m(\n\u001b[1;32m     84\u001b[0m         \u001b[38;5;124m\"\u001b[39m\u001b[38;5;124mThe services status exception: \u001b[39m\u001b[38;5;132;01m{}\u001b[39;00m\u001b[38;5;124m\"\u001b[39m\u001b[38;5;241m.\u001b[39mformat(\u001b[38;5;28mself\u001b[39m\u001b[38;5;241m.\u001b[39m_get_services_status())\n\u001b[1;32m     85\u001b[0m     )\n\u001b[1;32m     87\u001b[0m conns_per_address \u001b[38;5;241m=\u001b[39m \u001b[38;5;28mint\u001b[39m(\u001b[38;5;28mself\u001b[39m\u001b[38;5;241m.\u001b[39m_configs\u001b[38;5;241m.\u001b[39mmin_connection_pool_size \u001b[38;5;241m/\u001b[39m ok_num)\n\u001b[1;32m     89\u001b[0m \u001b[38;5;28;01mfor\u001b[39;00m addr \u001b[38;5;129;01min\u001b[39;00m \u001b[38;5;28mself\u001b[39m\u001b[38;5;241m.\u001b[39m_addresses:\n",
      "\u001b[0;31mRuntimeError\u001b[0m: The services status exception: [services: ('127.0.0.1', 9669), status: BAD]"
     ]
    }
   ],
   "source": [
    "import time\n",
    "from nebula3.gclient.net import ConnectionPool\n",
    "from nebula3.Config import Config\n",
    "\n",
    "connection_pool = ConnectionPool()\n",
    "# if the given servers are ok, return true, else return false\n",
    "connection_pool.init([(SERVER, PORT)], Config())"
   ]
  },
  {
   "cell_type": "code",
   "execution_count": null,
   "id": "f3de31b6-e678-4255-a073-416b1b31c408",
   "metadata": {},
   "outputs": [],
   "source": []
  }
 ],
 "metadata": {
  "kernelspec": {
   "display_name": "my-python3-kernel",
   "language": "python",
   "name": "my-python3-kernel"
  },
  "language_info": {
   "codemirror_mode": {
    "name": "ipython",
    "version": 3
   },
   "file_extension": ".py",
   "mimetype": "text/x-python",
   "name": "python",
   "nbconvert_exporter": "python",
   "pygments_lexer": "ipython3",
   "version": "3.10.8"
  }
 },
 "nbformat": 4,
 "nbformat_minor": 5
}
