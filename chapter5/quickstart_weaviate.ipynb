{
 "cells": [
  {
   "cell_type": "markdown",
   "metadata": {
    "id": "va5k1Yv6FMIh"
   },
   "source": [
    "## Weaviate quickstart guide \n",
    "\n",
    "This notebook is a modified version of (https://weaviate.io/developers/weaviate/quickstart).\n",
    "## Used in the book\n",
    "\n",
    "<a target=\"_blank\" href=\"https://colab.research.google.com/github/weaviate-tutorials/quickstart/blob/main/quickstart_end_to_end.ipynb\">\n",
    "  <img src=\"https://colab.research.google.com/assets/colab-badge.svg\" alt=\"Open In Colab\"/>\n",
    "</a>"
   ]
  },
  {
   "cell_type": "markdown",
   "metadata": {
    "id": "nQLY00OlFMIj"
   },
   "source": []
  },
  {
   "cell_type": "code",
   "execution_count": 1,
   "metadata": {},
   "outputs": [],
   "source": [
    "#!ARCHFLAGS=\"-arch arm64\" pip install -U numpy\n",
    "import warnings\n",
    "warnings.filterwarnings('ignore')"
   ]
  },
  {
   "cell_type": "markdown",
   "metadata": {},
   "source": [
    "You will need the Weaviate Python client. If you don't yet have it installed - you can do so with,(uncomment the line below)"
   ]
  },
  {
   "cell_type": "code",
   "execution_count": 1,
   "metadata": {
    "colab": {
     "base_uri": "https://localhost:8080/"
    },
    "id": "7da9sKwSFMIj",
    "outputId": "06a68709-dacd-4731-d0ee-5ff825c3b3af"
   },
   "outputs": [],
   "source": [
    "#!ARCHFLAGS=\"-arch arm64\" pip install -U weaviate-client"
   ]
  },
  {
   "cell_type": "markdown",
   "metadata": {
    "id": "Y4D_0sIFFMIk"
   },
   "source": [
    "#### Using Embedded Weaviate\n",
    "\n",
    "This will spin up a Weaviate instance in the background. Note this gives error if client is already started"
   ]
  },
  {
   "cell_type": "code",
   "execution_count": 2,
   "metadata": {
    "colab": {
     "base_uri": "https://localhost:8080/"
    },
    "id": "vE9nv9iKFMIk",
    "outputId": "a51335da-e86f-4089-df4b-6cf9664fd78d"
   },
   "outputs": [
    {
     "name": "stdout",
     "output_type": "stream",
     "text": [
      "Binary /Users/rdua/.cache/weaviate-embedded did not exist. Downloading binary from https://github.com/weaviate/weaviate/releases/download/v1.23.10/weaviate-v1.23.10-Darwin-all.zip\n",
      "Started /Users/rdua/.cache/weaviate-embedded: process ID 63206\n"
     ]
    },
    {
     "name": "stderr",
     "output_type": "stream",
     "text": [
      "{\"action\":\"startup\",\"default_vectorizer_module\":\"none\",\"level\":\"info\",\"msg\":\"the default vectorizer modules is set to \\\"none\\\", as a result all new schema classes without an explicit vectorizer setting, will use this vectorizer\",\"time\":\"2024-07-05T10:55:28+05:30\"}\n",
      "{\"action\":\"startup\",\"auto_schema_enabled\":true,\"level\":\"info\",\"msg\":\"auto schema enabled setting is set to \\\"true\\\"\",\"time\":\"2024-07-05T10:55:28+05:30\"}\n",
      "{\"level\":\"info\",\"msg\":\"No resource limits set, weaviate will use all available memory and CPU. To limit resources, set LIMIT_RESOURCES=true\",\"time\":\"2024-07-05T10:55:28+05:30\"}\n",
      "{\"level\":\"warning\",\"msg\":\"Multiple vector spaces are present, GraphQL Explore and REST API list objects endpoint module include params has been disabled as a result.\",\"time\":\"2024-07-05T10:55:29+05:30\"}\n",
      "{\"action\":\"grpc_startup\",\"level\":\"info\",\"msg\":\"grpc server listening at [::]:50050\",\"time\":\"2024-07-05T10:55:29+05:30\"}\n",
      "{\"action\":\"restapi_management\",\"level\":\"info\",\"msg\":\"Serving weaviate at http://127.0.0.1:8079\",\"time\":\"2024-07-05T10:55:29+05:30\"}\n",
      "{\"action\":\"lsm_recover_from_active_wal\",\"class\":\"Question\",\"index\":\"question\",\"level\":\"warning\",\"msg\":\"active write-ahead-log found. Did weaviate crash prior to this? Trying to recover...\",\"path\":\"/Users/rdua/.local/share/weaviate/question/bummdrCvhi3C/lsm/objects/segment-1720156681793118000.wal\",\"shard\":\"bummdrCvhi3C\",\"time\":\"2024-07-05T10:55:30+05:30\"}\n",
      "{\"action\":\"lsm_recover_from_active_wal_success\",\"class\":\"Question\",\"index\":\"question\",\"level\":\"info\",\"msg\":\"successfully recovered from write-ahead-log\",\"path\":\"/Users/rdua/.local/share/weaviate/question/bummdrCvhi3C/lsm/objects/segment-1720156681793118000.wal\",\"shard\":\"bummdrCvhi3C\",\"time\":\"2024-07-05T10:55:30+05:30\"}\n",
      "{\"action\":\"lsm_recover_from_active_wal\",\"class\":\"Question\",\"index\":\"question\",\"level\":\"warning\",\"msg\":\"active write-ahead-log found. Did weaviate crash prior to this? Trying to recover...\",\"path\":\"/Users/rdua/.local/share/weaviate/question/bummdrCvhi3C/lsm/property__id/segment-1720156681820986000.wal\",\"shard\":\"bummdrCvhi3C\",\"time\":\"2024-07-05T10:55:30+05:30\"}\n",
      "{\"action\":\"lsm_recover_from_active_wal_success\",\"class\":\"Question\",\"index\":\"question\",\"level\":\"info\",\"msg\":\"successfully recovered from write-ahead-log\",\"path\":\"/Users/rdua/.local/share/weaviate/question/bummdrCvhi3C/lsm/property__id/segment-1720156681820986000.wal\",\"shard\":\"bummdrCvhi3C\",\"time\":\"2024-07-05T10:55:30+05:30\"}\n",
      "{\"action\":\"lsm_recover_from_active_wal\",\"class\":\"Question\",\"index\":\"question\",\"level\":\"warning\",\"msg\":\"active write-ahead-log found. Did weaviate crash prior to this? Trying to recover...\",\"path\":\"/Users/rdua/.local/share/weaviate/question/bummdrCvhi3C/lsm/property_answer/segment-1720156681827803000.wal\",\"shard\":\"bummdrCvhi3C\",\"time\":\"2024-07-05T10:55:30+05:30\"}\n",
      "{\"action\":\"lsm_recover_from_active_wal_success\",\"class\":\"Question\",\"index\":\"question\",\"level\":\"info\",\"msg\":\"successfully recovered from write-ahead-log\",\"path\":\"/Users/rdua/.local/share/weaviate/question/bummdrCvhi3C/lsm/property_answer/segment-1720156681827803000.wal\",\"shard\":\"bummdrCvhi3C\",\"time\":\"2024-07-05T10:55:30+05:30\"}\n",
      "{\"action\":\"lsm_recover_from_active_wal\",\"class\":\"Question\",\"index\":\"question\",\"level\":\"warning\",\"msg\":\"active write-ahead-log found. Did weaviate crash prior to this? Trying to recover...\",\"path\":\"/Users/rdua/.local/share/weaviate/question/bummdrCvhi3C/lsm/property_answer_searchable/segment-1720156681830135000.wal\",\"shard\":\"bummdrCvhi3C\",\"time\":\"2024-07-05T10:55:30+05:30\"}\n",
      "{\"action\":\"lsm_recover_from_active_wal_success\",\"class\":\"Question\",\"index\":\"question\",\"level\":\"info\",\"msg\":\"successfully recovered from write-ahead-log\",\"path\":\"/Users/rdua/.local/share/weaviate/question/bummdrCvhi3C/lsm/property_answer_searchable/segment-1720156681830135000.wal\",\"shard\":\"bummdrCvhi3C\",\"time\":\"2024-07-05T10:55:30+05:30\"}\n",
      "{\"action\":\"lsm_recover_from_active_wal\",\"class\":\"Question\",\"index\":\"question\",\"level\":\"warning\",\"msg\":\"active write-ahead-log found. Did weaviate crash prior to this? Trying to recover...\",\"path\":\"/Users/rdua/.local/share/weaviate/question/bummdrCvhi3C/lsm/property_category/segment-1720156681823998000.wal\",\"shard\":\"bummdrCvhi3C\",\"time\":\"2024-07-05T10:55:30+05:30\"}\n",
      "{\"action\":\"lsm_recover_from_active_wal_success\",\"class\":\"Question\",\"index\":\"question\",\"level\":\"info\",\"msg\":\"successfully recovered from write-ahead-log\",\"path\":\"/Users/rdua/.local/share/weaviate/question/bummdrCvhi3C/lsm/property_category/segment-1720156681823998000.wal\",\"shard\":\"bummdrCvhi3C\",\"time\":\"2024-07-05T10:55:30+05:30\"}\n",
      "{\"action\":\"lsm_recover_from_active_wal\",\"class\":\"Question\",\"index\":\"question\",\"level\":\"warning\",\"msg\":\"active write-ahead-log found. Did weaviate crash prior to this? Trying to recover...\",\"path\":\"/Users/rdua/.local/share/weaviate/question/bummdrCvhi3C/lsm/property_question/segment-1720156681831874000.wal\",\"shard\":\"bummdrCvhi3C\",\"time\":\"2024-07-05T10:55:30+05:30\"}\n",
      "{\"action\":\"lsm_recover_from_active_wal_success\",\"class\":\"Question\",\"index\":\"question\",\"level\":\"info\",\"msg\":\"successfully recovered from write-ahead-log\",\"path\":\"/Users/rdua/.local/share/weaviate/question/bummdrCvhi3C/lsm/property_question/segment-1720156681831874000.wal\",\"shard\":\"bummdrCvhi3C\",\"time\":\"2024-07-05T10:55:30+05:30\"}\n",
      "{\"action\":\"lsm_recover_from_active_wal\",\"class\":\"Question\",\"index\":\"question\",\"level\":\"warning\",\"msg\":\"active write-ahead-log found. Did weaviate crash prior to this? Trying to recover...\",\"path\":\"/Users/rdua/.local/share/weaviate/question/bummdrCvhi3C/lsm/property_question_searchable/segment-1720156681834446000.wal\",\"shard\":\"bummdrCvhi3C\",\"time\":\"2024-07-05T10:55:30+05:30\"}\n",
      "{\"action\":\"lsm_recover_from_active_wal_success\",\"class\":\"Question\",\"index\":\"question\",\"level\":\"info\",\"msg\":\"successfully recovered from write-ahead-log\",\"path\":\"/Users/rdua/.local/share/weaviate/question/bummdrCvhi3C/lsm/property_question_searchable/segment-1720156681834446000.wal\",\"shard\":\"bummdrCvhi3C\",\"time\":\"2024-07-05T10:55:30+05:30\"}\n",
      "{\"action\":\"lsm_recover_from_active_wal\",\"class\":\"Question\",\"index\":\"question\",\"level\":\"warning\",\"msg\":\"active write-ahead-log found. Did weaviate crash prior to this? Trying to recover...\",\"path\":\"/Users/rdua/.local/share/weaviate/question/bummdrCvhi3C/lsm/property_category_searchable/segment-1720156681826000000.wal\",\"shard\":\"bummdrCvhi3C\",\"time\":\"2024-07-05T10:55:30+05:30\"}\n",
      "{\"action\":\"lsm_recover_from_active_wal_success\",\"class\":\"Question\",\"index\":\"question\",\"level\":\"info\",\"msg\":\"successfully recovered from write-ahead-log\",\"path\":\"/Users/rdua/.local/share/weaviate/question/bummdrCvhi3C/lsm/property_category_searchable/segment-1720156681826000000.wal\",\"shard\":\"bummdrCvhi3C\",\"time\":\"2024-07-05T10:55:30+05:30\"}\n",
      "{\"level\":\"info\",\"msg\":\"Completed loading shard question_bummdrCvhi3C in 22.920792ms\",\"time\":\"2024-07-05T10:55:30+05:30\"}\n",
      "{\"action\":\"hnsw_vector_cache_prefill\",\"count\":3000,\"index_id\":\"main\",\"level\":\"info\",\"limit\":1000000000000,\"msg\":\"prefilled vector cache\",\"time\":\"2024-07-05T10:55:30+05:30\",\"took\":365666}\n"
     ]
    }
   ],
   "source": [
    "# For using embedded\n",
    "import weaviate\n",
    "from weaviate.embedded import EmbeddedOptions\n",
    "import json\n",
    "import os\n",
    "\n",
    "KEY=\"\"\n",
    "\n",
    "import weaviate\n",
    "import os\n",
    "\n",
    "\n",
    "client = weaviate.connect_to_embedded(\n",
    "    version=\"1.23.10\",  # e.g. version=\"1.23.10\"\n",
    "    headers={\n",
    "        \"X-OpenAI-Api-Key\": KEY  # Replace with your API key\n",
    "    },\n",
    ")"
   ]
  },
  {
   "cell_type": "code",
   "execution_count": 5,
   "metadata": {},
   "outputs": [
    {
     "name": "stdout",
     "output_type": "stream",
     "text": [
      "Python 3.10.8\n"
     ]
    }
   ],
   "source": [
    "!python3 --version"
   ]
  },
  {
   "cell_type": "markdown",
   "metadata": {
    "id": "QQ96h4NwFMIl"
   },
   "source": [
    "### Create a class"
   ]
  },
  {
   "cell_type": "code",
   "execution_count": 8,
   "metadata": {
    "id": "rix9goCNFMIl"
   },
   "outputs": [],
   "source": [
    "if client.collections.exists(\"Question\"):\n",
    "    client.collections.delete(\"Question\")"
   ]
  },
  {
   "cell_type": "markdown",
   "metadata": {},
   "source": [
    "## v3 api\n",
    "```python\n",
    "class_obj = {\n",
    "    'class': 'Article',\n",
    "    # Additional configuration not shown\n",
    "    \"vectorIndexType\": \"flat\",\n",
    "    \"vectorIndexConfig\": {\n",
    "        \"bq\": {\n",
    "            \"enabled\": True,  # Enable BQ compression. Default: False\n",
    "            \"rescoreLimit\": 200,  # The minimum number of candidates to fetch before rescoring. Default: -1 (No limit)\n",
    "            \"cache\": True,  # Enable use of vector cache. Default: False\n",
    "        },\n",
    "        \"vectorCacheMaxObjects\": 100000,  # Cache size if `cache` enabled. Default: 1000000000000\n",
    "    }\n",
    "}\n",
    "```\n",
    "\n",
    "## v4 api\n",
    "\n",
    "```python\n",
    "from weaviate.classes.config import Property, DataType\n",
    "\n",
    "# Note that you can use `client.collections.create_from_dict()` to create a collection from a v3-client-style JSON object\n",
    "client.collections.create(\n",
    "    \"Article\",\n",
    "    properties=[\n",
    "        Property(name=\"title\", data_type=DataType.TEXT),\n",
    "        Property(name=\"body\", data_type=DataType.TEXT),\n",
    "    ]\n",
    ")\n",
    "```\n",
    "\n",
    "older code which we are removing\n",
    "\n",
    "```python\n",
    "class_obj = {\n",
    "    \"class\": \"Question\",\n",
    "    \"vectorizer\": \"text2vec-openai\",  # If set to \"none\" you must always provide vectors yourself. Could be any other \"text2vec-*\" also.\n",
    "    \"moduleConfig\": {\n",
    "        \"text2vec-openai\": {},\n",
    "        \"generative-openai\": {}  # Ensure the `generative-openai` module is used for generative queries\n",
    "    }\n",
    "}\n",
    "\n",
    "client.collections.create(class_obj)\n",
    "```"
   ]
  },
  {
   "cell_type": "code",
   "execution_count": 15,
   "metadata": {
    "id": "mx7q-X_fFMIl"
   },
   "outputs": [
    {
     "name": "stderr",
     "output_type": "stream",
     "text": [
      "{\"level\":\"info\",\"msg\":\"Created shard question_UvYpmvMdrEQA in 2.819625ms\",\"time\":\"2024-07-06T10:43:47+05:30\"}\n",
      "{\"action\":\"hnsw_vector_cache_prefill\",\"count\":1000,\"index_id\":\"main\",\"level\":\"info\",\"limit\":1000000000000,\"msg\":\"prefilled vector cache\",\"time\":\"2024-07-06T10:43:47+05:30\",\"took\":74042}\n"
     ]
    },
    {
     "data": {
      "text/plain": [
       "<weaviate.collections.collection.Collection at 0x103526ad0>"
      ]
     },
     "execution_count": 15,
     "metadata": {},
     "output_type": "execute_result"
    }
   ],
   "source": [
    "# https://weaviate.io/developers/weaviate/manage-data/collections\n",
    "from weaviate.classes.config import Configure, Property, DataType\n",
    "client.collections.create(\n",
    "    \"Question\",\n",
    "    vectorizer_config=Configure.Vectorizer.text2vec_openai(),\n",
    "    generative_config=Configure.Generative.openai(),\n",
    "  \n",
    ")"
   ]
  },
  {
   "cell_type": "markdown",
   "metadata": {
    "id": "jkMpJRtSFMIl"
   },
   "source": [
    "### Add objects\n",
    "\n",
    "We'll add objects to our Weaviate instance using a batch import process.\n",
    "\n",
    "We shows you two options, where you can either:\n",
    "- Have Weaviate create vectors, or\n",
    "- Specify custom vectors."
   ]
  },
  {
   "cell_type": "markdown",
   "metadata": {
    "id": "CGVI60sAFMIl"
   },
   "source": [
    "#### Have Weaviate create vectors (with `text2vec-openai`)"
   ]
  },
  {
   "cell_type": "code",
   "execution_count": 8,
   "metadata": {
    "colab": {
     "base_uri": "https://localhost:8080/"
    },
    "id": "aDP5DFoiFMIm",
    "outputId": "4e894bc3-f3bb-470f-dac5-875ff6cb488e"
   },
   "outputs": [
    {
     "name": "stderr",
     "output_type": "stream",
     "text": [
      "/Users/rdua/work/github/rajdeepd/bpb-vector-databases/chapter5/venv/lib/python3.10/site-packages/weaviate/warnings.py:142: DeprecationWarning: Dep006: You are using the `client.batch()` method. This method will be removed in the next major release.\n",
      "            Use the `client.batch.configure()` method to configure your batch process, and `client.batch` to enter the context manager.\n",
      "\n",
      "            See https://weaviate.io/developers/weaviate/client-libraries/python for details.\n",
      "  warnings.warn(\n"
     ]
    },
    {
     "name": "stdout",
     "output_type": "stream",
     "text": [
      "importing question: 1\n",
      "importing question: 2\n",
      "importing question: 3\n",
      "importing question: 4\n",
      "importing question: 5\n",
      "importing question: 6\n",
      "importing question: 7\n",
      "importing question: 8\n",
      "importing question: 9\n",
      "importing question: 10\n"
     ]
    }
   ],
   "source": [
    "# Load data\n",
    "import requests\n",
    "url = 'https://raw.githubusercontent.com/weaviate-tutorials/quickstart/main/data/jeopardy_tiny.json'\n",
    "resp = requests.get(url)\n",
    "data = json.loads(resp.text)\n",
    "\n",
    "# Configure a batch process\n",
    "with client.batch(\n",
    "    batch_size=100\n",
    ") as batch:\n",
    "    # Batch import all Questions\n",
    "    for i, d in enumerate(data):\n",
    "        print(f\"importing question: {i+1}\")\n",
    "\n",
    "        properties = {\n",
    "            \"answer\": d[\"Answer\"],\n",
    "            \"question\": d[\"Question\"],\n",
    "            \"category\": d[\"Category\"],\n",
    "        }\n",
    "\n",
    "        client.batch.add_data_object(\n",
    "            properties,\n",
    "            \"Question\",\n",
    "        )"
   ]
  },
  {
   "cell_type": "markdown",
   "metadata": {
    "id": "eTlJeb_EFMIm"
   },
   "source": [
    "#### Specify \"custom\" vectors (i.e. generated outside of Weaviate)"
   ]
  },
  {
   "cell_type": "code",
   "execution_count": 9,
   "metadata": {
    "id": "Wcn5R2ccFMIm"
   },
   "outputs": [],
   "source": [
    "# # Load data\n",
    "# import requests\n",
    "# fname = \"jeopardy_tiny_with_vectors_all-OpenAI-ada-002.json\"  # This file includes pre-generated vectors\n",
    "# url = f'https://raw.githubusercontent.com/weaviate-tutorials/quickstart/main/data/{fname}'\n",
    "# resp = requests.get(url)\n",
    "# data = json.loads(resp.text)\n",
    "\n",
    "# # Configure a batch process\n",
    "# with client.batch(\n",
    "#     batch_size=100\n",
    "# ) as batch:\n",
    "#     # Batch import all Questions\n",
    "#     for i, d in enumerate(data):\n",
    "#         print(f\"importing question: {i+1}\")\n",
    "\n",
    "#         properties = {\n",
    "#             \"answer\": d[\"Answer\"],\n",
    "#             \"question\": d[\"Question\"],\n",
    "#             \"category\": d[\"Category\"],\n",
    "#         }\n",
    "\n",
    "#         custom_vector = d[\"vector\"]\n",
    "#         client.batch.add_data_object(\n",
    "#             properties,\n",
    "#             \"Question\",\n",
    "#             vector=custom_vector  # Add custom vector\n",
    "#         )"
   ]
  },
  {
   "cell_type": "markdown",
   "metadata": {
    "id": "tzNFudCJFMIm"
   },
   "source": [
    "### Queries"
   ]
  },
  {
   "cell_type": "markdown",
   "metadata": {
    "id": "GtJkrC1XFMIm"
   },
   "source": [
    "#### Semantic search\n",
    "\n",
    "Let's try a similarity search. We'll use nearText search to look for quiz objects most similar to biology."
   ]
  },
  {
   "cell_type": "code",
   "execution_count": 10,
   "metadata": {
    "colab": {
     "base_uri": "https://localhost:8080/"
    },
    "id": "Wyrsv3RuFMIm",
    "outputId": "b52ea7ee-fd73-4702-c49d-06521e43f16c"
   },
   "outputs": [
    {
     "name": "stdout",
     "output_type": "stream",
     "text": [
      "{\n",
      "    \"data\": {\n",
      "        \"Get\": {\n",
      "            \"Question\": [\n",
      "                {\n",
      "                    \"answer\": \"DNA\",\n",
      "                    \"category\": \"SCIENCE\",\n",
      "                    \"question\": \"In 1953 Watson & Crick built a model of the molecular structure of this, the gene-carrying substance\"\n",
      "                },\n",
      "                {\n",
      "                    \"answer\": \"species\",\n",
      "                    \"category\": \"SCIENCE\",\n",
      "                    \"question\": \"2000 news: the Gunnison sage grouse isn't just another northern sage grouse, but a new one of this classification\"\n",
      "                }\n",
      "            ]\n",
      "        }\n",
      "    }\n",
      "}\n"
     ]
    }
   ],
   "source": [
    "nearText = {\"concepts\": [\"biology\"]}\n",
    "\n",
    "response = (\n",
    "    client.query\n",
    "    .get(\"Question\", [\"question\", \"answer\", \"category\"])\n",
    "    .with_near_text(nearText)\n",
    "    .with_limit(2)\n",
    "    .do()\n",
    ")\n",
    "\n",
    "print(json.dumps(response, indent=4))"
   ]
  },
  {
   "cell_type": "markdown",
   "metadata": {
    "id": "34_sqBeEFMIm"
   },
   "source": [
    "The response includes a list of top 2 (due to the limit set) objects whose vectors are most similar to the word biology.\n",
    "\n",
    "Notice that even though the word biology does not appear anywhere, Weaviate returns biology-related entries.\n",
    "\n",
    "This example shows why vector searches are powerful. Vectorized data objects allow for searches based on degrees of similarity, as shown here."
   ]
  },
  {
   "cell_type": "markdown",
   "metadata": {
    "id": "gYTi3WToFMIm"
   },
   "source": [
    "#### Semantic search with a filter\n",
    "You can add a Boolean filter to your example. For example, let's run the same search, but only look in objects that have a \"category\" value of \"ANIMALS\"."
   ]
  },
  {
   "cell_type": "code",
   "execution_count": 11,
   "metadata": {
    "colab": {
     "base_uri": "https://localhost:8080/"
    },
    "id": "6TUhvlqEFMIm",
    "outputId": "c57a8f7a-e61e-4543-e45b-b720cc070bba"
   },
   "outputs": [
    {
     "name": "stdout",
     "output_type": "stream",
     "text": [
      "{\n",
      "    \"data\": {\n",
      "        \"Get\": {\n",
      "            \"Question\": [\n",
      "                {\n",
      "                    \"answer\": \"the nose or snout\",\n",
      "                    \"category\": \"ANIMALS\",\n",
      "                    \"question\": \"The gavial looks very much like a crocodile except for this bodily feature\"\n",
      "                },\n",
      "                {\n",
      "                    \"answer\": \"Elephant\",\n",
      "                    \"category\": \"ANIMALS\",\n",
      "                    \"question\": \"It's the only living mammal in the order Proboseidea\"\n",
      "                }\n",
      "            ]\n",
      "        }\n",
      "    }\n",
      "}\n"
     ]
    }
   ],
   "source": [
    "nearText = {\"concepts\": [\"biology\"]}\n",
    "\n",
    "response = (\n",
    "    client.query\n",
    "    .get(\"Question\", [\"question\", \"answer\", \"category\"])\n",
    "    .with_near_text(nearText)\n",
    "    .with_where({\n",
    "        \"path\": [\"category\"],\n",
    "        \"operator\": \"Equal\",\n",
    "        \"valueText\": \"ANIMALS\"\n",
    "    })\n",
    "    .with_limit(2)\n",
    "    .do()\n",
    ")\n",
    "\n",
    "print(json.dumps(response, indent=4))"
   ]
  },
  {
   "cell_type": "markdown",
   "metadata": {
    "id": "XFwCoJ13FMIm"
   },
   "source": [
    "The response includes a list of top 2 (due to the limit set) objects whose vectors are most similar to the word biology - but only from the \"ANIMALS\" category.\n",
    "\n",
    "Using a Boolean filter allows you to combine the flexibility of vector search with the precision of where filters."
   ]
  },
  {
   "cell_type": "markdown",
   "metadata": {
    "id": "-uIrwGQEFMIm"
   },
   "source": [
    "#### Generative search (single prompt)\n",
    "\n",
    "Next, let's try a generative search, where search results are processed with a large language model (LLM).\n",
    "\n",
    "Here, we use a `single prompt` query, and the model to explain each answer in plain terms."
   ]
  },
  {
   "cell_type": "code",
   "execution_count": 12,
   "metadata": {
    "colab": {
     "base_uri": "https://localhost:8080/"
    },
    "id": "HPoB_s5hFMIm",
    "outputId": "7f348f95-01be-45c8-8775-4b52cc233cbb"
   },
   "outputs": [
    {
     "name": "stdout",
     "output_type": "stream",
     "text": [
      "{\n",
      "    \"data\": {\n",
      "        \"Get\": {\n",
      "            \"Question\": [\n",
      "                {\n",
      "                    \"_additional\": {\n",
      "                        \"generate\": {\n",
      "                            \"error\": null,\n",
      "                            \"singleResult\": \"DNA is like a set of instructions that tells our bodies how to grow and work. It's like a recipe book that tells our cells what to do and how to make us who we are. Just like how a recipe tells you how to make a cake, DNA tells our bodies how to make us unique and special.\"\n",
      "                        }\n",
      "                    },\n",
      "                    \"answer\": \"DNA\",\n",
      "                    \"category\": \"SCIENCE\",\n",
      "                    \"question\": \"In 1953 Watson & Crick built a model of the molecular structure of this, the gene-carrying substance\"\n",
      "                },\n",
      "                {\n",
      "                    \"_additional\": {\n",
      "                        \"generate\": {\n",
      "                            \"error\": null,\n",
      "                            \"singleResult\": \"A species is a group of animals or plants that are similar to each other in certain ways. They look alike and can have babies that grow up to be just like them. Each species has its own special features that make them unique.\"\n",
      "                        }\n",
      "                    },\n",
      "                    \"answer\": \"species\",\n",
      "                    \"category\": \"SCIENCE\",\n",
      "                    \"question\": \"2000 news: the Gunnison sage grouse isn't just another northern sage grouse, but a new one of this classification\"\n",
      "                }\n",
      "            ]\n",
      "        }\n",
      "    }\n",
      "}\n"
     ]
    }
   ],
   "source": [
    "nearText = {\"concepts\": [\"biology\"]}\n",
    "\n",
    "response = (\n",
    "    client.query\n",
    "    .get(\"Question\", [\"question\", \"answer\", \"category\"])\n",
    "    .with_near_text(nearText)\n",
    "    .with_generate(single_prompt=\"Explain {answer} as you might to a five-year-old.\")\n",
    "    .with_limit(2)\n",
    "    .do()\n",
    ")\n",
    "\n",
    "print(json.dumps(response, indent=4))"
   ]
  },
  {
   "cell_type": "markdown",
   "metadata": {
    "id": "xCvNaWC4FMIm"
   },
   "source": [
    "We see that Weaviate has retrieved the same results as before. But now it includes an additional, generated text with a plain-language explanation of each answer."
   ]
  },
  {
   "cell_type": "markdown",
   "metadata": {
    "id": "TsXvNDX9FMIm"
   },
   "source": [
    "#### Generative search (grouped task)\n",
    "\n",
    "In the next example, we will use a grouped task prompt instead to combine all search results and send them to the LLM with a prompt. We ask the LLM to write a tweet about all of these search results."
   ]
  },
  {
   "cell_type": "code",
   "execution_count": 13,
   "metadata": {
    "colab": {
     "base_uri": "https://localhost:8080/"
    },
    "id": "hI9yWrJuFMIm",
    "outputId": "bb3179bf-2d42-4978-ae76-9804e47e2b06"
   },
   "outputs": [
    {
     "name": "stdout",
     "output_type": "stream",
     "text": [
      "🧬 In 1953 Watson & Crick built a model of the molecular structure of DNA, the gene-carrying substance! 🧬🔬\n",
      "\n",
      "🦢 2000 news: the Gunnison sage grouse isn't just another northern sage grouse, but a new species! 🦢🌿 #ScienceFacts #DNA #SpeciesClassification\n"
     ]
    }
   ],
   "source": [
    "response = (\n",
    "    client.query\n",
    "    .get(\"Question\", [\"question\", \"answer\", \"category\"])\n",
    "    .with_near_text({\"concepts\": [\"biology\"]})\n",
    "    .with_generate(grouped_task=\"Write a tweet with emojis about these facts.\")\n",
    "    .with_limit(2)\n",
    "    .do()\n",
    ")\n",
    "\n",
    "print(response[\"data\"][\"Get\"][\"Question\"][0][\"_additional\"][\"generate\"][\"groupedResult\"])"
   ]
  },
  {
   "cell_type": "markdown",
   "metadata": {
    "id": "EeeqaeDwFMIn"
   },
   "source": [
    "Generative search sends retrieved data from Weaviate to a large language model, or LLM. This allows you to go beyond simple data retrieval, but transform the data into a more useful form, without ever leaving Weaviate."
   ]
  },
  {
   "cell_type": "markdown",
   "metadata": {
    "id": "qfpjhR16FMIn"
   },
   "source": [
    "Well done! In just a few short minutes, you have:\n",
    "\n",
    "- Created your own cloud-based vector database with Weaviate,\n",
    "- Populated it with data objects,\n",
    "    - Using an inference API, or\n",
    "    - Using custom vectors,\n",
    "- Performed searches, including:\n",
    "    - Semantic search,\n",
    "    - Sementic search with a filter and\n",
    "    - Generative search."
   ]
  },
  {
   "cell_type": "markdown",
   "metadata": {
    "id": "Uqbn5s4xFMIn"
   },
   "source": [
    "## Next\n",
    "\n",
    "You can do much more with Weaviate. We suggest trying:\n",
    "\n",
    "- Examples from our [search how-to](https://weaviate.io/developers/weaviate/search) guides for [keyword](https://weaviate.io/developers/weaviate/search/bm25), [similarity](https://weaviate.io/developers/weaviate/search/similarity), [hybrid](https://weaviate.io/developers/weaviate/search/hybrid), [generative](https://weaviate.io/developers/weaviate/search/generative) searches and [filters](https://weaviate.io/developers/weaviate/search/filters) or\n",
    "- Learning [how to manage data](https://weaviate.io/developers/weaviate/manage-data), like [reading](https://weaviate.io/developers/weaviate/manage-data/read), [batch importing](https://weaviate.io/developers/weaviate/manage-data/import), [updating](https://weaviate.io/developers/weaviate/manage-data/update), [deleting](https://weaviate.io/developers/weaviate/manage-data/delete) objects or [bulk exporting](https://weaviate.io/developers/weaviate/manage-data/read-all-objects) data.\n",
    "\n",
    "For more holistic learning, try <i class=\"fa-solid fa-graduation-cap\"></i> [Weaviate Academy](https://weaviate.io/developers/academy). We have built free courses for you to learn about Weaviate and the world of vector search.\n",
    "\n",
    "You can also try a larger, [1,000 row](https://raw.githubusercontent.com/databyjp/wv_demo_uploader/main/weaviate_datasets/data/jeopardy_1k.json) version of the Jeopardy! dataset, or [this tiny set of 50 wine reviews](https://raw.githubusercontent.com/databyjp/wv_demo_uploader/main/weaviate_datasets/data/winemag_tiny.csv)."
   ]
  },
  {
   "cell_type": "markdown",
   "metadata": {
    "id": "-DHNk-1CFMIn"
   },
   "source": []
  }
 ],
 "metadata": {
  "colab": {
   "provenance": []
  },
  "kernelspec": {
   "display_name": "python3-kernel-jul2024",
   "language": "python",
   "name": "python3-kernel-jul2024"
  },
  "language_info": {
   "codemirror_mode": {
    "name": "ipython",
    "version": 3
   },
   "file_extension": ".py",
   "mimetype": "text/x-python",
   "name": "python",
   "nbconvert_exporter": "python",
   "pygments_lexer": "ipython3",
   "version": "3.10.8"
  }
 },
 "nbformat": 4,
 "nbformat_minor": 4
}
