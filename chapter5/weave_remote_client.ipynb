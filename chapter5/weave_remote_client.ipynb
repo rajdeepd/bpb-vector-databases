{
 "cells": [
  {
   "cell_type": "code",
   "execution_count": 36,
   "id": "9b2a67e2-2d4d-4e89-b284-63b6e4844e5a",
   "metadata": {},
   "outputs": [],
   "source": [
    "import os\n",
    "#os.environ[\"DEBUSSY\"] = \"1\"\n",
    "#WCS_URL_GRPC=\"grpc://my-sandbox-ycjmjs7u.grpc.weaviate.network\"\n",
    "#WCS_URL_HTTPs = \"https://my-sandbox-ycjmjs7u.weaviate.network\"\n",
    "#os.environ[\"WCS_API_KEY\"]=\"...\"\n",
    "#os.environ[\"WCS_URL\"]=WCS_URL_HTTPs\n",
    "\n",
    "import os                                                                                                                                                                                                          \n",
    "from dotenv import load_dotenv, find_dotenv\n",
    "from pathlib import Path\n",
    "load_dotenv(Path(\".env\"))\n",
    "OPENAI_API_KEY= os.getenv(\"OPENAI_API_KEY\")\n",
    "os.environ[\"WCS_API_KEY\"] = os.getenv(\"WCS_API_KEY\")\n",
    "os.environ[\"WCS_URL\"] = os.getenv(\"WCS_URL\")"
   ]
  },
  {
   "cell_type": "code",
   "execution_count": 37,
   "id": "46b0a26f-b2f7-46eb-9494-cb5bacd0a053",
   "metadata": {},
   "outputs": [],
   "source": [
    "import weaviate\n",
    "import os\n",
    "\n",
    "# Set these environment variables\n",
    "URL = os.getenv(\"WCS_URL\")\n",
    "APIKEY = os.getenv(\"WCS_API_KEY\")\n",
    "\n",
    "  \n",
    "# Connect to a WCS instance\n",
    "client = weaviate.connect_to_wcs(\n",
    "    cluster_url=URL,\n",
    "    auth_credentials=weaviate.auth.AuthApiKey(APIKEY),\n",
    "     headers={\n",
    "        \"X-OpenAI-Api-Key\": OPENAI_API_KEY  # Replace with your API key\n",
    "    },\n",
    "\n",
    ")"
   ]
  },
  {
   "cell_type": "code",
   "execution_count": 38,
   "id": "ae56e5eb-e617-4603-804d-b80a22f8fc35",
   "metadata": {},
   "outputs": [
    {
     "data": {
      "text/plain": [
       "<weaviate.client.WeaviateClient at 0x121a45e10>"
      ]
     },
     "execution_count": 38,
     "metadata": {},
     "output_type": "execute_result"
    }
   ],
   "source": [
    "client"
   ]
  },
  {
   "cell_type": "code",
   "execution_count": 39,
   "id": "a26f33b8-2b9d-4878-959d-f4d5e4a42ac6",
   "metadata": {},
   "outputs": [
    {
     "data": {
      "text/plain": [
       "<weaviate.collections.collections._Collections at 0x121a815d0>"
      ]
     },
     "execution_count": 39,
     "metadata": {},
     "output_type": "execute_result"
    }
   ],
   "source": [
    "client.collections"
   ]
  },
  {
   "cell_type": "code",
   "execution_count": 40,
   "id": "b377117f-9320-49aa-8b53-2054417829b7",
   "metadata": {},
   "outputs": [],
   "source": [
    "if client.collections.exists(\"Question\"):\n",
    "    client.collections.delete(\"Question\")"
   ]
  },
  {
   "cell_type": "code",
   "execution_count": 41,
   "id": "d7c1fcd0-2d9c-44e2-ad95-8225d75e6c07",
   "metadata": {},
   "outputs": [
    {
     "data": {
      "text/plain": [
       "<weaviate.collections.collection.Collection at 0x121a8cc70>"
      ]
     },
     "execution_count": 41,
     "metadata": {},
     "output_type": "execute_result"
    }
   ],
   "source": [
    "# https://weaviate.io/developers/weaviate/manage-data/collections\n",
    "from weaviate.classes.config import Configure, Property, DataType\n",
    "client.collections.create(\n",
    "    \"Question\",\n",
    "    vectorizer_config=Configure.Vectorizer.text2vec_openai(),\n",
    "    generative_config=Configure.Generative.openai(),\n",
    "  \n",
    ")"
   ]
  },
  {
   "cell_type": "code",
   "execution_count": 42,
   "id": "042a467e-7ca9-4af2-8ab3-c0ea0e194f72",
   "metadata": {},
   "outputs": [
    {
     "data": {
      "text/plain": [
       "[{'Category': 'SCIENCE',\n",
       "  'Question': 'This organ removes excess glucose from the blood & stores it as glycogen',\n",
       "  'Answer': 'Liver'},\n",
       " {'Category': 'ANIMALS',\n",
       "  'Question': \"It's the only living mammal in the order Proboseidea\",\n",
       "  'Answer': 'Elephant'},\n",
       " {'Category': 'ANIMALS',\n",
       "  'Question': 'The gavial looks very much like a crocodile except for this bodily feature',\n",
       "  'Answer': 'the nose or snout'},\n",
       " {'Category': 'ANIMALS',\n",
       "  'Question': 'Weighing around a ton, the eland is the largest species of this animal in Africa',\n",
       "  'Answer': 'Antelope'},\n",
       " {'Category': 'ANIMALS',\n",
       "  'Question': 'Heaviest of all poisonous snakes is this North American rattlesnake',\n",
       "  'Answer': 'the diamondback rattler'},\n",
       " {'Category': 'SCIENCE',\n",
       "  'Question': \"2000 news: the Gunnison sage grouse isn't just another northern sage grouse, but a new one of this classification\",\n",
       "  'Answer': 'species'},\n",
       " {'Category': 'SCIENCE',\n",
       "  'Question': 'A metal that is ductile can be pulled into this while cold & under pressure',\n",
       "  'Answer': 'wire'},\n",
       " {'Category': 'SCIENCE',\n",
       "  'Question': 'In 1953 Watson & Crick built a model of the molecular structure of this, the gene-carrying substance',\n",
       "  'Answer': 'DNA'},\n",
       " {'Category': 'SCIENCE',\n",
       "  'Question': 'Changes in the tropospheric layer of this are what gives us weather',\n",
       "  'Answer': 'the atmosphere'},\n",
       " {'Category': 'SCIENCE',\n",
       "  'Question': 'In 70-degree air, a plane traveling at about 1,130 feet per second breaks it',\n",
       "  'Answer': 'Sound barrier'}]"
      ]
     },
     "execution_count": 42,
     "metadata": {},
     "output_type": "execute_result"
    }
   ],
   "source": [
    "# Load data\n",
    "import requests\n",
    "import json\n",
    "url = 'https://raw.githubusercontent.com/weaviate-tutorials/quickstart/main/data/jeopardy_tiny.json'\n",
    "resp = requests.get(url)\n",
    "data_rows = json.loads(resp.text)\n",
    "\n",
    "data_rows"
   ]
  },
  {
   "cell_type": "code",
   "execution_count": 43,
   "id": "89a80695-17f2-46f1-8e37-721068705e71",
   "metadata": {},
   "outputs": [
    {
     "data": {
      "text/plain": [
       "BatchObjectReturn(all_responses=[UUID('3befac67-ab2c-406f-86f3-adcbaf95efd0'), UUID('af7d2c8f-5b26-4d97-9468-afb5432832b0'), UUID('7f8b8f73-bebb-4028-9a7e-db01917718ba'), UUID('022f3af8-a46c-4dfe-a9d2-702eecbf40fe'), UUID('88595470-3774-4556-a363-75ddcd2b60eb'), UUID('d6937b5e-0c7a-4a03-975f-f4cf5b5e9fc1'), UUID('440d08c8-b5f2-4eec-b239-de6534586b55'), UUID('d108a367-4e65-4cb5-b239-074199037798'), UUID('3dd4a5d0-3395-4872-bb02-ed91635e681a'), UUID('a72a5258-0e8b-4973-84b6-a40eb855efe7')], elapsed_seconds=1.4890851974487305, errors={}, uuids={0: UUID('3befac67-ab2c-406f-86f3-adcbaf95efd0'), 1: UUID('af7d2c8f-5b26-4d97-9468-afb5432832b0'), 2: UUID('7f8b8f73-bebb-4028-9a7e-db01917718ba'), 3: UUID('022f3af8-a46c-4dfe-a9d2-702eecbf40fe'), 4: UUID('88595470-3774-4556-a363-75ddcd2b60eb'), 5: UUID('d6937b5e-0c7a-4a03-975f-f4cf5b5e9fc1'), 6: UUID('440d08c8-b5f2-4eec-b239-de6534586b55'), 7: UUID('d108a367-4e65-4cb5-b239-074199037798'), 8: UUID('3dd4a5d0-3395-4872-bb02-ed91635e681a'), 9: UUID('a72a5258-0e8b-4973-84b6-a40eb855efe7')}, has_errors=False)"
      ]
     },
     "execution_count": 43,
     "metadata": {},
     "output_type": "execute_result"
    }
   ],
   "source": [
    "resp = requests.get('https://raw.githubusercontent.com/weaviate-tutorials/quickstart/main/data/jeopardy_tiny.json')\n",
    "data = json.loads(resp.text)  # Load data\n",
    "\n",
    "question_objs = list()\n",
    "for i, d in enumerate(data):\n",
    "    question_objs.append({\n",
    "            \"answer\": d[\"Answer\"],\n",
    "            \"question\": d[\"Question\"],\n",
    "            \"category\": d[\"Category\"],\n",
    "    })\n",
    "\n",
    "questions = client.collections.get(\"Question\")\n",
    "questions.data.insert_many(question_objs)\n"
   ]
  },
  {
   "cell_type": "code",
   "execution_count": 45,
   "id": "c4daa293-5282-4ebe-8c29-546f2f66d671",
   "metadata": {},
   "outputs": [
    {
     "name": "stdout",
     "output_type": "stream",
     "text": [
      "{'answer': 'DNA', 'question': 'In 1953 Watson & Crick built a model of the molecular structure of this, the gene-carrying substance', 'category': 'SCIENCE'}\n",
      "in finally\n"
     ]
    }
   ],
   "source": [
    "import warnings\n",
    "warnings.filterwarnings('ignore')\n",
    "\n",
    "\n",
    "try:\n",
    "    # Connect to a WCS instance\n",
    "    client = weaviate.connect_to_wcs(\n",
    "        cluster_url=URL,\n",
    "        auth_credentials=weaviate.auth.AuthApiKey(APIKEY),\n",
    "         headers={\n",
    "            \"X-OpenAI-Api-Key\": OPENAI_API_KEY  # Replace with your API key\n",
    "        },\n",
    "    \n",
    "    )\n",
    "    pass # Replace with your code. Close client gracefully in the finally block.\n",
    "    questions = client.collections.get(\"Question\")\n",
    "\n",
    "    response = questions.query.near_text(\n",
    "        query=\"biology\",\n",
    "        limit=2\n",
    "    )\n",
    "\n",
    "    print(response.objects[0].properties)  # Inspect the first object\n",
    "\n",
    "finally:\n",
    "    print(\"in finally\")\n",
    "    #client.close()  # Close client gracefully\n"
   ]
  },
  {
   "cell_type": "code",
   "execution_count": null,
   "id": "051df2aa-e0e6-406f-ae29-9f4ae01f98bd",
   "metadata": {},
   "outputs": [],
   "source": []
  }
 ],
 "metadata": {
  "kernelspec": {
   "display_name": "python3-kernel-jul2024",
   "language": "python",
   "name": "python3-kernel-jul2024"
  },
  "language_info": {
   "codemirror_mode": {
    "name": "ipython",
    "version": 3
   },
   "file_extension": ".py",
   "mimetype": "text/x-python",
   "name": "python",
   "nbconvert_exporter": "python",
   "pygments_lexer": "ipython3",
   "version": "3.10.8"
  }
 },
 "nbformat": 4,
 "nbformat_minor": 5
}
