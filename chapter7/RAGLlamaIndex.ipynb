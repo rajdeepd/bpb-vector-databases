{
 "cells": [
  {
   "cell_type": "markdown",
   "id": "93360671-8713-421c-8c84-e430c5a96c80",
   "metadata": {},
   "source": [
    "# RAG llama-index and OpenAI\n",
    "\n",
    "A simple Retrieval Augmented Generation using Llama-index and OpenAI Key. The data is the first paragraph of the text available on: [https://en.wikipedia.org/wiki/Intuitive_Machines_Nova-C](https://en.wikipedia.org/wiki/Intuitive_Machines_Nova-C).\n"
   ]
  },
  {
   "cell_type": "code",
   "execution_count": 16,
   "id": "17fbd06a-5c2d-4e95-82b6-76c26a7a997b",
   "metadata": {},
   "outputs": [],
   "source": [
    "!python -m pip install -q llama-index llama-index-llms-openai"
   ]
  },
  {
   "cell_type": "code",
   "execution_count": 17,
   "id": "62c2ba76-82c3-46e4-9de6-07a150d869fa",
   "metadata": {},
   "outputs": [],
   "source": [
    "import nest_asyncio\n",
    "import os\n",
    "\n",
    "from dotenv import dotenv_values\n",
    "from llama_index.core import VectorStoreIndex, SimpleDirectoryReader, ServiceContext\n",
    "from llama_index.core.node_parser import SimpleNodeParser\n",
    "from llama_index.llms.openai import OpenAI"
   ]
  },
  {
   "cell_type": "code",
   "execution_count": 18,
   "id": "91e98cde-96d3-488d-93c3-c6e3a9607eb7",
   "metadata": {},
   "outputs": [],
   "source": [
    "nest_asyncio.apply()"
   ]
  },
  {
   "cell_type": "code",
   "execution_count": 19,
   "id": "cb711191-82f3-40e9-a9ca-0cbfd321cff2",
   "metadata": {},
   "outputs": [
    {
     "data": {
      "text/plain": [
       "'sk-proj-wu'"
      ]
     },
     "execution_count": 19,
     "metadata": {},
     "output_type": "execute_result"
    }
   ],
   "source": [
    "os.environ[\"API_KEY\"][:10]"
   ]
  },
  {
   "cell_type": "code",
   "execution_count": 20,
   "id": "1559f129-32a9-4f2e-b84c-148fc9b19709",
   "metadata": {},
   "outputs": [],
   "source": [
    "#os.environ[\"OPENAI_API_KEY\"] = dotenv_values(\".env\")[\"API_KEY\"]\n",
    "os.environ[\"OPENAI_API_KEY\"]=os.environ[\"API_KEY\"]"
   ]
  },
  {
   "cell_type": "code",
   "execution_count": 21,
   "id": "d90ae6a6-2ed6-4b1c-bc79-56006792bf6f",
   "metadata": {},
   "outputs": [
    {
     "name": "stdout",
     "output_type": "stream",
     "text": [
      "/Users/rdua/work/github/BrenoAV/RAG-llama-index-openai/notebooks\n"
     ]
    }
   ],
   "source": [
    "!pwd"
   ]
  },
  {
   "cell_type": "code",
   "execution_count": 22,
   "id": "34091551-3313-4a0d-91aa-4a1102f2e16e",
   "metadata": {},
   "outputs": [],
   "source": [
    "documents = SimpleDirectoryReader(\"../data/\").load_data()\n",
    "\n",
    "# Define a LLM\n",
    "llm = OpenAI(model=\"gpt-3.5-turbo\")"
   ]
  },
  {
   "cell_type": "code",
   "execution_count": 23,
   "id": "a6321745-f12e-49a3-8623-41c6eb26bb70",
   "metadata": {},
   "outputs": [],
   "source": [
    "node_parser = SimpleNodeParser.from_defaults(chunk_size=512)\n",
    "nodes = node_parser.get_nodes_from_documents(documents=documents)\n",
    "vector_index = VectorStoreIndex(nodes)"
   ]
  },
  {
   "cell_type": "code",
   "execution_count": 24,
   "id": "e8b21b8d-118b-4ac5-a966-326271ae7754",
   "metadata": {},
   "outputs": [],
   "source": [
    "query_engine = vector_index.as_query_engine(similitary_top_k=2)"
   ]
  },
  {
   "cell_type": "code",
   "execution_count": 25,
   "id": "2621f12e-f18a-4e34-ad97-7706905f58af",
   "metadata": {},
   "outputs": [],
   "source": [
    "response_vector = query_engine.query(\"Which day was Odysseus launched?\")"
   ]
  },
  {
   "cell_type": "code",
   "execution_count": 26,
   "id": "35c1b2e6-8fe4-4f02-83a5-5e5fabb98d18",
   "metadata": {},
   "outputs": [
    {
     "data": {
      "text/plain": [
       "'Odysseus was launched on 15 February 2024.'"
      ]
     },
     "execution_count": 26,
     "metadata": {},
     "output_type": "execute_result"
    }
   ],
   "source": [
    "response_vector.response"
   ]
  }
 ],
 "metadata": {
  "kernelspec": {
   "display_name": "my-python3-kernel",
   "language": "python",
   "name": "my-python3-kernel"
  },
  "language_info": {
   "codemirror_mode": {
    "name": "ipython",
    "version": 3
   },
   "file_extension": ".py",
   "mimetype": "text/x-python",
   "name": "python",
   "nbconvert_exporter": "python",
   "pygments_lexer": "ipython3",
   "version": "3.10.8"
  }
 },
 "nbformat": 4,
 "nbformat_minor": 5
}
