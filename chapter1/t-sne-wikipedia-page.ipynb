{
 "cells": [
  {
   "cell_type": "code",
   "execution_count": 1,
   "id": "5e4e9bc6",
   "metadata": {},
   "outputs": [],
   "source": [
    "import re\n",
    "import nltk\n",
    "import bs4 as bs\n",
    "import numpy as np\n",
    "import urllib.request\n",
    "from nltk.corpus import stopwords\n",
    "from sklearn.manifold import TSNE\n",
    "from gensim.models import word2vec\n",
    "\n",
    "import matplotlib.pyplot as plt\n",
    "import matplotlib.cm as cm"
   ]
  },
  {
   "cell_type": "code",
   "execution_count": 2,
   "id": "9a97d65f",
   "metadata": {},
   "outputs": [],
   "source": [
    "scrapped_data = urllib.request.urlopen('https://en.wikipedia.org/wiki/Artificial_intelligence')\n",
    "article = scrapped_data.read()\n",
    "\n",
    "parsed_article = bs.BeautifulSoup(article, 'lxml')"
   ]
  },
  {
   "cell_type": "code",
   "execution_count": 4,
   "id": "a5a08127",
   "metadata": {},
   "outputs": [],
   "source": [
    "#parsed_article\n",
    "# Since wikipedia stores the textual data we need in `p` tags, \n",
    "# we extract the data using find_all('p')\n",
    "paragraphs = parsed_article.find_all('p')\n",
    "\n",
    "\n",
    "# append the paragraphs in article_text\n",
    "article_text = \"\"\n",
    "for p in paragraphs:\n",
    "    article_text += p.text"
   ]
  },
  {
   "cell_type": "code",
   "execution_count": 5,
   "id": "f0f5a733",
   "metadata": {},
   "outputs": [],
   "source": [
    "# Convert the data to uniform case\n",
    "processed_article = article_text.lower()\n",
    "processed_article = re.sub('[^a-zA-Z]', ' ', processed_article )\n",
    "processed_article = re.sub(r'\\s+', ' ', processed_article)\n",
    "\n",
    "# Preparing the dataset\n",
    "all_sentences = nltk.sent_tokenize(processed_article)\n",
    "\n",
    "all_words = [nltk.word_tokenize(sent) for sent in all_sentences]\n",
    "\n",
    "# Removing Stop Words\n",
    "for i in range(len(all_words)):\n",
    "    all_words[i] = [w for w in all_words[i] if w not in stopwords.words('english')]"
   ]
  },
  {
   "cell_type": "code",
   "execution_count": 6,
   "id": "146b418d",
   "metadata": {},
   "outputs": [],
   "source": [
    "model = word2vec.Word2Vec(all_words, min_count=2, workers=4)"
   ]
  },
  {
   "cell_type": "code",
   "execution_count": 7,
   "id": "eb395d67",
   "metadata": {},
   "outputs": [
    {
     "data": {
      "text/plain": [
       "array([-0.00762345,  0.01047811,  0.00666896,  0.00848096, -0.00780368,\n",
       "       -0.02222182,  0.0104617 ,  0.03076461, -0.00989749, -0.00475488,\n",
       "       -0.00074642, -0.0152205 , -0.00177818,  0.00914606, -0.0054801 ,\n",
       "       -0.01189275,  0.00377127, -0.01137445, -0.00828253, -0.02775465,\n",
       "        0.01209723,  0.00902934,  0.00915667, -0.00228567,  0.00040818,\n",
       "       -0.003234  , -0.00957503, -0.00293981, -0.01548859, -0.00319202,\n",
       "        0.00073232,  0.0032101 ,  0.01058822, -0.01132813, -0.00711148,\n",
       "        0.00956236,  0.00429313, -0.01432899, -0.00783644, -0.02337735,\n",
       "       -0.00897867, -0.00088692, -0.01098563, -0.00556314,  0.00725562,\n",
       "       -0.0026099 , -0.01183441,  0.00686698,  0.01182507,  0.01604813,\n",
       "       -0.00499676, -0.00411363, -0.00290904,  0.00044424,  0.00018361,\n",
       "        0.00089123,  0.00821391, -0.00838053, -0.0196571 ,  0.01179695,\n",
       "        0.00383201,  0.00227309, -0.00431515, -0.00965313, -0.01388947,\n",
       "        0.00607217,  0.00319416,  0.01517875, -0.01514189,  0.0117747 ,\n",
       "       -0.0007095 ,  0.01200189,  0.01064935, -0.01331639,  0.01518571,\n",
       "        0.00627861,  0.00768002, -0.00535447, -0.01172425, -0.0033556 ,\n",
       "       -0.00219638,  0.00018855, -0.00570327,  0.02291848, -0.00688343,\n",
       "        0.00067348,  0.00843868,  0.00904716,  0.00936932,  0.01201928,\n",
       "        0.01382195,  0.00678905,  0.0036749 ,  0.00227256,  0.02705492,\n",
       "        0.01715557, -0.00582944, -0.01854012,  0.00870539,  0.00445479],\n",
       "      dtype=float32)"
      ]
     },
     "execution_count": 7,
     "metadata": {},
     "output_type": "execute_result"
    }
   ],
   "source": [
    "# we use wv to get the vector ouput for a given word\n",
    "demo_wv_vector = model.wv[\"ai\"]\n",
    "demo_wv_vector "
   ]
  },
  {
   "cell_type": "code",
   "execution_count": 8,
   "id": "b7c88e58",
   "metadata": {},
   "outputs": [
    {
     "data": {
      "text/plain": [
       "(100,)"
      ]
     },
     "execution_count": 8,
     "metadata": {},
     "output_type": "execute_result"
    }
   ],
   "source": [
    "demo_wv_vector.shape"
   ]
  },
  {
   "cell_type": "code",
   "execution_count": 37,
   "id": "0db6aa5e",
   "metadata": {},
   "outputs": [],
   "source": [
    "def tsne_plot():\n",
    "    labels = []\n",
    "    tokens = []\n",
    "    \n",
    "    # Extracting words and their vectors from our trained model \n",
    "    for word in model.wv.index_to_key:\n",
    "        tokens.append(model.wv[word])\n",
    "        labels.append(word)\n",
    "    tokens_np = np.array(tokens)\n",
    "    print(tokens_np.shape)\n",
    "    # Train t-SNE \n",
    "    #tsne_model = TSNE(perplexity=45, n_components=2, init='pca', n_iter=2500, random_state=23)\n",
    "    tsne_model = TSNE(perplexity=19,n_components=2, init='pca', n_iter=2500, random_state=23)\n",
    "    new_values = tsne_model.fit_transform(tokens_np)\n",
    "    x = []\n",
    "    y = []\n",
    "    \n",
    "    for value in new_values:\n",
    "        x.append(value[0])\n",
    "        y.append(value[1])\n",
    "        \n",
    "    plt.figure(figsize=(6, 6)) \n",
    "    for i in range(len(x)):\n",
    "        plt.scatter(x[i],y[i])\n",
    "        plt.annotate(labels[i],\n",
    "                     xy=(x[i], y[i]),\n",
    "                     xytext=(5, 2),\n",
    "                     textcoords='offset points',\n",
    "                     ha='right',\n",
    "                     va='bottom')\n",
    "        plt.xlabel(\"dimension 1\")\n",
    "        plt.ylabel(\"dimension 2\")\n",
    "    plt.show()"
   ]
  },
  {
   "cell_type": "code",
   "execution_count": 43,
   "id": "a8a63583",
   "metadata": {},
   "outputs": [
    {
     "name": "stdout",
     "output_type": "stream",
     "text": [
      "(26, 100)\n"
     ]
    },
    {
     "data": {
      "image/png": "[encoded data removed]",
      "text/plain": [
       "<Figure size 432x432 with 1 Axes>"
      ]
     },
     "metadata": {
      "needs_background": "light"
     },
     "output_type": "display_data"
    }
   ],
   "source": [
    "# Words that occur atleast 20 times\n",
    "model = word2vec.Word2Vec(all_words, window=18, min_count=18, workers=4)\n",
    "tsne_plot()"
   ]
  },
  {
   "cell_type": "code",
   "execution_count": null,
   "id": "842cd9f9",
   "metadata": {},
   "outputs": [],
   "source": []
  }
 ],
 "metadata": {
  "kernelspec": {
   "display_name": "Python 3",
   "language": "python",
   "name": "python3"
  },
  "language_info": {
   "codemirror_mode": {
    "name": "ipython",
    "version": 3
   },
   "file_extension": ".py",
   "mimetype": "text/x-python",
   "name": "python",
   "nbconvert_exporter": "python",
   "pygments_lexer": "ipython3",
   "version": "3.9.12"
  }
 },
 "nbformat": 4,
 "nbformat_minor": 5
}
