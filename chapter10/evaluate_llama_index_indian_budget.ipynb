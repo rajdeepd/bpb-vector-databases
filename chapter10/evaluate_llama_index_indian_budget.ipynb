{
  "nbformat": 4,
  "nbformat_minor": 0,
  "metadata": {
    "colab": {
      "provenance": [],
      "include_colab_link": true
    },
    "kernelspec": {
      "name": "python3",
      "display_name": "Python 3"
    },
    "language_info": {
      "name": "python"
    }
  },
  "cells": [
    {
      "cell_type": "markdown",
      "metadata": {
        "id": "view-in-github",
        "colab_type": "text"
      },
      "source": [
        "<a href=\"https://colab.research.google.com/github/rajdeepd/bpb-vector-databases/blob/main/chapter10/evaluate_llama_index_indian_budget.ipynb\" target=\"_parent\"><img src=\"https://colab.research.google.com/assets/colab-badge.svg\" alt=\"Open In Colab\"/></a>"
      ]
    },
    {
      "cell_type": "code",
      "execution_count": 1,
      "metadata": {
        "id": "5D8OtrFwl05l",
        "outputId": "1de5e75c-65b8-4879-914e-b4fb95cd1d94",
        "colab": {
          "base_uri": "https://localhost:8080/"
        }
      },
      "outputs": [
        {
          "output_type": "stream",
          "name": "stdout",
          "text": [
            "\u001b[2K   \u001b[90m━━━━━━━━━━━━━━━━━━━━━━━━━━━━━━━━━━━━━━━━\u001b[0m \u001b[32m1.6/1.6 MB\u001b[0m \u001b[31m22.1 MB/s\u001b[0m eta \u001b[36m0:00:00\u001b[0m\n",
            "\u001b[2K   \u001b[90m━━━━━━━━━━━━━━━━━━━━━━━━━━━━━━━━━━━━━━━━\u001b[0m \u001b[32m250.6/250.6 kB\u001b[0m \u001b[31m14.8 MB/s\u001b[0m eta \u001b[36m0:00:00\u001b[0m\n",
            "\u001b[2K   \u001b[90m━━━━━━━━━━━━━━━━━━━━━━━━━━━━━━━━━━━━━━━━\u001b[0m \u001b[32m298.7/298.7 kB\u001b[0m \u001b[31m18.7 MB/s\u001b[0m eta \u001b[36m0:00:00\u001b[0m\n",
            "\u001b[2K   \u001b[90m━━━━━━━━━━━━━━━━━━━━━━━━━━━━━━━━━━━━━━━━\u001b[0m \u001b[32m1.2/1.2 MB\u001b[0m \u001b[31m36.5 MB/s\u001b[0m eta \u001b[36m0:00:00\u001b[0m\n",
            "\u001b[2K   \u001b[90m━━━━━━━━━━━━━━━━━━━━━━━━━━━━━━━━━━━━━━━━\u001b[0m \u001b[32m50.8/50.8 kB\u001b[0m \u001b[31m3.2 MB/s\u001b[0m eta \u001b[36m0:00:00\u001b[0m\n",
            "\u001b[?25h"
          ]
        }
      ],
      "source": [
        "!pip install -q llama-index"
      ]
    },
    {
      "cell_type": "code",
      "source": [
        "import nest_asyncio\n",
        "\n",
        "nest_asyncio.apply()\n",
        "\n",
        "from llama_index.core.evaluation import generate_question_context_pairs\n",
        "from llama_index.core import VectorStoreIndex, SimpleDirectoryReader, ServiceContext\n",
        "from llama_index.core.node_parser import SimpleNodeParser\n",
        "from llama_index.core.evaluation import generate_question_context_pairs\n",
        "from llama_index.core.evaluation import RetrieverEvaluator\n",
        "from llama_index.llms.openai import OpenAI\n",
        "\n",
        "import os\n",
        "import pandas as pd"
      ],
      "metadata": {
        "id": "U7Evow7CmDkj"
      },
      "execution_count": 2,
      "outputs": []
    },
    {
      "cell_type": "code",
      "source": [
        "from google.colab import userdata\n",
        "OPENAI_API_KEY=userdata.get('OPENAI_API_KEY')\n",
        "len(OPENAI_API_KEY)"
      ],
      "metadata": {
        "colab": {
          "base_uri": "https://localhost:8080/"
        },
        "id": "JxlcJPaZb_m7",
        "outputId": "04f4f80c-be2b-4038-c9bd-700bcecfd5af"
      },
      "execution_count": 3,
      "outputs": [
        {
          "output_type": "execute_result",
          "data": {
            "text/plain": [
              "164"
            ]
          },
          "metadata": {},
          "execution_count": 3
        }
      ]
    },
    {
      "cell_type": "markdown",
      "source": [
        "# **Set OpenAI api key**"
      ],
      "metadata": {
        "id": "5Q7tBgeKm6mS"
      }
    },
    {
      "cell_type": "code",
      "source": [
        "os.environ['OPENAI_API_KEY'] = OPENAI_API_KEY"
      ],
      "metadata": {
        "id": "dIDjKGj8mGNj"
      },
      "execution_count": 4,
      "outputs": []
    },
    {
      "cell_type": "markdown",
      "source": [
        "[link text](https://)# **Indian Budget Speech from 2025.**\n",
        "\n",
        "# **Download Data**"
      ],
      "metadata": {
        "id": "IzcgZggwnLI4"
      }
    },
    {
      "cell_type": "code",
      "source": [
        "# Load the Drive helper and mount\n",
        "from google.colab import drive\n",
        "\n",
        "# This will prompt for authorization.\n",
        "drive.mount('/content/drive')"
      ],
      "metadata": {
        "id": "CPGqcf0kkdR1"
      },
      "execution_count": null,
      "outputs": []
    },
    {
      "cell_type": "code",
      "source": [
        "!ls \"/content/indian_budget\""
      ],
      "metadata": {
        "id": "74qLcEaYkmuC",
        "outputId": "fd437475-ffb2-44bd-b2bc-1153ab25504d",
        "colab": {
          "base_uri": "https://localhost:8080/"
        }
      },
      "execution_count": 11,
      "outputs": [
        {
          "output_type": "stream",
          "name": "stdout",
          "text": [
            "indian_budget_speech_2025.md\n"
          ]
        }
      ]
    },
    {
      "cell_type": "code",
      "source": [
        "#!mkdir -p 'data/paul_graham/'\n",
        "#!curl 'https://raw.githubusercontent.com/run-llama/llama_index/main/docs/examples/data/paul_graham/paul_graham_essay.txt' -o 'data/paul_graham/paul_graham_essay.txt'\n",
        "\n",
        "# jig book data link https://drive.google.com/file/d/1e6fezR9seps-X4IOTdxRgA86QGVoW6_d/view?usp=sharing"
      ],
      "metadata": {
        "id": "gnqNXUfunVGn"
      },
      "execution_count": 9,
      "outputs": []
    },
    {
      "cell_type": "markdown",
      "source": [
        "# **Load Data and Build Index.**"
      ],
      "metadata": {
        "id": "PF2pRwM0nZXZ"
      }
    },
    {
      "cell_type": "code",
      "source": [
        "documents = SimpleDirectoryReader(\"/content/indian_budget\").load_data()\n",
        "#documents = SimpleDirectoryReader(\"/content\").load_data()\n",
        "\n",
        "\n",
        "# Define an LLM\n",
        "llm = OpenAI(model=\"gpt-4\")\n",
        "\n",
        "# Build index with a chunk_size of 512\n",
        "node_parser = SimpleNodeParser.from_defaults(chunk_size=512)\n",
        "nodes = node_parser.get_nodes_from_documents(documents)\n",
        "vector_index = VectorStoreIndex(nodes)"
      ],
      "metadata": {
        "id": "_d9-jp0pnbnZ"
      },
      "execution_count": 13,
      "outputs": []
    },
    {
      "cell_type": "code",
      "source": [
        "nodes"
      ],
      "metadata": {
        "id": "DUVqDhzOlzg8",
        "outputId": "0a2c873d-4acb-41cc-e648-bcb8418eee8a",
        "colab": {
          "base_uri": "https://localhost:8080/"
        }
      },
      "execution_count": 14,
      "outputs": [
        {
          "output_type": "execute_result",
          "data": {
            "text/plain": [
              "[TextNode(id_='ae5303ea-6585-463b-81a6-eb1e637796a4', embedding=None, metadata={'file_path': '/content/indian_budget/indian_budget_speech_2025.md', 'file_name': 'indian_budget_speech_2025.md', 'file_type': 'text/markdown', 'file_size': 35217, 'creation_date': '2025-02-01', 'last_modified_date': '2025-02-01'}, excluded_embed_metadata_keys=['file_name', 'file_type', 'file_size', 'creation_date', 'last_modified_date', 'last_accessed_date'], excluded_llm_metadata_keys=['file_name', 'file_type', 'file_size', 'creation_date', 'last_modified_date', 'last_accessed_date'], relationships={<NodeRelationship.SOURCE: '1'>: RelatedNodeInfo(node_id='83223605-0601-474b-a04d-17674ed10d62', node_type=<ObjectType.DOCUMENT: '4'>, metadata={'file_path': '/content/indian_budget/indian_budget_speech_2025.md', 'file_name': 'indian_budget_speech_2025.md', 'file_type': 'text/markdown', 'file_size': 35217, 'creation_date': '2025-02-01', 'last_modified_date': '2025-02-01'}, hash='a911eb1601af3bc747d7ab1af5c3427d6a17ce5fe73b175a08f3ddfbe6b037bd'), <NodeRelationship.NEXT: '3'>: RelatedNodeInfo(node_id='2a74b01f-5da3-49a5-bae5-61fd97aeee94', node_type=<ObjectType.TEXT: '1'>, metadata={}, hash='7d89d2f7dc5c4866050e0aa30344a1acabf5ff60e18a13ed097bbd34d49e5a0b')}, metadata_template='{key}: {value}', metadata_separator='\\n', text=\"# सत्यमेव जयते\\nGOVERNMENT OF INDIA\\nBUDGET 2025-2026\\nSPEECH\\nOF\\nNIRMALA SITHARAMAN\\nMINISTER OF FINANCE\\nFebruary 1, 2025\\n\\n---\\n\\n**CONTENTS**\\n\\nPART - A\\n\\n|                       | Page No. |\\n|-----------------------|----------|\\n| Introduction          | 1        |\\n| Budget Theme          | 1        |\\n| Agriculture as the 1st engine | 3        |\\n| MSMEs as the 2nd engine  | 6        |\\n| Investment as the 3rd engine | 8        |\\n| A. Investing in People    | 8        |\\n| B. Investing in the Economy  | 10       |\\n| C. Investing in Innovation | 14       |\\n| Exports as the 4th engine  | 15       |\\n| Reforms as the Fuel  | 16       |\\n| Fiscal Policy          | 18       |\\n\\nPART - B\\n\\n|                           |     |\\n|---------------------------|-----|\\n| Indirect taxes            | 20  |\\n| Direct Taxes              | 23  |\\n| Annexure to Part-A        | 29  |\\n| Annexure to Part-B        | 31  |\\n\\n---\\nBudget 2025-2026\\n\\nSpeech of\\nNirmala Sitharaman\\nMinister of Finance\\n\\nFebruary 1, 2025\\n\\nHon'ble Speaker,\\nI present the Budget for 2025-26.\\nIntroduction\\n1.\\nThis Budget continues our Government's efforts to:\\na) accelerate growth,\\nb) secure inclusive development,\\nc) invigorate private sector investments,\\nd) uplift household sentiments, and\\ne) enhance spending power of India's rising middle class.\\n2. Together, we embark on a journey to unlock our nation's tremendous\\npotential for greater prosperity and global positioning under the leadership of\\nHon'ble Prime Minister Shri Narendra Modi.\\n3. As we complete the first quarter of the 21st century, continuing\\ngeopolitical headwinds suggest lower global economic growth over the\\nmedium term. However, our aspiration for a Viksit Bharat inspires us, and the\\ntransformative work we have done during our Government's first two terms\\nguides us, to march forward resolutely.\", mimetype='text/plain', start_char_idx=0, end_char_idx=1815, metadata_seperator='\\n', text_template='{metadata_str}\\n\\n{content}'),\n",
              " TextNode(id_='2a74b01f-5da3-49a5-bae5-61fd97aeee94', embedding=None, metadata={'file_path': '/content/indian_budget/indian_budget_speech_2025.md', 'file_name': 'indian_budget_speech_2025.md', 'file_type': 'text/markdown', 'file_size': 35217, 'creation_date': '2025-02-01', 'last_modified_date': '2025-02-01'}, excluded_embed_metadata_keys=['file_name', 'file_type', 'file_size', 'creation_date', 'last_modified_date', 'last_accessed_date'], excluded_llm_metadata_keys=['file_name', 'file_type', 'file_size', 'creation_date', 'last_modified_date', 'last_accessed_date'], relationships={<NodeRelationship.SOURCE: '1'>: RelatedNodeInfo(node_id='83223605-0601-474b-a04d-17674ed10d62', node_type=<ObjectType.DOCUMENT: '4'>, metadata={'file_path': '/content/indian_budget/indian_budget_speech_2025.md', 'file_name': 'indian_budget_speech_2025.md', 'file_type': 'text/markdown', 'file_size': 35217, 'creation_date': '2025-02-01', 'last_modified_date': '2025-02-01'}, hash='a911eb1601af3bc747d7ab1af5c3427d6a17ce5fe73b175a08f3ddfbe6b037bd'), <NodeRelationship.PREVIOUS: '2'>: RelatedNodeInfo(node_id='ae5303ea-6585-463b-81a6-eb1e637796a4', node_type=<ObjectType.TEXT: '1'>, metadata={'file_path': '/content/indian_budget/indian_budget_speech_2025.md', 'file_name': 'indian_budget_speech_2025.md', 'file_type': 'text/markdown', 'file_size': 35217, 'creation_date': '2025-02-01', 'last_modified_date': '2025-02-01'}, hash='7d91e84ba2ba4d9db08cbe93db2fdecef2b88637b50ec28db4b3d2901e4bea0c'), <NodeRelationship.NEXT: '3'>: RelatedNodeInfo(node_id='3a891607-c95a-425e-9f6e-1549a948b170', node_type=<ObjectType.TEXT: '1'>, metadata={}, hash='bbe782a619e9b5e182f0804b60f32c97afaf35312112dde57ab38702103aced5')}, metadata_template='{key}: {value}', metadata_separator='\\n', text=\"Introduction\\n1.\\nThis Budget continues our Government's efforts to:\\na) accelerate growth,\\nb) secure inclusive development,\\nc) invigorate private sector investments,\\nd) uplift household sentiments, and\\ne) enhance spending power of India's rising middle class.\\n2. Together, we embark on a journey to unlock our nation's tremendous\\npotential for greater prosperity and global positioning under the leadership of\\nHon'ble Prime Minister Shri Narendra Modi.\\n3. As we complete the first quarter of the 21st century, continuing\\ngeopolitical headwinds suggest lower global economic growth over the\\nmedium term. However, our aspiration for a Viksit Bharat inspires us, and the\\ntransformative work we have done during our Government's first two terms\\nguides us, to march forward resolutely.\\nBudget Theme\\n4. Our economy is the fastest-growing among all major global economies.\\nOur development track record of the past 10 years and structural reforms have\\ndrawn global attention. Confidence in India's capability and potential has only\\n\\n2\\ngrown in this period. We see the next five years as a unique opportunity to\\nrealize 'Sabka Vikas', stimulating balanced growth of all regions.\\n5. The great Telugu poet and playwright Gurajada Appa Rao had said,\\n'Desamante Matti Kaadoi, Desamante Manushuloi”; meaning, ‘A country is not\\njust its soil, a country is its people.' In line with this, for us, Viksit Bharat,\\nencompasses:\\na) zero-poverty;\\nb) hundred per cent good quality school education;\\nc) access to high-quality, affordable, and comprehensive healthcare;\\nd) hundred per cent skilled labour with meaningful employment;\\ne) seventy per cent women in economic activities; and\\nf) farmers making our country the 'food basket of the world'.\\n6. In this Budget, the proposed development measures span ten broad\\nareas focusing on Garib, Youth, Annadata and Nari.\\n7.\", mimetype='text/plain', start_char_idx=1037, end_char_idx=2881, metadata_seperator='\\n', text_template='{metadata_str}\\n\\n{content}'),\n",
              " TextNode(id_='3a891607-c95a-425e-9f6e-1549a948b170', embedding=None, metadata={'file_path': '/content/indian_budget/indian_budget_speech_2025.md', 'file_name': 'indian_budget_speech_2025.md', 'file_type': 'text/markdown', 'file_size': 35217, 'creation_date': '2025-02-01', 'last_modified_date': '2025-02-01'}, excluded_embed_metadata_keys=['file_name', 'file_type', 'file_size', 'creation_date', 'last_modified_date', 'last_accessed_date'], excluded_llm_metadata_keys=['file_name', 'file_type', 'file_size', 'creation_date', 'last_modified_date', 'last_accessed_date'], relationships={<NodeRelationship.SOURCE: '1'>: RelatedNodeInfo(node_id='83223605-0601-474b-a04d-17674ed10d62', node_type=<ObjectType.DOCUMENT: '4'>, metadata={'file_path': '/content/indian_budget/indian_budget_speech_2025.md', 'file_name': 'indian_budget_speech_2025.md', 'file_type': 'text/markdown', 'file_size': 35217, 'creation_date': '2025-02-01', 'last_modified_date': '2025-02-01'}, hash='a911eb1601af3bc747d7ab1af5c3427d6a17ce5fe73b175a08f3ddfbe6b037bd'), <NodeRelationship.PREVIOUS: '2'>: RelatedNodeInfo(node_id='2a74b01f-5da3-49a5-bae5-61fd97aeee94', node_type=<ObjectType.TEXT: '1'>, metadata={'file_path': '/content/indian_budget/indian_budget_speech_2025.md', 'file_name': 'indian_budget_speech_2025.md', 'file_type': 'text/markdown', 'file_size': 35217, 'creation_date': '2025-02-01', 'last_modified_date': '2025-02-01'}, hash='5c0e33a4d7a4d541e87a1a314b62729cc740fb882704bdde3ff9a5b46c99211f'), <NodeRelationship.NEXT: '3'>: RelatedNodeInfo(node_id='c7746460-c80f-40d4-b200-d5d6b8cd1c5e', node_type=<ObjectType.TEXT: '1'>, metadata={}, hash='b942142fa8b36620aafedc737cd383dd12edb19262c7a0fd06d7baae63eb1c23')}, metadata_template='{key}: {value}', metadata_separator='\\n', text=\"We see the next five years as a unique opportunity to\\nrealize 'Sabka Vikas', stimulating balanced growth of all regions.\\n5. The great Telugu poet and playwright Gurajada Appa Rao had said,\\n'Desamante Matti Kaadoi, Desamante Manushuloi”; meaning, ‘A country is not\\njust its soil, a country is its people.' In line with this, for us, Viksit Bharat,\\nencompasses:\\na) zero-poverty;\\nb) hundred per cent good quality school education;\\nc) access to high-quality, affordable, and comprehensive healthcare;\\nd) hundred per cent skilled labour with meaningful employment;\\ne) seventy per cent women in economic activities; and\\nf) farmers making our country the 'food basket of the world'.\\n6. In this Budget, the proposed development measures span ten broad\\nareas focusing on Garib, Youth, Annadata and Nari.\\n7.\\n1) Spurring Agricultural Growth and Productivity;\\n2) Building Rural Prosperity and Resilience;\\n3) Taking Everyone Together on an Inclusive Growth path;\\n4) Boosting Manufacturing and Furthering Make in India;\\n5) Supporting MSMEs;\\n6) Enabling Employment-led Development;\\n7) Investing in people, economy and innovation;\\n8) Securing Energy Supplies;\\n9) Promoting Exports; and\\n10) Nurturing Innovation.\\nFor this journey of development,\\na) Our four powerful engines are: Agriculture, MSME, Investment, and\\nExports\\nb) The fuel: our Reforms\\nc) Our guiding spirit: Inclusivity\\nd) And the destination: Viksit Bharat\\n\\n3\\n8. This Budget aims to initiate transformative reforms across six domains.\\nDuring the next five years, these will augment our growth potential and global\\ncompetitiveness. The domains are:\\n1) Taxation;\\n2) Power Sector;\\n3) Urban Development;\\n4) Mining;\\n5) Financial Sector; and\\n6) Regulatory Reforms.\\nAgriculture as the 1st Engine\\n9. Now I move to specific proposals, beginning with ‘Agriculture as the 1st\\nEngine'.\\nPrime Minister Dhan-Dhaanya Krishi Yojana - Developing Agri Districts\\nProgramme\\n10.\", mimetype='text/plain', start_char_idx=2084, end_char_idx=3988, metadata_seperator='\\n', text_template='{metadata_str}\\n\\n{content}'),\n",
              " TextNode(id_='c7746460-c80f-40d4-b200-d5d6b8cd1c5e', embedding=None, metadata={'file_path': '/content/indian_budget/indian_budget_speech_2025.md', 'file_name': 'indian_budget_speech_2025.md', 'file_type': 'text/markdown', 'file_size': 35217, 'creation_date': '2025-02-01', 'last_modified_date': '2025-02-01'}, excluded_embed_metadata_keys=['file_name', 'file_type', 'file_size', 'creation_date', 'last_modified_date', 'last_accessed_date'], excluded_llm_metadata_keys=['file_name', 'file_type', 'file_size', 'creation_date', 'last_modified_date', 'last_accessed_date'], relationships={<NodeRelationship.SOURCE: '1'>: RelatedNodeInfo(node_id='83223605-0601-474b-a04d-17674ed10d62', node_type=<ObjectType.DOCUMENT: '4'>, metadata={'file_path': '/content/indian_budget/indian_budget_speech_2025.md', 'file_name': 'indian_budget_speech_2025.md', 'file_type': 'text/markdown', 'file_size': 35217, 'creation_date': '2025-02-01', 'last_modified_date': '2025-02-01'}, hash='a911eb1601af3bc747d7ab1af5c3427d6a17ce5fe73b175a08f3ddfbe6b037bd'), <NodeRelationship.PREVIOUS: '2'>: RelatedNodeInfo(node_id='3a891607-c95a-425e-9f6e-1549a948b170', node_type=<ObjectType.TEXT: '1'>, metadata={'file_path': '/content/indian_budget/indian_budget_speech_2025.md', 'file_name': 'indian_budget_speech_2025.md', 'file_type': 'text/markdown', 'file_size': 35217, 'creation_date': '2025-02-01', 'last_modified_date': '2025-02-01'}, hash='922526d79ba5f407306636b4dface060b0006a295b258398039e348c41bce3a5'), <NodeRelationship.NEXT: '3'>: RelatedNodeInfo(node_id='be862802-795a-4242-9f19-73ac54cdbbe5', node_type=<ObjectType.TEXT: '1'>, metadata={}, hash='5b9751b37e8604ec9eabaca6fd3f234bb8872adfaf3289fc0db3563386bfca1e')}, metadata_template='{key}: {value}', metadata_separator='\\n', text=\"For this journey of development,\\na) Our four powerful engines are: Agriculture, MSME, Investment, and\\nExports\\nb) The fuel: our Reforms\\nc) Our guiding spirit: Inclusivity\\nd) And the destination: Viksit Bharat\\n\\n3\\n8. This Budget aims to initiate transformative reforms across six domains.\\nDuring the next five years, these will augment our growth potential and global\\ncompetitiveness. The domains are:\\n1) Taxation;\\n2) Power Sector;\\n3) Urban Development;\\n4) Mining;\\n5) Financial Sector; and\\n6) Regulatory Reforms.\\nAgriculture as the 1st Engine\\n9. Now I move to specific proposals, beginning with ‘Agriculture as the 1st\\nEngine'.\\nPrime Minister Dhan-Dhaanya Krishi Yojana - Developing Agri Districts\\nProgramme\\n10. Motivated by the success of the Aspirational Districts Programme, our\\nGovernment will undertake a 'Prime Minister Dhan-Dhaanya Krishi Yojana' in\\npartnership with states. Through the convergence of existing schemes and\\nspecialized measures, the programme will cover 100 districts with low\\nproductivity, moderate crop intensity and below-average credit parameters. It\\naims to (1) enhance agricultural productivity, (2) adopt crop diversification and\\nsustainable agriculture practices, (3) augment post-harvest storage at the\\npanchayat and block level, (4) improve irrigation facilities, and (5) facilitate\\navailability of long-term and short-term credit. This programme is likely to help\\n1.7 crore farmers.\\nBuilding Rural Prosperity and Resilience\\n11. A comprehensive multi-sectoral ‘Rural Prosperity and Resilience'\\nprogramme will be launched in partnership with states. This will address under-\\nemployment in agriculture through skilling, investment, technology, and\\ninvigorating the rural economy. The goal is to generate ample opportunities in\\nrural areas so that migration is an option, but not a necessity.\\n12. The programme will focus on rural women, young farmers, rural youth,\\nmarginal and small farmers, and landless families. Details are in Annexure A.\\n\\n4\\n13.\", mimetype='text/plain', start_char_idx=3280, end_char_idx=5257, metadata_seperator='\\n', text_template='{metadata_str}\\n\\n{content}'),\n",
              " TextNode(id_='be862802-795a-4242-9f19-73ac54cdbbe5', embedding=None, metadata={'file_path': '/content/indian_budget/indian_budget_speech_2025.md', 'file_name': 'indian_budget_speech_2025.md', 'file_type': 'text/markdown', 'file_size': 35217, 'creation_date': '2025-02-01', 'last_modified_date': '2025-02-01'}, excluded_embed_metadata_keys=['file_name', 'file_type', 'file_size', 'creation_date', 'last_modified_date', 'last_accessed_date'], excluded_llm_metadata_keys=['file_name', 'file_type', 'file_size', 'creation_date', 'last_modified_date', 'last_accessed_date'], relationships={<NodeRelationship.SOURCE: '1'>: RelatedNodeInfo(node_id='83223605-0601-474b-a04d-17674ed10d62', node_type=<ObjectType.DOCUMENT: '4'>, metadata={'file_path': '/content/indian_budget/indian_budget_speech_2025.md', 'file_name': 'indian_budget_speech_2025.md', 'file_type': 'text/markdown', 'file_size': 35217, 'creation_date': '2025-02-01', 'last_modified_date': '2025-02-01'}, hash='a911eb1601af3bc747d7ab1af5c3427d6a17ce5fe73b175a08f3ddfbe6b037bd'), <NodeRelationship.PREVIOUS: '2'>: RelatedNodeInfo(node_id='c7746460-c80f-40d4-b200-d5d6b8cd1c5e', node_type=<ObjectType.TEXT: '1'>, metadata={'file_path': '/content/indian_budget/indian_budget_speech_2025.md', 'file_name': 'indian_budget_speech_2025.md', 'file_type': 'text/markdown', 'file_size': 35217, 'creation_date': '2025-02-01', 'last_modified_date': '2025-02-01'}, hash='39b6c477545194708e294334466e36af8976e001764a018db9a329821c6c1701'), <NodeRelationship.NEXT: '3'>: RelatedNodeInfo(node_id='e2af132a-ea2c-480d-bedc-14f8608284b8', node_type=<ObjectType.TEXT: '1'>, metadata={}, hash='8384ec41edec51eef375e16da4ff6ff5a80eaf5e68e0a0c3664f91628c59f906')}, metadata_template='{key}: {value}', metadata_separator='\\n', text='This programme is likely to help\\n1.7 crore farmers.\\nBuilding Rural Prosperity and Resilience\\n11. A comprehensive multi-sectoral ‘Rural Prosperity and Resilience\\'\\nprogramme will be launched in partnership with states. This will address under-\\nemployment in agriculture through skilling, investment, technology, and\\ninvigorating the rural economy. The goal is to generate ample opportunities in\\nrural areas so that migration is an option, but not a necessity.\\n12. The programme will focus on rural women, young farmers, rural youth,\\nmarginal and small farmers, and landless families. Details are in Annexure A.\\n\\n4\\n13. Global and domestic best practices will be incorporated and\\nappropriate technical and financial assistance will be sought from multilateral\\ndevelopment banks. In Phase-1, 100 developing agri-districts will be covered.\\nAatmanirbharta in Pulses\\n14. Our Government is implementing the National Mission for Edible\\nOilseed for achieving atmanirbhrata in edible oils. Our farmers have the\\ncapability to grow enough for our needs and more.\\n15. Ten years ago, we made concerted efforts and succeeded in achieving\\nnear self-sufficiency in pulses. Farmers responded to the need by increasing the\\ncultivated area by 50 per cent and Government arranged for procurement and\\nremunerative prices. Since then, with rising incomes and better affordability,\\nour consumption of pulses has increased significantly.\\n16. Our Government will now launch a 6-year \"Mission for Aatmanirbharta\\nin Pulses\" with a special focus on Tur, Urad and Masoor. Details are in\\nAnnexure B. Central agencies (NAFED and NCCF) will be ready to procure these\\n3 pulses, as much as offered during the next 4 years from farmers who register\\nwith these agencies and enter into agreements.\\nComprehensive Programme for Vegetables & Fruits\\n17. It is encouraging that our people are increasingly becoming aware of\\ntheir nutritional needs. It is a sign of a society becoming healthier. With rising\\nincome levels, the consumption of vegetables, fruits and shree-anna is\\nincreasing significantly.', mimetype='text/plain', start_char_idx=4642, end_char_idx=6700, metadata_seperator='\\n', text_template='{metadata_str}\\n\\n{content}'),\n",
              " TextNode(id_='e2af132a-ea2c-480d-bedc-14f8608284b8', embedding=None, metadata={'file_path': '/content/indian_budget/indian_budget_speech_2025.md', 'file_name': 'indian_budget_speech_2025.md', 'file_type': 'text/markdown', 'file_size': 35217, 'creation_date': '2025-02-01', 'last_modified_date': '2025-02-01'}, excluded_embed_metadata_keys=['file_name', 'file_type', 'file_size', 'creation_date', 'last_modified_date', 'last_accessed_date'], excluded_llm_metadata_keys=['file_name', 'file_type', 'file_size', 'creation_date', 'last_modified_date', 'last_accessed_date'], relationships={<NodeRelationship.SOURCE: '1'>: RelatedNodeInfo(node_id='83223605-0601-474b-a04d-17674ed10d62', node_type=<ObjectType.DOCUMENT: '4'>, metadata={'file_path': '/content/indian_budget/indian_budget_speech_2025.md', 'file_name': 'indian_budget_speech_2025.md', 'file_type': 'text/markdown', 'file_size': 35217, 'creation_date': '2025-02-01', 'last_modified_date': '2025-02-01'}, hash='a911eb1601af3bc747d7ab1af5c3427d6a17ce5fe73b175a08f3ddfbe6b037bd'), <NodeRelationship.PREVIOUS: '2'>: RelatedNodeInfo(node_id='be862802-795a-4242-9f19-73ac54cdbbe5', node_type=<ObjectType.TEXT: '1'>, metadata={'file_path': '/content/indian_budget/indian_budget_speech_2025.md', 'file_name': 'indian_budget_speech_2025.md', 'file_type': 'text/markdown', 'file_size': 35217, 'creation_date': '2025-02-01', 'last_modified_date': '2025-02-01'}, hash='5a84b3e0807b9bfc63538cba3763e490d476de02e68b635c8e7aef18dc47bb1b'), <NodeRelationship.NEXT: '3'>: RelatedNodeInfo(node_id='9dcc460e-51b1-4c31-85d6-41fb626280dd', node_type=<ObjectType.TEXT: '1'>, metadata={}, hash='88d4d3c06b20f9b98a90944f9c6cd049c58d1ada3cbfa96d0d95775c59248596')}, metadata_template='{key}: {value}', metadata_separator='\\n', text='Since then, with rising incomes and better affordability,\\nour consumption of pulses has increased significantly.\\n16. Our Government will now launch a 6-year \"Mission for Aatmanirbharta\\nin Pulses\" with a special focus on Tur, Urad and Masoor. Details are in\\nAnnexure B. Central agencies (NAFED and NCCF) will be ready to procure these\\n3 pulses, as much as offered during the next 4 years from farmers who register\\nwith these agencies and enter into agreements.\\nComprehensive Programme for Vegetables & Fruits\\n17. It is encouraging that our people are increasingly becoming aware of\\ntheir nutritional needs. It is a sign of a society becoming healthier. With rising\\nincome levels, the consumption of vegetables, fruits and shree-anna is\\nincreasing significantly. A comprehensive programme to promote production,\\nefficient supplies, processing, and remunerative prices for farmers will be\\nlaunched in partnership with states. Appropriate institutional mechanisms for\\nimplementation and participation of farmer producer organizations and\\ncooperatives will be set up.\\nMakhana Board in Bihar\\n18. For this, there is a special opportunity for the people of Bihar. A\\nMakhana Board will be established in the state to improve production,\\nprocessing, value addition, and marketing of makhana. The people engaged in\\nthese activities will be organized into FPOs. The Board will provide handholding\\nand training support to makhana farmers and will also work to ensure they\\nreceive the benefits of all relevant Government schemes.\\n\\n5\\nNational Mission on High Yielding Seeds\\n19. A National Mission on High Yielding Seeds will be launched, aimed at (1)\\nstrengthening the research ecosystem, (2) targeted development and\\npropagation of seeds with high yield, pest resistance and climate resilience, and\\n(3) commercial availability of more than 100 seed varieties released since July\\n2024.\\nFisheries\\n20. India ranks second-largest globally in fish production and aquaculture.\\nSeafood exports are valued at ₹ 60 thousand crore.', mimetype='text/plain', start_char_idx=5940, end_char_idx=7947, metadata_seperator='\\n', text_template='{metadata_str}\\n\\n{content}'),\n",
              " TextNode(id_='9dcc460e-51b1-4c31-85d6-41fb626280dd', embedding=None, metadata={'file_path': '/content/indian_budget/indian_budget_speech_2025.md', 'file_name': 'indian_budget_speech_2025.md', 'file_type': 'text/markdown', 'file_size': 35217, 'creation_date': '2025-02-01', 'last_modified_date': '2025-02-01'}, excluded_embed_metadata_keys=['file_name', 'file_type', 'file_size', 'creation_date', 'last_modified_date', 'last_accessed_date'], excluded_llm_metadata_keys=['file_name', 'file_type', 'file_size', 'creation_date', 'last_modified_date', 'last_accessed_date'], relationships={<NodeRelationship.SOURCE: '1'>: RelatedNodeInfo(node_id='83223605-0601-474b-a04d-17674ed10d62', node_type=<ObjectType.DOCUMENT: '4'>, metadata={'file_path': '/content/indian_budget/indian_budget_speech_2025.md', 'file_name': 'indian_budget_speech_2025.md', 'file_type': 'text/markdown', 'file_size': 35217, 'creation_date': '2025-02-01', 'last_modified_date': '2025-02-01'}, hash='a911eb1601af3bc747d7ab1af5c3427d6a17ce5fe73b175a08f3ddfbe6b037bd'), <NodeRelationship.PREVIOUS: '2'>: RelatedNodeInfo(node_id='e2af132a-ea2c-480d-bedc-14f8608284b8', node_type=<ObjectType.TEXT: '1'>, metadata={'file_path': '/content/indian_budget/indian_budget_speech_2025.md', 'file_name': 'indian_budget_speech_2025.md', 'file_type': 'text/markdown', 'file_size': 35217, 'creation_date': '2025-02-01', 'last_modified_date': '2025-02-01'}, hash='cf79bd1da73f5537e4cb7ca372569552d6c0ff3e6e0db9fef4bb5bbc5633907e'), <NodeRelationship.NEXT: '3'>: RelatedNodeInfo(node_id='05df223f-fa82-42ef-8aa0-1f6ecfe3b9a8', node_type=<ObjectType.TEXT: '1'>, metadata={}, hash='e6a98a9d65526d0088e5629600835561bbc199f017a651353a4881c464b9f37d')}, metadata_template='{key}: {value}', metadata_separator='\\n', text=\"A\\nMakhana Board will be established in the state to improve production,\\nprocessing, value addition, and marketing of makhana. The people engaged in\\nthese activities will be organized into FPOs. The Board will provide handholding\\nand training support to makhana farmers and will also work to ensure they\\nreceive the benefits of all relevant Government schemes.\\n\\n5\\nNational Mission on High Yielding Seeds\\n19. A National Mission on High Yielding Seeds will be launched, aimed at (1)\\nstrengthening the research ecosystem, (2) targeted development and\\npropagation of seeds with high yield, pest resistance and climate resilience, and\\n(3) commercial availability of more than 100 seed varieties released since July\\n2024.\\nFisheries\\n20. India ranks second-largest globally in fish production and aquaculture.\\nSeafood exports are valued at ₹ 60 thousand crore. To unlock the untapped\\npotential of the marine sector, our Government will bring in an enabling\\nframework for sustainable harnessing of fisheries from Indian Exclusive\\nEconomic Zone and High Seas, with a special focus on the Andaman & Nicobar\\nand Lakshadweep Islands.\\nMission for Cotton Productivity\\n21. For the benefit of lakhs of cotton growing farmers, I am pleased to\\nannounce a 'Mission for Cotton Productivity'. This 5-year mission will facilitate\\nsignificant improvements in productivity and sustainability of cotton farming,\\nand promote extra-long staple cotton varieties. The best of science &\\ntechnology support will be provided to farmers. Aligned with our integrated 5F\\nvision for the textile sector, this will help in increasing incomes of the farmers,\\nand ensure a steady supply of quality cotton for rejuvenating India's traditional\\ntextile sector.\\nEnhanced Credit through KCC\\n22. Kisan Credit Cards (KCC) facilitate short term loans for 7.7 crore farmers,\\nfishermen, and dairy farmers. The loan limit under the Modified Interest\\nSubvention Scheme will be enhanced from ₹ 3 lakh to 5 lakh for loans taken\\nthrough the KCC.\\nUrea Plant in Assam\\n23. For Atmanirbharta in urea production, our Government had reopened\\nthree dormant urea plants in the Eastern region.\", mimetype='text/plain', start_char_idx=7096, end_char_idx=9223, metadata_seperator='\\n', text_template='{metadata_str}\\n\\n{content}'),\n",
              " TextNode(id_='05df223f-fa82-42ef-8aa0-1f6ecfe3b9a8', embedding=None, metadata={'file_path': '/content/indian_budget/indian_budget_speech_2025.md', 'file_name': 'indian_budget_speech_2025.md', 'file_type': 'text/markdown', 'file_size': 35217, 'creation_date': '2025-02-01', 'last_modified_date': '2025-02-01'}, excluded_embed_metadata_keys=['file_name', 'file_type', 'file_size', 'creation_date', 'last_modified_date', 'last_accessed_date'], excluded_llm_metadata_keys=['file_name', 'file_type', 'file_size', 'creation_date', 'last_modified_date', 'last_accessed_date'], relationships={<NodeRelationship.SOURCE: '1'>: RelatedNodeInfo(node_id='83223605-0601-474b-a04d-17674ed10d62', node_type=<ObjectType.DOCUMENT: '4'>, metadata={'file_path': '/content/indian_budget/indian_budget_speech_2025.md', 'file_name': 'indian_budget_speech_2025.md', 'file_type': 'text/markdown', 'file_size': 35217, 'creation_date': '2025-02-01', 'last_modified_date': '2025-02-01'}, hash='a911eb1601af3bc747d7ab1af5c3427d6a17ce5fe73b175a08f3ddfbe6b037bd'), <NodeRelationship.PREVIOUS: '2'>: RelatedNodeInfo(node_id='9dcc460e-51b1-4c31-85d6-41fb626280dd', node_type=<ObjectType.TEXT: '1'>, metadata={'file_path': '/content/indian_budget/indian_budget_speech_2025.md', 'file_name': 'indian_budget_speech_2025.md', 'file_type': 'text/markdown', 'file_size': 35217, 'creation_date': '2025-02-01', 'last_modified_date': '2025-02-01'}, hash='d756ad5842ac478f95632f40dd0144c5106ed7dc19d38c795e7f3634dd6e9afc'), <NodeRelationship.NEXT: '3'>: RelatedNodeInfo(node_id='adf748b4-fd43-4b1d-afce-b1b0251abc83', node_type=<ObjectType.TEXT: '1'>, metadata={}, hash='608a5da26e813012691c7cafb9e3b972cd1f871945a83b8be303b7ae0df0726e')}, metadata_template='{key}: {value}', metadata_separator='\\n', text=\"This 5-year mission will facilitate\\nsignificant improvements in productivity and sustainability of cotton farming,\\nand promote extra-long staple cotton varieties. The best of science &\\ntechnology support will be provided to farmers. Aligned with our integrated 5F\\nvision for the textile sector, this will help in increasing incomes of the farmers,\\nand ensure a steady supply of quality cotton for rejuvenating India's traditional\\ntextile sector.\\nEnhanced Credit through KCC\\n22. Kisan Credit Cards (KCC) facilitate short term loans for 7.7 crore farmers,\\nfishermen, and dairy farmers. The loan limit under the Modified Interest\\nSubvention Scheme will be enhanced from ₹ 3 lakh to 5 lakh for loans taken\\nthrough the KCC.\\nUrea Plant in Assam\\n23. For Atmanirbharta in urea production, our Government had reopened\\nthree dormant urea plants in the Eastern region. To further augment urea\\nsupply, a plant with annual capacity of 12.7 lakh metric tons will be set up at\\nNamrup, Assam.\\nIndia Post as a Catalyst for the Rural Economy\\n24. India Post with 1.5 lakh rural post offices, complemented by the India\\nPost Payment Bank and a vast network of 2.4 lakh Dak Sevaks, will be\\nrepositioned to act as a catalyst for the rural economy. Details are at\\nAnnexure C.\\n\\n6\\n25. India Post will also be transformed as a large public logistics\\norganization. This will meet the rising needs of Viswakarmas, new\\nentrepreneurs, women, self-help groups, MSMEs, and large business\\norganizations.\\nSupport to NCDC\\n26. Our Government will provide support to NCDC for its lending operations\\nfor the cooperative sector.\\nMSMEs as the 2nd engine\\n27. Now, I move to MSMEs as the 2nd engine, which encompasses\\nmanufacturing and services with a focus on MSMEs numbering 5.7 crore.\\nRevision in classification criteria for MSMEs\\n28. Currently, over 1 crore registered MSMEs, employing 7.5 crore people,\\nand generating 36 per cent of our manufacturing, have come together to\\nposition India as a global manufacturing hub.\", mimetype='text/plain', start_char_idx=8366, end_char_idx=10347, metadata_seperator='\\n', text_template='{metadata_str}\\n\\n{content}'),\n",
              " TextNode(id_='adf748b4-fd43-4b1d-afce-b1b0251abc83', embedding=None, metadata={'file_path': '/content/indian_budget/indian_budget_speech_2025.md', 'file_name': 'indian_budget_speech_2025.md', 'file_type': 'text/markdown', 'file_size': 35217, 'creation_date': '2025-02-01', 'last_modified_date': '2025-02-01'}, excluded_embed_metadata_keys=['file_name', 'file_type', 'file_size', 'creation_date', 'last_modified_date', 'last_accessed_date'], excluded_llm_metadata_keys=['file_name', 'file_type', 'file_size', 'creation_date', 'last_modified_date', 'last_accessed_date'], relationships={<NodeRelationship.SOURCE: '1'>: RelatedNodeInfo(node_id='83223605-0601-474b-a04d-17674ed10d62', node_type=<ObjectType.DOCUMENT: '4'>, metadata={'file_path': '/content/indian_budget/indian_budget_speech_2025.md', 'file_name': 'indian_budget_speech_2025.md', 'file_type': 'text/markdown', 'file_size': 35217, 'creation_date': '2025-02-01', 'last_modified_date': '2025-02-01'}, hash='a911eb1601af3bc747d7ab1af5c3427d6a17ce5fe73b175a08f3ddfbe6b037bd'), <NodeRelationship.PREVIOUS: '2'>: RelatedNodeInfo(node_id='05df223f-fa82-42ef-8aa0-1f6ecfe3b9a8', node_type=<ObjectType.TEXT: '1'>, metadata={'file_path': '/content/indian_budget/indian_budget_speech_2025.md', 'file_name': 'indian_budget_speech_2025.md', 'file_type': 'text/markdown', 'file_size': 35217, 'creation_date': '2025-02-01', 'last_modified_date': '2025-02-01'}, hash='f06dff2106f9bc80681bccb01d55dfeaf54e2c93b31dc06a37889a33f62860a4'), <NodeRelationship.NEXT: '3'>: RelatedNodeInfo(node_id='1d8382f5-ccc1-4e45-b77f-14593815fae1', node_type=<ObjectType.TEXT: '1'>, metadata={}, hash='80e951b20f0d9175fab347b6603456ea367fb185b3c24ef4c226a2e01d37825d')}, metadata_template='{key}: {value}', metadata_separator='\\n', text='Details are at\\nAnnexure C.\\n\\n6\\n25. India Post will also be transformed as a large public logistics\\norganization. This will meet the rising needs of Viswakarmas, new\\nentrepreneurs, women, self-help groups, MSMEs, and large business\\norganizations.\\nSupport to NCDC\\n26. Our Government will provide support to NCDC for its lending operations\\nfor the cooperative sector.\\nMSMEs as the 2nd engine\\n27. Now, I move to MSMEs as the 2nd engine, which encompasses\\nmanufacturing and services with a focus on MSMEs numbering 5.7 crore.\\nRevision in classification criteria for MSMEs\\n28. Currently, over 1 crore registered MSMEs, employing 7.5 crore people,\\nand generating 36 per cent of our manufacturing, have come together to\\nposition India as a global manufacturing hub. With their quality products,\\nthese MSMEs are responsible for 45 per cent of our exports. To help them\\nachieve higher efficiencies of scale, technological upgradation and better\\naccess to capital, the investment and turnover limits for classification of all\\nMSMEs will be enhanced to 2.5 and 2 times respectively. This will give them\\nthe confidence to grow and generate employment for our youth. The details\\nare in Annexure D.\\nSignificant enhancement of credit availability with guarantee cover\\n29. To improve access to credit, the credit guarantee cover will be\\nenhanced:\\na) For Micro and Small Enterprises, from 5 crore to 10 crore, leading\\nto additional credit of 1.5 lakh crore in the next 5 years;\\nb) For Startups, from ₹ 10 crore to 20 crore, with the guarantee fee\\nbeing moderated to 1 per cent for loans in 27 focus sectors\\nimportant for Atmanirbhar Bharat; and\\nc) For well-run exporter MSMEs, for term loans up to 20 crore.\\nCredit Cards for Micro Enterprises\\n30. We will introduce customized Credit Cards with a ₹ 5 lakh limit for micro\\nenterprises registered on Udyam portal. In the first year, 10 lakh such cards will\\nbe issued.\\n\\n7\\nFund of Funds for Startups\\n31.', mimetype='text/plain', start_char_idx=9591, end_char_idx=11520, metadata_seperator='\\n', text_template='{metadata_str}\\n\\n{content}'),\n",
              " TextNode(id_='1d8382f5-ccc1-4e45-b77f-14593815fae1', embedding=None, metadata={'file_path': '/content/indian_budget/indian_budget_speech_2025.md', 'file_name': 'indian_budget_speech_2025.md', 'file_type': 'text/markdown', 'file_size': 35217, 'creation_date': '2025-02-01', 'last_modified_date': '2025-02-01'}, excluded_embed_metadata_keys=['file_name', 'file_type', 'file_size', 'creation_date', 'last_modified_date', 'last_accessed_date'], excluded_llm_metadata_keys=['file_name', 'file_type', 'file_size', 'creation_date', 'last_modified_date', 'last_accessed_date'], relationships={<NodeRelationship.SOURCE: '1'>: RelatedNodeInfo(node_id='83223605-0601-474b-a04d-17674ed10d62', node_type=<ObjectType.DOCUMENT: '4'>, metadata={'file_path': '/content/indian_budget/indian_budget_speech_2025.md', 'file_name': 'indian_budget_speech_2025.md', 'file_type': 'text/markdown', 'file_size': 35217, 'creation_date': '2025-02-01', 'last_modified_date': '2025-02-01'}, hash='a911eb1601af3bc747d7ab1af5c3427d6a17ce5fe73b175a08f3ddfbe6b037bd'), <NodeRelationship.PREVIOUS: '2'>: RelatedNodeInfo(node_id='adf748b4-fd43-4b1d-afce-b1b0251abc83', node_type=<ObjectType.TEXT: '1'>, metadata={'file_path': '/content/indian_budget/indian_budget_speech_2025.md', 'file_name': 'indian_budget_speech_2025.md', 'file_type': 'text/markdown', 'file_size': 35217, 'creation_date': '2025-02-01', 'last_modified_date': '2025-02-01'}, hash='102d3be8a66f88d320c75fd457ddde26007fd414cd2eedf4953b6f5d8c7f7aca'), <NodeRelationship.NEXT: '3'>: RelatedNodeInfo(node_id='de6e8508-661b-4422-aee4-59bbb2655a70', node_type=<ObjectType.TEXT: '1'>, metadata={}, hash='4347caade5e18749d20d628b2b01bda0b40c98b9935f1eb75e1c3cec30094862')}, metadata_template='{key}: {value}', metadata_separator='\\n', text=\"To improve access to credit, the credit guarantee cover will be\\nenhanced:\\na) For Micro and Small Enterprises, from 5 crore to 10 crore, leading\\nto additional credit of 1.5 lakh crore in the next 5 years;\\nb) For Startups, from ₹ 10 crore to 20 crore, with the guarantee fee\\nbeing moderated to 1 per cent for loans in 27 focus sectors\\nimportant for Atmanirbhar Bharat; and\\nc) For well-run exporter MSMEs, for term loans up to 20 crore.\\nCredit Cards for Micro Enterprises\\n30. We will introduce customized Credit Cards with a ₹ 5 lakh limit for micro\\nenterprises registered on Udyam portal. In the first year, 10 lakh such cards will\\nbe issued.\\n\\n7\\nFund of Funds for Startups\\n31. The Alternate Investment Funds (AIFs) for startups have received\\ncommitments of more than ₹ 91,000 crore. These are supported by the Fund\\nof Funds set up with a Government contribution of ₹ 10,000 crore. Now, a new\\nFund of Funds, with expanded scope and a fresh contribution of another\\n₹10,000 crore will be set up.\\nScheme for First-time Entrepreneurs\\n32. A new scheme will be launched for 5 lakh women, Scheduled Castes and\\nScheduled Tribes first-time entrepreneurs. This will provide term loans up\\nto ₹ 2 crore during the next 5 years. The scheme will incorporate lessons from\\nthe successful Stand-Up India scheme. Online capacity building for\\nentrepreneurship and managerial skills will also be organized.\\nMeasures for Labour-Intensive Sectors\\n33. To promote employment and entrepreneurship opportunities in\\nlabour-intensive sectors, our Government will undertake specific policy and\\nfacilitation measures.\\nFocus Product Scheme for Footwear & Leather Sectors\\n34. To enhance the productivity, quality and competitiveness of India's\\nfootwear and leather sector, a focus product scheme will be implemented. The\\nscheme will support design capacity, component manufacturing, and\\nmachinery required for production of non-leather quality footwear, besides the\\nsupport for leather footwear and products.\", mimetype='text/plain', start_char_idx=10846, end_char_idx=12819, metadata_seperator='\\n', text_template='{metadata_str}\\n\\n{content}'),\n",
              " TextNode(id_='de6e8508-661b-4422-aee4-59bbb2655a70', embedding=None, metadata={'file_path': '/content/indian_budget/indian_budget_speech_2025.md', 'file_name': 'indian_budget_speech_2025.md', 'file_type': 'text/markdown', 'file_size': 35217, 'creation_date': '2025-02-01', 'last_modified_date': '2025-02-01'}, excluded_embed_metadata_keys=['file_name', 'file_type', 'file_size', 'creation_date', 'last_modified_date', 'last_accessed_date'], excluded_llm_metadata_keys=['file_name', 'file_type', 'file_size', 'creation_date', 'last_modified_date', 'last_accessed_date'], relationships={<NodeRelationship.SOURCE: '1'>: RelatedNodeInfo(node_id='83223605-0601-474b-a04d-17674ed10d62', node_type=<ObjectType.DOCUMENT: '4'>, metadata={'file_path': '/content/indian_budget/indian_budget_speech_2025.md', 'file_name': 'indian_budget_speech_2025.md', 'file_type': 'text/markdown', 'file_size': 35217, 'creation_date': '2025-02-01', 'last_modified_date': '2025-02-01'}, hash='a911eb1601af3bc747d7ab1af5c3427d6a17ce5fe73b175a08f3ddfbe6b037bd'), <NodeRelationship.PREVIOUS: '2'>: RelatedNodeInfo(node_id='1d8382f5-ccc1-4e45-b77f-14593815fae1', node_type=<ObjectType.TEXT: '1'>, metadata={'file_path': '/content/indian_budget/indian_budget_speech_2025.md', 'file_name': 'indian_budget_speech_2025.md', 'file_type': 'text/markdown', 'file_size': 35217, 'creation_date': '2025-02-01', 'last_modified_date': '2025-02-01'}, hash='07d5b0f73106bfffea575f3158496f0885403d3577653d4181392e2ec1f62471'), <NodeRelationship.NEXT: '3'>: RelatedNodeInfo(node_id='53f18308-7047-4bbf-99b1-ff8a6cc22f89', node_type=<ObjectType.TEXT: '1'>, metadata={}, hash='bd1c3643e69e0dc507c135985f1a9cde2c5c496604f2c5b0d0c7215aa0eb29ef')}, metadata_template='{key}: {value}', metadata_separator='\\n', text='A new scheme will be launched for 5 lakh women, Scheduled Castes and\\nScheduled Tribes first-time entrepreneurs. This will provide term loans up\\nto ₹ 2 crore during the next 5 years. The scheme will incorporate lessons from\\nthe successful Stand-Up India scheme. Online capacity building for\\nentrepreneurship and managerial skills will also be organized.\\nMeasures for Labour-Intensive Sectors\\n33. To promote employment and entrepreneurship opportunities in\\nlabour-intensive sectors, our Government will undertake specific policy and\\nfacilitation measures.\\nFocus Product Scheme for Footwear & Leather Sectors\\n34. To enhance the productivity, quality and competitiveness of India\\'s\\nfootwear and leather sector, a focus product scheme will be implemented. The\\nscheme will support design capacity, component manufacturing, and\\nmachinery required for production of non-leather quality footwear, besides the\\nsupport for leather footwear and products. The scheme is expected to facilitate\\nemployment for 22 lakh persons, generate turnover of ₹ 4 lakh crore and\\nexports of over ₹ 1.1 lakh crore.\\nMeasures for the Toy Sector\\n35. Building on the National Action Plan for Toys, we will implement a\\nscheme to make India a global hub for toys. The scheme will focus on\\ndevelopment of clusters, skills, and a manufacturing ecosystem that will create\\nhigh-quality, unique, innovative, and sustainable toys that will represent the\\n\\'Made in India\\' brand.\\nSupport for Food Processing\\n36. In line with our commitment towards ‘Purvodaya\\', we will establish a\\nNational Institute of Food Technology, Entrepreneurship and Management in\\nBihar. The institute will provide a strong fillip to food processing activities in\\n\\n8\\nthe entire Eastern region. This will result in (1) enhanced income for the\\nfarmers through value addition to their produce, and (2) skilling,\\nentrepreneurship and employment opportunities for the youth.\\nManufacturing Mission - Furthering \"Make in India\"\\n37. Our Government will set up a National Manufacturing Mission covering\\nsmall, medium and large industries for furthering “Make in India\" by providing\\npolicy support, execution roadmaps, governance and monitoring framework\\nfor central ministries and states. Details are in Annexure E.\\nClean Tech Manufacturing\\n38.', mimetype='text/plain', start_char_idx=11877, end_char_idx=14142, metadata_seperator='\\n', text_template='{metadata_str}\\n\\n{content}'),\n",
              " TextNode(id_='53f18308-7047-4bbf-99b1-ff8a6cc22f89', embedding=None, metadata={'file_path': '/content/indian_budget/indian_budget_speech_2025.md', 'file_name': 'indian_budget_speech_2025.md', 'file_type': 'text/markdown', 'file_size': 35217, 'creation_date': '2025-02-01', 'last_modified_date': '2025-02-01'}, excluded_embed_metadata_keys=['file_name', 'file_type', 'file_size', 'creation_date', 'last_modified_date', 'last_accessed_date'], excluded_llm_metadata_keys=['file_name', 'file_type', 'file_size', 'creation_date', 'last_modified_date', 'last_accessed_date'], relationships={<NodeRelationship.SOURCE: '1'>: RelatedNodeInfo(node_id='83223605-0601-474b-a04d-17674ed10d62', node_type=<ObjectType.DOCUMENT: '4'>, metadata={'file_path': '/content/indian_budget/indian_budget_speech_2025.md', 'file_name': 'indian_budget_speech_2025.md', 'file_type': 'text/markdown', 'file_size': 35217, 'creation_date': '2025-02-01', 'last_modified_date': '2025-02-01'}, hash='a911eb1601af3bc747d7ab1af5c3427d6a17ce5fe73b175a08f3ddfbe6b037bd'), <NodeRelationship.PREVIOUS: '2'>: RelatedNodeInfo(node_id='de6e8508-661b-4422-aee4-59bbb2655a70', node_type=<ObjectType.TEXT: '1'>, metadata={'file_path': '/content/indian_budget/indian_budget_speech_2025.md', 'file_name': 'indian_budget_speech_2025.md', 'file_type': 'text/markdown', 'file_size': 35217, 'creation_date': '2025-02-01', 'last_modified_date': '2025-02-01'}, hash='c4fce0bc062a066531d005257be972944d82c9410f8f71348bea97deb4d1d00d'), <NodeRelationship.NEXT: '3'>: RelatedNodeInfo(node_id='0823d34d-e042-448d-89c3-b9d2d64e0675', node_type=<ObjectType.TEXT: '1'>, metadata={}, hash='9cace3ade98d6981cc38d228413acb51e84ae2d1e74d53282aa1a66f61e0480c')}, metadata_template='{key}: {value}', metadata_separator='\\n', text='Support for Food Processing\\n36. In line with our commitment towards ‘Purvodaya\\', we will establish a\\nNational Institute of Food Technology, Entrepreneurship and Management in\\nBihar. The institute will provide a strong fillip to food processing activities in\\n\\n8\\nthe entire Eastern region. This will result in (1) enhanced income for the\\nfarmers through value addition to their produce, and (2) skilling,\\nentrepreneurship and employment opportunities for the youth.\\nManufacturing Mission - Furthering \"Make in India\"\\n37. Our Government will set up a National Manufacturing Mission covering\\nsmall, medium and large industries for furthering “Make in India\" by providing\\npolicy support, execution roadmaps, governance and monitoring framework\\nfor central ministries and states. Details are in Annexure E.\\nClean Tech Manufacturing\\n38. Given our commitment to climate-friendly development, the Mission\\nwill also support Clean Tech manufacturing. This will aim to improve domestic\\nvalue addition and build our ecosystem for solar PV cells, EV batteries, motors\\nand controllers, electrolyzers, wind turbines, very high voltage transmission\\nequipment and grid scale batteries.\\nInvestment as the 3rd engine\\n39. Now, I move to Investment as the 3rd engine, which encompasses\\ninvesting in people, investing in the economy and investing in innovation.\\nA. Investing in People\\nSaksham Anganwadi and Poshan 2.0\\n40. The Saksham Anganwadi and Poshan 2.0 programme provides\\nnutritional support to more than 8 crore children, 1 crore pregnant women and\\nlactating mothers all over the country, and about 20 lakh adolescent girls in\\naspirational districts and the north-east region. The cost norms for the\\nnutritional support will be enhanced appropriately.\\nAtal Tinkering Labs\\n41. Fifty thousand Atal Tinkering Labs will be set up in Government schools\\nin next 5 years to cultivate the spirit of curiosity and innovation, and foster a\\nscientific temper among young minds.\\nBroadband Connectivity to Government Secondary Schools and PHCs\\n42. Broadband connectivity will be provided to all Government secondary\\nschools and primary health centres in rural areas under the Bharatnet project.', mimetype='text/plain', start_char_idx=13313, end_char_idx=15478, metadata_seperator='\\n', text_template='{metadata_str}\\n\\n{content}'),\n",
              " TextNode(id_='0823d34d-e042-448d-89c3-b9d2d64e0675', embedding=None, metadata={'file_path': '/content/indian_budget/indian_budget_speech_2025.md', 'file_name': 'indian_budget_speech_2025.md', 'file_type': 'text/markdown', 'file_size': 35217, 'creation_date': '2025-02-01', 'last_modified_date': '2025-02-01'}, excluded_embed_metadata_keys=['file_name', 'file_type', 'file_size', 'creation_date', 'last_modified_date', 'last_accessed_date'], excluded_llm_metadata_keys=['file_name', 'file_type', 'file_size', 'creation_date', 'last_modified_date', 'last_accessed_date'], relationships={<NodeRelationship.SOURCE: '1'>: RelatedNodeInfo(node_id='83223605-0601-474b-a04d-17674ed10d62', node_type=<ObjectType.DOCUMENT: '4'>, metadata={'file_path': '/content/indian_budget/indian_budget_speech_2025.md', 'file_name': 'indian_budget_speech_2025.md', 'file_type': 'text/markdown', 'file_size': 35217, 'creation_date': '2025-02-01', 'last_modified_date': '2025-02-01'}, hash='a911eb1601af3bc747d7ab1af5c3427d6a17ce5fe73b175a08f3ddfbe6b037bd'), <NodeRelationship.PREVIOUS: '2'>: RelatedNodeInfo(node_id='53f18308-7047-4bbf-99b1-ff8a6cc22f89', node_type=<ObjectType.TEXT: '1'>, metadata={'file_path': '/content/indian_budget/indian_budget_speech_2025.md', 'file_name': 'indian_budget_speech_2025.md', 'file_type': 'text/markdown', 'file_size': 35217, 'creation_date': '2025-02-01', 'last_modified_date': '2025-02-01'}, hash='8e8248dbf9c86505e8ae3a189e8332b08e368f82ba9de2ef3a3c495eecee2467'), <NodeRelationship.NEXT: '3'>: RelatedNodeInfo(node_id='59b6d7b5-f7c2-48ef-b888-1a5cb4283937', node_type=<ObjectType.TEXT: '1'>, metadata={}, hash='c4715aaf6d6b3b3e560de5a2a7c56204f1690ec47bdfef17663202876937cd4d')}, metadata_template='{key}: {value}', metadata_separator='\\n', text='A. Investing in People\\nSaksham Anganwadi and Poshan 2.0\\n40. The Saksham Anganwadi and Poshan 2.0 programme provides\\nnutritional support to more than 8 crore children, 1 crore pregnant women and\\nlactating mothers all over the country, and about 20 lakh adolescent girls in\\naspirational districts and the north-east region. The cost norms for the\\nnutritional support will be enhanced appropriately.\\nAtal Tinkering Labs\\n41. Fifty thousand Atal Tinkering Labs will be set up in Government schools\\nin next 5 years to cultivate the spirit of curiosity and innovation, and foster a\\nscientific temper among young minds.\\nBroadband Connectivity to Government Secondary Schools and PHCs\\n42. Broadband connectivity will be provided to all Government secondary\\nschools and primary health centres in rural areas under the Bharatnet project.\\n\\n9\\nBharatiya Bhasha Pustak Scheme\\n43. We propose to implement a Bharatiya Bhasha Pustak Scheme to\\nprovide digital-form Indian language books for school and higher education.\\nThis aims to help students understand their subjects better.\\nNational Centres of Excellence for Skilling\\n44. Building on the initiative announced in the July 2024 Budget, five\\nNational Centres of Excellence for skilling will be set up with global expertise\\nand partnerships to equip our youth with the skills required for “Make for India,\\nMake for the World\" manufacturing. The partnerships will cover curriculum\\ndesign, training of trainers, a skills certification framework, and periodic\\nreviews.\\nExpansion of Capacity in IITS\\n45. Total number of students in 23 IITs has increased 100 per cent from\\n65,000 to 1.35 lakh in the past 10 years. Additional infrastructure will be\\ncreated in the 5 IITs started after 2014 to facilitate education for 6,500 more\\nstudents. Hostel and other infrastructure capacity at IIT, Patna will also be\\nexpanded.\\nCentre of Excellence in Al for Education\\n46. I had announced three Centres of Excellence in Artificial Intelligence for\\nagriculture, health, and sustainable cities in 2023.', mimetype='text/plain', start_char_idx=14652, end_char_idx=16670, metadata_seperator='\\n', text_template='{metadata_str}\\n\\n{content}'),\n",
              " TextNode(id_='59b6d7b5-f7c2-48ef-b888-1a5cb4283937', embedding=None, metadata={'file_path': '/content/indian_budget/indian_budget_speech_2025.md', 'file_name': 'indian_budget_speech_2025.md', 'file_type': 'text/markdown', 'file_size': 35217, 'creation_date': '2025-02-01', 'last_modified_date': '2025-02-01'}, excluded_embed_metadata_keys=['file_name', 'file_type', 'file_size', 'creation_date', 'last_modified_date', 'last_accessed_date'], excluded_llm_metadata_keys=['file_name', 'file_type', 'file_size', 'creation_date', 'last_modified_date', 'last_accessed_date'], relationships={<NodeRelationship.SOURCE: '1'>: RelatedNodeInfo(node_id='83223605-0601-474b-a04d-17674ed10d62', node_type=<ObjectType.DOCUMENT: '4'>, metadata={'file_path': '/content/indian_budget/indian_budget_speech_2025.md', 'file_name': 'indian_budget_speech_2025.md', 'file_type': 'text/markdown', 'file_size': 35217, 'creation_date': '2025-02-01', 'last_modified_date': '2025-02-01'}, hash='a911eb1601af3bc747d7ab1af5c3427d6a17ce5fe73b175a08f3ddfbe6b037bd'), <NodeRelationship.PREVIOUS: '2'>: RelatedNodeInfo(node_id='0823d34d-e042-448d-89c3-b9d2d64e0675', node_type=<ObjectType.TEXT: '1'>, metadata={'file_path': '/content/indian_budget/indian_budget_speech_2025.md', 'file_name': 'indian_budget_speech_2025.md', 'file_type': 'text/markdown', 'file_size': 35217, 'creation_date': '2025-02-01', 'last_modified_date': '2025-02-01'}, hash='00387fbe28fdeaa6a0258df427d0bcbe585ab86b4f38c3961f0529be66775c60'), <NodeRelationship.NEXT: '3'>: RelatedNodeInfo(node_id='1bca0660-74a3-4411-8f5b-6ad0cc88415e', node_type=<ObjectType.TEXT: '1'>, metadata={}, hash='f6ebec85d247888a9223de287fc1795c27fed045e73e15fb5c9fc15edb1306b9')}, metadata_template='{key}: {value}', metadata_separator='\\n', text='The partnerships will cover curriculum\\ndesign, training of trainers, a skills certification framework, and periodic\\nreviews.\\nExpansion of Capacity in IITS\\n45. Total number of students in 23 IITs has increased 100 per cent from\\n65,000 to 1.35 lakh in the past 10 years. Additional infrastructure will be\\ncreated in the 5 IITs started after 2014 to facilitate education for 6,500 more\\nstudents. Hostel and other infrastructure capacity at IIT, Patna will also be\\nexpanded.\\nCentre of Excellence in Al for Education\\n46. I had announced three Centres of Excellence in Artificial Intelligence for\\nagriculture, health, and sustainable cities in 2023. Now a Centre of Excellence\\nin Artificial Intelligence for education will be set up with a total outlay of ₹ 500\\ncrore.\\nExpansion of medical education\\n47. Our Government has added almost 1.1 lakh UG and PG medical\\neducation seats in ten years, an increase of 130 per cent. In the next year,\\n10,000 additional seats will be added in medical colleges and hospitals, towards\\nthe goal of adding 75,000 seats in the next 5 years.\\nDay Care Cancer Centres in all District Hospitals\\n48. Our Government will facilitate setting up of Day Care Cancer Centres\\nin all district hospitals in the next 3 years. 200 Centres will be established in\\n2025-26.\\n\\n10\\nStrengthening urban livelihoods\\n49. Our Government has been giving priority to assisting urban poor and\\nvulnerable groups. A scheme for socio-economic upliftment of urban workers\\nwill be implemented to help them improve their incomes, have sustainable\\nlivelihoods and a better quality of life.\\nPM SVANidhi\\n50. PM SVANidhi scheme has benefitted more than 68 lakh street vendors\\ngiving them respite from high-interest informal sector loans. Building on this\\nsuccess, the scheme will be revamped with enhanced loans from banks, UPI\\nlinked credit cards with ₹ 30,000 limit, and capacity building support.\\nSocial Security Scheme for Welfare of Online Platform Workers\\n51. Gig workers of online platforms provide great dynamism to the new-\\nage services economy.', mimetype='text/plain', start_char_idx=16027, end_char_idx=18068, metadata_seperator='\\n', text_template='{metadata_str}\\n\\n{content}'),\n",
              " TextNode(id_='1bca0660-74a3-4411-8f5b-6ad0cc88415e', embedding=None, metadata={'file_path': '/content/indian_budget/indian_budget_speech_2025.md', 'file_name': 'indian_budget_speech_2025.md', 'file_type': 'text/markdown', 'file_size': 35217, 'creation_date': '2025-02-01', 'last_modified_date': '2025-02-01'}, excluded_embed_metadata_keys=['file_name', 'file_type', 'file_size', 'creation_date', 'last_modified_date', 'last_accessed_date'], excluded_llm_metadata_keys=['file_name', 'file_type', 'file_size', 'creation_date', 'last_modified_date', 'last_accessed_date'], relationships={<NodeRelationship.SOURCE: '1'>: RelatedNodeInfo(node_id='83223605-0601-474b-a04d-17674ed10d62', node_type=<ObjectType.DOCUMENT: '4'>, metadata={'file_path': '/content/indian_budget/indian_budget_speech_2025.md', 'file_name': 'indian_budget_speech_2025.md', 'file_type': 'text/markdown', 'file_size': 35217, 'creation_date': '2025-02-01', 'last_modified_date': '2025-02-01'}, hash='a911eb1601af3bc747d7ab1af5c3427d6a17ce5fe73b175a08f3ddfbe6b037bd'), <NodeRelationship.PREVIOUS: '2'>: RelatedNodeInfo(node_id='59b6d7b5-f7c2-48ef-b888-1a5cb4283937', node_type=<ObjectType.TEXT: '1'>, metadata={'file_path': '/content/indian_budget/indian_budget_speech_2025.md', 'file_name': 'indian_budget_speech_2025.md', 'file_type': 'text/markdown', 'file_size': 35217, 'creation_date': '2025-02-01', 'last_modified_date': '2025-02-01'}, hash='a7bc2f726582d1e7d3aa8c7960c108e90869b6f75b733c722bce05334948c77e'), <NodeRelationship.NEXT: '3'>: RelatedNodeInfo(node_id='4d47ee35-69d9-4b8c-b78b-bd075e85e45c', node_type=<ObjectType.TEXT: '1'>, metadata={}, hash='640365ff131135e9a3fa5a7ee4fc0020c64ad2c29a8d8537fa3e9ec28494f0b3')}, metadata_template='{key}: {value}', metadata_separator='\\n', text=\"200 Centres will be established in\\n2025-26.\\n\\n10\\nStrengthening urban livelihoods\\n49. Our Government has been giving priority to assisting urban poor and\\nvulnerable groups. A scheme for socio-economic upliftment of urban workers\\nwill be implemented to help them improve their incomes, have sustainable\\nlivelihoods and a better quality of life.\\nPM SVANidhi\\n50. PM SVANidhi scheme has benefitted more than 68 lakh street vendors\\ngiving them respite from high-interest informal sector loans. Building on this\\nsuccess, the scheme will be revamped with enhanced loans from banks, UPI\\nlinked credit cards with ₹ 30,000 limit, and capacity building support.\\nSocial Security Scheme for Welfare of Online Platform Workers\\n51. Gig workers of online platforms provide great dynamism to the new-\\nage services economy. Recognising their contribution, our Government will\\narrange for their identity cards and registration on the e-Shram portal. They\\nwill be provided healthcare under PM Jan Arogya Yojana. This measure is likely\\nto assist nearly 1 crore gig-workers.\\nB. Investing in the Economy\\nPublic Private Partnership in Infrastructure\\n52. Each infrastructure-related ministry will come up with a 3-year pipeline\\nof projects that can be implemented in PPP mode. States will also be\\nencouraged to do so and can seek support from the IIPDF (India Infrastructure\\nProject Development Fund) scheme to prepare PPP proposals.\\nSupport to States for Infrastructure\\n53. An outlay of ₹ 1.5 lakh crore is proposed for the 50-year interest free\\nloans to states for capital expenditure and incentives for reforms.\\nAsset Monetization Plan 2025-30\\n54. Building on the success of the first Asset Monetization Plan announced\\nin 2021, the second Plan for 2025-30 will be launched to plough back capital of\\n₹ 10 lakh crore in new projects. Regulatory and fiscal measures will be fine-\\ntuned to support the Plan.\\nJal Jeevan Mission\\n55. Since 2019, 15 crore households representing 80 per cent of India's\\nrural population have been provided access to potable tap water connections.\", mimetype='text/plain', start_char_idx=17265, end_char_idx=19312, metadata_seperator='\\n', text_template='{metadata_str}\\n\\n{content}'),\n",
              " TextNode(id_='4d47ee35-69d9-4b8c-b78b-bd075e85e45c', embedding=None, metadata={'file_path': '/content/indian_budget/indian_budget_speech_2025.md', 'file_name': 'indian_budget_speech_2025.md', 'file_type': 'text/markdown', 'file_size': 35217, 'creation_date': '2025-02-01', 'last_modified_date': '2025-02-01'}, excluded_embed_metadata_keys=['file_name', 'file_type', 'file_size', 'creation_date', 'last_modified_date', 'last_accessed_date'], excluded_llm_metadata_keys=['file_name', 'file_type', 'file_size', 'creation_date', 'last_modified_date', 'last_accessed_date'], relationships={<NodeRelationship.SOURCE: '1'>: RelatedNodeInfo(node_id='83223605-0601-474b-a04d-17674ed10d62', node_type=<ObjectType.DOCUMENT: '4'>, metadata={'file_path': '/content/indian_budget/indian_budget_speech_2025.md', 'file_name': 'indian_budget_speech_2025.md', 'file_type': 'text/markdown', 'file_size': 35217, 'creation_date': '2025-02-01', 'last_modified_date': '2025-02-01'}, hash='a911eb1601af3bc747d7ab1af5c3427d6a17ce5fe73b175a08f3ddfbe6b037bd'), <NodeRelationship.PREVIOUS: '2'>: RelatedNodeInfo(node_id='1bca0660-74a3-4411-8f5b-6ad0cc88415e', node_type=<ObjectType.TEXT: '1'>, metadata={'file_path': '/content/indian_budget/indian_budget_speech_2025.md', 'file_name': 'indian_budget_speech_2025.md', 'file_type': 'text/markdown', 'file_size': 35217, 'creation_date': '2025-02-01', 'last_modified_date': '2025-02-01'}, hash='e2edc11dcdd6f551c35dae9d77c4a64a0798b1ffa0d9df0b97067b56f9a52e1e'), <NodeRelationship.NEXT: '3'>: RelatedNodeInfo(node_id='66ee7545-7ea0-4b51-ad50-dab0c26a0c19', node_type=<ObjectType.TEXT: '1'>, metadata={}, hash='a6080e4052f61a913b22a8125b5b63bae45156bf5685a3cdbb00333fdf0dcf17')}, metadata_template='{key}: {value}', metadata_separator='\\n', text='States will also be\\nencouraged to do so and can seek support from the IIPDF (India Infrastructure\\nProject Development Fund) scheme to prepare PPP proposals.\\nSupport to States for Infrastructure\\n53. An outlay of ₹ 1.5 lakh crore is proposed for the 50-year interest free\\nloans to states for capital expenditure and incentives for reforms.\\nAsset Monetization Plan 2025-30\\n54. Building on the success of the first Asset Monetization Plan announced\\nin 2021, the second Plan for 2025-30 will be launched to plough back capital of\\n₹ 10 lakh crore in new projects. Regulatory and fiscal measures will be fine-\\ntuned to support the Plan.\\nJal Jeevan Mission\\n55. Since 2019, 15 crore households representing 80 per cent of India\\'s\\nrural population have been provided access to potable tap water connections.\\n\\n11\\nTo achieve 100 per cent coverage, I am pleased to announce the extension of\\nthe Mission until 2028 with an enhanced total outlay.\\n56. The Mission\\'s focus will be on the quality of infrastructure and O&M of\\nrural piped water supply schemes through \"Jan Bhagidhari\". Separate MoUs\\nwill be signed with states/UTs, to ensure sustainability and citizen-centric water\\nservice delivery.\\nUrban Sector Reforms\\n57. Building on the July Budget proposals, urban sector reforms related to\\ngovernance, municipal services, urban land, and planning will be incentivized.\\nUrban Challenge Fund\\n58. The Government will set up an Urban Challenge Fund of ₹ 1 lakh crore\\nto implement the proposals for ‘Cities as Growth Hubs\\', ‘Creative\\nRedevelopment of Cities\\' and \\'Water and Sanitation\\' announced in the July\\nBudget.\\n59. This fund will finance up to 25 per cent of the cost of bankable projects\\nwith a stipulation that at least 50 per cent of the cost is funded from bonds,\\nbank loans, and PPPs. An allocation of ₹ 10,000 crore is proposed for 2025-26.\\nPower Sector Reforms\\n60. We will incentivize electricity distribution reforms and augmentation of\\nintra-state transmission capacity by states. This will improve financial health\\nand capacity of electricity companies.', mimetype='text/plain', start_char_idx=18515, end_char_idx=20566, metadata_seperator='\\n', text_template='{metadata_str}\\n\\n{content}'),\n",
              " TextNode(id_='66ee7545-7ea0-4b51-ad50-dab0c26a0c19', embedding=None, metadata={'file_path': '/content/indian_budget/indian_budget_speech_2025.md', 'file_name': 'indian_budget_speech_2025.md', 'file_type': 'text/markdown', 'file_size': 35217, 'creation_date': '2025-02-01', 'last_modified_date': '2025-02-01'}, excluded_embed_metadata_keys=['file_name', 'file_type', 'file_size', 'creation_date', 'last_modified_date', 'last_accessed_date'], excluded_llm_metadata_keys=['file_name', 'file_type', 'file_size', 'creation_date', 'last_modified_date', 'last_accessed_date'], relationships={<NodeRelationship.SOURCE: '1'>: RelatedNodeInfo(node_id='83223605-0601-474b-a04d-17674ed10d62', node_type=<ObjectType.DOCUMENT: '4'>, metadata={'file_path': '/content/indian_budget/indian_budget_speech_2025.md', 'file_name': 'indian_budget_speech_2025.md', 'file_type': 'text/markdown', 'file_size': 35217, 'creation_date': '2025-02-01', 'last_modified_date': '2025-02-01'}, hash='a911eb1601af3bc747d7ab1af5c3427d6a17ce5fe73b175a08f3ddfbe6b037bd'), <NodeRelationship.PREVIOUS: '2'>: RelatedNodeInfo(node_id='4d47ee35-69d9-4b8c-b78b-bd075e85e45c', node_type=<ObjectType.TEXT: '1'>, metadata={'file_path': '/content/indian_budget/indian_budget_speech_2025.md', 'file_name': 'indian_budget_speech_2025.md', 'file_type': 'text/markdown', 'file_size': 35217, 'creation_date': '2025-02-01', 'last_modified_date': '2025-02-01'}, hash='3374d4ef78f35a0567aca1e6284e18a99fa20bc6a7a4396e004b80b002ee3ebc'), <NodeRelationship.NEXT: '3'>: RelatedNodeInfo(node_id='93e227f7-3de9-4a41-862d-11ce4188da07', node_type=<ObjectType.TEXT: '1'>, metadata={}, hash='1dba7a9b889af199002d56455563d8b0632cf0569c1d7e67914f576691d985fe')}, metadata_template='{key}: {value}', metadata_separator='\\n', text=\"Building on the July Budget proposals, urban sector reforms related to\\ngovernance, municipal services, urban land, and planning will be incentivized.\\nUrban Challenge Fund\\n58. The Government will set up an Urban Challenge Fund of ₹ 1 lakh crore\\nto implement the proposals for ‘Cities as Growth Hubs', ‘Creative\\nRedevelopment of Cities' and 'Water and Sanitation' announced in the July\\nBudget.\\n59. This fund will finance up to 25 per cent of the cost of bankable projects\\nwith a stipulation that at least 50 per cent of the cost is funded from bonds,\\nbank loans, and PPPs. An allocation of ₹ 10,000 crore is proposed for 2025-26.\\nPower Sector Reforms\\n60. We will incentivize electricity distribution reforms and augmentation of\\nintra-state transmission capacity by states. This will improve financial health\\nand capacity of electricity companies. Additional borrowing of 0.5 per cent of\\nGSDP will be allowed to states, contingent on these reforms.\\nNuclear Energy Mission for Viksit Bharat\\n61. Development of at least 100 GW of nuclear energy by 2047 is essential\\nfor our energy transition efforts. For an active partnership with the private\\nsector towards this goal, amendments to the Atomic Energy Act and the Civil\\nLiability for Nuclear Damage Act will be taken up.\\n62. A Nuclear Energy Mission for research & development of Small Modular\\nReactors (SMR) with an outlay of ₹ 20,000 crore will be set up. At least 5\\nindigenously developed SMRs will be operationalized by 2033.\\n\\n12\\nShipbuilding\\n63. The Shipbuilding Financial Assistance Policy will be revamped to\\naddress cost disadvantages. This will also include Credit Notes for shipbreaking\\nin Indian yards to promote the circular economy.\\n64. Large ships above a specified size will be included in the infrastructure\\nharmonized master list (HML).\\n65. Shipbuilding Clusters will be facilitated to increase the range, categories\\nand capacity of ships. This will include additional infrastructure facilities, skilling\\nand technology to develop the entire ecosystem.\\nMaritime Development Fund\\n66.\", mimetype='text/plain', start_char_idx=19722, end_char_idx=21766, metadata_seperator='\\n', text_template='{metadata_str}\\n\\n{content}'),\n",
              " TextNode(id_='93e227f7-3de9-4a41-862d-11ce4188da07', embedding=None, metadata={'file_path': '/content/indian_budget/indian_budget_speech_2025.md', 'file_name': 'indian_budget_speech_2025.md', 'file_type': 'text/markdown', 'file_size': 35217, 'creation_date': '2025-02-01', 'last_modified_date': '2025-02-01'}, excluded_embed_metadata_keys=['file_name', 'file_type', 'file_size', 'creation_date', 'last_modified_date', 'last_accessed_date'], excluded_llm_metadata_keys=['file_name', 'file_type', 'file_size', 'creation_date', 'last_modified_date', 'last_accessed_date'], relationships={<NodeRelationship.SOURCE: '1'>: RelatedNodeInfo(node_id='83223605-0601-474b-a04d-17674ed10d62', node_type=<ObjectType.DOCUMENT: '4'>, metadata={'file_path': '/content/indian_budget/indian_budget_speech_2025.md', 'file_name': 'indian_budget_speech_2025.md', 'file_type': 'text/markdown', 'file_size': 35217, 'creation_date': '2025-02-01', 'last_modified_date': '2025-02-01'}, hash='a911eb1601af3bc747d7ab1af5c3427d6a17ce5fe73b175a08f3ddfbe6b037bd'), <NodeRelationship.PREVIOUS: '2'>: RelatedNodeInfo(node_id='66ee7545-7ea0-4b51-ad50-dab0c26a0c19', node_type=<ObjectType.TEXT: '1'>, metadata={'file_path': '/content/indian_budget/indian_budget_speech_2025.md', 'file_name': 'indian_budget_speech_2025.md', 'file_type': 'text/markdown', 'file_size': 35217, 'creation_date': '2025-02-01', 'last_modified_date': '2025-02-01'}, hash='6bdd83208256e81c1ad4112fbbd62cdffba8984ffbbfbe0d334eae8d97591647'), <NodeRelationship.NEXT: '3'>: RelatedNodeInfo(node_id='2e388abe-d9fd-4307-9bbb-090e9850a726', node_type=<ObjectType.TEXT: '1'>, metadata={}, hash='e8f9a9699bfb1556bec13f99f3f156116e75cb234c44db4fffbc14b7f2f0674d')}, metadata_template='{key}: {value}', metadata_separator='\\n', text='62. A Nuclear Energy Mission for research & development of Small Modular\\nReactors (SMR) with an outlay of ₹ 20,000 crore will be set up. At least 5\\nindigenously developed SMRs will be operationalized by 2033.\\n\\n12\\nShipbuilding\\n63. The Shipbuilding Financial Assistance Policy will be revamped to\\naddress cost disadvantages. This will also include Credit Notes for shipbreaking\\nin Indian yards to promote the circular economy.\\n64. Large ships above a specified size will be included in the infrastructure\\nharmonized master list (HML).\\n65. Shipbuilding Clusters will be facilitated to increase the range, categories\\nand capacity of ships. This will include additional infrastructure facilities, skilling\\nand technology to develop the entire ecosystem.\\nMaritime Development Fund\\n66. For long-term financing for the maritime industry, a Maritime\\nDevelopment Fund with a corpus of ₹ 25,000 crore will be set up. This will be\\nfor distributed support and promoting competition. This will have up to 49 per\\ncent contribution by the Government, and the balance will be mobilized from\\nports and private sector.\\nUDAN - Regional Connectivity Scheme\\n67. UDAN has enabled 1.5 crore middle-class people to meet their\\naspirations for speedier travel. The scheme has connected 88 airports and\\noperationalized 619 routes. Inspired by that success, a modified UDAN scheme\\nwill be launched to enhance regional connectivity to 120 new destinations and\\ncarry 4 crore passengers in the next 10 years. The scheme will also support\\nhelipads and smaller airports in hilly, aspirational, and North East region\\ndistricts.\\nGreenfield Airport in Bihar\\n68. Greenfield airports will be facilitated in Bihar to meet the future needs\\nof the State. These will be in addition to the expansion of the capacity of Patna\\nairport and a brownfield airport at Bihta.\\nWestern Koshi Canal Project in Mithilanchal\\n69. Financial support will be provided for the Western Koshi Canal ERM\\nProject benefitting a large number of farmers cultivating over 50,000 hectares\\nof land in the Mithilanchal region of Bihar.\\n\\n13\\nMining Sector Reforms\\n70.', mimetype='text/plain', start_char_idx=20988, end_char_idx=23080, metadata_seperator='\\n', text_template='{metadata_str}\\n\\n{content}'),\n",
              " TextNode(id_='2e388abe-d9fd-4307-9bbb-090e9850a726', embedding=None, metadata={'file_path': '/content/indian_budget/indian_budget_speech_2025.md', 'file_name': 'indian_budget_speech_2025.md', 'file_type': 'text/markdown', 'file_size': 35217, 'creation_date': '2025-02-01', 'last_modified_date': '2025-02-01'}, excluded_embed_metadata_keys=['file_name', 'file_type', 'file_size', 'creation_date', 'last_modified_date', 'last_accessed_date'], excluded_llm_metadata_keys=['file_name', 'file_type', 'file_size', 'creation_date', 'last_modified_date', 'last_accessed_date'], relationships={<NodeRelationship.SOURCE: '1'>: RelatedNodeInfo(node_id='83223605-0601-474b-a04d-17674ed10d62', node_type=<ObjectType.DOCUMENT: '4'>, metadata={'file_path': '/content/indian_budget/indian_budget_speech_2025.md', 'file_name': 'indian_budget_speech_2025.md', 'file_type': 'text/markdown', 'file_size': 35217, 'creation_date': '2025-02-01', 'last_modified_date': '2025-02-01'}, hash='a911eb1601af3bc747d7ab1af5c3427d6a17ce5fe73b175a08f3ddfbe6b037bd'), <NodeRelationship.PREVIOUS: '2'>: RelatedNodeInfo(node_id='93e227f7-3de9-4a41-862d-11ce4188da07', node_type=<ObjectType.TEXT: '1'>, metadata={'file_path': '/content/indian_budget/indian_budget_speech_2025.md', 'file_name': 'indian_budget_speech_2025.md', 'file_type': 'text/markdown', 'file_size': 35217, 'creation_date': '2025-02-01', 'last_modified_date': '2025-02-01'}, hash='ea36f59d244c8e8a3e99c857f61d8fd8a7816e8e44423a56ed9662ed726f9c24'), <NodeRelationship.NEXT: '3'>: RelatedNodeInfo(node_id='e873bbd9-4864-40a1-96ff-129622b555b8', node_type=<ObjectType.TEXT: '1'>, metadata={}, hash='5a624783ba607935d38c82b279836f674331263bf7b5f89136eee5cc92be9ad3')}, metadata_template='{key}: {value}', metadata_separator='\\n', text='Inspired by that success, a modified UDAN scheme\\nwill be launched to enhance regional connectivity to 120 new destinations and\\ncarry 4 crore passengers in the next 10 years. The scheme will also support\\nhelipads and smaller airports in hilly, aspirational, and North East region\\ndistricts.\\nGreenfield Airport in Bihar\\n68. Greenfield airports will be facilitated in Bihar to meet the future needs\\nof the State. These will be in addition to the expansion of the capacity of Patna\\nairport and a brownfield airport at Bihta.\\nWestern Koshi Canal Project in Mithilanchal\\n69. Financial support will be provided for the Western Koshi Canal ERM\\nProject benefitting a large number of farmers cultivating over 50,000 hectares\\nof land in the Mithilanchal region of Bihar.\\n\\n13\\nMining Sector Reforms\\n70. Mining sector reforms, including those for minor minerals, will be\\nencouraged through sharing of best practices and institution of a State Mining\\nIndex.\\n71. A policy for recovery of critical minerals from tailings will be brought out.\\nSWAMIH Fund 2\\n72. Under the Special Window for Affordable and Mid-Income Housing\\n(SWAMIH) fifty thousand dwelling units in stressed housing projects have been\\ncompleted, and keys handed over to home-buyers. Another forty thousand\\nunits will be completed in 2025, further helping middle-class families who were\\npaying EMIs on loans taken for apartments, while also paying rent for their\\ncurrent dwellings.\\n73. Building on this success, SWAMIH Fund 2 will be established as a\\nblended finance facility with contribution from the Government, banks and\\nprivate investors. This fund of ₹ 15,000 crore will aim for expeditious\\ncompletion of another 1 lakh units.\\nPM Gati Shakti Data for Private Sector\\n74. For furthering PPPs and assisting the private sector in project planning,\\naccess to relevant data and maps from the PM Gati Shakti portal will be\\nprovided.\\nTourism for employment-led growth\\n75. Top 50 tourist destination sites in the country will be developed in\\npartnership with states through a challenge mode. Land for building key\\ninfrastructure will have to be provided by states.', mimetype='text/plain', start_char_idx=22291, end_char_idx=24400, metadata_seperator='\\n', text_template='{metadata_str}\\n\\n{content}'),\n",
              " TextNode(id_='e873bbd9-4864-40a1-96ff-129622b555b8', embedding=None, metadata={'file_path': '/content/indian_budget/indian_budget_speech_2025.md', 'file_name': 'indian_budget_speech_2025.md', 'file_type': 'text/markdown', 'file_size': 35217, 'creation_date': '2025-02-01', 'last_modified_date': '2025-02-01'}, excluded_embed_metadata_keys=['file_name', 'file_type', 'file_size', 'creation_date', 'last_modified_date', 'last_accessed_date'], excluded_llm_metadata_keys=['file_name', 'file_type', 'file_size', 'creation_date', 'last_modified_date', 'last_accessed_date'], relationships={<NodeRelationship.SOURCE: '1'>: RelatedNodeInfo(node_id='83223605-0601-474b-a04d-17674ed10d62', node_type=<ObjectType.DOCUMENT: '4'>, metadata={'file_path': '/content/indian_budget/indian_budget_speech_2025.md', 'file_name': 'indian_budget_speech_2025.md', 'file_type': 'text/markdown', 'file_size': 35217, 'creation_date': '2025-02-01', 'last_modified_date': '2025-02-01'}, hash='a911eb1601af3bc747d7ab1af5c3427d6a17ce5fe73b175a08f3ddfbe6b037bd'), <NodeRelationship.PREVIOUS: '2'>: RelatedNodeInfo(node_id='2e388abe-d9fd-4307-9bbb-090e9850a726', node_type=<ObjectType.TEXT: '1'>, metadata={'file_path': '/content/indian_budget/indian_budget_speech_2025.md', 'file_name': 'indian_budget_speech_2025.md', 'file_type': 'text/markdown', 'file_size': 35217, 'creation_date': '2025-02-01', 'last_modified_date': '2025-02-01'}, hash='8063cf5ee09512538a0963fb6abb23d875f6c7adb741315c02a94254ce124320'), <NodeRelationship.NEXT: '3'>: RelatedNodeInfo(node_id='ca4f565c-0a28-4744-b2a0-770c66633ac9', node_type=<ObjectType.TEXT: '1'>, metadata={}, hash='b4593b14a57e129dbcecab9ab924c25de16211f93861387579be75f6255e0b32')}, metadata_template='{key}: {value}', metadata_separator='\\n', text='73. Building on this success, SWAMIH Fund 2 will be established as a\\nblended finance facility with contribution from the Government, banks and\\nprivate investors. This fund of ₹ 15,000 crore will aim for expeditious\\ncompletion of another 1 lakh units.\\nPM Gati Shakti Data for Private Sector\\n74. For furthering PPPs and assisting the private sector in project planning,\\naccess to relevant data and maps from the PM Gati Shakti portal will be\\nprovided.\\nTourism for employment-led growth\\n75. Top 50 tourist destination sites in the country will be developed in\\npartnership with states through a challenge mode. Land for building key\\ninfrastructure will have to be provided by states. Hotels in those destinations\\nwill be included in the infrastructure HML.\\n76. The following measures will be taken for facilitating employment-led\\ngrowth:\\n1) Organizing intensive skill-development programmes for our youth\\nincluding in Institutes of Hospitality Management;\\n2) Providing MUDRA loans for homestays;\\n3) Improving ease of travel and connectivity to tourist destinations;\\n\\n14\\n4) Providing performance-linked incentives to states for effective\\ndestination management including tourist amenities, cleanliness,\\nand marketing efforts; and\\n5) Introducing streamlined e-visa facilities along with visa-fee waivers\\nfor certain tourist groups.\\n77. Continuing with the emphasis on places of spiritual and religious\\nsignificance in the July Budget, there will be a special focus on destinations\\nrelated to the life and times of Lord Buddha.\\nMedical Tourism and Heal in India\\n78. Medical Tourism and Heal in India will be promoted in partnership with\\nthe private sector along with capacity building and easier visa norms.\\nC. Investing in Innovation\\nResearch, Development and Innovation\\n79. To implement private sector driven Research, Development and\\nInnovation initiative announced in the July Budget, I am now allocating\\n₹20,000 crore.\\nDeep Tech Fund of Funds\\n80. A Deep Tech Fund of Funds will also be explored to catalyze the next\\ngeneration startups as a part of this initiative.\\nPM Research Fellowship\\n81. In the next five years, under the PM Research Fellowship scheme, we\\nwill provide ten thousand fellowships for technological research in IITs and IISc\\nwith enhanced financial support.', mimetype='text/plain', start_char_idx=23721, end_char_idx=25994, metadata_seperator='\\n', text_template='{metadata_str}\\n\\n{content}'),\n",
              " TextNode(id_='ca4f565c-0a28-4744-b2a0-770c66633ac9', embedding=None, metadata={'file_path': '/content/indian_budget/indian_budget_speech_2025.md', 'file_name': 'indian_budget_speech_2025.md', 'file_type': 'text/markdown', 'file_size': 35217, 'creation_date': '2025-02-01', 'last_modified_date': '2025-02-01'}, excluded_embed_metadata_keys=['file_name', 'file_type', 'file_size', 'creation_date', 'last_modified_date', 'last_accessed_date'], excluded_llm_metadata_keys=['file_name', 'file_type', 'file_size', 'creation_date', 'last_modified_date', 'last_accessed_date'], relationships={<NodeRelationship.SOURCE: '1'>: RelatedNodeInfo(node_id='83223605-0601-474b-a04d-17674ed10d62', node_type=<ObjectType.DOCUMENT: '4'>, metadata={'file_path': '/content/indian_budget/indian_budget_speech_2025.md', 'file_name': 'indian_budget_speech_2025.md', 'file_type': 'text/markdown', 'file_size': 35217, 'creation_date': '2025-02-01', 'last_modified_date': '2025-02-01'}, hash='a911eb1601af3bc747d7ab1af5c3427d6a17ce5fe73b175a08f3ddfbe6b037bd'), <NodeRelationship.PREVIOUS: '2'>: RelatedNodeInfo(node_id='e873bbd9-4864-40a1-96ff-129622b555b8', node_type=<ObjectType.TEXT: '1'>, metadata={'file_path': '/content/indian_budget/indian_budget_speech_2025.md', 'file_name': 'indian_budget_speech_2025.md', 'file_type': 'text/markdown', 'file_size': 35217, 'creation_date': '2025-02-01', 'last_modified_date': '2025-02-01'}, hash='9bc84efd0e094d3a12a8a30d00085775e920afca140cc4352afcf75290ddd6d1'), <NodeRelationship.NEXT: '3'>: RelatedNodeInfo(node_id='1d93db3f-01c9-4b1d-8022-82022bf958c1', node_type=<ObjectType.TEXT: '1'>, metadata={}, hash='0d9226c252348644c343bdf7ec50111a8ffcd681374e59dab1c03bf2f1bceced')}, metadata_template='{key}: {value}', metadata_separator='\\n', text='Continuing with the emphasis on places of spiritual and religious\\nsignificance in the July Budget, there will be a special focus on destinations\\nrelated to the life and times of Lord Buddha.\\nMedical Tourism and Heal in India\\n78. Medical Tourism and Heal in India will be promoted in partnership with\\nthe private sector along with capacity building and easier visa norms.\\nC. Investing in Innovation\\nResearch, Development and Innovation\\n79. To implement private sector driven Research, Development and\\nInnovation initiative announced in the July Budget, I am now allocating\\n₹20,000 crore.\\nDeep Tech Fund of Funds\\n80. A Deep Tech Fund of Funds will also be explored to catalyze the next\\ngeneration startups as a part of this initiative.\\nPM Research Fellowship\\n81. In the next five years, under the PM Research Fellowship scheme, we\\nwill provide ten thousand fellowships for technological research in IITs and IISc\\nwith enhanced financial support.\\nGene Bank for Crops Germplasm\\n82. The 2nd Gene Bank with 10 lakh germplasm lines will be set up for future\\nfood and nutritional security. This will provide conservation support to both\\npublic and private sectors for genetic resources.\\nNational Geospatial Mission\\n83. We will start a National Geospatial Mission to develop foundational\\ngeospatial infrastructure and data. Using PM Gati Shakti, this Mission will\\nfacilitate modernization of land records, urban planning, and design of\\ninfrastructure projects.\\n\\n15\\nGyan Bharatam Mission\\n84. A Gyan Bharatam Mission for survey, documentation and conservation\\nof our manuscript heritage with academic institutions, museums, libraries and\\nprivate collectors will be undertaken to cover more than 1 crore manuscripts.\\nWe will set up a National Digital Repository of Indian knowledge systems for\\nknowledge sharing.\\n85. Now, I move to Exports as the 4th engine.\\nExports as the 4th engine\\nExport Promotion Mission\\n86. We will set up an Export Promotion Mission, with sectoral and\\nministerial targets, driven jointly by the Ministries of Commerce, MSME, and\\nFinance. It will facilitate easy access to export credit, cross-border factoring\\nsupport, and support to MSMEs to tackle non-tariff measures in overseas\\nmarkets.', mimetype='text/plain', start_char_idx=25051, end_char_idx=27253, metadata_seperator='\\n', text_template='{metadata_str}\\n\\n{content}'),\n",
              " TextNode(id_='1d93db3f-01c9-4b1d-8022-82022bf958c1', embedding=None, metadata={'file_path': '/content/indian_budget/indian_budget_speech_2025.md', 'file_name': 'indian_budget_speech_2025.md', 'file_type': 'text/markdown', 'file_size': 35217, 'creation_date': '2025-02-01', 'last_modified_date': '2025-02-01'}, excluded_embed_metadata_keys=['file_name', 'file_type', 'file_size', 'creation_date', 'last_modified_date', 'last_accessed_date'], excluded_llm_metadata_keys=['file_name', 'file_type', 'file_size', 'creation_date', 'last_modified_date', 'last_accessed_date'], relationships={<NodeRelationship.SOURCE: '1'>: RelatedNodeInfo(node_id='83223605-0601-474b-a04d-17674ed10d62', node_type=<ObjectType.DOCUMENT: '4'>, metadata={'file_path': '/content/indian_budget/indian_budget_speech_2025.md', 'file_name': 'indian_budget_speech_2025.md', 'file_type': 'text/markdown', 'file_size': 35217, 'creation_date': '2025-02-01', 'last_modified_date': '2025-02-01'}, hash='a911eb1601af3bc747d7ab1af5c3427d6a17ce5fe73b175a08f3ddfbe6b037bd'), <NodeRelationship.PREVIOUS: '2'>: RelatedNodeInfo(node_id='ca4f565c-0a28-4744-b2a0-770c66633ac9', node_type=<ObjectType.TEXT: '1'>, metadata={'file_path': '/content/indian_budget/indian_budget_speech_2025.md', 'file_name': 'indian_budget_speech_2025.md', 'file_type': 'text/markdown', 'file_size': 35217, 'creation_date': '2025-02-01', 'last_modified_date': '2025-02-01'}, hash='5c23d051d4a73b4cbea419489e8f6cfd8a036f5335ca381d7476e0fd1d99ffb4'), <NodeRelationship.NEXT: '3'>: RelatedNodeInfo(node_id='8547c28f-c5bd-4ae4-8ba0-913d12ccdbde', node_type=<ObjectType.TEXT: '1'>, metadata={}, hash='37d56421979b5ca44669eee4d9f814d86dcd5c678b190c82c20b35f7c37109d0')}, metadata_template='{key}: {value}', metadata_separator='\\n', text=\"15\\nGyan Bharatam Mission\\n84. A Gyan Bharatam Mission for survey, documentation and conservation\\nof our manuscript heritage with academic institutions, museums, libraries and\\nprivate collectors will be undertaken to cover more than 1 crore manuscripts.\\nWe will set up a National Digital Repository of Indian knowledge systems for\\nknowledge sharing.\\n85. Now, I move to Exports as the 4th engine.\\nExports as the 4th engine\\nExport Promotion Mission\\n86. We will set up an Export Promotion Mission, with sectoral and\\nministerial targets, driven jointly by the Ministries of Commerce, MSME, and\\nFinance. It will facilitate easy access to export credit, cross-border factoring\\nsupport, and support to MSMEs to tackle non-tariff measures in overseas\\nmarkets.\\nBharatTradeNet\\n87. A digital public infrastructure, 'BharatTradeNet' (BTN) for international\\ntrade will be set-up as a unified platform for trade documentation and\\nfinancing solutions. This will complement the Unified Logistics Interface\\nPlatform. The BTN will be aligned with international practices.\\nSupport for integration with Global Supply Chains\\n88. Support will be provided to develop domestic manufacturing capacities\\nfor our economy's integration with global supply chains. Sectors will be\\nidentified based on objective criteria.\\n89. Facilitation groups with participation of senior officers and industry\\nrepresentatives will be formed for select products and supply chains.\\n90. Through this, there are huge opportunities related to Industry 4.0,\\nwhich needs high skills and talent. Our youth have both. Our Government will\\nsupport the domestic electronic equipment industry to leverage this\\nopportunity for the benefit of the youth.\\nNational Framework for GCC\\n91. A national framework will be formulated as guidance to states for\\npromoting Global Capability Centres in emerging tier 2 cities. This will suggest\\n\\n16\\nmeasures for enhancing availability of talent and infrastructure, building-\\nbyelaw reforms, and mechanisms for collaboration with industry.\\nWarehousing facility for air cargo\\n92. Our Government will facilitate upgradation of infrastructure and\\nwarehousing for air cargo including high value perishable horticulture produce.\\nCargo screening and customs protocols will be streamlined and made user-\\nfriendly.\\nReforms as the Fuel\\n93.\", mimetype='text/plain', start_char_idx=26504, end_char_idx=28809, metadata_seperator='\\n', text_template='{metadata_str}\\n\\n{content}'),\n",
              " TextNode(id_='8547c28f-c5bd-4ae4-8ba0-913d12ccdbde', embedding=None, metadata={'file_path': '/content/indian_budget/indian_budget_speech_2025.md', 'file_name': 'indian_budget_speech_2025.md', 'file_type': 'text/markdown', 'file_size': 35217, 'creation_date': '2025-02-01', 'last_modified_date': '2025-02-01'}, excluded_embed_metadata_keys=['file_name', 'file_type', 'file_size', 'creation_date', 'last_modified_date', 'last_accessed_date'], excluded_llm_metadata_keys=['file_name', 'file_type', 'file_size', 'creation_date', 'last_modified_date', 'last_accessed_date'], relationships={<NodeRelationship.SOURCE: '1'>: RelatedNodeInfo(node_id='83223605-0601-474b-a04d-17674ed10d62', node_type=<ObjectType.DOCUMENT: '4'>, metadata={'file_path': '/content/indian_budget/indian_budget_speech_2025.md', 'file_name': 'indian_budget_speech_2025.md', 'file_type': 'text/markdown', 'file_size': 35217, 'creation_date': '2025-02-01', 'last_modified_date': '2025-02-01'}, hash='a911eb1601af3bc747d7ab1af5c3427d6a17ce5fe73b175a08f3ddfbe6b037bd'), <NodeRelationship.PREVIOUS: '2'>: RelatedNodeInfo(node_id='1d93db3f-01c9-4b1d-8022-82022bf958c1', node_type=<ObjectType.TEXT: '1'>, metadata={'file_path': '/content/indian_budget/indian_budget_speech_2025.md', 'file_name': 'indian_budget_speech_2025.md', 'file_type': 'text/markdown', 'file_size': 35217, 'creation_date': '2025-02-01', 'last_modified_date': '2025-02-01'}, hash='fe134e135ac3c1b37a2f994e71dc0af470603423e32fdc5077f05629687cb2a9'), <NodeRelationship.NEXT: '3'>: RelatedNodeInfo(node_id='bbf9fb60-3e56-4994-b33b-642cb4c424d2', node_type=<ObjectType.TEXT: '1'>, metadata={}, hash='5e12c70fd97ee134bff2dad784329747c7b63c976fc819337d8c3f87af9f8dc1')}, metadata_template='{key}: {value}', metadata_separator='\\n', text='Facilitation groups with participation of senior officers and industry\\nrepresentatives will be formed for select products and supply chains.\\n90. Through this, there are huge opportunities related to Industry 4.0,\\nwhich needs high skills and talent. Our youth have both. Our Government will\\nsupport the domestic electronic equipment industry to leverage this\\nopportunity for the benefit of the youth.\\nNational Framework for GCC\\n91. A national framework will be formulated as guidance to states for\\npromoting Global Capability Centres in emerging tier 2 cities. This will suggest\\n\\n16\\nmeasures for enhancing availability of talent and infrastructure, building-\\nbyelaw reforms, and mechanisms for collaboration with industry.\\nWarehousing facility for air cargo\\n92. Our Government will facilitate upgradation of infrastructure and\\nwarehousing for air cargo including high value perishable horticulture produce.\\nCargo screening and customs protocols will be streamlined and made user-\\nfriendly.\\nReforms as the Fuel\\n93. Now I move to ‘Reforms as the Fuel\\', and detail specific reforms.\\nTax Reforms\\n94. Over the past 10 years, our Government has implemented several\\nreforms for convenience of tax payers, such as (1) faceless assessment, (2) tax\\npayers charter, (3) faster returns, (4) almost 99 per cent returns being on self-\\nassessment, and (5) Vivad se Vishwas scheme. Continuing these efforts,\\nI reaffirm the commitment of the tax department to \"trust first, scrutinize later\".\\nI also propose to introduce the new income-tax bill next week. I will detail the\\nindirect tax reforms and changes in direct taxes in Part B.\\nFinancial Sector Reforms and Development\\nFDI in Insurance Sector\\n95. The FDI limit for the insurance sector will be raised from 74 to 100 per\\ncent. This enhanced limit will be available for those companies which invest the\\nentire premium in India. The current guardrails and conditionalities associated\\nwith foreign investment will be reviewed and simplified.\\nExpanding Services of India Post Payment Bank\\n96. The services of India Post Payment Bank will be deepened and\\nexpanded in rural areas.\\nCredit Enhancement Facility by NaBFID\\n97. NaBFID will set up a ‘Partial Credit Enhancement Facility\\' for corporate\\nbonds for infrastructure.', mimetype='text/plain', start_char_idx=27797, end_char_idx=30049, metadata_seperator='\\n', text_template='{metadata_str}\\n\\n{content}'),\n",
              " TextNode(id_='bbf9fb60-3e56-4994-b33b-642cb4c424d2', embedding=None, metadata={'file_path': '/content/indian_budget/indian_budget_speech_2025.md', 'file_name': 'indian_budget_speech_2025.md', 'file_type': 'text/markdown', 'file_size': 35217, 'creation_date': '2025-02-01', 'last_modified_date': '2025-02-01'}, excluded_embed_metadata_keys=['file_name', 'file_type', 'file_size', 'creation_date', 'last_modified_date', 'last_accessed_date'], excluded_llm_metadata_keys=['file_name', 'file_type', 'file_size', 'creation_date', 'last_modified_date', 'last_accessed_date'], relationships={<NodeRelationship.SOURCE: '1'>: RelatedNodeInfo(node_id='83223605-0601-474b-a04d-17674ed10d62', node_type=<ObjectType.DOCUMENT: '4'>, metadata={'file_path': '/content/indian_budget/indian_budget_speech_2025.md', 'file_name': 'indian_budget_speech_2025.md', 'file_type': 'text/markdown', 'file_size': 35217, 'creation_date': '2025-02-01', 'last_modified_date': '2025-02-01'}, hash='a911eb1601af3bc747d7ab1af5c3427d6a17ce5fe73b175a08f3ddfbe6b037bd'), <NodeRelationship.PREVIOUS: '2'>: RelatedNodeInfo(node_id='8547c28f-c5bd-4ae4-8ba0-913d12ccdbde', node_type=<ObjectType.TEXT: '1'>, metadata={'file_path': '/content/indian_budget/indian_budget_speech_2025.md', 'file_name': 'indian_budget_speech_2025.md', 'file_type': 'text/markdown', 'file_size': 35217, 'creation_date': '2025-02-01', 'last_modified_date': '2025-02-01'}, hash='f3130af942c947aa5aa78e75c165f1ce6485a640150a96681629b91cd06df93d'), <NodeRelationship.NEXT: '3'>: RelatedNodeInfo(node_id='c583082f-ac94-4f15-9e52-3c1068b181e8', node_type=<ObjectType.TEXT: '1'>, metadata={}, hash='5326d12bd970f51c93c8790f0815d8fa14598d943be1af972ad6c4cc1c25a7ce')}, metadata_template='{key}: {value}', metadata_separator='\\n', text='Continuing these efforts,\\nI reaffirm the commitment of the tax department to \"trust first, scrutinize later\".\\nI also propose to introduce the new income-tax bill next week. I will detail the\\nindirect tax reforms and changes in direct taxes in Part B.\\nFinancial Sector Reforms and Development\\nFDI in Insurance Sector\\n95. The FDI limit for the insurance sector will be raised from 74 to 100 per\\ncent. This enhanced limit will be available for those companies which invest the\\nentire premium in India. The current guardrails and conditionalities associated\\nwith foreign investment will be reviewed and simplified.\\nExpanding Services of India Post Payment Bank\\n96. The services of India Post Payment Bank will be deepened and\\nexpanded in rural areas.\\nCredit Enhancement Facility by NaBFID\\n97. NaBFID will set up a ‘Partial Credit Enhancement Facility\\' for corporate\\nbonds for infrastructure.\\nGrameen Credit Score\\n98. Public Sector Banks will develop \\'Grameen Credit Score\\' framework to\\nserve the credit needs of SHG members and people in rural areas.\\n\\n17\\nPension Sector\\n99. A forum for regulatory coordination and development of pension\\nproducts will be set up.\\nKYC Simplification\\n100. To implement the earlier announcement on simplifying the KYC\\nprocess, the revamped Central KYC Registry will be rolled out in 2025. We will\\nalso implement a streamlined system for periodic updating.\\nMerger of Companies\\n101. Requirements and procedures for speedy approval of company mergers\\nwill be rationalized. The scope for fast-track mergers will also be widened and\\nthe process made simpler.\\nBilateral Investment Treaties\\n102. As proposed in the Interim Budget, we signed Bilateral Investment\\nTreaties (BIT) with two countries in 2024. To encourage sustained foreign\\ninvestment and in the spirit of \\'first develop India\\', the current model BIT will\\nbe revamped and made more investor-friendly.\\nRegulatory Reforms\\n103. In the last ten years in several aspects, including financial and non-\\nfinancial, our Government has demonstrated a steadfast commitment to \\'Ease\\nof Doing Business\\'. We are determined to ensure that our regulations must\\nkeep up with technological innovations and global policy developments.', mimetype='text/plain', start_char_idx=29162, end_char_idx=31357, metadata_seperator='\\n', text_template='{metadata_str}\\n\\n{content}'),\n",
              " TextNode(id_='c583082f-ac94-4f15-9e52-3c1068b181e8', embedding=None, metadata={'file_path': '/content/indian_budget/indian_budget_speech_2025.md', 'file_name': 'indian_budget_speech_2025.md', 'file_type': 'text/markdown', 'file_size': 35217, 'creation_date': '2025-02-01', 'last_modified_date': '2025-02-01'}, excluded_embed_metadata_keys=['file_name', 'file_type', 'file_size', 'creation_date', 'last_modified_date', 'last_accessed_date'], excluded_llm_metadata_keys=['file_name', 'file_type', 'file_size', 'creation_date', 'last_modified_date', 'last_accessed_date'], relationships={<NodeRelationship.SOURCE: '1'>: RelatedNodeInfo(node_id='83223605-0601-474b-a04d-17674ed10d62', node_type=<ObjectType.DOCUMENT: '4'>, metadata={'file_path': '/content/indian_budget/indian_budget_speech_2025.md', 'file_name': 'indian_budget_speech_2025.md', 'file_type': 'text/markdown', 'file_size': 35217, 'creation_date': '2025-02-01', 'last_modified_date': '2025-02-01'}, hash='a911eb1601af3bc747d7ab1af5c3427d6a17ce5fe73b175a08f3ddfbe6b037bd'), <NodeRelationship.PREVIOUS: '2'>: RelatedNodeInfo(node_id='bbf9fb60-3e56-4994-b33b-642cb4c424d2', node_type=<ObjectType.TEXT: '1'>, metadata={'file_path': '/content/indian_budget/indian_budget_speech_2025.md', 'file_name': 'indian_budget_speech_2025.md', 'file_type': 'text/markdown', 'file_size': 35217, 'creation_date': '2025-02-01', 'last_modified_date': '2025-02-01'}, hash='42bdd458b3248846b2b6dcd1411170abe89e9b65379b825917d7b334d2587454'), <NodeRelationship.NEXT: '3'>: RelatedNodeInfo(node_id='e0e73ecf-2394-4cb4-85c1-c1626de4dc52', node_type=<ObjectType.TEXT: '1'>, metadata={}, hash='a8f68534340b341512b102c6b4a60ebb9d2b8d956454a65f03b4ea7e4eb34653')}, metadata_template='{key}: {value}', metadata_separator='\\n', text=\"We will\\nalso implement a streamlined system for periodic updating.\\nMerger of Companies\\n101. Requirements and procedures for speedy approval of company mergers\\nwill be rationalized. The scope for fast-track mergers will also be widened and\\nthe process made simpler.\\nBilateral Investment Treaties\\n102. As proposed in the Interim Budget, we signed Bilateral Investment\\nTreaties (BIT) with two countries in 2024. To encourage sustained foreign\\ninvestment and in the spirit of 'first develop India', the current model BIT will\\nbe revamped and made more investor-friendly.\\nRegulatory Reforms\\n103. In the last ten years in several aspects, including financial and non-\\nfinancial, our Government has demonstrated a steadfast commitment to 'Ease\\nof Doing Business'. We are determined to ensure that our regulations must\\nkeep up with technological innovations and global policy developments. A\\nlight-touch regulatory framework based on principles and trust will unleash\\nproductivity and employment. Through this framework, we will update\\nregulations that were made under old laws. To develop this modern, flexible,\\npeople-friendly, and trust-based regulatory framework appropriate for the\\ntwenty-first century, I propose four specific measures:\\nHigh Level Committee for Regulatory Reforms\\n104. A High-Level Committee for Regulatory Reforms will be set up for a\\nreview of all non-financial sector regulations, certifications, licenses, and\\npermissions. The committee will be expected make recommendations within a\\n\\n18\\nyear. The objective is to strengthen trust-based economic governance and take\\ntransformational measures to enhance 'ease of doing business', especially in\\nmatters of inspections and compliances. States will be encouraged to join in\\nthis endeavour.\\nInvestment Friendliness Index of States\\n105. An Investment Friendliness Index of States will be launched in 2025 to\\nfurther the spirit of competitive cooperative federalism.\\nFSDC Mechanism\\n106. Under the Financial Stability and Development Council, a mechanism\\nwill be set up to evaluate impact of the current financial regulations and\\nsubsidiary instructions. It will also formulate a framework to enhance their\\nresponsiveness and development of the financial sector.\\nJan Vishwas Bill 2.0\\n107. In the Jan Vishwas Act 2023, more than 180 legal provisions were\\ndecriminalized.\", mimetype='text/plain', start_char_idx=30476, end_char_idx=32806, metadata_seperator='\\n', text_template='{metadata_str}\\n\\n{content}'),\n",
              " TextNode(id_='e0e73ecf-2394-4cb4-85c1-c1626de4dc52', embedding=None, metadata={'file_path': '/content/indian_budget/indian_budget_speech_2025.md', 'file_name': 'indian_budget_speech_2025.md', 'file_type': 'text/markdown', 'file_size': 35217, 'creation_date': '2025-02-01', 'last_modified_date': '2025-02-01'}, excluded_embed_metadata_keys=['file_name', 'file_type', 'file_size', 'creation_date', 'last_modified_date', 'last_accessed_date'], excluded_llm_metadata_keys=['file_name', 'file_type', 'file_size', 'creation_date', 'last_modified_date', 'last_accessed_date'], relationships={<NodeRelationship.SOURCE: '1'>: RelatedNodeInfo(node_id='83223605-0601-474b-a04d-17674ed10d62', node_type=<ObjectType.DOCUMENT: '4'>, metadata={'file_path': '/content/indian_budget/indian_budget_speech_2025.md', 'file_name': 'indian_budget_speech_2025.md', 'file_type': 'text/markdown', 'file_size': 35217, 'creation_date': '2025-02-01', 'last_modified_date': '2025-02-01'}, hash='a911eb1601af3bc747d7ab1af5c3427d6a17ce5fe73b175a08f3ddfbe6b037bd'), <NodeRelationship.PREVIOUS: '2'>: RelatedNodeInfo(node_id='c583082f-ac94-4f15-9e52-3c1068b181e8', node_type=<ObjectType.TEXT: '1'>, metadata={'file_path': '/content/indian_budget/indian_budget_speech_2025.md', 'file_name': 'indian_budget_speech_2025.md', 'file_type': 'text/markdown', 'file_size': 35217, 'creation_date': '2025-02-01', 'last_modified_date': '2025-02-01'}, hash='07d707090b1c5837b726836b09b253404df0560e9220b98aa2c1af97898cac59'), <NodeRelationship.NEXT: '3'>: RelatedNodeInfo(node_id='2ed245d1-c62b-4b8f-94ad-4af8ea4ef46a', node_type=<ObjectType.TEXT: '1'>, metadata={}, hash='88b0fb2374004b91824d8515660e82b41ef12f0bfb0fdac5ca77aff938d08126')}, metadata_template='{key}: {value}', metadata_separator='\\n', text=\"The committee will be expected make recommendations within a\\n\\n18\\nyear. The objective is to strengthen trust-based economic governance and take\\ntransformational measures to enhance 'ease of doing business', especially in\\nmatters of inspections and compliances. States will be encouraged to join in\\nthis endeavour.\\nInvestment Friendliness Index of States\\n105. An Investment Friendliness Index of States will be launched in 2025 to\\nfurther the spirit of competitive cooperative federalism.\\nFSDC Mechanism\\n106. Under the Financial Stability and Development Council, a mechanism\\nwill be set up to evaluate impact of the current financial regulations and\\nsubsidiary instructions. It will also formulate a framework to enhance their\\nresponsiveness and development of the financial sector.\\nJan Vishwas Bill 2.0\\n107. In the Jan Vishwas Act 2023, more than 180 legal provisions were\\ndecriminalized. Our Government will now bring up the Jan Vishwas Bill 2.0 to\\ndecriminalize more than 100 provisions in various laws.\\nFiscal Policy\\n108. Now I move to fiscal policy matters.\\nFiscal Consolidation\\n109. In the July Budget, I had committed to staying the course for fiscal\\nconsolidation. Our endeavour will be to keep the fiscal deficit each year such\\nthat the Central Government debt remains on a declining path as a percentage\\nof the GDP. The roadmap for the next 6 years has been detailed in the FRBM\\nstatement.\\nRevised Estimates 2024-25\\n110. The Revised Estimate of the total receipts other than borrowings is\\n₹ 31.47 lakh crore, of which the net tax receipts are ₹25.57 lakh crore. The\\nRevised Estimate of the total expenditure is ₹ 47.16 lakh crore, of which the\\ncapital expenditure is about ₹ 10.18 lakh crore.\\n111. The Revised Estimate of the fiscal deficit is 4.8 per cent of GDP.\\n\\n19\\nBudget Estimates 2025-26\\n112. Coming to 2025-26, the total receipts other than borrowings and the\\ntotal expenditure are estimated at ₹ 34.96 lakh crore and ₹ 50.65 lakh crore\\nrespectively. The net tax receipts are estimated at ₹ 28.37 lakh crore.\\n113.\", mimetype='text/plain', start_char_idx=31918, end_char_idx=33947, metadata_seperator='\\n', text_template='{metadata_str}\\n\\n{content}'),\n",
              " TextNode(id_='2ed245d1-c62b-4b8f-94ad-4af8ea4ef46a', embedding=None, metadata={'file_path': '/content/indian_budget/indian_budget_speech_2025.md', 'file_name': 'indian_budget_speech_2025.md', 'file_type': 'text/markdown', 'file_size': 35217, 'creation_date': '2025-02-01', 'last_modified_date': '2025-02-01'}, excluded_embed_metadata_keys=['file_name', 'file_type', 'file_size', 'creation_date', 'last_modified_date', 'last_accessed_date'], excluded_llm_metadata_keys=['file_name', 'file_type', 'file_size', 'creation_date', 'last_modified_date', 'last_accessed_date'], relationships={<NodeRelationship.SOURCE: '1'>: RelatedNodeInfo(node_id='83223605-0601-474b-a04d-17674ed10d62', node_type=<ObjectType.DOCUMENT: '4'>, metadata={'file_path': '/content/indian_budget/indian_budget_speech_2025.md', 'file_name': 'indian_budget_speech_2025.md', 'file_type': 'text/markdown', 'file_size': 35217, 'creation_date': '2025-02-01', 'last_modified_date': '2025-02-01'}, hash='a911eb1601af3bc747d7ab1af5c3427d6a17ce5fe73b175a08f3ddfbe6b037bd'), <NodeRelationship.PREVIOUS: '2'>: RelatedNodeInfo(node_id='e0e73ecf-2394-4cb4-85c1-c1626de4dc52', node_type=<ObjectType.TEXT: '1'>, metadata={'file_path': '/content/indian_budget/indian_budget_speech_2025.md', 'file_name': 'indian_budget_speech_2025.md', 'file_type': 'text/markdown', 'file_size': 35217, 'creation_date': '2025-02-01', 'last_modified_date': '2025-02-01'}, hash='1e9391f35ed371d73c7c7b2f55de474034d89e96e72e75252796decb1b8bb675')}, metadata_template='{key}: {value}', metadata_separator='\\n', text=\"The roadmap for the next 6 years has been detailed in the FRBM\\nstatement.\\nRevised Estimates 2024-25\\n110. The Revised Estimate of the total receipts other than borrowings is\\n₹ 31.47 lakh crore, of which the net tax receipts are ₹25.57 lakh crore. The\\nRevised Estimate of the total expenditure is ₹ 47.16 lakh crore, of which the\\ncapital expenditure is about ₹ 10.18 lakh crore.\\n111. The Revised Estimate of the fiscal deficit is 4.8 per cent of GDP.\\n\\n19\\nBudget Estimates 2025-26\\n112. Coming to 2025-26, the total receipts other than borrowings and the\\ntotal expenditure are estimated at ₹ 34.96 lakh crore and ₹ 50.65 lakh crore\\nrespectively. The net tax receipts are estimated at ₹ 28.37 lakh crore.\\n113. The fiscal deficit is estimated to be 4.4 per cent of GDP.\\n114. To finance the fiscal deficit, the net market borrowings from dated\\nsecurities are estimated at ₹ 11.54 lakh crore. The balance financing is expected\\nto come from small savings and other sources. The gross market borrowings\\nare estimated at ₹ 14.82 lakh crore.\\nI will now move to Part B.\\n---\\n20\\n\\nPART B\\n\\n### Indirect Taxes\\n\\n115. My proposals relating to Customs aim to rationalize tariff structure and\\naddress duty inversion. These will also support domestic manufacturing and\\nvalue addition, promote exports, facilitate trade and provide relief to common\\npeople.\\n\\n#### Rationalisation of Customs Tariff Structure for Industrial Goods\\n\\n116. As a part of comprehensive review of Customs rate structure\\nannounced in July 2024 Budget, I propose to:\\n\\n(i) remove seven tariff rates. This is over and above the seven tariff\\nrates removed in 2023-24 budget. After this, there will be only eight\\nremaining tariff rates including 'zero' rate.\\n(ii) apply appropriate cess to broadly maintain effective duty incidence\\nexcept on a few items, where such incidence will reduce marginally.\\n(iii) levy not more than one\", mimetype='text/plain', start_char_idx=33243, end_char_idx=35115, metadata_seperator='\\n', text_template='{metadata_str}\\n\\n{content}')]"
            ]
          },
          "metadata": {},
          "execution_count": 14
        }
      ]
    },
    {
      "cell_type": "markdown",
      "source": [],
      "metadata": {
        "id": "yd8kT-8pne-S"
      }
    },
    {
      "cell_type": "markdown",
      "source": [
        "# **Build a QueryEngine and start querying.**"
      ],
      "metadata": {
        "id": "Z2a8_KfZngo0"
      }
    },
    {
      "cell_type": "code",
      "source": [
        "query_engine = vector_index.as_query_engine()\n",
        "\n",
        "# By default it retrieves two similar nodes/ chunks. You can modify that in\n",
        "# vector_index.as_query_engine(similarity_top_k=k).\n",
        "\n",
        "\n",
        "response_vector = query_engine.query(\"What is the  revised estimate of total expenditure?\")\n",
        "response_vector_1 = query_engine.query(\"What is total fiscal deficit\")"
      ],
      "metadata": {
        "id": "oRLPNGqUnj_M"
      },
      "execution_count": 15,
      "outputs": []
    },
    {
      "cell_type": "code",
      "source": [
        "response_vector"
      ],
      "metadata": {
        "colab": {
          "base_uri": "https://localhost:8080/"
        },
        "id": "NlQViVddnlGJ",
        "outputId": "7d2070e3-75a6-4325-ab35-fd8b1b3aef41"
      },
      "execution_count": 16,
      "outputs": [
        {
          "output_type": "execute_result",
          "data": {
            "text/plain": [
              "Response(response='The revised estimate of total expenditure is ₹47.16 lakh crore.', source_nodes=[NodeWithScore(node=TextNode(id_='2ed245d1-c62b-4b8f-94ad-4af8ea4ef46a', embedding=None, metadata={'file_path': '/content/indian_budget/indian_budget_speech_2025.md', 'file_name': 'indian_budget_speech_2025.md', 'file_type': 'text/markdown', 'file_size': 35217, 'creation_date': '2025-02-01', 'last_modified_date': '2025-02-01'}, excluded_embed_metadata_keys=['file_name', 'file_type', 'file_size', 'creation_date', 'last_modified_date', 'last_accessed_date'], excluded_llm_metadata_keys=['file_name', 'file_type', 'file_size', 'creation_date', 'last_modified_date', 'last_accessed_date'], relationships={<NodeRelationship.SOURCE: '1'>: RelatedNodeInfo(node_id='83223605-0601-474b-a04d-17674ed10d62', node_type='4', metadata={'file_path': '/content/indian_budget/indian_budget_speech_2025.md', 'file_name': 'indian_budget_speech_2025.md', 'file_type': 'text/markdown', 'file_size': 35217, 'creation_date': '2025-02-01', 'last_modified_date': '2025-02-01'}, hash='a911eb1601af3bc747d7ab1af5c3427d6a17ce5fe73b175a08f3ddfbe6b037bd'), <NodeRelationship.PREVIOUS: '2'>: RelatedNodeInfo(node_id='e0e73ecf-2394-4cb4-85c1-c1626de4dc52', node_type='1', metadata={'file_path': '/content/indian_budget/indian_budget_speech_2025.md', 'file_name': 'indian_budget_speech_2025.md', 'file_type': 'text/markdown', 'file_size': 35217, 'creation_date': '2025-02-01', 'last_modified_date': '2025-02-01'}, hash='1e9391f35ed371d73c7c7b2f55de474034d89e96e72e75252796decb1b8bb675')}, metadata_template='{key}: {value}', metadata_separator='\\n', text=\"The roadmap for the next 6 years has been detailed in the FRBM\\nstatement.\\nRevised Estimates 2024-25\\n110. The Revised Estimate of the total receipts other than borrowings is\\n₹ 31.47 lakh crore, of which the net tax receipts are ₹25.57 lakh crore. The\\nRevised Estimate of the total expenditure is ₹ 47.16 lakh crore, of which the\\ncapital expenditure is about ₹ 10.18 lakh crore.\\n111. The Revised Estimate of the fiscal deficit is 4.8 per cent of GDP.\\n\\n19\\nBudget Estimates 2025-26\\n112. Coming to 2025-26, the total receipts other than borrowings and the\\ntotal expenditure are estimated at ₹ 34.96 lakh crore and ₹ 50.65 lakh crore\\nrespectively. The net tax receipts are estimated at ₹ 28.37 lakh crore.\\n113. The fiscal deficit is estimated to be 4.4 per cent of GDP.\\n114. To finance the fiscal deficit, the net market borrowings from dated\\nsecurities are estimated at ₹ 11.54 lakh crore. The balance financing is expected\\nto come from small savings and other sources. The gross market borrowings\\nare estimated at ₹ 14.82 lakh crore.\\nI will now move to Part B.\\n---\\n20\\n\\nPART B\\n\\n### Indirect Taxes\\n\\n115. My proposals relating to Customs aim to rationalize tariff structure and\\naddress duty inversion. These will also support domestic manufacturing and\\nvalue addition, promote exports, facilitate trade and provide relief to common\\npeople.\\n\\n#### Rationalisation of Customs Tariff Structure for Industrial Goods\\n\\n116. As a part of comprehensive review of Customs rate structure\\nannounced in July 2024 Budget, I propose to:\\n\\n(i) remove seven tariff rates. This is over and above the seven tariff\\nrates removed in 2023-24 budget. After this, there will be only eight\\nremaining tariff rates including 'zero' rate.\\n(ii) apply appropriate cess to broadly maintain effective duty incidence\\nexcept on a few items, where such incidence will reduce marginally.\\n(iii) levy not more than one\", mimetype='text/plain', start_char_idx=33243, end_char_idx=35115, metadata_seperator='\\n', text_template='{metadata_str}\\n\\n{content}'), score=0.8555946287678392), NodeWithScore(node=TextNode(id_='e0e73ecf-2394-4cb4-85c1-c1626de4dc52', embedding=None, metadata={'file_path': '/content/indian_budget/indian_budget_speech_2025.md', 'file_name': 'indian_budget_speech_2025.md', 'file_type': 'text/markdown', 'file_size': 35217, 'creation_date': '2025-02-01', 'last_modified_date': '2025-02-01'}, excluded_embed_metadata_keys=['file_name', 'file_type', 'file_size', 'creation_date', 'last_modified_date', 'last_accessed_date'], excluded_llm_metadata_keys=['file_name', 'file_type', 'file_size', 'creation_date', 'last_modified_date', 'last_accessed_date'], relationships={<NodeRelationship.SOURCE: '1'>: RelatedNodeInfo(node_id='83223605-0601-474b-a04d-17674ed10d62', node_type='4', metadata={'file_path': '/content/indian_budget/indian_budget_speech_2025.md', 'file_name': 'indian_budget_speech_2025.md', 'file_type': 'text/markdown', 'file_size': 35217, 'creation_date': '2025-02-01', 'last_modified_date': '2025-02-01'}, hash='a911eb1601af3bc747d7ab1af5c3427d6a17ce5fe73b175a08f3ddfbe6b037bd'), <NodeRelationship.PREVIOUS: '2'>: RelatedNodeInfo(node_id='c583082f-ac94-4f15-9e52-3c1068b181e8', node_type='1', metadata={'file_path': '/content/indian_budget/indian_budget_speech_2025.md', 'file_name': 'indian_budget_speech_2025.md', 'file_type': 'text/markdown', 'file_size': 35217, 'creation_date': '2025-02-01', 'last_modified_date': '2025-02-01'}, hash='07d707090b1c5837b726836b09b253404df0560e9220b98aa2c1af97898cac59'), <NodeRelationship.NEXT: '3'>: RelatedNodeInfo(node_id='2ed245d1-c62b-4b8f-94ad-4af8ea4ef46a', node_type='1', metadata={}, hash='88b0fb2374004b91824d8515660e82b41ef12f0bfb0fdac5ca77aff938d08126')}, metadata_template='{key}: {value}', metadata_separator='\\n', text=\"The committee will be expected make recommendations within a\\n\\n18\\nyear. The objective is to strengthen trust-based economic governance and take\\ntransformational measures to enhance 'ease of doing business', especially in\\nmatters of inspections and compliances. States will be encouraged to join in\\nthis endeavour.\\nInvestment Friendliness Index of States\\n105. An Investment Friendliness Index of States will be launched in 2025 to\\nfurther the spirit of competitive cooperative federalism.\\nFSDC Mechanism\\n106. Under the Financial Stability and Development Council, a mechanism\\nwill be set up to evaluate impact of the current financial regulations and\\nsubsidiary instructions. It will also formulate a framework to enhance their\\nresponsiveness and development of the financial sector.\\nJan Vishwas Bill 2.0\\n107. In the Jan Vishwas Act 2023, more than 180 legal provisions were\\ndecriminalized. Our Government will now bring up the Jan Vishwas Bill 2.0 to\\ndecriminalize more than 100 provisions in various laws.\\nFiscal Policy\\n108. Now I move to fiscal policy matters.\\nFiscal Consolidation\\n109. In the July Budget, I had committed to staying the course for fiscal\\nconsolidation. Our endeavour will be to keep the fiscal deficit each year such\\nthat the Central Government debt remains on a declining path as a percentage\\nof the GDP. The roadmap for the next 6 years has been detailed in the FRBM\\nstatement.\\nRevised Estimates 2024-25\\n110. The Revised Estimate of the total receipts other than borrowings is\\n₹ 31.47 lakh crore, of which the net tax receipts are ₹25.57 lakh crore. The\\nRevised Estimate of the total expenditure is ₹ 47.16 lakh crore, of which the\\ncapital expenditure is about ₹ 10.18 lakh crore.\\n111. The Revised Estimate of the fiscal deficit is 4.8 per cent of GDP.\\n\\n19\\nBudget Estimates 2025-26\\n112. Coming to 2025-26, the total receipts other than borrowings and the\\ntotal expenditure are estimated at ₹ 34.96 lakh crore and ₹ 50.65 lakh crore\\nrespectively. The net tax receipts are estimated at ₹ 28.37 lakh crore.\\n113.\", mimetype='text/plain', start_char_idx=31918, end_char_idx=33947, metadata_seperator='\\n', text_template='{metadata_str}\\n\\n{content}'), score=0.833385803438824)], metadata={'2ed245d1-c62b-4b8f-94ad-4af8ea4ef46a': {'file_path': '/content/indian_budget/indian_budget_speech_2025.md', 'file_name': 'indian_budget_speech_2025.md', 'file_type': 'text/markdown', 'file_size': 35217, 'creation_date': '2025-02-01', 'last_modified_date': '2025-02-01'}, 'e0e73ecf-2394-4cb4-85c1-c1626de4dc52': {'file_path': '/content/indian_budget/indian_budget_speech_2025.md', 'file_name': 'indian_budget_speech_2025.md', 'file_type': 'text/markdown', 'file_size': 35217, 'creation_date': '2025-02-01', 'last_modified_date': '2025-02-01'}})"
            ]
          },
          "metadata": {},
          "execution_count": 16
        }
      ]
    },
    {
      "cell_type": "markdown",
      "source": [
        "**print and check the response**"
      ],
      "metadata": {
        "id": "i-nyz0-dnrfR"
      }
    },
    {
      "cell_type": "code",
      "source": [
        "response_vector.response"
      ],
      "metadata": {
        "colab": {
          "base_uri": "https://localhost:8080/",
          "height": 35
        },
        "id": "0NWSvvE6nvkM",
        "outputId": "3799eab4-ff3f-447f-c16b-325f4f104a42"
      },
      "execution_count": 17,
      "outputs": [
        {
          "output_type": "execute_result",
          "data": {
            "text/plain": [
              "'The revised estimate of total expenditure is ₹47.16 lakh crore.'"
            ],
            "application/vnd.google.colaboratory.intrinsic+json": {
              "type": "string"
            }
          },
          "metadata": {},
          "execution_count": 17
        }
      ]
    },
    {
      "cell_type": "code",
      "source": [
        "response_vector_1.response"
      ],
      "metadata": {
        "colab": {
          "base_uri": "https://localhost:8080/",
          "height": 35
        },
        "id": "ck3dmb3Dy38R",
        "outputId": "68fd225a-8c87-4c07-d603-08274015e3aa"
      },
      "execution_count": 18,
      "outputs": [
        {
          "output_type": "execute_result",
          "data": {
            "text/plain": [
              "'The total fiscal deficit is estimated to be 4.4 per cent of GDP.'"
            ],
            "application/vnd.google.colaboratory.intrinsic+json": {
              "type": "string"
            }
          },
          "metadata": {},
          "execution_count": 18
        }
      ]
    },
    {
      "cell_type": "code",
      "source": [
        "print(response_vector_1.response)"
      ],
      "metadata": {
        "colab": {
          "base_uri": "https://localhost:8080/"
        },
        "id": "kUkUuXml5b8T",
        "outputId": "63ee0df2-b1d4-4cf4-ff1e-281b1e4912ae"
      },
      "execution_count": 19,
      "outputs": [
        {
          "output_type": "stream",
          "name": "stdout",
          "text": [
            "The total fiscal deficit is estimated to be 4.4 per cent of GDP.\n"
          ]
        }
      ]
    },
    {
      "cell_type": "code",
      "source": [
        "# Let's check the text in each of these retrieved nodes.\n",
        "# First retrieved node\n",
        "#response_vector.source_nodes[0].get_text()\n",
        "response_vector"
      ],
      "metadata": {
        "colab": {
          "base_uri": "https://localhost:8080/"
        },
        "id": "3uFAZBs3oMCC",
        "outputId": "4b3bff0d-c5f5-40a1-f80d-cc0e95f1935d"
      },
      "execution_count": null,
      "outputs": [
        {
          "output_type": "execute_result",
          "data": {
            "text/plain": [
              "Response(response='The percentage of the tight part tolerance that must be applied to the tool is typically around 10% to ensure proper fit and functionality.', source_nodes=[NodeWithScore(node=TextNode(id_='ea181f65-20df-465e-804f-1e3e0c83aa63', embedding=None, metadata={'file_path': '/content/data/paul_graham/paul_graham_essay.txt', 'file_name': 'paul_graham_essay.txt', 'file_type': 'text/plain', 'file_size': 14, 'creation_date': '2025-02-01', 'last_modified_date': '2025-02-01'}, excluded_embed_metadata_keys=['file_name', 'file_type', 'file_size', 'creation_date', 'last_modified_date', 'last_accessed_date'], excluded_llm_metadata_keys=['file_name', 'file_type', 'file_size', 'creation_date', 'last_modified_date', 'last_accessed_date'], relationships={<NodeRelationship.SOURCE: '1'>: RelatedNodeInfo(node_id='b32c8d96-0fb2-4f67-adc7-7c7fb5adb6c7', node_type='4', metadata={'file_path': '/content/data/paul_graham/paul_graham_essay.txt', 'file_name': 'paul_graham_essay.txt', 'file_type': 'text/plain', 'file_size': 14, 'creation_date': '2025-02-01', 'last_modified_date': '2025-02-01'}, hash='1f9537429e34f3954e7092b7d189474b69ed920fee02f16864871b3a49de5f37')}, metadata_template='{key}: {value}', metadata_separator='\\n', text='404: Not Found', mimetype='text/plain', start_char_idx=0, end_char_idx=14, metadata_seperator='\\n', text_template='{metadata_str}\\n\\n{content}'), score=0.04420428305605965)], metadata={'ea181f65-20df-465e-804f-1e3e0c83aa63': {'file_path': '/content/data/paul_graham/paul_graham_essay.txt', 'file_name': 'paul_graham_essay.txt', 'file_type': 'text/plain', 'file_size': 14, 'creation_date': '2025-02-01', 'last_modified_date': '2025-02-01'}})"
            ]
          },
          "metadata": {},
          "execution_count": 42
        }
      ]
    },
    {
      "cell_type": "code",
      "source": [
        "# Second retrieved node\n",
        "len(response_vector.source_nodes)"
      ],
      "metadata": {
        "colab": {
          "base_uri": "https://localhost:8080/"
        },
        "id": "JzG68cHKoQR4",
        "outputId": "fd150a14-924b-4757-9639-5103d8214fda"
      },
      "execution_count": 20,
      "outputs": [
        {
          "output_type": "execute_result",
          "data": {
            "text/plain": [
              "2"
            ]
          },
          "metadata": {},
          "execution_count": 20
        }
      ]
    },
    {
      "cell_type": "markdown",
      "source": [],
      "metadata": {
        "id": "Gy0wSN2Iptti"
      }
    },
    {
      "cell_type": "markdown",
      "source": [
        "# **Question-Context Pair Generation:**"
      ],
      "metadata": {
        "id": "SDzjvo89pwZA"
      }
    },
    {
      "cell_type": "code",
      "source": [
        "qa_dataset = generate_question_context_pairs(\n",
        "    nodes,\n",
        "    llm=llm,\n",
        "    num_questions_per_chunk=2\n",
        ")"
      ],
      "metadata": {
        "colab": {
          "base_uri": "https://localhost:8080/"
        },
        "id": "VQg5IemqpuCi",
        "outputId": "e8efc4b9-bcc3-4cba-f614-084a50379a5c"
      },
      "execution_count": null,
      "outputs": [
        {
          "output_type": "stream",
          "name": "stderr",
          "text": [
            "100%|██████████| 1/1 [00:03<00:00,  3.20s/it]\n"
          ]
        }
      ]
    },
    {
      "cell_type": "markdown",
      "source": [
        "# **Retrieval Evaluation:**"
      ],
      "metadata": {
        "id": "DAJ6e1lkp2DL"
      }
    },
    {
      "cell_type": "code",
      "source": [
        "retriever = vector_index.as_retriever(similarity_top_k=2)"
      ],
      "metadata": {
        "id": "RagG50SSp4LA"
      },
      "execution_count": null,
      "outputs": []
    },
    {
      "cell_type": "markdown",
      "source": [
        "# **Mean Reciprocal Rank (MRR):**"
      ],
      "metadata": {
        "id": "hSHbUMLZp9ZZ"
      }
    },
    {
      "cell_type": "code",
      "source": [
        "retriever_evaluator = RetrieverEvaluator.from_metric_names(\n",
        "    [\"mrr\", \"hit_rate\"], retriever=retriever\n",
        ")"
      ],
      "metadata": {
        "id": "CzS6LjO9p8ob"
      },
      "execution_count": null,
      "outputs": []
    },
    {
      "cell_type": "code",
      "source": [
        "# Evaluate\n",
        "eval_results = await retriever_evaluator.aevaluate_dataset(qa_dataset)"
      ],
      "metadata": {
        "id": "BOOGKWduqCsb"
      },
      "execution_count": null,
      "outputs": []
    },
    {
      "cell_type": "code",
      "source": [
        "def display_results(name, eval_results):\n",
        "    \"\"\"Display results from evaluate.\"\"\"\n",
        "\n",
        "    metric_dicts = []\n",
        "    for eval_result in eval_results:\n",
        "        metric_dict = eval_result.metric_vals_dict\n",
        "        metric_dicts.append(metric_dict)\n",
        "\n",
        "    full_df = pd.DataFrame(metric_dicts)\n",
        "\n",
        "    hit_rate = full_df[\"hit_rate\"].mean()\n",
        "    mrr = full_df[\"mrr\"].mean()\n",
        "\n",
        "    metric_df = pd.DataFrame(\n",
        "        {\"Retriever Name\": [name], \"Hit Rate\": [hit_rate], \"MRR\": [mrr]}\n",
        "    )\n",
        "\n",
        "    return metric_df"
      ],
      "metadata": {
        "id": "Y9TTNfOGqGlK"
      },
      "execution_count": null,
      "outputs": []
    },
    {
      "cell_type": "code",
      "source": [
        "display_results(\"OpenAI Embedding Retriever\", eval_results)"
      ],
      "metadata": {
        "colab": {
          "base_uri": "https://localhost:8080/",
          "height": 81
        },
        "id": "ymOL8TD_qLBc",
        "outputId": "41ac3090-8bc6-4545-dedd-50f4237471f5"
      },
      "execution_count": null,
      "outputs": [
        {
          "output_type": "execute_result",
          "data": {
            "text/plain": [
              "               Retriever Name  Hit Rate  MRR\n",
              "0  OpenAI Embedding Retriever       1.0  1.0"
            ],
            "text/html": [
              "\n",
              "  <div id=\"df-6c51438e-7be0-45a5-8a75-ac021ee8152a\" class=\"colab-df-container\">\n",
              "    <div>\n",
              "<style scoped>\n",
              "    .dataframe tbody tr th:only-of-type {\n",
              "        vertical-align: middle;\n",
              "    }\n",
              "\n",
              "    .dataframe tbody tr th {\n",
              "        vertical-align: top;\n",
              "    }\n",
              "\n",
              "    .dataframe thead th {\n",
              "        text-align: right;\n",
              "    }\n",
              "</style>\n",
              "<table border=\"1\" class=\"dataframe\">\n",
              "  <thead>\n",
              "    <tr style=\"text-align: right;\">\n",
              "      <th></th>\n",
              "      <th>Retriever Name</th>\n",
              "      <th>Hit Rate</th>\n",
              "      <th>MRR</th>\n",
              "    </tr>\n",
              "  </thead>\n",
              "  <tbody>\n",
              "    <tr>\n",
              "      <th>0</th>\n",
              "      <td>OpenAI Embedding Retriever</td>\n",
              "      <td>1.0</td>\n",
              "      <td>1.0</td>\n",
              "    </tr>\n",
              "  </tbody>\n",
              "</table>\n",
              "</div>\n",
              "    <div class=\"colab-df-buttons\">\n",
              "\n",
              "  <div class=\"colab-df-container\">\n",
              "    <button class=\"colab-df-convert\" onclick=\"convertToInteractive('df-6c51438e-7be0-45a5-8a75-ac021ee8152a')\"\n",
              "            title=\"Convert this dataframe to an interactive table.\"\n",
              "            style=\"display:none;\">\n",
              "\n",
              "  <svg xmlns=\"http://www.w3.org/2000/svg\" height=\"24px\" viewBox=\"0 -960 960 960\">\n",
              "    <path d=\"M120-120v-720h720v720H120Zm60-500h600v-160H180v160Zm220 220h160v-160H400v160Zm0 220h160v-160H400v160ZM180-400h160v-160H180v160Zm440 0h160v-160H620v160ZM180-180h160v-160H180v160Zm440 0h160v-160H620v160Z\"/>\n",
              "  </svg>\n",
              "    </button>\n",
              "\n",
              "  <style>\n",
              "    .colab-df-container {\n",
              "      display:flex;\n",
              "      gap: 12px;\n",
              "    }\n",
              "\n",
              "    .colab-df-convert {\n",
              "      background-color: #E8F0FE;\n",
              "      border: none;\n",
              "      border-radius: 50%;\n",
              "      cursor: pointer;\n",
              "      display: none;\n",
              "      fill: #1967D2;\n",
              "      height: 32px;\n",
              "      padding: 0 0 0 0;\n",
              "      width: 32px;\n",
              "    }\n",
              "\n",
              "    .colab-df-convert:hover {\n",
              "      background-color: #E2EBFA;\n",
              "      box-shadow: 0px 1px 2px rgba(60, 64, 67, 0.3), 0px 1px 3px 1px rgba(60, 64, 67, 0.15);\n",
              "      fill: #174EA6;\n",
              "    }\n",
              "\n",
              "    .colab-df-buttons div {\n",
              "      margin-bottom: 4px;\n",
              "    }\n",
              "\n",
              "    [theme=dark] .colab-df-convert {\n",
              "      background-color: #3B4455;\n",
              "      fill: #D2E3FC;\n",
              "    }\n",
              "\n",
              "    [theme=dark] .colab-df-convert:hover {\n",
              "      background-color: #434B5C;\n",
              "      box-shadow: 0px 1px 3px 1px rgba(0, 0, 0, 0.15);\n",
              "      filter: drop-shadow(0px 1px 2px rgba(0, 0, 0, 0.3));\n",
              "      fill: #FFFFFF;\n",
              "    }\n",
              "  </style>\n",
              "\n",
              "    <script>\n",
              "      const buttonEl =\n",
              "        document.querySelector('#df-6c51438e-7be0-45a5-8a75-ac021ee8152a button.colab-df-convert');\n",
              "      buttonEl.style.display =\n",
              "        google.colab.kernel.accessAllowed ? 'block' : 'none';\n",
              "\n",
              "      async function convertToInteractive(key) {\n",
              "        const element = document.querySelector('#df-6c51438e-7be0-45a5-8a75-ac021ee8152a');\n",
              "        const dataTable =\n",
              "          await google.colab.kernel.invokeFunction('convertToInteractive',\n",
              "                                                    [key], {});\n",
              "        if (!dataTable) return;\n",
              "\n",
              "        const docLinkHtml = 'Like what you see? Visit the ' +\n",
              "          '<a target=\"_blank\" href=https://colab.research.google.com/notebooks/data_table.ipynb>data table notebook</a>'\n",
              "          + ' to learn more about interactive tables.';\n",
              "        element.innerHTML = '';\n",
              "        dataTable['output_type'] = 'display_data';\n",
              "        await google.colab.output.renderOutput(dataTable, element);\n",
              "        const docLink = document.createElement('div');\n",
              "        docLink.innerHTML = docLinkHtml;\n",
              "        element.appendChild(docLink);\n",
              "      }\n",
              "    </script>\n",
              "  </div>\n",
              "\n",
              "\n",
              "    </div>\n",
              "  </div>\n"
            ],
            "application/vnd.google.colaboratory.intrinsic+json": {
              "type": "dataframe",
              "summary": "{\n  \"name\": \"display_results(\\\"OpenAI Embedding Retriever\\\", eval_results)\",\n  \"rows\": 1,\n  \"fields\": [\n    {\n      \"column\": \"Retriever Name\",\n      \"properties\": {\n        \"dtype\": \"string\",\n        \"num_unique_values\": 1,\n        \"samples\": [\n          \"OpenAI Embedding Retriever\"\n        ],\n        \"semantic_type\": \"\",\n        \"description\": \"\"\n      }\n    },\n    {\n      \"column\": \"Hit Rate\",\n      \"properties\": {\n        \"dtype\": \"number\",\n        \"std\": null,\n        \"min\": 1.0,\n        \"max\": 1.0,\n        \"num_unique_values\": 1,\n        \"samples\": [\n          1.0\n        ],\n        \"semantic_type\": \"\",\n        \"description\": \"\"\n      }\n    },\n    {\n      \"column\": \"MRR\",\n      \"properties\": {\n        \"dtype\": \"number\",\n        \"std\": null,\n        \"min\": 1.0,\n        \"max\": 1.0,\n        \"num_unique_values\": 1,\n        \"samples\": [\n          1.0\n        ],\n        \"semantic_type\": \"\",\n        \"description\": \"\"\n      }\n    }\n  ]\n}"
            }
          },
          "metadata": {},
          "execution_count": 49
        }
      ]
    },
    {
      "cell_type": "markdown",
      "source": [
        "# **Response Evaluation**"
      ],
      "metadata": {
        "id": "u3ttytVVw_WU"
      }
    },
    {
      "cell_type": "code",
      "source": [
        "# Get the list of queries from the above created dataset\n",
        "\n",
        "queries = list(qa_dataset.queries.values())"
      ],
      "metadata": {
        "id": "YTY0CUNQxEzc"
      },
      "execution_count": null,
      "outputs": []
    },
    {
      "cell_type": "code",
      "source": [
        "queries"
      ],
      "metadata": {
        "colab": {
          "base_uri": "https://localhost:8080/"
        },
        "id": "LhZ50rkGxILf",
        "outputId": "b503e5a3-f050-4042-833b-47b7bdf56868"
      },
      "execution_count": null,
      "outputs": [
        {
          "output_type": "execute_result",
          "data": {
            "text/plain": [
              "[\"What does the error code '404' typically represent in computer networking?\",\n",
              " \"Can you explain some potential reasons why a 'Not Found' error might occur?\"]"
            ]
          },
          "metadata": {},
          "execution_count": 51
        }
      ]
    },
    {
      "cell_type": "markdown",
      "source": [
        "# **Faithfulness Evaluator**"
      ],
      "metadata": {
        "id": "upjvFWiPxLVX"
      }
    },
    {
      "cell_type": "code",
      "source": [
        "# gpt-3.5-turbo\n",
        "#gpt35 = OpenAI(temperature=0, model=\"gpt-3.5-turbo\")\n",
        "from llama_index.core import Settings\n",
        "from llama_index.embeddings.openai import OpenAIEmbedding\n",
        "from llama_index.core.node_parser import SentenceSplitter\n",
        "from llama_index.llms.openai import OpenAI\n",
        "\n",
        "Settings.llm = OpenAI(model=\"gpt-3.5-turbo\")\n",
        "Settings.embed_model = OpenAIEmbedding(model=\"text-embedding-3-small\")\n",
        "#Settings.node_parser = SentenceSplitter(chunk_size=512, chunk_overlap=20)\n",
        "#Settings.num_output = 512\n",
        "#Settings.context_window = 3900\n",
        "##service_context_gpt35 = ServiceContext.from_defaults(llm=gpt35)\n",
        "\n",
        "# gpt-3.5-turbo-16k-0613\n",
        "gpt4 = OpenAI(temperature=0, model=\"gpt-4\")\n",
        "#service_context_gpt4 = ServiceContext.from_defaults(llm=gpt4)\n",
        "\n",
        "#gpt-4\n",
        "#gpt35T = OpenAI(temperature=0, model=\"gpt-4\")\n",
        "#service_context_gpt4 = ServiceContext.from_defaults(llm=gpt35T)"
      ],
      "metadata": {
        "id": "D6aa4UhsxKc1"
      },
      "execution_count": null,
      "outputs": []
    },
    {
      "cell_type": "code",
      "source": [
        "#Create a QueryEngine with gpt-3.5-turbo service_context to generate response for the query.\n",
        "#vector_index = VectorStoreIndex(nodes, service_context = service_context_gpt35)\n",
        "index = VectorStoreIndex.from_documents(documents)\n",
        "query_engine = index.as_query_engine()\n",
        "#query_engine = VectorStoreIndex.as_query_engine()"
      ],
      "metadata": {
        "id": "NbUYFuE2xxyc"
      },
      "execution_count": null,
      "outputs": []
    },
    {
      "cell_type": "code",
      "source": [
        "#Create a FaithfulnessEvaluator\n",
        "from llama_index.core.evaluation import FaithfulnessEvaluator\n",
        "#faithfulness_gpt4 = FaithfulnessEvaluator(service_context=service_context_gpt4)\n",
        "faithfulness_gpt4  = FaithfulnessEvaluator(llm=gpt4)\n"
      ],
      "metadata": {
        "id": "Yo0ziJl0x2go"
      },
      "execution_count": null,
      "outputs": []
    },
    {
      "cell_type": "code",
      "source": [
        "eval_query = queries[1]\n",
        "\n",
        "eval_query"
      ],
      "metadata": {
        "colab": {
          "base_uri": "https://localhost:8080/",
          "height": 35
        },
        "id": "x4zuyDS6x8_3",
        "outputId": "2348143d-901c-45f4-b254-7830dc4e069a"
      },
      "execution_count": null,
      "outputs": [
        {
          "output_type": "execute_result",
          "data": {
            "text/plain": [
              "\"Can you explain some potential reasons why a 'Not Found' error might occur?\""
            ],
            "application/vnd.google.colaboratory.intrinsic+json": {
              "type": "string"
            }
          },
          "metadata": {},
          "execution_count": 55
        }
      ]
    },
    {
      "cell_type": "code",
      "source": [
        "#Generate response first and use faithfull evaluator.\n",
        "response_vector = query_engine.query(eval_query)"
      ],
      "metadata": {
        "id": "ept1j-uIx-M-"
      },
      "execution_count": null,
      "outputs": []
    },
    {
      "cell_type": "code",
      "source": [
        "# Compute faithfulness evaluation\n",
        "\n",
        "eval_result = faithfulness_gpt4.evaluate_response(response=response_vector)"
      ],
      "metadata": {
        "id": "qCb11ccuyDsk"
      },
      "execution_count": null,
      "outputs": []
    },
    {
      "cell_type": "code",
      "source": [
        "# You can check passing parameter in eval_result if it passed the evaluation.\n",
        "eval_result.passing"
      ],
      "metadata": {
        "colab": {
          "base_uri": "https://localhost:8080/"
        },
        "id": "NIHWBLiryDmb",
        "outputId": "b5a556de-b7c3-4e0c-dd48-a2a853a92d73"
      },
      "execution_count": null,
      "outputs": [
        {
          "output_type": "execute_result",
          "data": {
            "text/plain": [
              "True"
            ]
          },
          "metadata": {},
          "execution_count": 69
        }
      ]
    },
    {
      "cell_type": "markdown",
      "source": [
        "# **Relevancy Evaluator**"
      ],
      "metadata": {
        "id": "ioIvPMM7yHOF"
      }
    },
    {
      "cell_type": "code",
      "source": [
        "from llama_index.core.evaluation import RelevancyEvaluator\n",
        "\n",
        "#relevancy_gpt4 = RelevancyEvaluator(service_context=service_context_gpt4)\n",
        "relevancy_gpt4 = RelevancyEvaluator(llm=gpt4)"
      ],
      "metadata": {
        "id": "vhZyZd-AyLUz"
      },
      "execution_count": null,
      "outputs": []
    },
    {
      "cell_type": "code",
      "source": [
        "# Pick a query\n",
        "query = queries[1]\n",
        "\n",
        "query"
      ],
      "metadata": {
        "colab": {
          "base_uri": "https://localhost:8080/",
          "height": 35
        },
        "id": "gIX3WHxvySkC",
        "outputId": "df876da1-c2ec-488f-85d2-4b4a803b5026"
      },
      "execution_count": null,
      "outputs": [
        {
          "output_type": "execute_result",
          "data": {
            "text/plain": [
              "\"Can you explain some potential reasons why a 'Not Found' error might occur?\""
            ],
            "application/vnd.google.colaboratory.intrinsic+json": {
              "type": "string"
            }
          },
          "metadata": {},
          "execution_count": 60
        }
      ]
    },
    {
      "cell_type": "code",
      "source": [
        "# Generate response.\n",
        "# response_vector has response and source nodes (retrieved context)\n",
        "response_vector = query_engine.query(query)\n",
        "\n",
        "# Relevancy evaluation\n",
        "eval_result = relevancy_gpt4.evaluate_response(\n",
        "    query=query, response=response_vector\n",
        ")"
      ],
      "metadata": {
        "id": "Tk1WJ88fyVJV"
      },
      "execution_count": null,
      "outputs": []
    },
    {
      "cell_type": "code",
      "source": [
        "# You can check passing parameter in eval_result if it passed the evaluation.\n",
        "eval_result.passing"
      ],
      "metadata": {
        "colab": {
          "base_uri": "https://localhost:8080/"
        },
        "id": "Zn0GhJKgyW_N",
        "outputId": "d1eaef4c-9445-4bb3-94ea-443316af86d1"
      },
      "execution_count": null,
      "outputs": [
        {
          "output_type": "execute_result",
          "data": {
            "text/plain": [
              "True"
            ]
          },
          "metadata": {},
          "execution_count": 62
        }
      ]
    },
    {
      "cell_type": "code",
      "source": [
        "# You can get the feedback for the evaluation.\n",
        "eval_result.feedback"
      ],
      "metadata": {
        "colab": {
          "base_uri": "https://localhost:8080/",
          "height": 35
        },
        "id": "eqySQ7iVyZSw",
        "outputId": "e8b592fd-8e42-4304-985a-0a2e9ebb54a6"
      },
      "execution_count": null,
      "outputs": [
        {
          "output_type": "execute_result",
          "data": {
            "text/plain": [
              "'YES'"
            ],
            "application/vnd.google.colaboratory.intrinsic+json": {
              "type": "string"
            }
          },
          "metadata": {},
          "execution_count": 63
        }
      ]
    },
    {
      "cell_type": "markdown",
      "source": [
        "# **Batch Evaluator**"
      ],
      "metadata": {
        "id": "9HqXLL8_ydBx"
      }
    },
    {
      "cell_type": "code",
      "source": [
        "from llama_index.core.evaluation import BatchEvalRunner\n",
        "\n",
        "# Let's pick top 10 queries to do evaluation\n",
        "batch_eval_queries = queries[:10]\n",
        "\n",
        "# Initiate BatchEvalRunner to compute FaithFulness and Relevancy Evaluation.\n",
        "runner = BatchEvalRunner(\n",
        "    {\"faithfulness\": faithfulness_gpt4, \"relevancy\": relevancy_gpt4},\n",
        "    workers=8,\n",
        ")\n",
        "\n",
        "# Compute evaluation\n",
        "eval_results = await runner.aevaluate_queries(\n",
        "    query_engine, queries=batch_eval_queries\n",
        ")"
      ],
      "metadata": {
        "id": "CouVNEgDycsM"
      },
      "execution_count": null,
      "outputs": []
    },
    {
      "cell_type": "code",
      "source": [
        "# Let's get faithfulness score\n",
        "\n",
        "faithfulness_score = sum(result.passing for result in eval_results['faithfulness']) / len(eval_results['faithfulness'])\n",
        "\n",
        "faithfulness_score"
      ],
      "metadata": {
        "colab": {
          "base_uri": "https://localhost:8080/"
        },
        "id": "OZR0KgheykrX",
        "outputId": "f74e6713-b964-47ac-d940-b0fd1564f791"
      },
      "execution_count": null,
      "outputs": [
        {
          "output_type": "execute_result",
          "data": {
            "text/plain": [
              "0.5"
            ]
          },
          "metadata": {},
          "execution_count": 65
        }
      ]
    },
    {
      "cell_type": "code",
      "source": [
        "# Let's get relevancy score\n",
        "\n",
        "relevancy_score = sum(result.passing for result in eval_results['relevancy']) / len(eval_results['relevancy'])\n",
        "\n",
        "relevancy_score\n"
      ],
      "metadata": {
        "colab": {
          "base_uri": "https://localhost:8080/"
        },
        "id": "fsBtSM-Vym1B",
        "outputId": "4cc376aa-4190-45d9-9fe1-90fb0e49f294"
      },
      "execution_count": null,
      "outputs": [
        {
          "output_type": "execute_result",
          "data": {
            "text/plain": [
              "1.0"
            ]
          },
          "metadata": {},
          "execution_count": 66
        }
      ]
    },
    {
      "cell_type": "code",
      "source": [],
      "metadata": {
        "id": "lXv78Sfw0g0y"
      },
      "execution_count": null,
      "outputs": []
    }
  ]
}