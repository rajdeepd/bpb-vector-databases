{
  "cells": [
    {
      "cell_type": "markdown",
      "metadata": {
        "id": "CgnOF_fX4zuc"
      },
      "source": [
        "# 📓 TruLens Quickstart\n",
        "\n",
        "In this quickstart you will create a RAG from scratch and learn how to log it and get feedback on an LLM response.\n",
        "\n",
        "For evaluation, we will leverage the \"hallucination triad\" of groundedness, context relevance and answer relevance.\n",
        "\n",
        "[![Open In Colab](https://colab.research.google.com/assets/colab-badge.svg)](https://colab.research.google.com/github/truera/trulens/blob/main/examples/quickstart/quickstart.ipynb)"
      ]
    },
    {
      "cell_type": "code",
      "execution_count": 11,
      "metadata": {
        "id": "6reOjzTg4zue",
        "outputId": "7fa0f6a4-f2ee-46e8-f64a-0fa841748723",
        "colab": {
          "base_uri": "https://localhost:8080/"
        }
      },
      "outputs": [
        {
          "output_type": "stream",
          "name": "stdout",
          "text": [
            "Requirement already satisfied: trulens in /usr/local/lib/python3.11/dist-packages (1.4.3)\n",
            "Requirement already satisfied: trulens-providers-openai in /usr/local/lib/python3.11/dist-packages (1.4.3)\n",
            "Requirement already satisfied: chromadb in /usr/local/lib/python3.11/dist-packages (0.6.3)\n",
            "Requirement already satisfied: openai in /usr/local/lib/python3.11/dist-packages (1.61.1)\n",
            "Requirement already satisfied: poetry<2.0.0 in /usr/local/lib/python3.11/dist-packages (from trulens) (1.8.5)\n",
            "Requirement already satisfied: trulens-core<2.0.0,>=1.0.0 in /usr/local/lib/python3.11/dist-packages (from trulens-core[openai,otel,tqdm]<2.0.0,>=1.0.0->trulens) (1.4.3)\n",
            "Requirement already satisfied: trulens-dashboard<2.0.0,>=1.0.0 in /usr/local/lib/python3.11/dist-packages (from trulens-dashboard[full]<2.0.0,>=1.0.0->trulens) (1.4.3)\n",
            "Requirement already satisfied: trulens-feedback<2.0.0,>=1.0.0 in /usr/local/lib/python3.11/dist-packages (from trulens) (1.4.3)\n",
            "Requirement already satisfied: trulens-otel-semconv<2.0.0,>=1.0.0 in /usr/local/lib/python3.11/dist-packages (from trulens) (1.4.3)\n",
            "Requirement already satisfied: trulens_eval<2.0.0,>=1.0.0 in /usr/local/lib/python3.11/dist-packages (from trulens) (1.4.3)\n",
            "Requirement already satisfied: langchain-community>=0.0.20 in /usr/local/lib/python3.11/dist-packages (from trulens-providers-openai) (0.3.18)\n",
            "Requirement already satisfied: build>=1.0.3 in /usr/local/lib/python3.11/dist-packages (from chromadb) (1.2.2.post1)\n",
            "Requirement already satisfied: pydantic>=1.9 in /usr/local/lib/python3.11/dist-packages (from chromadb) (2.10.6)\n",
            "Requirement already satisfied: chroma-hnswlib==0.7.6 in /usr/local/lib/python3.11/dist-packages (from chromadb) (0.7.6)\n",
            "Requirement already satisfied: fastapi>=0.95.2 in /usr/local/lib/python3.11/dist-packages (from chromadb) (0.115.8)\n",
            "Requirement already satisfied: uvicorn>=0.18.3 in /usr/local/lib/python3.11/dist-packages (from uvicorn[standard]>=0.18.3->chromadb) (0.34.0)\n",
            "Requirement already satisfied: numpy>=1.22.5 in /usr/local/lib/python3.11/dist-packages (from chromadb) (1.26.4)\n",
            "Requirement already satisfied: posthog>=2.4.0 in /usr/local/lib/python3.11/dist-packages (from chromadb) (3.16.0)\n",
            "Requirement already satisfied: typing_extensions>=4.5.0 in /usr/local/lib/python3.11/dist-packages (from chromadb) (4.12.2)\n",
            "Requirement already satisfied: onnxruntime>=1.14.1 in /usr/local/lib/python3.11/dist-packages (from chromadb) (1.20.1)\n",
            "Requirement already satisfied: opentelemetry-api>=1.2.0 in /usr/local/lib/python3.11/dist-packages (from chromadb) (1.30.0)\n",
            "Requirement already satisfied: opentelemetry-exporter-otlp-proto-grpc>=1.2.0 in /usr/local/lib/python3.11/dist-packages (from chromadb) (1.30.0)\n",
            "Requirement already satisfied: opentelemetry-instrumentation-fastapi>=0.41b0 in /usr/local/lib/python3.11/dist-packages (from chromadb) (0.51b0)\n",
            "Requirement already satisfied: opentelemetry-sdk>=1.2.0 in /usr/local/lib/python3.11/dist-packages (from chromadb) (1.30.0)\n",
            "Requirement already satisfied: tokenizers>=0.13.2 in /usr/local/lib/python3.11/dist-packages (from chromadb) (0.21.0)\n",
            "Requirement already satisfied: pypika>=0.48.9 in /usr/local/lib/python3.11/dist-packages (from chromadb) (0.48.9)\n",
            "Requirement already satisfied: tqdm>=4.65.0 in /usr/local/lib/python3.11/dist-packages (from chromadb) (4.67.1)\n",
            "Requirement already satisfied: overrides>=7.3.1 in /usr/local/lib/python3.11/dist-packages (from chromadb) (7.7.0)\n",
            "Requirement already satisfied: importlib-resources in /usr/local/lib/python3.11/dist-packages (from chromadb) (6.5.2)\n",
            "Requirement already satisfied: grpcio>=1.58.0 in /usr/local/lib/python3.11/dist-packages (from chromadb) (1.70.0)\n",
            "Requirement already satisfied: bcrypt>=4.0.1 in /usr/local/lib/python3.11/dist-packages (from chromadb) (4.2.1)\n",
            "Requirement already satisfied: typer>=0.9.0 in /usr/local/lib/python3.11/dist-packages (from chromadb) (0.15.1)\n",
            "Requirement already satisfied: kubernetes>=28.1.0 in /usr/local/lib/python3.11/dist-packages (from chromadb) (32.0.1)\n",
            "Requirement already satisfied: tenacity>=8.2.3 in /usr/local/lib/python3.11/dist-packages (from chromadb) (9.0.0)\n",
            "Requirement already satisfied: PyYAML>=6.0.0 in /usr/local/lib/python3.11/dist-packages (from chromadb) (6.0.2)\n",
            "Requirement already satisfied: mmh3>=4.0.1 in /usr/local/lib/python3.11/dist-packages (from chromadb) (5.1.0)\n",
            "Requirement already satisfied: orjson>=3.9.12 in /usr/local/lib/python3.11/dist-packages (from chromadb) (3.10.15)\n",
            "Requirement already satisfied: httpx>=0.27.0 in /usr/local/lib/python3.11/dist-packages (from chromadb) (0.28.1)\n",
            "Requirement already satisfied: rich>=10.11.0 in /usr/local/lib/python3.11/dist-packages (from chromadb) (13.9.4)\n",
            "Requirement already satisfied: anyio<5,>=3.5.0 in /usr/local/lib/python3.11/dist-packages (from openai) (3.7.1)\n",
            "Requirement already satisfied: distro<2,>=1.7.0 in /usr/local/lib/python3.11/dist-packages (from openai) (1.9.0)\n",
            "Requirement already satisfied: jiter<1,>=0.4.0 in /usr/local/lib/python3.11/dist-packages (from openai) (0.8.2)\n",
            "Requirement already satisfied: sniffio in /usr/local/lib/python3.11/dist-packages (from openai) (1.3.1)\n",
            "Requirement already satisfied: idna>=2.8 in /usr/local/lib/python3.11/dist-packages (from anyio<5,>=3.5.0->openai) (3.10)\n",
            "Requirement already satisfied: packaging>=19.1 in /usr/local/lib/python3.11/dist-packages (from build>=1.0.3->chromadb) (24.2)\n",
            "Requirement already satisfied: pyproject_hooks in /usr/local/lib/python3.11/dist-packages (from build>=1.0.3->chromadb) (1.2.0)\n",
            "Requirement already satisfied: starlette<0.46.0,>=0.40.0 in /usr/local/lib/python3.11/dist-packages (from fastapi>=0.95.2->chromadb) (0.45.3)\n",
            "Requirement already satisfied: certifi in /usr/local/lib/python3.11/dist-packages (from httpx>=0.27.0->chromadb) (2025.1.31)\n",
            "Requirement already satisfied: httpcore==1.* in /usr/local/lib/python3.11/dist-packages (from httpx>=0.27.0->chromadb) (1.0.7)\n",
            "Requirement already satisfied: h11<0.15,>=0.13 in /usr/local/lib/python3.11/dist-packages (from httpcore==1.*->httpx>=0.27.0->chromadb) (0.14.0)\n",
            "Requirement already satisfied: six>=1.9.0 in /usr/local/lib/python3.11/dist-packages (from kubernetes>=28.1.0->chromadb) (1.17.0)\n",
            "Requirement already satisfied: python-dateutil>=2.5.3 in /usr/local/lib/python3.11/dist-packages (from kubernetes>=28.1.0->chromadb) (2.8.2)\n",
            "Requirement already satisfied: google-auth>=1.0.1 in /usr/local/lib/python3.11/dist-packages (from kubernetes>=28.1.0->chromadb) (2.27.0)\n",
            "Requirement already satisfied: websocket-client!=0.40.0,!=0.41.*,!=0.42.*,>=0.32.0 in /usr/local/lib/python3.11/dist-packages (from kubernetes>=28.1.0->chromadb) (1.8.0)\n",
            "Requirement already satisfied: requests in /usr/local/lib/python3.11/dist-packages (from kubernetes>=28.1.0->chromadb) (2.32.3)\n",
            "Requirement already satisfied: requests-oauthlib in /usr/local/lib/python3.11/dist-packages (from kubernetes>=28.1.0->chromadb) (2.0.0)\n",
            "Requirement already satisfied: oauthlib>=3.2.2 in /usr/local/lib/python3.11/dist-packages (from kubernetes>=28.1.0->chromadb) (3.2.2)\n",
            "Requirement already satisfied: urllib3>=1.24.2 in /usr/local/lib/python3.11/dist-packages (from kubernetes>=28.1.0->chromadb) (2.3.0)\n",
            "Requirement already satisfied: durationpy>=0.7 in /usr/local/lib/python3.11/dist-packages (from kubernetes>=28.1.0->chromadb) (0.9)\n",
            "Requirement already satisfied: langchain-core<1.0.0,>=0.3.37 in /usr/local/lib/python3.11/dist-packages (from langchain-community>=0.0.20->trulens-providers-openai) (0.3.37)\n",
            "Requirement already satisfied: langchain<1.0.0,>=0.3.19 in /usr/local/lib/python3.11/dist-packages (from langchain-community>=0.0.20->trulens-providers-openai) (0.3.19)\n",
            "Requirement already satisfied: SQLAlchemy<3,>=1.4 in /usr/local/lib/python3.11/dist-packages (from langchain-community>=0.0.20->trulens-providers-openai) (2.0.38)\n",
            "Requirement already satisfied: aiohttp<4.0.0,>=3.8.3 in /usr/local/lib/python3.11/dist-packages (from langchain-community>=0.0.20->trulens-providers-openai) (3.11.12)\n",
            "Requirement already satisfied: dataclasses-json<0.7,>=0.5.7 in /usr/local/lib/python3.11/dist-packages (from langchain-community>=0.0.20->trulens-providers-openai) (0.6.7)\n",
            "Requirement already satisfied: pydantic-settings<3.0.0,>=2.4.0 in /usr/local/lib/python3.11/dist-packages (from langchain-community>=0.0.20->trulens-providers-openai) (2.8.0)\n",
            "Requirement already satisfied: langsmith<0.4,>=0.1.125 in /usr/local/lib/python3.11/dist-packages (from langchain-community>=0.0.20->trulens-providers-openai) (0.3.9)\n",
            "Requirement already satisfied: httpx-sse<1.0.0,>=0.4.0 in /usr/local/lib/python3.11/dist-packages (from langchain-community>=0.0.20->trulens-providers-openai) (0.4.0)\n",
            "Requirement already satisfied: coloredlogs in /usr/local/lib/python3.11/dist-packages (from onnxruntime>=1.14.1->chromadb) (15.0.1)\n",
            "Requirement already satisfied: flatbuffers in /usr/local/lib/python3.11/dist-packages (from onnxruntime>=1.14.1->chromadb) (25.2.10)\n",
            "Requirement already satisfied: protobuf in /usr/local/lib/python3.11/dist-packages (from onnxruntime>=1.14.1->chromadb) (5.29.3)\n",
            "Requirement already satisfied: sympy in /usr/local/lib/python3.11/dist-packages (from onnxruntime>=1.14.1->chromadb) (1.13.1)\n",
            "Requirement already satisfied: deprecated>=1.2.6 in /usr/local/lib/python3.11/dist-packages (from opentelemetry-api>=1.2.0->chromadb) (1.2.18)\n",
            "Requirement already satisfied: importlib-metadata<=8.5.0,>=6.0 in /usr/local/lib/python3.11/dist-packages (from opentelemetry-api>=1.2.0->chromadb) (8.5.0)\n",
            "Requirement already satisfied: googleapis-common-protos~=1.52 in /usr/local/lib/python3.11/dist-packages (from opentelemetry-exporter-otlp-proto-grpc>=1.2.0->chromadb) (1.68.0)\n",
            "Requirement already satisfied: opentelemetry-exporter-otlp-proto-common==1.30.0 in /usr/local/lib/python3.11/dist-packages (from opentelemetry-exporter-otlp-proto-grpc>=1.2.0->chromadb) (1.30.0)\n",
            "Requirement already satisfied: opentelemetry-proto==1.30.0 in /usr/local/lib/python3.11/dist-packages (from opentelemetry-exporter-otlp-proto-grpc>=1.2.0->chromadb) (1.30.0)\n",
            "Requirement already satisfied: opentelemetry-instrumentation-asgi==0.51b0 in /usr/local/lib/python3.11/dist-packages (from opentelemetry-instrumentation-fastapi>=0.41b0->chromadb) (0.51b0)\n",
            "Requirement already satisfied: opentelemetry-instrumentation==0.51b0 in /usr/local/lib/python3.11/dist-packages (from opentelemetry-instrumentation-fastapi>=0.41b0->chromadb) (0.51b0)\n",
            "Requirement already satisfied: opentelemetry-semantic-conventions==0.51b0 in /usr/local/lib/python3.11/dist-packages (from opentelemetry-instrumentation-fastapi>=0.41b0->chromadb) (0.51b0)\n",
            "Requirement already satisfied: opentelemetry-util-http==0.51b0 in /usr/local/lib/python3.11/dist-packages (from opentelemetry-instrumentation-fastapi>=0.41b0->chromadb) (0.51b0)\n",
            "Requirement already satisfied: wrapt<2.0.0,>=1.0.0 in /usr/local/lib/python3.11/dist-packages (from opentelemetry-instrumentation==0.51b0->opentelemetry-instrumentation-fastapi>=0.41b0->chromadb) (1.17.2)\n",
            "Requirement already satisfied: asgiref~=3.0 in /usr/local/lib/python3.11/dist-packages (from opentelemetry-instrumentation-asgi==0.51b0->opentelemetry-instrumentation-fastapi>=0.41b0->chromadb) (3.8.1)\n",
            "Requirement already satisfied: cachecontrol<0.15.0,>=0.14.0 in /usr/local/lib/python3.11/dist-packages (from cachecontrol[filecache]<0.15.0,>=0.14.0->poetry<2.0.0->trulens) (0.14.2)\n",
            "Requirement already satisfied: cleo<3.0.0,>=2.1.0 in /usr/local/lib/python3.11/dist-packages (from poetry<2.0.0->trulens) (2.1.0)\n",
            "Requirement already satisfied: crashtest<0.5.0,>=0.4.1 in /usr/local/lib/python3.11/dist-packages (from poetry<2.0.0->trulens) (0.4.1)\n",
            "Requirement already satisfied: dulwich<0.22.0,>=0.21.2 in /usr/local/lib/python3.11/dist-packages (from poetry<2.0.0->trulens) (0.21.7)\n",
            "Requirement already satisfied: fastjsonschema<3.0.0,>=2.18.0 in /usr/local/lib/python3.11/dist-packages (from poetry<2.0.0->trulens) (2.21.1)\n",
            "Requirement already satisfied: installer<0.8.0,>=0.7.0 in /usr/local/lib/python3.11/dist-packages (from poetry<2.0.0->trulens) (0.7.0)\n",
            "Requirement already satisfied: keyring<25.0.0,>=24.0.0 in /usr/local/lib/python3.11/dist-packages (from poetry<2.0.0->trulens) (24.3.1)\n",
            "Requirement already satisfied: pexpect<5.0.0,>=4.7.0 in /usr/local/lib/python3.11/dist-packages (from poetry<2.0.0->trulens) (4.9.0)\n",
            "Requirement already satisfied: pkginfo<2.0,>=1.12 in /usr/local/lib/python3.11/dist-packages (from poetry<2.0.0->trulens) (1.12.1.2)\n",
            "Requirement already satisfied: platformdirs<5,>=3.0.0 in /usr/local/lib/python3.11/dist-packages (from poetry<2.0.0->trulens) (4.3.6)\n",
            "Requirement already satisfied: poetry-core==1.9.1 in /usr/local/lib/python3.11/dist-packages (from poetry<2.0.0->trulens) (1.9.1)\n",
            "Requirement already satisfied: poetry-plugin-export<2.0.0,>=1.6.0 in /usr/local/lib/python3.11/dist-packages (from poetry<2.0.0->trulens) (1.8.0)\n",
            "Requirement already satisfied: requests-toolbelt<2.0.0,>=1.0.0 in /usr/local/lib/python3.11/dist-packages (from poetry<2.0.0->trulens) (1.0.0)\n",
            "Requirement already satisfied: shellingham<2.0,>=1.5 in /usr/local/lib/python3.11/dist-packages (from poetry<2.0.0->trulens) (1.5.4)\n",
            "Requirement already satisfied: tomlkit<1.0.0,>=0.11.4 in /usr/local/lib/python3.11/dist-packages (from poetry<2.0.0->trulens) (0.13.2)\n",
            "Requirement already satisfied: trove-classifiers>=2022.5.19 in /usr/local/lib/python3.11/dist-packages (from poetry<2.0.0->trulens) (2025.2.18.16)\n",
            "Requirement already satisfied: virtualenv<21.0.0,>=20.26.6 in /usr/local/lib/python3.11/dist-packages (from poetry<2.0.0->trulens) (20.29.2)\n",
            "Requirement already satisfied: monotonic>=1.5 in /usr/local/lib/python3.11/dist-packages (from posthog>=2.4.0->chromadb) (1.6)\n",
            "Requirement already satisfied: backoff>=1.10.0 in /usr/local/lib/python3.11/dist-packages (from posthog>=2.4.0->chromadb) (2.2.1)\n",
            "Requirement already satisfied: annotated-types>=0.6.0 in /usr/local/lib/python3.11/dist-packages (from pydantic>=1.9->chromadb) (0.7.0)\n",
            "Requirement already satisfied: pydantic-core==2.27.2 in /usr/local/lib/python3.11/dist-packages (from pydantic>=1.9->chromadb) (2.27.2)\n",
            "Requirement already satisfied: markdown-it-py>=2.2.0 in /usr/local/lib/python3.11/dist-packages (from rich>=10.11.0->chromadb) (3.0.0)\n",
            "Requirement already satisfied: pygments<3.0.0,>=2.13.0 in /usr/local/lib/python3.11/dist-packages (from rich>=10.11.0->chromadb) (2.18.0)\n",
            "Requirement already satisfied: huggingface-hub<1.0,>=0.16.4 in /usr/local/lib/python3.11/dist-packages (from tokenizers>=0.13.2->chromadb) (0.28.1)\n",
            "Requirement already satisfied: alembic<2.0.0,>=1.8.1 in /usr/local/lib/python3.11/dist-packages (from trulens-core<2.0.0,>=1.0.0->trulens-core[openai,otel,tqdm]<2.0.0,>=1.0.0->trulens) (1.14.1)\n",
            "Requirement already satisfied: dill>=0.3.8 in /usr/local/lib/python3.11/dist-packages (from trulens-core<2.0.0,>=1.0.0->trulens-core[openai,otel,tqdm]<2.0.0,>=1.0.0->trulens) (0.3.9)\n",
            "Requirement already satisfied: munch<3.0,>=2.5 in /usr/local/lib/python3.11/dist-packages (from trulens-core<2.0.0,>=1.0.0->trulens-core[openai,otel,tqdm]<2.0.0,>=1.0.0->trulens) (2.5.0)\n",
            "Requirement already satisfied: nest-asyncio<2.0,>=1.5 in /usr/local/lib/python3.11/dist-packages (from trulens-core<2.0.0,>=1.0.0->trulens-core[openai,otel,tqdm]<2.0.0,>=1.0.0->trulens) (1.6.0)\n",
            "Requirement already satisfied: pandas>=1.0.0 in /usr/local/lib/python3.11/dist-packages (from trulens-core<2.0.0,>=1.0.0->trulens-core[openai,otel,tqdm]<2.0.0,>=1.0.0->trulens) (2.2.2)\n",
            "Requirement already satisfied: python-dotenv<2.0,>=0.21 in /usr/local/lib/python3.11/dist-packages (from trulens-core<2.0.0,>=1.0.0->trulens-core[openai,otel,tqdm]<2.0.0,>=1.0.0->trulens) (1.0.1)\n",
            "\u001b[33mWARNING: trulens-core 1.4.3 does not provide the extra 'openai'\u001b[0m\u001b[33m\n",
            "\u001b[0m\u001b[33mWARNING: trulens-core 1.4.3 does not provide the extra 'otel'\u001b[0m\u001b[33m\n",
            "\u001b[0m\u001b[33mWARNING: trulens-core 1.4.3 does not provide the extra 'tqdm'\u001b[0m\u001b[33m\n",
            "\u001b[0mRequirement already satisfied: ipywidgets>=7.1.2 in /usr/local/lib/python3.11/dist-packages (from trulens-dashboard<2.0.0,>=1.0.0->trulens-dashboard[full]<2.0.0,>=1.0.0->trulens) (7.7.1)\n",
            "Requirement already satisfied: jupyter<2,>=1 in /usr/local/lib/python3.11/dist-packages (from trulens-dashboard<2.0.0,>=1.0.0->trulens-dashboard[full]<2.0.0,>=1.0.0->trulens) (1.1.1)\n",
            "Requirement already satisfied: plotly<6.0.0,>=5.22.0 in /usr/local/lib/python3.11/dist-packages (from trulens-dashboard<2.0.0,>=1.0.0->trulens-dashboard[full]<2.0.0,>=1.0.0->trulens) (5.24.1)\n",
            "Requirement already satisfied: psutil<6.0,>=5.9 in /usr/local/lib/python3.11/dist-packages (from trulens-dashboard<2.0.0,>=1.0.0->trulens-dashboard[full]<2.0.0,>=1.0.0->trulens) (5.9.5)\n",
            "Requirement already satisfied: streamlit<2.0,>=1.35 in /usr/local/lib/python3.11/dist-packages (from trulens-dashboard<2.0.0,>=1.0.0->trulens-dashboard[full]<2.0.0,>=1.0.0->trulens) (1.42.2)\n",
            "Requirement already satisfied: traitlets<6.0.0,>=5.0.5 in /usr/local/lib/python3.11/dist-packages (from trulens-dashboard<2.0.0,>=1.0.0->trulens-dashboard[full]<2.0.0,>=1.0.0->trulens) (5.7.1)\n",
            "Requirement already satisfied: streamlit-aggrid<2.0.0,>=1.0.5 in /usr/local/lib/python3.11/dist-packages (from trulens-dashboard[full]<2.0.0,>=1.0.0->trulens) (1.1.0)\n",
            "Requirement already satisfied: nltk<4.0.0,>=3.9.1 in /usr/local/lib/python3.11/dist-packages (from trulens-feedback<2.0.0,>=1.0.0->trulens) (3.9.1)\n",
            "Requirement already satisfied: scikit-learn<2.0.0,>=1.3.0 in /usr/local/lib/python3.11/dist-packages (from trulens-feedback<2.0.0,>=1.0.0->trulens) (1.6.1)\n",
            "Requirement already satisfied: scipy>=1.11.1 in /usr/local/lib/python3.11/dist-packages (from trulens-feedback<2.0.0,>=1.0.0->trulens) (1.13.1)\n",
            "Requirement already satisfied: click>=8.0.0 in /usr/local/lib/python3.11/dist-packages (from typer>=0.9.0->chromadb) (8.1.8)\n",
            "Requirement already satisfied: httptools>=0.6.3 in /usr/local/lib/python3.11/dist-packages (from uvicorn[standard]>=0.18.3->chromadb) (0.6.4)\n",
            "Requirement already satisfied: uvloop!=0.15.0,!=0.15.1,>=0.14.0 in /usr/local/lib/python3.11/dist-packages (from uvicorn[standard]>=0.18.3->chromadb) (0.21.0)\n",
            "Requirement already satisfied: watchfiles>=0.13 in /usr/local/lib/python3.11/dist-packages (from uvicorn[standard]>=0.18.3->chromadb) (1.0.4)\n",
            "Requirement already satisfied: websockets>=10.4 in /usr/local/lib/python3.11/dist-packages (from uvicorn[standard]>=0.18.3->chromadb) (14.2)\n",
            "Requirement already satisfied: aiohappyeyeballs>=2.3.0 in /usr/local/lib/python3.11/dist-packages (from aiohttp<4.0.0,>=3.8.3->langchain-community>=0.0.20->trulens-providers-openai) (2.4.6)\n",
            "Requirement already satisfied: aiosignal>=1.1.2 in /usr/local/lib/python3.11/dist-packages (from aiohttp<4.0.0,>=3.8.3->langchain-community>=0.0.20->trulens-providers-openai) (1.3.2)\n",
            "Requirement already satisfied: attrs>=17.3.0 in /usr/local/lib/python3.11/dist-packages (from aiohttp<4.0.0,>=3.8.3->langchain-community>=0.0.20->trulens-providers-openai) (25.1.0)\n",
            "Requirement already satisfied: frozenlist>=1.1.1 in /usr/local/lib/python3.11/dist-packages (from aiohttp<4.0.0,>=3.8.3->langchain-community>=0.0.20->trulens-providers-openai) (1.5.0)\n",
            "Requirement already satisfied: multidict<7.0,>=4.5 in /usr/local/lib/python3.11/dist-packages (from aiohttp<4.0.0,>=3.8.3->langchain-community>=0.0.20->trulens-providers-openai) (6.1.0)\n",
            "Requirement already satisfied: propcache>=0.2.0 in /usr/local/lib/python3.11/dist-packages (from aiohttp<4.0.0,>=3.8.3->langchain-community>=0.0.20->trulens-providers-openai) (0.3.0)\n",
            "Requirement already satisfied: yarl<2.0,>=1.17.0 in /usr/local/lib/python3.11/dist-packages (from aiohttp<4.0.0,>=3.8.3->langchain-community>=0.0.20->trulens-providers-openai) (1.18.3)\n",
            "Requirement already satisfied: Mako in /usr/local/lib/python3.11/dist-packages (from alembic<2.0.0,>=1.8.1->trulens-core<2.0.0,>=1.0.0->trulens-core[openai,otel,tqdm]<2.0.0,>=1.0.0->trulens) (1.3.9)\n",
            "Requirement already satisfied: msgpack<2.0.0,>=0.5.2 in /usr/local/lib/python3.11/dist-packages (from cachecontrol<0.15.0,>=0.14.0->cachecontrol[filecache]<0.15.0,>=0.14.0->poetry<2.0.0->trulens) (1.1.0)\n",
            "Requirement already satisfied: filelock>=3.8.0 in /usr/local/lib/python3.11/dist-packages (from cachecontrol[filecache]<0.15.0,>=0.14.0->poetry<2.0.0->trulens) (3.17.0)\n",
            "Requirement already satisfied: rapidfuzz<4.0.0,>=3.0.0 in /usr/local/lib/python3.11/dist-packages (from cleo<3.0.0,>=2.1.0->poetry<2.0.0->trulens) (3.12.1)\n",
            "Requirement already satisfied: marshmallow<4.0.0,>=3.18.0 in /usr/local/lib/python3.11/dist-packages (from dataclasses-json<0.7,>=0.5.7->langchain-community>=0.0.20->trulens-providers-openai) (3.26.1)\n",
            "Requirement already satisfied: typing-inspect<1,>=0.4.0 in /usr/local/lib/python3.11/dist-packages (from dataclasses-json<0.7,>=0.5.7->langchain-community>=0.0.20->trulens-providers-openai) (0.9.0)\n",
            "Requirement already satisfied: cachetools<6.0,>=2.0.0 in /usr/local/lib/python3.11/dist-packages (from google-auth>=1.0.1->kubernetes>=28.1.0->chromadb) (5.5.2)\n",
            "Requirement already satisfied: pyasn1-modules>=0.2.1 in /usr/local/lib/python3.11/dist-packages (from google-auth>=1.0.1->kubernetes>=28.1.0->chromadb) (0.4.1)\n",
            "Requirement already satisfied: rsa<5,>=3.1.4 in /usr/local/lib/python3.11/dist-packages (from google-auth>=1.0.1->kubernetes>=28.1.0->chromadb) (4.9)\n",
            "Requirement already satisfied: fsspec>=2023.5.0 in /usr/local/lib/python3.11/dist-packages (from huggingface-hub<1.0,>=0.16.4->tokenizers>=0.13.2->chromadb) (2024.10.0)\n",
            "Requirement already satisfied: zipp>=3.20 in /usr/local/lib/python3.11/dist-packages (from importlib-metadata<=8.5.0,>=6.0->opentelemetry-api>=1.2.0->chromadb) (3.21.0)\n",
            "Requirement already satisfied: ipykernel>=4.5.1 in /usr/local/lib/python3.11/dist-packages (from ipywidgets>=7.1.2->trulens-dashboard<2.0.0,>=1.0.0->trulens-dashboard[full]<2.0.0,>=1.0.0->trulens) (6.17.1)\n",
            "Requirement already satisfied: ipython-genutils~=0.2.0 in /usr/local/lib/python3.11/dist-packages (from ipywidgets>=7.1.2->trulens-dashboard<2.0.0,>=1.0.0->trulens-dashboard[full]<2.0.0,>=1.0.0->trulens) (0.2.0)\n",
            "Requirement already satisfied: widgetsnbextension~=3.6.0 in /usr/local/lib/python3.11/dist-packages (from ipywidgets>=7.1.2->trulens-dashboard<2.0.0,>=1.0.0->trulens-dashboard[full]<2.0.0,>=1.0.0->trulens) (3.6.10)\n",
            "Requirement already satisfied: ipython>=4.0.0 in /usr/local/lib/python3.11/dist-packages (from ipywidgets>=7.1.2->trulens-dashboard<2.0.0,>=1.0.0->trulens-dashboard[full]<2.0.0,>=1.0.0->trulens) (7.34.0)\n",
            "Requirement already satisfied: jupyterlab-widgets>=1.0.0 in /usr/local/lib/python3.11/dist-packages (from ipywidgets>=7.1.2->trulens-dashboard<2.0.0,>=1.0.0->trulens-dashboard[full]<2.0.0,>=1.0.0->trulens) (3.0.13)\n",
            "Requirement already satisfied: notebook in /usr/local/lib/python3.11/dist-packages (from jupyter<2,>=1->trulens-dashboard<2.0.0,>=1.0.0->trulens-dashboard[full]<2.0.0,>=1.0.0->trulens) (6.5.5)\n",
            "Requirement already satisfied: jupyter-console in /usr/local/lib/python3.11/dist-packages (from jupyter<2,>=1->trulens-dashboard<2.0.0,>=1.0.0->trulens-dashboard[full]<2.0.0,>=1.0.0->trulens) (6.1.0)\n",
            "Requirement already satisfied: nbconvert in /usr/local/lib/python3.11/dist-packages (from jupyter<2,>=1->trulens-dashboard<2.0.0,>=1.0.0->trulens-dashboard[full]<2.0.0,>=1.0.0->trulens) (7.16.6)\n",
            "Requirement already satisfied: jupyterlab in /usr/local/lib/python3.11/dist-packages (from jupyter<2,>=1->trulens-dashboard<2.0.0,>=1.0.0->trulens-dashboard[full]<2.0.0,>=1.0.0->trulens) (4.3.5)\n",
            "Requirement already satisfied: jaraco.classes in /usr/local/lib/python3.11/dist-packages (from keyring<25.0.0,>=24.0.0->poetry<2.0.0->trulens) (3.4.0)\n",
            "Requirement already satisfied: SecretStorage>=3.2 in /usr/lib/python3/dist-packages (from keyring<25.0.0,>=24.0.0->poetry<2.0.0->trulens) (3.3.1)\n",
            "Requirement already satisfied: jeepney>=0.4.2 in /usr/lib/python3/dist-packages (from keyring<25.0.0,>=24.0.0->poetry<2.0.0->trulens) (0.7.1)\n",
            "Requirement already satisfied: langchain-text-splitters<1.0.0,>=0.3.6 in /usr/local/lib/python3.11/dist-packages (from langchain<1.0.0,>=0.3.19->langchain-community>=0.0.20->trulens-providers-openai) (0.3.6)\n",
            "Requirement already satisfied: jsonpatch<2.0,>=1.33 in /usr/local/lib/python3.11/dist-packages (from langchain-core<1.0.0,>=0.3.37->langchain-community>=0.0.20->trulens-providers-openai) (1.33)\n",
            "Requirement already satisfied: zstandard<0.24.0,>=0.23.0 in /usr/local/lib/python3.11/dist-packages (from langsmith<0.4,>=0.1.125->langchain-community>=0.0.20->trulens-providers-openai) (0.23.0)\n",
            "Requirement already satisfied: mdurl~=0.1 in /usr/local/lib/python3.11/dist-packages (from markdown-it-py>=2.2.0->rich>=10.11.0->chromadb) (0.1.2)\n",
            "Requirement already satisfied: joblib in /usr/local/lib/python3.11/dist-packages (from nltk<4.0.0,>=3.9.1->trulens-feedback<2.0.0,>=1.0.0->trulens) (1.4.2)\n",
            "Requirement already satisfied: regex>=2021.8.3 in /usr/local/lib/python3.11/dist-packages (from nltk<4.0.0,>=3.9.1->trulens-feedback<2.0.0,>=1.0.0->trulens) (2024.11.6)\n",
            "Requirement already satisfied: pytz>=2020.1 in /usr/local/lib/python3.11/dist-packages (from pandas>=1.0.0->trulens-core<2.0.0,>=1.0.0->trulens-core[openai,otel,tqdm]<2.0.0,>=1.0.0->trulens) (2025.1)\n",
            "Requirement already satisfied: tzdata>=2022.7 in /usr/local/lib/python3.11/dist-packages (from pandas>=1.0.0->trulens-core<2.0.0,>=1.0.0->trulens-core[openai,otel,tqdm]<2.0.0,>=1.0.0->trulens) (2025.1)\n",
            "Requirement already satisfied: ptyprocess>=0.5 in /usr/local/lib/python3.11/dist-packages (from pexpect<5.0.0,>=4.7.0->poetry<2.0.0->trulens) (0.7.0)\n",
            "Requirement already satisfied: charset-normalizer<4,>=2 in /usr/local/lib/python3.11/dist-packages (from requests->kubernetes>=28.1.0->chromadb) (3.4.1)\n",
            "Requirement already satisfied: threadpoolctl>=3.1.0 in /usr/local/lib/python3.11/dist-packages (from scikit-learn<2.0.0,>=1.3.0->trulens-feedback<2.0.0,>=1.0.0->trulens) (3.5.0)\n",
            "Requirement already satisfied: greenlet!=0.4.17 in /usr/local/lib/python3.11/dist-packages (from SQLAlchemy<3,>=1.4->langchain-community>=0.0.20->trulens-providers-openai) (3.1.1)\n",
            "Requirement already satisfied: altair<6,>=4.0 in /usr/local/lib/python3.11/dist-packages (from streamlit<2.0,>=1.35->trulens-dashboard<2.0.0,>=1.0.0->trulens-dashboard[full]<2.0.0,>=1.0.0->trulens) (5.5.0)\n",
            "Requirement already satisfied: blinker<2,>=1.0.0 in /usr/local/lib/python3.11/dist-packages (from streamlit<2.0,>=1.35->trulens-dashboard<2.0.0,>=1.0.0->trulens-dashboard[full]<2.0.0,>=1.0.0->trulens) (1.9.0)\n",
            "Requirement already satisfied: pillow<12,>=7.1.0 in /usr/local/lib/python3.11/dist-packages (from streamlit<2.0,>=1.35->trulens-dashboard<2.0.0,>=1.0.0->trulens-dashboard[full]<2.0.0,>=1.0.0->trulens) (11.1.0)\n",
            "Requirement already satisfied: pyarrow>=7.0 in /usr/local/lib/python3.11/dist-packages (from streamlit<2.0,>=1.35->trulens-dashboard<2.0.0,>=1.0.0->trulens-dashboard[full]<2.0.0,>=1.0.0->trulens) (18.1.0)\n",
            "Requirement already satisfied: toml<2,>=0.10.1 in /usr/local/lib/python3.11/dist-packages (from streamlit<2.0,>=1.35->trulens-dashboard<2.0.0,>=1.0.0->trulens-dashboard[full]<2.0.0,>=1.0.0->trulens) (0.10.2)\n",
            "Requirement already satisfied: watchdog<7,>=2.1.5 in /usr/local/lib/python3.11/dist-packages (from streamlit<2.0,>=1.35->trulens-dashboard<2.0.0,>=1.0.0->trulens-dashboard[full]<2.0.0,>=1.0.0->trulens) (6.0.0)\n",
            "Requirement already satisfied: gitpython!=3.1.19,<4,>=3.0.7 in /usr/local/lib/python3.11/dist-packages (from streamlit<2.0,>=1.35->trulens-dashboard<2.0.0,>=1.0.0->trulens-dashboard[full]<2.0.0,>=1.0.0->trulens) (3.1.44)\n",
            "Requirement already satisfied: pydeck<1,>=0.8.0b4 in /usr/local/lib/python3.11/dist-packages (from streamlit<2.0,>=1.35->trulens-dashboard<2.0.0,>=1.0.0->trulens-dashboard[full]<2.0.0,>=1.0.0->trulens) (0.9.1)\n",
            "Requirement already satisfied: tornado<7,>=6.0.3 in /usr/local/lib/python3.11/dist-packages (from streamlit<2.0,>=1.35->trulens-dashboard<2.0.0,>=1.0.0->trulens-dashboard[full]<2.0.0,>=1.0.0->trulens) (6.4.2)\n",
            "Requirement already satisfied: python-decouple in /usr/local/lib/python3.11/dist-packages (from streamlit-aggrid<2.0.0,>=1.0.5->trulens-dashboard[full]<2.0.0,>=1.0.0->trulens) (3.8)\n",
            "Requirement already satisfied: distlib<1,>=0.3.7 in /usr/local/lib/python3.11/dist-packages (from virtualenv<21.0.0,>=20.26.6->poetry<2.0.0->trulens) (0.3.9)\n",
            "Requirement already satisfied: humanfriendly>=9.1 in /usr/local/lib/python3.11/dist-packages (from coloredlogs->onnxruntime>=1.14.1->chromadb) (10.0)\n",
            "Requirement already satisfied: mpmath<1.4,>=1.1.0 in /usr/local/lib/python3.11/dist-packages (from sympy->onnxruntime>=1.14.1->chromadb) (1.3.0)\n",
            "Requirement already satisfied: jinja2 in /usr/local/lib/python3.11/dist-packages (from altair<6,>=4.0->streamlit<2.0,>=1.35->trulens-dashboard<2.0.0,>=1.0.0->trulens-dashboard[full]<2.0.0,>=1.0.0->trulens) (3.1.5)\n",
            "Requirement already satisfied: jsonschema>=3.0 in /usr/local/lib/python3.11/dist-packages (from altair<6,>=4.0->streamlit<2.0,>=1.35->trulens-dashboard<2.0.0,>=1.0.0->trulens-dashboard[full]<2.0.0,>=1.0.0->trulens) (4.23.0)\n",
            "Requirement already satisfied: narwhals>=1.14.2 in /usr/local/lib/python3.11/dist-packages (from altair<6,>=4.0->streamlit<2.0,>=1.35->trulens-dashboard<2.0.0,>=1.0.0->trulens-dashboard[full]<2.0.0,>=1.0.0->trulens) (1.27.1)\n",
            "Requirement already satisfied: gitdb<5,>=4.0.1 in /usr/local/lib/python3.11/dist-packages (from gitpython!=3.1.19,<4,>=3.0.7->streamlit<2.0,>=1.35->trulens-dashboard<2.0.0,>=1.0.0->trulens-dashboard[full]<2.0.0,>=1.0.0->trulens) (4.0.12)\n",
            "Requirement already satisfied: debugpy>=1.0 in /usr/local/lib/python3.11/dist-packages (from ipykernel>=4.5.1->ipywidgets>=7.1.2->trulens-dashboard<2.0.0,>=1.0.0->trulens-dashboard[full]<2.0.0,>=1.0.0->trulens) (1.8.0)\n",
            "Requirement already satisfied: jupyter-client>=6.1.12 in /usr/local/lib/python3.11/dist-packages (from ipykernel>=4.5.1->ipywidgets>=7.1.2->trulens-dashboard<2.0.0,>=1.0.0->trulens-dashboard[full]<2.0.0,>=1.0.0->trulens) (7.4.9)\n",
            "Requirement already satisfied: matplotlib-inline>=0.1 in /usr/local/lib/python3.11/dist-packages (from ipykernel>=4.5.1->ipywidgets>=7.1.2->trulens-dashboard<2.0.0,>=1.0.0->trulens-dashboard[full]<2.0.0,>=1.0.0->trulens) (0.1.7)\n",
            "Requirement already satisfied: pyzmq>=17 in /usr/local/lib/python3.11/dist-packages (from ipykernel>=4.5.1->ipywidgets>=7.1.2->trulens-dashboard<2.0.0,>=1.0.0->trulens-dashboard[full]<2.0.0,>=1.0.0->trulens) (24.0.1)\n",
            "Requirement already satisfied: setuptools>=18.5 in /usr/local/lib/python3.11/dist-packages (from ipython>=4.0.0->ipywidgets>=7.1.2->trulens-dashboard<2.0.0,>=1.0.0->trulens-dashboard[full]<2.0.0,>=1.0.0->trulens) (75.1.0)\n",
            "Requirement already satisfied: jedi>=0.16 in /usr/local/lib/python3.11/dist-packages (from ipython>=4.0.0->ipywidgets>=7.1.2->trulens-dashboard<2.0.0,>=1.0.0->trulens-dashboard[full]<2.0.0,>=1.0.0->trulens) (0.19.2)\n",
            "Requirement already satisfied: decorator in /usr/local/lib/python3.11/dist-packages (from ipython>=4.0.0->ipywidgets>=7.1.2->trulens-dashboard<2.0.0,>=1.0.0->trulens-dashboard[full]<2.0.0,>=1.0.0->trulens) (4.4.2)\n",
            "Requirement already satisfied: pickleshare in /usr/local/lib/python3.11/dist-packages (from ipython>=4.0.0->ipywidgets>=7.1.2->trulens-dashboard<2.0.0,>=1.0.0->trulens-dashboard[full]<2.0.0,>=1.0.0->trulens) (0.7.5)\n",
            "Requirement already satisfied: prompt-toolkit!=3.0.0,!=3.0.1,<3.1.0,>=2.0.0 in /usr/local/lib/python3.11/dist-packages (from ipython>=4.0.0->ipywidgets>=7.1.2->trulens-dashboard<2.0.0,>=1.0.0->trulens-dashboard[full]<2.0.0,>=1.0.0->trulens) (3.0.50)\n",
            "Requirement already satisfied: backcall in /usr/local/lib/python3.11/dist-packages (from ipython>=4.0.0->ipywidgets>=7.1.2->trulens-dashboard<2.0.0,>=1.0.0->trulens-dashboard[full]<2.0.0,>=1.0.0->trulens) (0.2.0)\n",
            "Requirement already satisfied: jsonpointer>=1.9 in /usr/local/lib/python3.11/dist-packages (from jsonpatch<2.0,>=1.33->langchain-core<1.0.0,>=0.3.37->langchain-community>=0.0.20->trulens-providers-openai) (3.0.0)\n",
            "Requirement already satisfied: pyasn1<0.7.0,>=0.4.6 in /usr/local/lib/python3.11/dist-packages (from pyasn1-modules>=0.2.1->google-auth>=1.0.1->kubernetes>=28.1.0->chromadb) (0.6.1)\n",
            "Requirement already satisfied: mypy-extensions>=0.3.0 in /usr/local/lib/python3.11/dist-packages (from typing-inspect<1,>=0.4.0->dataclasses-json<0.7,>=0.5.7->langchain-community>=0.0.20->trulens-providers-openai) (1.0.0)\n",
            "Requirement already satisfied: argon2-cffi in /usr/local/lib/python3.11/dist-packages (from notebook->jupyter<2,>=1->trulens-dashboard<2.0.0,>=1.0.0->trulens-dashboard[full]<2.0.0,>=1.0.0->trulens) (23.1.0)\n",
            "Requirement already satisfied: jupyter-core>=4.6.1 in /usr/local/lib/python3.11/dist-packages (from notebook->jupyter<2,>=1->trulens-dashboard<2.0.0,>=1.0.0->trulens-dashboard[full]<2.0.0,>=1.0.0->trulens) (5.7.2)\n",
            "Requirement already satisfied: nbformat in /usr/local/lib/python3.11/dist-packages (from notebook->jupyter<2,>=1->trulens-dashboard<2.0.0,>=1.0.0->trulens-dashboard[full]<2.0.0,>=1.0.0->trulens) (5.10.4)\n",
            "Requirement already satisfied: Send2Trash>=1.8.0 in /usr/local/lib/python3.11/dist-packages (from notebook->jupyter<2,>=1->trulens-dashboard<2.0.0,>=1.0.0->trulens-dashboard[full]<2.0.0,>=1.0.0->trulens) (1.8.3)\n",
            "Requirement already satisfied: terminado>=0.8.3 in /usr/local/lib/python3.11/dist-packages (from notebook->jupyter<2,>=1->trulens-dashboard<2.0.0,>=1.0.0->trulens-dashboard[full]<2.0.0,>=1.0.0->trulens) (0.18.1)\n",
            "Requirement already satisfied: prometheus-client in /usr/local/lib/python3.11/dist-packages (from notebook->jupyter<2,>=1->trulens-dashboard<2.0.0,>=1.0.0->trulens-dashboard[full]<2.0.0,>=1.0.0->trulens) (0.21.1)\n",
            "Requirement already satisfied: nbclassic>=0.4.7 in /usr/local/lib/python3.11/dist-packages (from notebook->jupyter<2,>=1->trulens-dashboard<2.0.0,>=1.0.0->trulens-dashboard[full]<2.0.0,>=1.0.0->trulens) (1.2.0)\n",
            "Requirement already satisfied: beautifulsoup4 in /usr/local/lib/python3.11/dist-packages (from nbconvert->jupyter<2,>=1->trulens-dashboard<2.0.0,>=1.0.0->trulens-dashboard[full]<2.0.0,>=1.0.0->trulens) (4.13.3)\n",
            "Requirement already satisfied: bleach!=5.0.0 in /usr/local/lib/python3.11/dist-packages (from bleach[css]!=5.0.0->nbconvert->jupyter<2,>=1->trulens-dashboard<2.0.0,>=1.0.0->trulens-dashboard[full]<2.0.0,>=1.0.0->trulens) (6.2.0)\n",
            "Requirement already satisfied: defusedxml in /usr/local/lib/python3.11/dist-packages (from nbconvert->jupyter<2,>=1->trulens-dashboard<2.0.0,>=1.0.0->trulens-dashboard[full]<2.0.0,>=1.0.0->trulens) (0.7.1)\n",
            "Requirement already satisfied: jupyterlab-pygments in /usr/local/lib/python3.11/dist-packages (from nbconvert->jupyter<2,>=1->trulens-dashboard<2.0.0,>=1.0.0->trulens-dashboard[full]<2.0.0,>=1.0.0->trulens) (0.3.0)\n",
            "Requirement already satisfied: markupsafe>=2.0 in /usr/local/lib/python3.11/dist-packages (from nbconvert->jupyter<2,>=1->trulens-dashboard<2.0.0,>=1.0.0->trulens-dashboard[full]<2.0.0,>=1.0.0->trulens) (3.0.2)\n",
            "Requirement already satisfied: mistune<4,>=2.0.3 in /usr/local/lib/python3.11/dist-packages (from nbconvert->jupyter<2,>=1->trulens-dashboard<2.0.0,>=1.0.0->trulens-dashboard[full]<2.0.0,>=1.0.0->trulens) (3.1.2)\n",
            "Requirement already satisfied: nbclient>=0.5.0 in /usr/local/lib/python3.11/dist-packages (from nbconvert->jupyter<2,>=1->trulens-dashboard<2.0.0,>=1.0.0->trulens-dashboard[full]<2.0.0,>=1.0.0->trulens) (0.10.2)\n",
            "Requirement already satisfied: pandocfilters>=1.4.1 in /usr/local/lib/python3.11/dist-packages (from nbconvert->jupyter<2,>=1->trulens-dashboard<2.0.0,>=1.0.0->trulens-dashboard[full]<2.0.0,>=1.0.0->trulens) (1.5.1)\n",
            "Requirement already satisfied: more-itertools in /usr/local/lib/python3.11/dist-packages (from jaraco.classes->keyring<25.0.0,>=24.0.0->poetry<2.0.0->trulens) (10.6.0)\n",
            "Requirement already satisfied: async-lru>=1.0.0 in /usr/local/lib/python3.11/dist-packages (from jupyterlab->jupyter<2,>=1->trulens-dashboard<2.0.0,>=1.0.0->trulens-dashboard[full]<2.0.0,>=1.0.0->trulens) (2.0.4)\n",
            "Requirement already satisfied: jupyter-lsp>=2.0.0 in /usr/local/lib/python3.11/dist-packages (from jupyterlab->jupyter<2,>=1->trulens-dashboard<2.0.0,>=1.0.0->trulens-dashboard[full]<2.0.0,>=1.0.0->trulens) (2.2.5)\n",
            "Requirement already satisfied: jupyter-server<3,>=2.4.0 in /usr/local/lib/python3.11/dist-packages (from jupyterlab->jupyter<2,>=1->trulens-dashboard<2.0.0,>=1.0.0->trulens-dashboard[full]<2.0.0,>=1.0.0->trulens) (2.15.0)\n",
            "Requirement already satisfied: jupyterlab-server<3,>=2.27.1 in /usr/local/lib/python3.11/dist-packages (from jupyterlab->jupyter<2,>=1->trulens-dashboard<2.0.0,>=1.0.0->trulens-dashboard[full]<2.0.0,>=1.0.0->trulens) (2.27.3)\n",
            "Requirement already satisfied: notebook-shim>=0.2 in /usr/local/lib/python3.11/dist-packages (from jupyterlab->jupyter<2,>=1->trulens-dashboard<2.0.0,>=1.0.0->trulens-dashboard[full]<2.0.0,>=1.0.0->trulens) (0.2.4)\n",
            "Requirement already satisfied: webencodings in /usr/local/lib/python3.11/dist-packages (from bleach!=5.0.0->bleach[css]!=5.0.0->nbconvert->jupyter<2,>=1->trulens-dashboard<2.0.0,>=1.0.0->trulens-dashboard[full]<2.0.0,>=1.0.0->trulens) (0.5.1)\n",
            "Requirement already satisfied: tinycss2<1.5,>=1.1.0 in /usr/local/lib/python3.11/dist-packages (from bleach[css]!=5.0.0->nbconvert->jupyter<2,>=1->trulens-dashboard<2.0.0,>=1.0.0->trulens-dashboard[full]<2.0.0,>=1.0.0->trulens) (1.4.0)\n",
            "Requirement already satisfied: smmap<6,>=3.0.1 in /usr/local/lib/python3.11/dist-packages (from gitdb<5,>=4.0.1->gitpython!=3.1.19,<4,>=3.0.7->streamlit<2.0,>=1.35->trulens-dashboard<2.0.0,>=1.0.0->trulens-dashboard[full]<2.0.0,>=1.0.0->trulens) (5.0.2)\n",
            "Requirement already satisfied: parso<0.9.0,>=0.8.4 in /usr/local/lib/python3.11/dist-packages (from jedi>=0.16->ipython>=4.0.0->ipywidgets>=7.1.2->trulens-dashboard<2.0.0,>=1.0.0->trulens-dashboard[full]<2.0.0,>=1.0.0->trulens) (0.8.4)\n",
            "Requirement already satisfied: jsonschema-specifications>=2023.03.6 in /usr/local/lib/python3.11/dist-packages (from jsonschema>=3.0->altair<6,>=4.0->streamlit<2.0,>=1.35->trulens-dashboard<2.0.0,>=1.0.0->trulens-dashboard[full]<2.0.0,>=1.0.0->trulens) (2024.10.1)\n",
            "Requirement already satisfied: referencing>=0.28.4 in /usr/local/lib/python3.11/dist-packages (from jsonschema>=3.0->altair<6,>=4.0->streamlit<2.0,>=1.35->trulens-dashboard<2.0.0,>=1.0.0->trulens-dashboard[full]<2.0.0,>=1.0.0->trulens) (0.36.2)\n",
            "Requirement already satisfied: rpds-py>=0.7.1 in /usr/local/lib/python3.11/dist-packages (from jsonschema>=3.0->altair<6,>=4.0->streamlit<2.0,>=1.35->trulens-dashboard<2.0.0,>=1.0.0->trulens-dashboard[full]<2.0.0,>=1.0.0->trulens) (0.23.0)\n",
            "Requirement already satisfied: entrypoints in /usr/local/lib/python3.11/dist-packages (from jupyter-client>=6.1.12->ipykernel>=4.5.1->ipywidgets>=7.1.2->trulens-dashboard<2.0.0,>=1.0.0->trulens-dashboard[full]<2.0.0,>=1.0.0->trulens) (0.4)\n",
            "Requirement already satisfied: jupyter-events>=0.11.0 in /usr/local/lib/python3.11/dist-packages (from jupyter-server<3,>=2.4.0->jupyterlab->jupyter<2,>=1->trulens-dashboard<2.0.0,>=1.0.0->trulens-dashboard[full]<2.0.0,>=1.0.0->trulens) (0.12.0)\n",
            "Requirement already satisfied: jupyter-server-terminals>=0.4.4 in /usr/local/lib/python3.11/dist-packages (from jupyter-server<3,>=2.4.0->jupyterlab->jupyter<2,>=1->trulens-dashboard<2.0.0,>=1.0.0->trulens-dashboard[full]<2.0.0,>=1.0.0->trulens) (0.5.3)\n",
            "Requirement already satisfied: argon2-cffi-bindings in /usr/local/lib/python3.11/dist-packages (from argon2-cffi->notebook->jupyter<2,>=1->trulens-dashboard<2.0.0,>=1.0.0->trulens-dashboard[full]<2.0.0,>=1.0.0->trulens) (21.2.0)\n",
            "Requirement already satisfied: babel>=2.10 in /usr/local/lib/python3.11/dist-packages (from jupyterlab-server<3,>=2.27.1->jupyterlab->jupyter<2,>=1->trulens-dashboard<2.0.0,>=1.0.0->trulens-dashboard[full]<2.0.0,>=1.0.0->trulens) (2.17.0)\n",
            "Requirement already satisfied: json5>=0.9.0 in /usr/local/lib/python3.11/dist-packages (from jupyterlab-server<3,>=2.27.1->jupyterlab->jupyter<2,>=1->trulens-dashboard<2.0.0,>=1.0.0->trulens-dashboard[full]<2.0.0,>=1.0.0->trulens) (0.10.0)\n",
            "Requirement already satisfied: wcwidth in /usr/local/lib/python3.11/dist-packages (from prompt-toolkit!=3.0.0,!=3.0.1,<3.1.0,>=2.0.0->ipython>=4.0.0->ipywidgets>=7.1.2->trulens-dashboard<2.0.0,>=1.0.0->trulens-dashboard[full]<2.0.0,>=1.0.0->trulens) (0.2.13)\n",
            "Requirement already satisfied: soupsieve>1.2 in /usr/local/lib/python3.11/dist-packages (from beautifulsoup4->nbconvert->jupyter<2,>=1->trulens-dashboard<2.0.0,>=1.0.0->trulens-dashboard[full]<2.0.0,>=1.0.0->trulens) (2.6)\n",
            "Requirement already satisfied: python-json-logger>=2.0.4 in /usr/local/lib/python3.11/dist-packages (from jupyter-events>=0.11.0->jupyter-server<3,>=2.4.0->jupyterlab->jupyter<2,>=1->trulens-dashboard<2.0.0,>=1.0.0->trulens-dashboard[full]<2.0.0,>=1.0.0->trulens) (3.2.1)\n",
            "Requirement already satisfied: rfc3339-validator in /usr/local/lib/python3.11/dist-packages (from jupyter-events>=0.11.0->jupyter-server<3,>=2.4.0->jupyterlab->jupyter<2,>=1->trulens-dashboard<2.0.0,>=1.0.0->trulens-dashboard[full]<2.0.0,>=1.0.0->trulens) (0.1.4)\n",
            "Requirement already satisfied: rfc3986-validator>=0.1.1 in /usr/local/lib/python3.11/dist-packages (from jupyter-events>=0.11.0->jupyter-server<3,>=2.4.0->jupyterlab->jupyter<2,>=1->trulens-dashboard<2.0.0,>=1.0.0->trulens-dashboard[full]<2.0.0,>=1.0.0->trulens) (0.1.1)\n",
            "Requirement already satisfied: cffi>=1.0.1 in /usr/local/lib/python3.11/dist-packages (from argon2-cffi-bindings->argon2-cffi->notebook->jupyter<2,>=1->trulens-dashboard<2.0.0,>=1.0.0->trulens-dashboard[full]<2.0.0,>=1.0.0->trulens) (1.17.1)\n",
            "Requirement already satisfied: pycparser in /usr/local/lib/python3.11/dist-packages (from cffi>=1.0.1->argon2-cffi-bindings->argon2-cffi->notebook->jupyter<2,>=1->trulens-dashboard<2.0.0,>=1.0.0->trulens-dashboard[full]<2.0.0,>=1.0.0->trulens) (2.22)\n",
            "Requirement already satisfied: fqdn in /usr/local/lib/python3.11/dist-packages (from jsonschema[format-nongpl]>=4.18.0->jupyter-events>=0.11.0->jupyter-server<3,>=2.4.0->jupyterlab->jupyter<2,>=1->trulens-dashboard<2.0.0,>=1.0.0->trulens-dashboard[full]<2.0.0,>=1.0.0->trulens) (1.5.1)\n",
            "Requirement already satisfied: isoduration in /usr/local/lib/python3.11/dist-packages (from jsonschema[format-nongpl]>=4.18.0->jupyter-events>=0.11.0->jupyter-server<3,>=2.4.0->jupyterlab->jupyter<2,>=1->trulens-dashboard<2.0.0,>=1.0.0->trulens-dashboard[full]<2.0.0,>=1.0.0->trulens) (20.11.0)\n",
            "Requirement already satisfied: uri-template in /usr/local/lib/python3.11/dist-packages (from jsonschema[format-nongpl]>=4.18.0->jupyter-events>=0.11.0->jupyter-server<3,>=2.4.0->jupyterlab->jupyter<2,>=1->trulens-dashboard<2.0.0,>=1.0.0->trulens-dashboard[full]<2.0.0,>=1.0.0->trulens) (1.3.0)\n",
            "Requirement already satisfied: webcolors>=24.6.0 in /usr/local/lib/python3.11/dist-packages (from jsonschema[format-nongpl]>=4.18.0->jupyter-events>=0.11.0->jupyter-server<3,>=2.4.0->jupyterlab->jupyter<2,>=1->trulens-dashboard<2.0.0,>=1.0.0->trulens-dashboard[full]<2.0.0,>=1.0.0->trulens) (24.11.1)\n",
            "Requirement already satisfied: arrow>=0.15.0 in /usr/local/lib/python3.11/dist-packages (from isoduration->jsonschema[format-nongpl]>=4.18.0->jupyter-events>=0.11.0->jupyter-server<3,>=2.4.0->jupyterlab->jupyter<2,>=1->trulens-dashboard<2.0.0,>=1.0.0->trulens-dashboard[full]<2.0.0,>=1.0.0->trulens) (1.3.0)\n",
            "Requirement already satisfied: types-python-dateutil>=2.8.10 in /usr/local/lib/python3.11/dist-packages (from arrow>=0.15.0->isoduration->jsonschema[format-nongpl]>=4.18.0->jupyter-events>=0.11.0->jupyter-server<3,>=2.4.0->jupyterlab->jupyter<2,>=1->trulens-dashboard<2.0.0,>=1.0.0->trulens-dashboard[full]<2.0.0,>=1.0.0->trulens) (2.9.0.20241206)\n"
          ]
        }
      ],
      "source": [
        "!pip install trulens trulens-providers-openai chromadb openai"
      ]
    },
    {
      "cell_type": "code",
      "execution_count": 12,
      "metadata": {
        "id": "jisPWckk4zuf"
      },
      "outputs": [],
      "source": [
        "import os\n",
        "from google.colab import userdata\n",
        "OPENAI_API_KEY=userdata.get('OPENAI_API_KEY')\n",
        "len(OPENAI_API_KEY)\n",
        "os.environ[\"OPENAI_API_KEY\"] = OPENAI_API_KEY"
      ]
    },
    {
      "cell_type": "markdown",
      "metadata": {
        "id": "mdr7wucS4zuf"
      },
      "source": [
        "## Get Data\n",
        "\n",
        "In this case, we'll just initialize some simple text in the notebook."
      ]
    },
    {
      "cell_type": "code",
      "execution_count": 13,
      "metadata": {
        "id": "ZgZ_qri34zuf"
      },
      "outputs": [],
      "source": [
        "uw_info = \"\"\"\n",
        "The University of Washington, founded in 1861 in Seattle, is a public research university\n",
        "with over 45,000 students across three campuses in Seattle, Tacoma, and Bothell.\n",
        "As the flagship institution of the six public universities in Washington state,\n",
        "UW encompasses over 500 buildings and 20 million square feet of space,\n",
        "including one of the largest library systems in the world.\n",
        "\"\"\"\n",
        "\n",
        "wsu_info = \"\"\"\n",
        "Washington State University, commonly known as WSU, founded in 1890, is a public research university in Pullman, Washington.\n",
        "With multiple campuses across the state, it is the state's second largest institution of higher education.\n",
        "WSU is known for its programs in veterinary medicine, agriculture, engineering, architecture, and pharmacy.\n",
        "\"\"\"\n",
        "\n",
        "seattle_info = \"\"\"\n",
        "Seattle, a city on Puget Sound in the Pacific Northwest, is surrounded by water, mountains and evergreen forests, and contains thousands of acres of parkland.\n",
        "It's home to a large tech industry, with Microsoft and Amazon headquartered in its metropolitan area.\n",
        "The futuristic Space Needle, a legacy of the 1962 World's Fair, is its most iconic landmark.\n",
        "\"\"\"\n",
        "\n",
        "starbucks_info = \"\"\"\n",
        "Starbucks Corporation is an American multinational chain of coffeehouses and roastery reserves headquartered in Seattle, Washington.\n",
        "As the world's largest coffeehouse chain, Starbucks is seen to be the main representation of the United States' second wave of coffee culture.\n",
        "\"\"\"\n",
        "\n",
        "newzealand_info = \"\"\"\n",
        "New Zealand is an island country located in the southwestern Pacific Ocean. It comprises two main landmasses—the North Island and the South Island—and over 700 smaller islands.\n",
        "The country is known for its stunning landscapes, ranging from lush forests and mountains to beaches and lakes. New Zealand has a rich cultural heritage, with influences from\n",
        "both the indigenous Māori people and European settlers. The capital city is Wellington, while the largest city is Auckland. New Zealand is also famous for its adventure tourism,\n",
        "including activities like bungee jumping, skiing, and hiking.\n",
        "\"\"\""
      ]
    },
    {
      "cell_type": "markdown",
      "metadata": {
        "id": "7dsK7lPF4zug"
      },
      "source": [
        "## Create Vector Store\n",
        "\n",
        "Create a chromadb vector store in memory."
      ]
    },
    {
      "cell_type": "code",
      "execution_count": 14,
      "metadata": {
        "id": "YtV6vGzd4zug"
      },
      "outputs": [],
      "source": [
        "import chromadb\n",
        "from chromadb.utils.embedding_functions import OpenAIEmbeddingFunction\n",
        "\n",
        "embedding_function = OpenAIEmbeddingFunction(\n",
        "    api_key=os.environ.get(\"OPENAI_API_KEY\"),\n",
        "    model_name=\"text-embedding-ada-002\",\n",
        ")\n",
        "\n",
        "\n",
        "chroma_client = chromadb.Client()\n",
        "vector_store = chroma_client.get_or_create_collection(\n",
        "    name=\"Washington\", embedding_function=embedding_function\n",
        ")"
      ]
    },
    {
      "cell_type": "markdown",
      "metadata": {
        "id": "bOSzEGA14zug"
      },
      "source": [
        "Populate the vector store."
      ]
    },
    {
      "cell_type": "code",
      "execution_count": 16,
      "metadata": {
        "id": "N-wtQrU54zuh"
      },
      "outputs": [],
      "source": [
        "#vector_store.add(\"uw_info\", documents=uw_info)\n",
        "#vector_store.add(\"wsu_info\", documents=wsu_info)\n",
        "#vector_store.add(\"seattle_info\", documents=seattle_info)\n",
        "#vector_store.add(\"starbucks_info\", documents=starbucks_info)\n",
        "#vector_store.add(\"newzealand_info\", documents=newzealand_info)\n",
        "vector_store.add(\n",
        "    documents=[\n",
        "        uw_info,wsu_info,seattle_info,starbucks_info,newzealand_info\n",
        "\n",
        "    ],\n",
        "    ids=[\"uw_info\", \"wsu_info\",\"seattle_info\",\"starbucks_info\",\"newzealand_info\"]\n",
        ")"
      ]
    },
    {
      "cell_type": "markdown",
      "metadata": {
        "id": "P18G69VA4zuh"
      },
      "source": [
        "## Build RAG from scratch\n",
        "\n",
        "Build a custom RAG from scratch, and add TruLens custom instrumentation."
      ]
    },
    {
      "cell_type": "code",
      "execution_count": 17,
      "metadata": {
        "id": "m_8iJfvX4zuh",
        "outputId": "0b67bd45-9e50-46e7-d41f-d702f66ff511",
        "colab": {
          "base_uri": "https://localhost:8080/"
        }
      },
      "outputs": [
        {
          "output_type": "stream",
          "name": "stdout",
          "text": [
            "🦑 Initialized with db url sqlite:///default.sqlite .\n",
            "🛑 Secret keys may be written to the database. See the `database_redact_keys` option of `TruSession` to prevent this.\n"
          ]
        },
        {
          "output_type": "stream",
          "name": "stderr",
          "text": [
            "Updating app_name and app_version in apps table: 0it [00:00, ?it/s]\n",
            "Updating app_id in records table: 0it [00:00, ?it/s]\n",
            "Updating app_json in apps table: 0it [00:00, ?it/s]\n",
            "Updating app_name and app_version in apps table: 0it [00:00, ?it/s]\n",
            "Updating app_id in records table: 0it [00:00, ?it/s]\n",
            "Updating app_json in apps table: 0it [00:00, ?it/s]\n"
          ]
        }
      ],
      "source": [
        "from trulens.apps.app import instrument\n",
        "from trulens.core import TruSession\n",
        "\n",
        "session = TruSession()\n",
        "session.reset_database()"
      ]
    },
    {
      "cell_type": "code",
      "execution_count": 18,
      "metadata": {
        "id": "UNlsQuSl4zuh"
      },
      "outputs": [],
      "source": [
        "from openai import OpenAI\n",
        "\n",
        "oai_client = OpenAI()"
      ]
    },
    {
      "cell_type": "code",
      "execution_count": 20,
      "metadata": {
        "id": "BhYXNXKr4zuh"
      },
      "outputs": [],
      "source": [
        "from openai import OpenAI\n",
        "\n",
        "oai_client = OpenAI()\n",
        "\n",
        "\n",
        "class RAG:\n",
        "    @instrument\n",
        "    def retrieve(self, query: str) -> list:\n",
        "        \"\"\"\n",
        "        Retrieve relevant text from vector store.\n",
        "        \"\"\"\n",
        "        results = vector_store.query(query_texts=query, n_results=4)\n",
        "        # Flatten the list of lists into a single list\n",
        "        return [doc for sublist in results[\"documents\"] for doc in sublist]\n",
        "\n",
        "    @instrument\n",
        "    def generate_completion(self, query: str, context_str: list) -> str:\n",
        "        \"\"\"\n",
        "        Generate answer from context.\n",
        "        \"\"\"\n",
        "        if len(context_str) == 0:\n",
        "            return \"Sorry, I couldn't find an answer to your question.\"\n",
        "\n",
        "        completion = (\n",
        "            oai_client.chat.completions.create(\n",
        "                model=\"gpt-4o\",\n",
        "                temperature=0,\n",
        "                messages=[\n",
        "                    {\n",
        "                        \"role\": \"user\",\n",
        "                        \"content\": f\"We have provided context information below. \\n\"\n",
        "                        f\"---------------------\\n\"\n",
        "                        f\"{context_str}\"\n",
        "                        f\"\\n---------------------\\n\"\n",
        "                        f\"First, say hello and that you're happy to help. \\n\"\n",
        "                        f\"\\n---------------------\\n\"\n",
        "                        f\"Then, given this information, please answer the question: {query}\",\n",
        "                    }\n",
        "                ],\n",
        "            )\n",
        "            .choices[0]\n",
        "            .message.content\n",
        "        )\n",
        "        if completion:\n",
        "            return completion\n",
        "        else:\n",
        "            return \"Did not find an answer.\"\n",
        "\n",
        "    @instrument\n",
        "    def query(self, query: str) -> str:\n",
        "        context_str = self.retrieve(query=query)\n",
        "        completion = self.generate_completion(\n",
        "            query=query, context_str=context_str\n",
        "        )\n",
        "        return completion\n",
        "\n",
        "\n",
        "rag = RAG()"
      ]
    },
    {
      "cell_type": "markdown",
      "metadata": {
        "id": "c6ITuJbU4zui"
      },
      "source": [
        "## Set up feedback functions.\n",
        "\n",
        "Here we'll use groundedness, answer relevance and context relevance to detect hallucination."
      ]
    },
    {
      "cell_type": "code",
      "execution_count": 21,
      "metadata": {
        "id": "2acHJw1h4zui",
        "outputId": "8a8d15a9-43f8-4289-d276-e9a7402e989e",
        "colab": {
          "base_uri": "https://localhost:8080/"
        }
      },
      "outputs": [
        {
          "output_type": "stream",
          "name": "stdout",
          "text": [
            "✅ In Groundedness, input source will be set to __record__.app.retrieve.rets.collect() .\n",
            "✅ In Groundedness, input statement will be set to __record__.main_output or `Select.RecordOutput` .\n",
            "✅ In Answer Relevance, input prompt will be set to __record__.main_input or `Select.RecordInput` .\n",
            "✅ In Answer Relevance, input response will be set to __record__.main_output or `Select.RecordOutput` .\n",
            "✅ In Context Relevance, input question will be set to __record__.main_input or `Select.RecordInput` .\n",
            "✅ In Context Relevance, input context will be set to __record__.app.retrieve.rets[:] .\n"
          ]
        }
      ],
      "source": [
        "import numpy as np\n",
        "from trulens.core import Feedback\n",
        "from trulens.core import Select\n",
        "from trulens.providers.openai import OpenAI\n",
        "\n",
        "provider = OpenAI(model_engine=\"gpt-4\")\n",
        "\n",
        "# Define a groundedness feedback function\n",
        "f_groundedness = (\n",
        "    Feedback(\n",
        "        provider.groundedness_measure_with_cot_reasons, name=\"Groundedness\"\n",
        "    )\n",
        "    .on(Select.RecordCalls.retrieve.rets.collect())\n",
        "    .on_output()\n",
        ")\n",
        "# Question/answer relevance between overall question and answer.\n",
        "f_answer_relevance = (\n",
        "    Feedback(provider.relevance_with_cot_reasons, name=\"Answer Relevance\")\n",
        "    .on_input()\n",
        "    .on_output()\n",
        ")\n",
        "\n",
        "# Context relevance between question and each context chunk.\n",
        "f_context_relevance = (\n",
        "    Feedback(\n",
        "        provider.context_relevance_with_cot_reasons, name=\"Context Relevance\"\n",
        "    )\n",
        "    .on_input()\n",
        "    .on(Select.RecordCalls.retrieve.rets[:])\n",
        "    .aggregate(np.mean)  # choose a different aggregation method if you wish\n",
        ")"
      ]
    },
    {
      "cell_type": "markdown",
      "metadata": {
        "id": "7uBc1hYU4zui"
      },
      "source": [
        "## Construct the app\n",
        "Wrap the custom RAG with TruCustomApp, add list of feedbacks for eval"
      ]
    },
    {
      "cell_type": "code",
      "execution_count": 22,
      "metadata": {
        "id": "G3YTOd8i4zui",
        "outputId": "65f2ee3d-9359-49d9-c723-34806992e21f",
        "colab": {
          "base_uri": "https://localhost:8080/"
        }
      },
      "outputs": [
        {
          "output_type": "stream",
          "name": "stdout",
          "text": [
            "instrumenting <class '__main__.RAG'> for base <class '__main__.RAG'>\n",
            "\tinstrumenting retrieve\n",
            "\tinstrumenting generate_completion\n",
            "\tinstrumenting query\n"
          ]
        }
      ],
      "source": [
        "from trulens.apps.app import TruApp\n",
        "\n",
        "tru_rag = TruApp(\n",
        "    rag,\n",
        "    app_name=\"RAG\",\n",
        "    app_version=\"base\",\n",
        "    feedbacks=[f_groundedness, f_answer_relevance, f_context_relevance],\n",
        ")"
      ]
    },
    {
      "cell_type": "markdown",
      "metadata": {
        "id": "XMxA1xLW4zui"
      },
      "source": [
        "## Run the app\n",
        "Use `tru_rag` as a context manager for the custom RAG-from-scratch app."
      ]
    },
    {
      "cell_type": "code",
      "execution_count": 23,
      "metadata": {
        "id": "qaZPYoNg4zui",
        "outputId": "49767f78-5474-4e23-a0ab-588b42f6d588",
        "colab": {
          "base_uri": "https://localhost:8080/"
        }
      },
      "outputs": [
        {
          "output_type": "stream",
          "name": "stderr",
          "text": [
            "/usr/local/lib/python3.11/dist-packages/trulens/feedback/llm_provider.py:235: UserWarning: No supporting evidence provided. Returning score only.\n",
            "  warnings.warn(\n"
          ]
        }
      ],
      "source": [
        "with tru_rag as recording:\n",
        "    rag.query(\n",
        "        \"What wave of coffee culture is Starbucks seen to represent in the United States?\"\n",
        "    )\n",
        "    rag.query(\n",
        "        \"What wave of coffee culture is Starbucks seen to represent in the New Zealand?\"\n",
        "    )\n",
        "    rag.query(\"Does Washington State have Starbucks on campus?\")"
      ]
    },
    {
      "cell_type": "markdown",
      "metadata": {
        "id": "LucE-9ir4zui"
      },
      "source": [
        "## Check results\n",
        "\n",
        "We can view results in the leaderboard."
      ]
    },
    {
      "cell_type": "code",
      "execution_count": 24,
      "metadata": {
        "id": "4lWDKbga4zui",
        "outputId": "354f3460-2939-42d5-bbc4-ae1299616b7a",
        "colab": {
          "base_uri": "https://localhost:8080/",
          "height": 112
        }
      },
      "outputs": [
        {
          "output_type": "execute_result",
          "data": {
            "text/plain": [
              "                      Answer Relevance  Groundedness   latency  total_cost\n",
              "app_name app_version                                                      \n",
              "RAG      base                 0.777778           1.0  1.865912    0.001355"
            ],
            "text/html": [
              "\n",
              "  <div id=\"df-c22d0677-47a4-4b72-9653-07bdfa72a8e7\" class=\"colab-df-container\">\n",
              "    <div>\n",
              "<style scoped>\n",
              "    .dataframe tbody tr th:only-of-type {\n",
              "        vertical-align: middle;\n",
              "    }\n",
              "\n",
              "    .dataframe tbody tr th {\n",
              "        vertical-align: top;\n",
              "    }\n",
              "\n",
              "    .dataframe thead th {\n",
              "        text-align: right;\n",
              "    }\n",
              "</style>\n",
              "<table border=\"1\" class=\"dataframe\">\n",
              "  <thead>\n",
              "    <tr style=\"text-align: right;\">\n",
              "      <th></th>\n",
              "      <th></th>\n",
              "      <th>Answer Relevance</th>\n",
              "      <th>Groundedness</th>\n",
              "      <th>latency</th>\n",
              "      <th>total_cost</th>\n",
              "    </tr>\n",
              "    <tr>\n",
              "      <th>app_name</th>\n",
              "      <th>app_version</th>\n",
              "      <th></th>\n",
              "      <th></th>\n",
              "      <th></th>\n",
              "      <th></th>\n",
              "    </tr>\n",
              "  </thead>\n",
              "  <tbody>\n",
              "    <tr>\n",
              "      <th>RAG</th>\n",
              "      <th>base</th>\n",
              "      <td>0.777778</td>\n",
              "      <td>1.0</td>\n",
              "      <td>1.865912</td>\n",
              "      <td>0.001355</td>\n",
              "    </tr>\n",
              "  </tbody>\n",
              "</table>\n",
              "</div>\n",
              "    <div class=\"colab-df-buttons\">\n",
              "\n",
              "  <div class=\"colab-df-container\">\n",
              "    <button class=\"colab-df-convert\" onclick=\"convertToInteractive('df-c22d0677-47a4-4b72-9653-07bdfa72a8e7')\"\n",
              "            title=\"Convert this dataframe to an interactive table.\"\n",
              "            style=\"display:none;\">\n",
              "\n",
              "  <svg xmlns=\"http://www.w3.org/2000/svg\" height=\"24px\" viewBox=\"0 -960 960 960\">\n",
              "    <path d=\"M120-120v-720h720v720H120Zm60-500h600v-160H180v160Zm220 220h160v-160H400v160Zm0 220h160v-160H400v160ZM180-400h160v-160H180v160Zm440 0h160v-160H620v160ZM180-180h160v-160H180v160Zm440 0h160v-160H620v160Z\"/>\n",
              "  </svg>\n",
              "    </button>\n",
              "\n",
              "  <style>\n",
              "    .colab-df-container {\n",
              "      display:flex;\n",
              "      gap: 12px;\n",
              "    }\n",
              "\n",
              "    .colab-df-convert {\n",
              "      background-color: #E8F0FE;\n",
              "      border: none;\n",
              "      border-radius: 50%;\n",
              "      cursor: pointer;\n",
              "      display: none;\n",
              "      fill: #1967D2;\n",
              "      height: 32px;\n",
              "      padding: 0 0 0 0;\n",
              "      width: 32px;\n",
              "    }\n",
              "\n",
              "    .colab-df-convert:hover {\n",
              "      background-color: #E2EBFA;\n",
              "      box-shadow: 0px 1px 2px rgba(60, 64, 67, 0.3), 0px 1px 3px 1px rgba(60, 64, 67, 0.15);\n",
              "      fill: #174EA6;\n",
              "    }\n",
              "\n",
              "    .colab-df-buttons div {\n",
              "      margin-bottom: 4px;\n",
              "    }\n",
              "\n",
              "    [theme=dark] .colab-df-convert {\n",
              "      background-color: #3B4455;\n",
              "      fill: #D2E3FC;\n",
              "    }\n",
              "\n",
              "    [theme=dark] .colab-df-convert:hover {\n",
              "      background-color: #434B5C;\n",
              "      box-shadow: 0px 1px 3px 1px rgba(0, 0, 0, 0.15);\n",
              "      filter: drop-shadow(0px 1px 2px rgba(0, 0, 0, 0.3));\n",
              "      fill: #FFFFFF;\n",
              "    }\n",
              "  </style>\n",
              "\n",
              "    <script>\n",
              "      const buttonEl =\n",
              "        document.querySelector('#df-c22d0677-47a4-4b72-9653-07bdfa72a8e7 button.colab-df-convert');\n",
              "      buttonEl.style.display =\n",
              "        google.colab.kernel.accessAllowed ? 'block' : 'none';\n",
              "\n",
              "      async function convertToInteractive(key) {\n",
              "        const element = document.querySelector('#df-c22d0677-47a4-4b72-9653-07bdfa72a8e7');\n",
              "        const dataTable =\n",
              "          await google.colab.kernel.invokeFunction('convertToInteractive',\n",
              "                                                    [key], {});\n",
              "        if (!dataTable) return;\n",
              "\n",
              "        const docLinkHtml = 'Like what you see? Visit the ' +\n",
              "          '<a target=\"_blank\" href=https://colab.research.google.com/notebooks/data_table.ipynb>data table notebook</a>'\n",
              "          + ' to learn more about interactive tables.';\n",
              "        element.innerHTML = '';\n",
              "        dataTable['output_type'] = 'display_data';\n",
              "        await google.colab.output.renderOutput(dataTable, element);\n",
              "        const docLink = document.createElement('div');\n",
              "        docLink.innerHTML = docLinkHtml;\n",
              "        element.appendChild(docLink);\n",
              "      }\n",
              "    </script>\n",
              "  </div>\n",
              "\n",
              "\n",
              "    </div>\n",
              "  </div>\n"
            ],
            "application/vnd.google.colaboratory.intrinsic+json": {
              "type": "dataframe",
              "summary": "{\n  \"name\": \"session\",\n  \"rows\": 1,\n  \"fields\": [\n    {\n      \"column\": \"Answer Relevance\",\n      \"properties\": {\n        \"dtype\": \"number\",\n        \"std\": null,\n        \"min\": 0.7777777777777777,\n        \"max\": 0.7777777777777777,\n        \"num_unique_values\": 1,\n        \"samples\": [\n          0.7777777777777777\n        ],\n        \"semantic_type\": \"\",\n        \"description\": \"\"\n      }\n    },\n    {\n      \"column\": \"Groundedness\",\n      \"properties\": {\n        \"dtype\": \"number\",\n        \"std\": null,\n        \"min\": 1.0,\n        \"max\": 1.0,\n        \"num_unique_values\": 1,\n        \"samples\": [\n          1.0\n        ],\n        \"semantic_type\": \"\",\n        \"description\": \"\"\n      }\n    },\n    {\n      \"column\": \"latency\",\n      \"properties\": {\n        \"dtype\": \"number\",\n        \"std\": null,\n        \"min\": 1.8659116666666666,\n        \"max\": 1.8659116666666666,\n        \"num_unique_values\": 1,\n        \"samples\": [\n          1.8659116666666666\n        ],\n        \"semantic_type\": \"\",\n        \"description\": \"\"\n      }\n    },\n    {\n      \"column\": \"total_cost\",\n      \"properties\": {\n        \"dtype\": \"number\",\n        \"std\": null,\n        \"min\": 0.001355,\n        \"max\": 0.001355,\n        \"num_unique_values\": 1,\n        \"samples\": [\n          0.001355\n        ],\n        \"semantic_type\": \"\",\n        \"description\": \"\"\n      }\n    }\n  ]\n}"
            }
          },
          "metadata": {},
          "execution_count": 24
        }
      ],
      "source": [
        "session.get_leaderboard()"
      ]
    },
    {
      "cell_type": "markdown",
      "metadata": {
        "id": "eiOPuKMn4zui"
      },
      "source": [
        "## Use guardrails\n",
        "\n",
        "In addition to making informed iteration, we can also directly use feedback results as guardrails at inference time. In particular, here we show how to use the context relevance score as a guardrail to filter out irrelevant context before it gets passed to the LLM. This both reduces hallucination and improves efficiency.\n",
        "\n",
        "To do so, we'll rebuild our RAG using the @context-filter decorator on the method we want to filter, and pass in the feedback function and threshold to use for guardrailing."
      ]
    },
    {
      "cell_type": "code",
      "execution_count": 25,
      "metadata": {
        "id": "7nHrmmgQ4zui"
      },
      "outputs": [],
      "source": [
        "from trulens.core.guardrails.base import context_filter\n",
        "\n",
        "# note: feedback function used for guardrail must only return a score, not also reasons\n",
        "f_context_relevance_score = Feedback(\n",
        "    provider.context_relevance, name=\"Context Relevance\"\n",
        ")\n",
        "\n",
        "\n",
        "class FilteredRAG(RAG):\n",
        "    @instrument\n",
        "    @context_filter(\n",
        "        feedback=f_context_relevance_score,\n",
        "        threshold=0.75,\n",
        "        keyword_for_prompt=\"query\",\n",
        "    )\n",
        "    def retrieve(self, query: str) -> list:\n",
        "        \"\"\"\n",
        "        Retrieve relevant text from vector store.\n",
        "        \"\"\"\n",
        "        results = vector_store.query(query_texts=query, n_results=4)\n",
        "        if \"documents\" in results and results[\"documents\"]:\n",
        "            return [doc for sublist in results[\"documents\"] for doc in sublist]\n",
        "        else:\n",
        "            return []\n",
        "\n",
        "\n",
        "filtered_rag = FilteredRAG()"
      ]
    },
    {
      "cell_type": "markdown",
      "metadata": {
        "id": "Qvyh4c1A4zui"
      },
      "source": [
        "## Record and operate as normal"
      ]
    },
    {
      "cell_type": "code",
      "execution_count": 26,
      "metadata": {
        "id": "6v8VIUuK4zui",
        "outputId": "3eecff7d-0780-4783-8a27-8a2216fce2a2",
        "colab": {
          "base_uri": "https://localhost:8080/"
        }
      },
      "outputs": [
        {
          "output_type": "stream",
          "name": "stderr",
          "text": [
            "<ipython-input-26-dad4eb8b08ad>:1: DeprecationWarning: from trulens.apps.custom import instrument\n",
            "        is being deprecated in the next major version; use from trulens.apps.app import instrument\n",
            "        instead.\n",
            "  from trulens.apps.custom import TruCustomApp\n",
            "<ipython-input-26-dad4eb8b08ad>:3: DeprecationWarning: TruCustomApp is being deprecated in the next major version; use TruApp instead.\n",
            "  filtered_tru_rag = TruCustomApp(\n"
          ]
        },
        {
          "output_type": "stream",
          "name": "stdout",
          "text": [
            "instrumenting <class '__main__.FilteredRAG'> for base <class '__main__.FilteredRAG'>\n",
            "\tinstrumenting retrieve\n",
            "\tinstrumenting generate_completion\n",
            "\tinstrumenting query\n",
            "\tinstrumenting retrieve\n",
            "instrumenting <class '__main__.FilteredRAG'> for base <class '__main__.RAG'>\n",
            "\tinstrumenting retrieve\n",
            "\tinstrumenting generate_completion\n",
            "\tinstrumenting query\n",
            "\tinstrumenting retrieve\n"
          ]
        },
        {
          "output_type": "stream",
          "name": "stderr",
          "text": [
            "/usr/local/lib/python3.11/dist-packages/trulens/feedback/llm_provider.py:235: UserWarning: No supporting evidence provided. Returning score only.\n",
            "  warnings.warn(\n",
            "/usr/local/lib/python3.11/dist-packages/trulens/core/feedback/feedback.py:1023: UserWarning: Feedback function Context Relevance with aggregation <function mean at 0x79f920403600> had no inputs.\n",
            "  warnings.warn(\n"
          ]
        }
      ],
      "source": [
        "from trulens.apps.custom import TruCustomApp\n",
        "\n",
        "filtered_tru_rag = TruCustomApp(\n",
        "    filtered_rag,\n",
        "    app_name=\"RAG\",\n",
        "    app_version=\"filtered\",\n",
        "    feedbacks=[f_groundedness, f_answer_relevance, f_context_relevance],\n",
        ")\n",
        "\n",
        "with filtered_tru_rag as recording:\n",
        "    filtered_rag.query(\n",
        "        query=\"What wave of coffee culture is Starbucks seen to represent in the United States?\"\n",
        "    )\n",
        "    filtered_rag.query(\n",
        "        \"What wave of coffee culture is Starbucks seen to represent in the New Zealand?\"\n",
        "    )\n",
        "    filtered_rag.query(\"Does Washington State have Starbucks on campus?\")"
      ]
    },
    {
      "cell_type": "code",
      "execution_count": 27,
      "metadata": {
        "id": "c7ySS6IL4zui",
        "outputId": "977f7200-dd76-4c40-d01d-f0a15b73cbe4",
        "colab": {
          "base_uri": "https://localhost:8080/",
          "height": 143
        }
      },
      "outputs": [
        {
          "output_type": "execute_result",
          "data": {
            "text/plain": [
              "                      Answer Relevance  Context Relevance  Groundedness  \\\n",
              "app_name app_version                                                      \n",
              "RAG      base                 0.777778           0.111111      0.925926   \n",
              "         filtered             0.500000           1.000000      1.000000   \n",
              "\n",
              "                       latency  total_cost  \n",
              "app_name app_version                        \n",
              "RAG      base         1.865912    0.001355  \n",
              "         filtered     4.967032    0.119944  "
            ],
            "text/html": [
              "\n",
              "  <div id=\"df-446e90ec-14e6-4c2a-8c90-54db7bd471b6\" class=\"colab-df-container\">\n",
              "    <div>\n",
              "<style scoped>\n",
              "    .dataframe tbody tr th:only-of-type {\n",
              "        vertical-align: middle;\n",
              "    }\n",
              "\n",
              "    .dataframe tbody tr th {\n",
              "        vertical-align: top;\n",
              "    }\n",
              "\n",
              "    .dataframe thead th {\n",
              "        text-align: right;\n",
              "    }\n",
              "</style>\n",
              "<table border=\"1\" class=\"dataframe\">\n",
              "  <thead>\n",
              "    <tr style=\"text-align: right;\">\n",
              "      <th></th>\n",
              "      <th></th>\n",
              "      <th>Answer Relevance</th>\n",
              "      <th>Context Relevance</th>\n",
              "      <th>Groundedness</th>\n",
              "      <th>latency</th>\n",
              "      <th>total_cost</th>\n",
              "    </tr>\n",
              "    <tr>\n",
              "      <th>app_name</th>\n",
              "      <th>app_version</th>\n",
              "      <th></th>\n",
              "      <th></th>\n",
              "      <th></th>\n",
              "      <th></th>\n",
              "      <th></th>\n",
              "    </tr>\n",
              "  </thead>\n",
              "  <tbody>\n",
              "    <tr>\n",
              "      <th rowspan=\"2\" valign=\"top\">RAG</th>\n",
              "      <th>base</th>\n",
              "      <td>0.777778</td>\n",
              "      <td>0.111111</td>\n",
              "      <td>0.925926</td>\n",
              "      <td>1.865912</td>\n",
              "      <td>0.001355</td>\n",
              "    </tr>\n",
              "    <tr>\n",
              "      <th>filtered</th>\n",
              "      <td>0.500000</td>\n",
              "      <td>1.000000</td>\n",
              "      <td>1.000000</td>\n",
              "      <td>4.967032</td>\n",
              "      <td>0.119944</td>\n",
              "    </tr>\n",
              "  </tbody>\n",
              "</table>\n",
              "</div>\n",
              "    <div class=\"colab-df-buttons\">\n",
              "\n",
              "  <div class=\"colab-df-container\">\n",
              "    <button class=\"colab-df-convert\" onclick=\"convertToInteractive('df-446e90ec-14e6-4c2a-8c90-54db7bd471b6')\"\n",
              "            title=\"Convert this dataframe to an interactive table.\"\n",
              "            style=\"display:none;\">\n",
              "\n",
              "  <svg xmlns=\"http://www.w3.org/2000/svg\" height=\"24px\" viewBox=\"0 -960 960 960\">\n",
              "    <path d=\"M120-120v-720h720v720H120Zm60-500h600v-160H180v160Zm220 220h160v-160H400v160Zm0 220h160v-160H400v160ZM180-400h160v-160H180v160Zm440 0h160v-160H620v160ZM180-180h160v-160H180v160Zm440 0h160v-160H620v160Z\"/>\n",
              "  </svg>\n",
              "    </button>\n",
              "\n",
              "  <style>\n",
              "    .colab-df-container {\n",
              "      display:flex;\n",
              "      gap: 12px;\n",
              "    }\n",
              "\n",
              "    .colab-df-convert {\n",
              "      background-color: #E8F0FE;\n",
              "      border: none;\n",
              "      border-radius: 50%;\n",
              "      cursor: pointer;\n",
              "      display: none;\n",
              "      fill: #1967D2;\n",
              "      height: 32px;\n",
              "      padding: 0 0 0 0;\n",
              "      width: 32px;\n",
              "    }\n",
              "\n",
              "    .colab-df-convert:hover {\n",
              "      background-color: #E2EBFA;\n",
              "      box-shadow: 0px 1px 2px rgba(60, 64, 67, 0.3), 0px 1px 3px 1px rgba(60, 64, 67, 0.15);\n",
              "      fill: #174EA6;\n",
              "    }\n",
              "\n",
              "    .colab-df-buttons div {\n",
              "      margin-bottom: 4px;\n",
              "    }\n",
              "\n",
              "    [theme=dark] .colab-df-convert {\n",
              "      background-color: #3B4455;\n",
              "      fill: #D2E3FC;\n",
              "    }\n",
              "\n",
              "    [theme=dark] .colab-df-convert:hover {\n",
              "      background-color: #434B5C;\n",
              "      box-shadow: 0px 1px 3px 1px rgba(0, 0, 0, 0.15);\n",
              "      filter: drop-shadow(0px 1px 2px rgba(0, 0, 0, 0.3));\n",
              "      fill: #FFFFFF;\n",
              "    }\n",
              "  </style>\n",
              "\n",
              "    <script>\n",
              "      const buttonEl =\n",
              "        document.querySelector('#df-446e90ec-14e6-4c2a-8c90-54db7bd471b6 button.colab-df-convert');\n",
              "      buttonEl.style.display =\n",
              "        google.colab.kernel.accessAllowed ? 'block' : 'none';\n",
              "\n",
              "      async function convertToInteractive(key) {\n",
              "        const element = document.querySelector('#df-446e90ec-14e6-4c2a-8c90-54db7bd471b6');\n",
              "        const dataTable =\n",
              "          await google.colab.kernel.invokeFunction('convertToInteractive',\n",
              "                                                    [key], {});\n",
              "        if (!dataTable) return;\n",
              "\n",
              "        const docLinkHtml = 'Like what you see? Visit the ' +\n",
              "          '<a target=\"_blank\" href=https://colab.research.google.com/notebooks/data_table.ipynb>data table notebook</a>'\n",
              "          + ' to learn more about interactive tables.';\n",
              "        element.innerHTML = '';\n",
              "        dataTable['output_type'] = 'display_data';\n",
              "        await google.colab.output.renderOutput(dataTable, element);\n",
              "        const docLink = document.createElement('div');\n",
              "        docLink.innerHTML = docLinkHtml;\n",
              "        element.appendChild(docLink);\n",
              "      }\n",
              "    </script>\n",
              "  </div>\n",
              "\n",
              "\n",
              "<div id=\"df-8e9c1a0f-4f57-4259-bf13-40b3fd371966\">\n",
              "  <button class=\"colab-df-quickchart\" onclick=\"quickchart('df-8e9c1a0f-4f57-4259-bf13-40b3fd371966')\"\n",
              "            title=\"Suggest charts\"\n",
              "            style=\"display:none;\">\n",
              "\n",
              "<svg xmlns=\"http://www.w3.org/2000/svg\" height=\"24px\"viewBox=\"0 0 24 24\"\n",
              "     width=\"24px\">\n",
              "    <g>\n",
              "        <path d=\"M19 3H5c-1.1 0-2 .9-2 2v14c0 1.1.9 2 2 2h14c1.1 0 2-.9 2-2V5c0-1.1-.9-2-2-2zM9 17H7v-7h2v7zm4 0h-2V7h2v10zm4 0h-2v-4h2v4z\"/>\n",
              "    </g>\n",
              "</svg>\n",
              "  </button>\n",
              "\n",
              "<style>\n",
              "  .colab-df-quickchart {\n",
              "      --bg-color: #E8F0FE;\n",
              "      --fill-color: #1967D2;\n",
              "      --hover-bg-color: #E2EBFA;\n",
              "      --hover-fill-color: #174EA6;\n",
              "      --disabled-fill-color: #AAA;\n",
              "      --disabled-bg-color: #DDD;\n",
              "  }\n",
              "\n",
              "  [theme=dark] .colab-df-quickchart {\n",
              "      --bg-color: #3B4455;\n",
              "      --fill-color: #D2E3FC;\n",
              "      --hover-bg-color: #434B5C;\n",
              "      --hover-fill-color: #FFFFFF;\n",
              "      --disabled-bg-color: #3B4455;\n",
              "      --disabled-fill-color: #666;\n",
              "  }\n",
              "\n",
              "  .colab-df-quickchart {\n",
              "    background-color: var(--bg-color);\n",
              "    border: none;\n",
              "    border-radius: 50%;\n",
              "    cursor: pointer;\n",
              "    display: none;\n",
              "    fill: var(--fill-color);\n",
              "    height: 32px;\n",
              "    padding: 0;\n",
              "    width: 32px;\n",
              "  }\n",
              "\n",
              "  .colab-df-quickchart:hover {\n",
              "    background-color: var(--hover-bg-color);\n",
              "    box-shadow: 0 1px 2px rgba(60, 64, 67, 0.3), 0 1px 3px 1px rgba(60, 64, 67, 0.15);\n",
              "    fill: var(--button-hover-fill-color);\n",
              "  }\n",
              "\n",
              "  .colab-df-quickchart-complete:disabled,\n",
              "  .colab-df-quickchart-complete:disabled:hover {\n",
              "    background-color: var(--disabled-bg-color);\n",
              "    fill: var(--disabled-fill-color);\n",
              "    box-shadow: none;\n",
              "  }\n",
              "\n",
              "  .colab-df-spinner {\n",
              "    border: 2px solid var(--fill-color);\n",
              "    border-color: transparent;\n",
              "    border-bottom-color: var(--fill-color);\n",
              "    animation:\n",
              "      spin 1s steps(1) infinite;\n",
              "  }\n",
              "\n",
              "  @keyframes spin {\n",
              "    0% {\n",
              "      border-color: transparent;\n",
              "      border-bottom-color: var(--fill-color);\n",
              "      border-left-color: var(--fill-color);\n",
              "    }\n",
              "    20% {\n",
              "      border-color: transparent;\n",
              "      border-left-color: var(--fill-color);\n",
              "      border-top-color: var(--fill-color);\n",
              "    }\n",
              "    30% {\n",
              "      border-color: transparent;\n",
              "      border-left-color: var(--fill-color);\n",
              "      border-top-color: var(--fill-color);\n",
              "      border-right-color: var(--fill-color);\n",
              "    }\n",
              "    40% {\n",
              "      border-color: transparent;\n",
              "      border-right-color: var(--fill-color);\n",
              "      border-top-color: var(--fill-color);\n",
              "    }\n",
              "    60% {\n",
              "      border-color: transparent;\n",
              "      border-right-color: var(--fill-color);\n",
              "    }\n",
              "    80% {\n",
              "      border-color: transparent;\n",
              "      border-right-color: var(--fill-color);\n",
              "      border-bottom-color: var(--fill-color);\n",
              "    }\n",
              "    90% {\n",
              "      border-color: transparent;\n",
              "      border-bottom-color: var(--fill-color);\n",
              "    }\n",
              "  }\n",
              "</style>\n",
              "\n",
              "  <script>\n",
              "    async function quickchart(key) {\n",
              "      const quickchartButtonEl =\n",
              "        document.querySelector('#' + key + ' button');\n",
              "      quickchartButtonEl.disabled = true;  // To prevent multiple clicks.\n",
              "      quickchartButtonEl.classList.add('colab-df-spinner');\n",
              "      try {\n",
              "        const charts = await google.colab.kernel.invokeFunction(\n",
              "            'suggestCharts', [key], {});\n",
              "      } catch (error) {\n",
              "        console.error('Error during call to suggestCharts:', error);\n",
              "      }\n",
              "      quickchartButtonEl.classList.remove('colab-df-spinner');\n",
              "      quickchartButtonEl.classList.add('colab-df-quickchart-complete');\n",
              "    }\n",
              "    (() => {\n",
              "      let quickchartButtonEl =\n",
              "        document.querySelector('#df-8e9c1a0f-4f57-4259-bf13-40b3fd371966 button');\n",
              "      quickchartButtonEl.style.display =\n",
              "        google.colab.kernel.accessAllowed ? 'block' : 'none';\n",
              "    })();\n",
              "  </script>\n",
              "</div>\n",
              "\n",
              "    </div>\n",
              "  </div>\n"
            ],
            "application/vnd.google.colaboratory.intrinsic+json": {
              "type": "dataframe",
              "summary": "{\n  \"name\": \"session\",\n  \"rows\": 2,\n  \"fields\": [\n    {\n      \"column\": \"Answer Relevance\",\n      \"properties\": {\n        \"dtype\": \"number\",\n        \"std\": 0.19641855032959646,\n        \"min\": 0.5,\n        \"max\": 0.7777777777777777,\n        \"num_unique_values\": 2,\n        \"samples\": [\n          0.5,\n          0.7777777777777777\n        ],\n        \"semantic_type\": \"\",\n        \"description\": \"\"\n      }\n    },\n    {\n      \"column\": \"Context Relevance\",\n      \"properties\": {\n        \"dtype\": \"number\",\n        \"std\": 0.6285393610547089,\n        \"min\": 0.1111111111111111,\n        \"max\": 1.0,\n        \"num_unique_values\": 2,\n        \"samples\": [\n          1.0,\n          0.1111111111111111\n        ],\n        \"semantic_type\": \"\",\n        \"description\": \"\"\n      }\n    },\n    {\n      \"column\": \"Groundedness\",\n      \"properties\": {\n        \"dtype\": \"number\",\n        \"std\": 0.05237828008789241,\n        \"min\": 0.9259259259259259,\n        \"max\": 1.0,\n        \"num_unique_values\": 2,\n        \"samples\": [\n          1.0,\n          0.9259259259259259\n        ],\n        \"semantic_type\": \"\",\n        \"description\": \"\"\n      }\n    },\n    {\n      \"column\": \"latency\",\n      \"properties\": {\n        \"dtype\": \"number\",\n        \"std\": 2.192822981273226,\n        \"min\": 1.8659116666666666,\n        \"max\": 4.967031666666666,\n        \"num_unique_values\": 2,\n        \"samples\": [\n          4.967031666666666,\n          1.8659116666666666\n        ],\n        \"semantic_type\": \"\",\n        \"description\": \"\"\n      }\n    },\n    {\n      \"column\": \"total_cost\",\n      \"properties\": {\n        \"dtype\": \"number\",\n        \"std\": 0.08385520392526169,\n        \"min\": 0.001355,\n        \"max\": 0.11994416666666667,\n        \"num_unique_values\": 2,\n        \"samples\": [\n          0.11994416666666667,\n          0.001355\n        ],\n        \"semantic_type\": \"\",\n        \"description\": \"\"\n      }\n    }\n  ]\n}"
            }
          },
          "metadata": {},
          "execution_count": 27
        }
      ],
      "source": [
        "session.get_leaderboard()"
      ]
    },
    {
      "cell_type": "code",
      "execution_count": 28,
      "metadata": {
        "id": "ZhGlb7V34zui",
        "outputId": "3b1fbf45-c874-413a-b162-a1c2fa50fcfa",
        "colab": {
          "base_uri": "https://localhost:8080/"
        }
      },
      "outputs": [
        {
          "output_type": "stream",
          "name": "stdout",
          "text": [
            "Starting dashboard ...\n",
            "npm warn exec The following package was not found and will be installed: localtunnel@2.0.2\n",
            "\n",
            "Go to this url and submit the ip given here. your url is: https://loud-bears-call.loca.lt\n",
            "\n",
            "  Submit this IP Address: 34.16.128.57\n",
            "\n"
          ]
        },
        {
          "output_type": "execute_result",
          "data": {
            "text/plain": [
              "<Popen: returncode: None args: ['streamlit', 'run', '--server.headless=True'...>"
            ]
          },
          "metadata": {},
          "execution_count": 28
        }
      ],
      "source": [
        "from trulens.dashboard import run_dashboard\n",
        "\n",
        "run_dashboard(session)"
      ]
    }
  ],
  "metadata": {
    "kernelspec": {
      "display_name": "trulens18_release",
      "language": "python",
      "name": "python3"
    },
    "language_info": {
      "codemirror_mode": {
        "name": "ipython",
        "version": 3
      },
      "file_extension": ".py",
      "mimetype": "text/x-python",
      "name": "python",
      "nbconvert_exporter": "python",
      "pygments_lexer": "ipython3"
    },
    "colab": {
      "provenance": []
    }
  },
  "nbformat": 4,
  "nbformat_minor": 0
}